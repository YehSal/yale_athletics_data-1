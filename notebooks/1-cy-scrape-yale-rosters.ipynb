{
 "cells": [
  {
   "cell_type": "markdown",
   "metadata": {},
   "source": [
    "### Configuration Variables"
   ]
  },
  {
   "cell_type": "code",
   "execution_count": 171,
   "metadata": {
    "collapsed": true
   },
   "outputs": [],
   "source": [
    "currentSeason = \"2016-17\"   # The current academic year. Can replace with python datettime"
   ]
  },
  {
   "cell_type": "markdown",
   "metadata": {},
   "source": [
    "## Begin Code"
   ]
  },
  {
   "cell_type": "code",
   "execution_count": 196,
   "metadata": {
    "collapsed": false
   },
   "outputs": [
    {
     "name": "stdout",
     "output_type": "stream",
     "text": [
      "The watermark extension is already loaded. To reload it, use:\n",
      "  %reload_ext watermark\n",
      "\n"
     ]
    }
   ],
   "source": [
    "# Assumes Anaconda Distribution\n",
    "\n",
    "# For data manipulation\n",
    "import os\n",
    "import pandas as pd\n",
    "import matplotlib.pyplot as plt\n",
    "import seaborn as sns\n",
    "PROJ_ROOT = os.pardir\n",
    "\n",
    "# For Scraping\n",
    "from bs4 import BeautifulSoup\n",
    "import requests\n",
    "import time\n",
    "\n",
    "# For munging\n",
    "import re\n",
    "import json\n",
    "\n",
    "# Backoff time for large scrapes\n",
    "THROTTLE_TIME = .05\n",
    "\n",
    "# ipython magics\n",
    "%load_ext watermark\n",
    "%matplotlib inline\n",
    "# a nice bonus for making progress bars in ipython\n",
    "from tqdm import tqdm, tqdm_pandas, tqdm_notebook\n",
    "tqdm.pandas()"
   ]
  },
  {
   "cell_type": "code",
   "execution_count": 3,
   "metadata": {
    "collapsed": false
   },
   "outputs": [
    {
     "name": "stdout",
     "output_type": "stream",
     "text": [
      "Cameron Yick 2016-10-22 15:58:48 \n",
      "\n",
      "CPython 2.7.12\n",
      "IPython 4.0.1\n",
      "\n",
      "pandas 0.17.1\n",
      "seaborn 0.7.1\n",
      "matplotlib 1.5.0\n",
      "bs4 4.4.1\n",
      "Git hash: 6c89327aaea7699d7ffce4cb9b58f6ce5fd43d1f\n"
     ]
    }
   ],
   "source": [
    "%watermark -a \"Cameron Yick\" -d -t -v -p pandas,seaborn,matplotlib,bs4 -g"
   ]
  },
  {
   "cell_type": "code",
   "execution_count": 31,
   "metadata": {
    "collapsed": true
   },
   "outputs": [],
   "source": [
    "root_url = \"http://www.yalebulldogs.com\""
   ]
  },
  {
   "cell_type": "code",
   "execution_count": 69,
   "metadata": {
    "collapsed": true
   },
   "outputs": [],
   "source": [
    "# Core functions related to data scraping\n",
    "# Kept here for readability, eventually move to 'src' folder\n",
    "\n",
    "def getBodySoup(link):\n",
    "    'Given URL Returns BS4 Object for link, feat. HTML body'\n",
    "#     print(\".\"),\n",
    "    time.sleep(THROTTLE_TIME)\n",
    "    site_url = link\n",
    "    result = requests.get(site_url)\n",
    "    if result.status_code is 200:\n",
    "        return BeautifulSoup(result.content, 'lxml').find('body')\n",
    "    else:\n",
    "        print \"Site is down!\"\n",
    "        return None"
   ]
  },
  {
   "cell_type": "code",
   "execution_count": 43,
   "metadata": {
    "collapsed": true
   },
   "outputs": [],
   "source": [
    "# Custom functions for this website\n",
    "def getAllSports(soup):\n",
    "    # Visit website, note that the sports are stored in 3 submenus\n",
    "    # These are submenus of index 1, 2 4, and 5, but this is potentially subject to change.\n",
    "    menus = soup.find_all(class_=\"submenu\")\n",
    "    sportMenus = [1, 2, 4, 5]\n",
    "    sports = [] # array of sports objects\n",
    "    \n",
    "    for iMenu in sportMenus:\n",
    "        for link in menus[iMenu].find_all('a'):\n",
    "            sport = {}\n",
    "            sport['name'] = link.text.strip()\n",
    "            sport['href'] = root_url + link['href']\n",
    "            sports.append(sport)\n",
    "            \n",
    "    return sports\n",
    "            "
   ]
  },
  {
   "cell_type": "markdown",
   "metadata": {},
   "source": [
    "## Get Each Sports Page from Homepage"
   ]
  },
  {
   "cell_type": "code",
   "execution_count": 129,
   "metadata": {
    "collapsed": false
   },
   "outputs": [],
   "source": [
    "# Verify that we get all the sports\n",
    "homeSoup = getBodySoup(root_url)\n"
   ]
  },
  {
   "cell_type": "code",
   "execution_count": 130,
   "metadata": {
    "collapsed": false
   },
   "outputs": [
    {
     "name": "stdout",
     "output_type": "stream",
     "text": [
      "34\n"
     ]
    }
   ],
   "source": [
    "sports = getAllSports(homeSoup)\n",
    "print len(sports)"
   ]
  },
  {
   "cell_type": "code",
   "execution_count": 131,
   "metadata": {
    "collapsed": true
   },
   "outputs": [],
   "source": [
    "# Let's make a proper data structure\n",
    "sports = pd.DataFrame(sports)"
   ]
  },
  {
   "cell_type": "code",
   "execution_count": 132,
   "metadata": {
    "collapsed": true
   },
   "outputs": [],
   "source": [
    "# pull the index term off the homepage\n",
    "cleanIndex = re.compile(\"(.*)\\/index\")\n",
    "sports['href'] = sports['href'].apply(lambda x: cleanIndex.search(x).group(1))"
   ]
  },
  {
   "cell_type": "code",
   "execution_count": 134,
   "metadata": {
    "collapsed": false
   },
   "outputs": [
    {
     "data": {
      "text/html": [
       "<div>\n",
       "<table border=\"1\" class=\"dataframe\">\n",
       "  <thead>\n",
       "    <tr style=\"text-align: right;\">\n",
       "      <th></th>\n",
       "      <th>href</th>\n",
       "      <th>name</th>\n",
       "    </tr>\n",
       "  </thead>\n",
       "  <tbody>\n",
       "    <tr>\n",
       "      <th>25</th>\n",
       "      <td>http://www.yalebulldogs.com/sports/c-sail</td>\n",
       "      <td>Sailing (Coed)</td>\n",
       "    </tr>\n",
       "  </tbody>\n",
       "</table>\n",
       "</div>"
      ],
      "text/plain": [
       "                                         href            name\n",
       "25  http://www.yalebulldogs.com/sports/c-sail  Sailing (Coed)"
      ]
     },
     "execution_count": 134,
     "metadata": {},
     "output_type": "execute_result"
    }
   ],
   "source": [
    "# just one sport is listed twice.\n",
    "sports[sports['href'].duplicated()]"
   ]
  },
  {
   "cell_type": "code",
   "execution_count": 136,
   "metadata": {
    "collapsed": false
   },
   "outputs": [],
   "source": [
    "sports = sports[sports['href'].duplicated() == False]"
   ]
  },
  {
   "cell_type": "code",
   "execution_count": 137,
   "metadata": {
    "collapsed": false
   },
   "outputs": [
    {
     "name": "stdout",
     "output_type": "stream",
     "text": [
      "<class 'pandas.core.frame.DataFrame'>\n",
      "Int64Index: 33 entries, 0 to 33\n",
      "Data columns (total 2 columns):\n",
      "href    33 non-null object\n",
      "name    33 non-null object\n",
      "dtypes: object(2)\n",
      "memory usage: 792.0+ bytes\n"
     ]
    }
   ],
   "source": [
    "sports.info()"
   ]
  },
  {
   "cell_type": "code",
   "execution_count": 138,
   "metadata": {
    "collapsed": false
   },
   "outputs": [
    {
     "data": {
      "text/html": [
       "<div>\n",
       "<table border=\"1\" class=\"dataframe\">\n",
       "  <thead>\n",
       "    <tr style=\"text-align: right;\">\n",
       "      <th></th>\n",
       "      <th>href</th>\n",
       "      <th>name</th>\n",
       "    </tr>\n",
       "  </thead>\n",
       "  <tbody>\n",
       "    <tr>\n",
       "      <th>0</th>\n",
       "      <td>http://www.yalebulldogs.com/sports/m-basebl</td>\n",
       "      <td>Baseball</td>\n",
       "    </tr>\n",
       "    <tr>\n",
       "      <th>1</th>\n",
       "      <td>http://www.yalebulldogs.com/sports/m-baskbl</td>\n",
       "      <td>Basketball</td>\n",
       "    </tr>\n",
       "    <tr>\n",
       "      <th>2</th>\n",
       "      <td>http://www.yalebulldogs.com/sports/m-crewhvy</td>\n",
       "      <td>Crew (Heavyweight)</td>\n",
       "    </tr>\n",
       "    <tr>\n",
       "      <th>3</th>\n",
       "      <td>http://www.yalebulldogs.com/sports/m-crewlt</td>\n",
       "      <td>Crew (Lightweight)</td>\n",
       "    </tr>\n",
       "    <tr>\n",
       "      <th>4</th>\n",
       "      <td>http://www.yalebulldogs.com/sports/m-xc</td>\n",
       "      <td>Cross Country</td>\n",
       "    </tr>\n",
       "  </tbody>\n",
       "</table>\n",
       "</div>"
      ],
      "text/plain": [
       "                                           href                name\n",
       "0   http://www.yalebulldogs.com/sports/m-basebl            Baseball\n",
       "1   http://www.yalebulldogs.com/sports/m-baskbl          Basketball\n",
       "2  http://www.yalebulldogs.com/sports/m-crewhvy  Crew (Heavyweight)\n",
       "3   http://www.yalebulldogs.com/sports/m-crewlt  Crew (Lightweight)\n",
       "4       http://www.yalebulldogs.com/sports/m-xc       Cross Country"
      ]
     },
     "execution_count": 138,
     "metadata": {},
     "output_type": "execute_result"
    }
   ],
   "source": [
    "sports.head()\n"
   ]
  },
  {
   "cell_type": "code",
   "execution_count": 139,
   "metadata": {
    "collapsed": true
   },
   "outputs": [],
   "source": [
    "# Extract the genders for each sport: m / f / coed\n",
    "getGender = re.compile(\"\\/sports\\/([mcw])-\")\n",
    "def getSportGender(url):\n",
    "    return getGender.search(url).group(1)"
   ]
  },
  {
   "cell_type": "code",
   "execution_count": 140,
   "metadata": {
    "collapsed": true
   },
   "outputs": [],
   "source": [
    "sports['gender'] = sports['href'].map(getSportGender)"
   ]
  },
  {
   "cell_type": "code",
   "execution_count": 141,
   "metadata": {
    "collapsed": false
   },
   "outputs": [
    {
     "data": {
      "text/html": [
       "<div>\n",
       "<table border=\"1\" class=\"dataframe\">\n",
       "  <thead>\n",
       "    <tr style=\"text-align: right;\">\n",
       "      <th></th>\n",
       "      <th>href</th>\n",
       "      <th>name</th>\n",
       "    </tr>\n",
       "    <tr>\n",
       "      <th>gender</th>\n",
       "      <th></th>\n",
       "      <th></th>\n",
       "    </tr>\n",
       "  </thead>\n",
       "  <tbody>\n",
       "    <tr>\n",
       "      <th>c</th>\n",
       "      <td>1</td>\n",
       "      <td>1</td>\n",
       "    </tr>\n",
       "    <tr>\n",
       "      <th>m</th>\n",
       "      <td>15</td>\n",
       "      <td>15</td>\n",
       "    </tr>\n",
       "    <tr>\n",
       "      <th>w</th>\n",
       "      <td>17</td>\n",
       "      <td>17</td>\n",
       "    </tr>\n",
       "  </tbody>\n",
       "</table>\n",
       "</div>"
      ],
      "text/plain": [
       "        href  name\n",
       "gender            \n",
       "c          1     1\n",
       "m         15    15\n",
       "w         17    17"
      ]
     },
     "execution_count": 141,
     "metadata": {},
     "output_type": "execute_result"
    }
   ],
   "source": [
    "# Sanity check on # of genders per sport- . Only 1 coed sport shares a webpage\n",
    "# One could give the other coed sports (Swim, track, basketball) coed designation, although\n",
    "# having both genders on 1 team is unique to sailing.\n",
    "sports.groupby('gender').count()"
   ]
  },
  {
   "cell_type": "markdown",
   "metadata": {},
   "source": [
    "## Get the Seasons for which we have data for each sport"
   ]
  },
  {
   "cell_type": "markdown",
   "metadata": {},
   "source": [
    "Below is some scratch code while the main functions are tested"
   ]
  },
  {
   "cell_type": "code",
   "execution_count": 56,
   "metadata": {
    "collapsed": true
   },
   "outputs": [],
   "source": [
    "test = sports['href'].iloc[1]"
   ]
  },
  {
   "cell_type": "code",
   "execution_count": 58,
   "metadata": {
    "collapsed": false
   },
   "outputs": [
    {
     "name": "stdout",
     "output_type": "stream",
     "text": [
      ".\n"
     ]
    }
   ],
   "source": [
    "teamsoup = getBodySoup(test)"
   ]
  },
  {
   "cell_type": "code",
   "execution_count": 142,
   "metadata": {
    "collapsed": false
   },
   "outputs": [],
   "source": [
    "getSeason = re.compile(\"([\\d\\-]*)\\/roster\")\n",
    "hasRoster = re.compile('Roster')\n",
    "def currentSeason(team_url):\n",
    "    teamsoup = getBodySoup(team_url)\n",
    "    link = teamsoup.find('a', text=hasRoster)\n",
    "    return getSeason.search(link['href']).group(1) "
   ]
  },
  {
   "cell_type": "code",
   "execution_count": 143,
   "metadata": {
    "collapsed": false,
    "scrolled": true
   },
   "outputs": [
    {
     "name": "stderr",
     "output_type": "stream",
     "text": [
      "100%|██████████████████████████████████████████████████████████████████████████████████| 33/33 [01:06<00:00,  2.08s/it]\n"
     ]
    }
   ],
   "source": [
    "# Check what the most current roster listing for the sport is.\n",
    "sports['currentRoster'] = sports['href'].progress_apply(lambda x: currentSeason(x))"
   ]
  },
  {
   "cell_type": "code",
   "execution_count": 91,
   "metadata": {
    "collapsed": false
   },
   "outputs": [
    {
     "data": {
      "text/html": [
       "<div>\n",
       "<table border=\"1\" class=\"dataframe\">\n",
       "  <thead>\n",
       "    <tr style=\"text-align: right;\">\n",
       "      <th></th>\n",
       "      <th>href</th>\n",
       "      <th>name</th>\n",
       "      <th>gender</th>\n",
       "      <th>currentRoster</th>\n",
       "    </tr>\n",
       "  </thead>\n",
       "  <tbody>\n",
       "    <tr>\n",
       "      <th>0</th>\n",
       "      <td>http://www.yalebulldogs.com/sports/m-basebl/index</td>\n",
       "      <td>Baseball</td>\n",
       "      <td>m</td>\n",
       "      <td>2015-16</td>\n",
       "    </tr>\n",
       "    <tr>\n",
       "      <th>1</th>\n",
       "      <td>http://www.yalebulldogs.com/sports/m-baskbl/index</td>\n",
       "      <td>Basketball</td>\n",
       "      <td>m</td>\n",
       "      <td>2016-17</td>\n",
       "    </tr>\n",
       "    <tr>\n",
       "      <th>2</th>\n",
       "      <td>http://www.yalebulldogs.com/sports/m-crewhvy/i...</td>\n",
       "      <td>Crew (Heavyweight)</td>\n",
       "      <td>m</td>\n",
       "      <td>2015-16</td>\n",
       "    </tr>\n",
       "    <tr>\n",
       "      <th>3</th>\n",
       "      <td>http://www.yalebulldogs.com/sports/m-crewlt/index</td>\n",
       "      <td>Crew (Lightweight)</td>\n",
       "      <td>m</td>\n",
       "      <td>2016-17</td>\n",
       "    </tr>\n",
       "    <tr>\n",
       "      <th>4</th>\n",
       "      <td>http://www.yalebulldogs.com/sports/m-xc/index</td>\n",
       "      <td>Cross Country</td>\n",
       "      <td>m</td>\n",
       "      <td>2016-17</td>\n",
       "    </tr>\n",
       "    <tr>\n",
       "      <th>5</th>\n",
       "      <td>http://www.yalebulldogs.com/sports/m-fenc/index</td>\n",
       "      <td>Fencing</td>\n",
       "      <td>m</td>\n",
       "      <td>2016-17</td>\n",
       "    </tr>\n",
       "    <tr>\n",
       "      <th>6</th>\n",
       "      <td>http://www.yalebulldogs.com/sports/m-footbl/index</td>\n",
       "      <td>Football</td>\n",
       "      <td>m</td>\n",
       "      <td>2016-17</td>\n",
       "    </tr>\n",
       "    <tr>\n",
       "      <th>7</th>\n",
       "      <td>http://www.yalebulldogs.com/sports/m-golf/index</td>\n",
       "      <td>Golf</td>\n",
       "      <td>m</td>\n",
       "      <td>2016-17</td>\n",
       "    </tr>\n",
       "  </tbody>\n",
       "</table>\n",
       "</div>"
      ],
      "text/plain": [
       "                                                href                name  \\\n",
       "0  http://www.yalebulldogs.com/sports/m-basebl/index            Baseball   \n",
       "1  http://www.yalebulldogs.com/sports/m-baskbl/index          Basketball   \n",
       "2  http://www.yalebulldogs.com/sports/m-crewhvy/i...  Crew (Heavyweight)   \n",
       "3  http://www.yalebulldogs.com/sports/m-crewlt/index  Crew (Lightweight)   \n",
       "4      http://www.yalebulldogs.com/sports/m-xc/index       Cross Country   \n",
       "5    http://www.yalebulldogs.com/sports/m-fenc/index             Fencing   \n",
       "6  http://www.yalebulldogs.com/sports/m-footbl/index            Football   \n",
       "7    http://www.yalebulldogs.com/sports/m-golf/index                Golf   \n",
       "\n",
       "  gender currentRoster  \n",
       "0      m       2015-16  \n",
       "1      m       2016-17  \n",
       "2      m       2015-16  \n",
       "3      m       2016-17  \n",
       "4      m       2016-17  \n",
       "5      m       2016-17  \n",
       "6      m       2016-17  \n",
       "7      m       2016-17  "
      ]
     },
     "execution_count": 91,
     "metadata": {},
     "output_type": "execute_result"
    }
   ],
   "source": [
    "# observe a data quality issue: sometiems the website link hasn't been updated even though the underlying page does \n",
    "# exist (ie in case of baseball.)\n",
    "# However, in case of heavyweight crew, the new roster just isn't up yet.\n",
    "sports.head(8)"
   ]
  },
  {
   "cell_type": "code",
   "execution_count": 182,
   "metadata": {
    "collapsed": false
   },
   "outputs": [
    {
     "data": {
      "text/plain": [
       "2016-17    31\n",
       "2015-16     2\n",
       "Name: currentRoster, dtype: int64"
      ]
     },
     "execution_count": 182,
     "metadata": {},
     "output_type": "execute_result"
    }
   ],
   "source": [
    "# You'll have to check every year to see who's behind\n",
    "# In this case, it's baseball and men's heavyweight crew\n",
    "sports['currentRoster'].value_counts()"
   ]
  },
  {
   "cell_type": "code",
   "execution_count": 184,
   "metadata": {
    "collapsed": false
   },
   "outputs": [
    {
     "name": "stdout",
     "output_type": "stream",
     "text": [
      "Baseball\n"
     ]
    }
   ],
   "source": [
    "# In the case of baseball only, force their roster to advance by 1.\n",
    "print sports.iloc[0]['name']\n",
    "sports.iloc[0]['currentRoster'] = \"2016-17\""
   ]
  },
  {
   "cell_type": "code",
   "execution_count": 185,
   "metadata": {
    "collapsed": false
   },
   "outputs": [
    {
     "data": {
      "text/plain": [
       "2016-17    32\n",
       "2015-16     1\n",
       "Name: currentRoster, dtype: int64"
      ]
     },
     "execution_count": 185,
     "metadata": {},
     "output_type": "execute_result"
    }
   ],
   "source": [
    "sports['currentRoster'].value_counts()"
   ]
  },
  {
   "cell_type": "markdown",
   "metadata": {},
   "source": [
    "We can now have a `2016-2017` roster for every sport except men's heavyweight crew, since it seems the website has not been updated yet."
   ]
  },
  {
   "cell_type": "markdown",
   "metadata": {},
   "source": [
    "## Getting Rosters from Every Season\n"
   ]
  },
  {
   "cell_type": "code",
   "execution_count": 211,
   "metadata": {
    "collapsed": false
   },
   "outputs": [
    {
     "name": "stdout",
     "output_type": "stream",
     "text": [
      "sh\n"
     ]
    }
   ],
   "source": [
    "string = \"fish\"\n",
    "print string[-2:]"
   ]
  },
  {
   "cell_type": "code",
   "execution_count": 222,
   "metadata": {
    "collapsed": false
   },
   "outputs": [
    {
     "name": "stdout",
     "output_type": "stream",
     "text": [
      "\n"
     ]
    }
   ],
   "source": [
    "def prevSeason(season):\n",
    "    'Given a season, return the previous one.'\n",
    "    '2015-16 becomes 2014-15'\n",
    "    years = season.split(\"-\")\n",
    "    prevYear = int(years[0]) - 1\n",
    "    return \"{0}-{1}\".format(prevYear, years[0][2:])\n",
    "\n",
    "\n",
    "def getSeasons(team_url, current_season):\n",
    "    'given current season, check how many seasons back of rosters we can collect.'\n",
    "    ' If refactoring, might as well save the rosters too.'\n",
    "\n",
    "    print(\"\\nDownload \" + team_url)\n",
    "    hasRoster = 1\n",
    "    season = current_season\n",
    "    seasons = {}\n",
    "\n",
    "    while (hasRoster):\n",
    "        print(season[-2:]),\n",
    "        season_url = \"{0}/{1}/roster\".format(team_url, season)\n",
    "        tsoup = getBodySoup(season_url)\n",
    "        if not tsoup:\n",
    "            break\n",
    "        table = tsoup.find('table')\n",
    "        if not table:\n",
    "            break\n",
    "        rows = table.find_all('tr')\n",
    "        if not rows:\n",
    "            break\n",
    "        # different pages handled errors differently. ex:\n",
    "        # swimming: template not found: http://www.yalebulldogs.com/sports/w-swim/2008-09/roster\n",
    "        # coed sailing: loads a blank table: http://www.yalebulldogs.com/sports/c-sail/2004-05/roster\n",
    "        # invoke the no 1-person team rule- if the roster table only has 2 or fewer rows in it, it's probably not \n",
    "        #         ok.\n",
    "        if len(rows) < 3:\n",
    "            break\n",
    "        else:\n",
    "            # Getting the rosters!\n",
    "            people = []\n",
    "            for row in rows:\n",
    "                person = []\n",
    "                for cell in row.find_all('td'):\n",
    "                    bio_link = cell.find('a')\n",
    "                    cellText = cell.text.strip()\n",
    "                    \n",
    "                    if bio_link:\n",
    "                        \n",
    "                        nameCard = {\n",
    "                            'name': cellText,\n",
    "                            'link': bio_link['href']\n",
    "                        }\n",
    "                        \n",
    "                        person.append(nameCard)\n",
    "                    else:\n",
    "                        person.append(cellText)\n",
    "                people.append(person)\n",
    "                \n",
    "            seasons[season] = people\n",
    "            season = prevSeason(season)\n",
    "            \n",
    "        \n",
    "    return seasons\n",
    "        "
   ]
  },
  {
   "cell_type": "code",
   "execution_count": 217,
   "metadata": {
    "collapsed": false
   },
   "outputs": [
    {
     "data": {
      "text/plain": [
       "(33, 6)"
      ]
     },
     "execution_count": 217,
     "metadata": {},
     "output_type": "execute_result"
    }
   ],
   "source": [
    "sports.shape"
   ]
  },
  {
   "cell_type": "code",
   "execution_count": 223,
   "metadata": {
    "collapsed": false
   },
   "outputs": [
    {
     "name": "stdout",
     "output_type": "stream",
     "text": [
      "\n",
      "Download http://www.yalebulldogs.com/sports/m-basebl\n",
      "17 16 15 14 13 12 11 10 09 08 \n",
      "Download http://www.yalebulldogs.com/sports/m-baskbl\n",
      "17 16 15 14 13 12 11 10 09 08 07 06 05 04 03 Site is down!\n",
      "\n",
      "Download http://www.yalebulldogs.com/sports/m-crewhvy\n",
      "16 15 14 13 12 11 10 09 08 \n",
      "Download http://www.yalebulldogs.com/sports/m-crewlt\n",
      "17 16 15 14 13 12 11 10 09 \n",
      "Download http://www.yalebulldogs.com/sports/m-xc\n",
      "17 16 15 14 13 12 11 10 09 \n",
      "Download http://www.yalebulldogs.com/sports/m-fenc\n",
      "17 16 15 14 13 12 11 10 09 08 \n",
      "Download http://www.yalebulldogs.com/sports/m-footbl\n",
      "17 16 15 14 13 12 11 10 09 08 07 06 05 04 03 Site is down!\n",
      "\n",
      "Download http://www.yalebulldogs.com/sports/m-golf\n",
      "17 16 15 14 13 12 11 10 09 08 07 06 05 04 03 Site is down!\n",
      "\n",
      "Download http://www.yalebulldogs.com/sports/m-hockey\n",
      "17 16 15 14 13 12 11 10 09 \n",
      "Download http://www.yalebulldogs.com/sports/m-lacros\n",
      "17 16 15 14 13 12 11 10 09 \n",
      "Download http://www.yalebulldogs.com/sports/c-sail\n",
      "17 16 15 14 13 12 11 10 09 08 \n",
      "Download http://www.yalebulldogs.com/sports/m-soccer\n",
      "17 16 15 14 13 12 11 10 09 08 07 06 05 04 03 Site is down!\n",
      "\n",
      "Download http://www.yalebulldogs.com/sports/m-squash\n",
      "17 16 15 14 13 12 11 10 09 \n",
      "Download http://www.yalebulldogs.com/sports/m-swim\n",
      "17 16 15 14 13 12 11 10 09 \n",
      "Download http://www.yalebulldogs.com/sports/m-tennis\n",
      "17 16 15 14 13 12 11 10 09 \n",
      "Download http://www.yalebulldogs.com/sports/m-track\n",
      "17 16 15 14 13 12 11 10 09 08 \n",
      "Download http://www.yalebulldogs.com/sports/w-baskbl\n",
      "17 16 15 14 13 12 11 10 09 08 07 06 05 04 03 Site is down!\n",
      "\n",
      "Download http://www.yalebulldogs.com/sports/w-crew\n",
      "17 16 15 14 13 12 11 10 09 \n",
      "Download http://www.yalebulldogs.com/sports/w-xc\n",
      "17 16 15 14 13 12 11 10 09 08 07 06 05 04 03 Site is down!\n",
      "\n",
      "Download http://www.yalebulldogs.com/sports/w-fenc\n",
      "17 16 15 14 13 12 11 10 09 08 \n",
      "Download http://www.yalebulldogs.com/sports/w-fieldh\n",
      "17 16 15 14 13 12 11 10 09 \n",
      "Download http://www.yalebulldogs.com/sports/w-golf\n",
      "17 16 15 14 13 12 11 10 09 08 07 06 05 04 03 Site is down!\n",
      "\n",
      "Download http://www.yalebulldogs.com/sports/w-gym\n",
      "17 16 15 14 13 12 11 10 09 08 07 06 05 04 03 Site is down!\n",
      "\n",
      "Download http://www.yalebulldogs.com/sports/w-hockey\n",
      "17 16 15 14 13 12 11 10 09 08 \n",
      "Download http://www.yalebulldogs.com/sports/w-lacros\n",
      "17 16 15 14 13 12 11 10 09 \n",
      "Download http://www.yalebulldogs.com/sports/w-sail\n",
      "17 16 15 14 13 12 11 10 09 \n",
      "Download http://www.yalebulldogs.com/sports/w-soccer\n",
      "17 16 15 14 13 12 11 10 09 08 07 06 05 04 03 Site is down!\n",
      "\n",
      "Download http://www.yalebulldogs.com/sports/w-softbl\n",
      "17 16 15 14 13 12 11 10 09 08 \n",
      "Download http://www.yalebulldogs.com/sports/w-squash\n",
      "17 16 15 14 13 12 11 \n",
      "Download http://www.yalebulldogs.com/sports/w-swim\n",
      "17 16 15 14 13 12 11 10 09 \n",
      "Download http://www.yalebulldogs.com/sports/w-tennis\n",
      "17 16 15 14 13 12 11 10 09 \n",
      "Download http://www.yalebulldogs.com/sports/w-track\n",
      "17 16 15 14 13 12 11 10 \n",
      "Download http://www.yalebulldogs.com/sports/w-volley\n",
      "17 16 15 14 13 12 11 10 09 08 07 06 05 04 03 Site is down!\n",
      "Wall time: 5min 40s\n"
     ]
    }
   ],
   "source": [
    "%%time\n",
    "# Download the rosters for each sport\n",
    "# Parallelize another time, split into separate variable due to some odd memory bug.\n",
    "rosters = sports[['href', 'currentRoster']].apply(lambda x: getSeasons(x['href'], x['currentRoster']), axis='columns')"
   ]
  },
  {
   "cell_type": "code",
   "execution_count": 235,
   "metadata": {
    "collapsed": false
   },
   "outputs": [
    {
     "data": {
      "text/plain": [
       "<matplotlib.axes._subplots.AxesSubplot at 0x2cee09e8>"
      ]
     },
     "execution_count": 235,
     "metadata": {},
     "output_type": "execute_result"
    },
    {
     "data": {
      "image/png": "[encoded data removed]",
      "text/plain": [
       "<matplotlib.figure.Figure at 0x2222da90>"
      ]
     },
     "metadata": {},
     "output_type": "display_data"
    }
   ],
   "source": [
    "# Everybody has at least 6 years of data. There are a few sports with 14 years of data. \n",
    "# I wonder what made a team join?\n",
    "# We can do facet plots of how the size of a team's roster changed from year to year.\n",
    "# Alternately, we can build a list of what high schools people come from...\n",
    "rosters.map(len).hist()"
   ]
  },
  {
   "cell_type": "code",
   "execution_count": 226,
   "metadata": {
    "collapsed": false
   },
   "outputs": [],
   "source": [
    "sports['nSeasons'] = rosters.map(len)"
   ]
  },
  {
   "cell_type": "code",
   "execution_count": 228,
   "metadata": {
    "collapsed": false
   },
   "outputs": [],
   "source": [
    "sports['rosters'] = rosters"
   ]
  },
  {
   "cell_type": "code",
   "execution_count": 230,
   "metadata": {
    "collapsed": false
   },
   "outputs": [
    {
     "data": {
      "text/plain": [
       "[[{'link': '/sports/m-basebl/2016-17/roster?sort=number', 'name': u'No.'},\n",
       "  {'link': '/sports/m-basebl/2016-17/roster?sort=last_name', 'name': u'Name'},\n",
       "  {'link': '/sports/m-basebl/2016-17/roster?sort=position', 'name': u'Pos.'},\n",
       "  {'link': '/sports/m-basebl/2016-17/roster?sort=year', 'name': u'Cl.'},\n",
       "  u'B/T',\n",
       "  u'Ht.',\n",
       "  u'Wt.',\n",
       "  u'Hometown/High School'],\n",
       " [u'',\n",
       "  u'1',\n",
       "  {'link': '/sports/m-basebl/2016-17/bios/whiteman_simon_p54m',\n",
       "   'name': u'Simon Whiteman'},\n",
       "  u'IF/OF',\n",
       "  u'So.',\n",
       "  u'R/R',\n",
       "  u'5-10',\n",
       "  u'170',\n",
       "  u'Trumbull, Conn. / Fairfield Prep'],\n",
       " [u'',\n",
       "  u'2',\n",
       "  {'link': '/sports/m-basebl/2016-17/bios/degraw_tim_6meu',\n",
       "   'name': u'Tim DeGraw'},\n",
       "  u'OF',\n",
       "  u'So.',\n",
       "  u'R/R',\n",
       "  u'5-10',\n",
       "  u'170',\n",
       "  u'Rye, N.Y. / Rye High School'],\n",
       " [u'',\n",
       "  u'3',\n",
       "  {'link': '/sports/m-basebl/2016-17/bios/fuller_tom_ye5u',\n",
       "   'name': u'Tom Fuller'},\n",
       "  u'C',\n",
       "  u'So.',\n",
       "  u'R/R',\n",
       "  u'5-11',\n",
       "  u'170',\n",
       "  u'Santa Monica, Calif. / Harvard Westlake'],\n",
       " [u'',\n",
       "  u'5',\n",
       "  {'link': '/sports/m-basebl/2016-17/bios/white_harrison_7v91',\n",
       "   'name': u'Harrison White'},\n",
       "  u'IF',\n",
       "  u'Sr.',\n",
       "  u'L/R',\n",
       "  u'5-9',\n",
       "  u'170',\n",
       "  u\"Laguna Niguel, Calif. / St. Margaret's\"],\n",
       " [u'',\n",
       "  u'6',\n",
       "  {'link': '/sports/m-basebl/2016-17/bios/boos_alex_o5xf',\n",
       "   'name': u'Alex Boos'},\n",
       "  u'C/IF',\n",
       "  u'Jr.',\n",
       "  u'R/R',\n",
       "  u'5-10',\n",
       "  u'170',\n",
       "  u'Indianapolis, Ind. / Cathedral High School'],\n",
       " [u'',\n",
       "  u'7',\n",
       "  {'link': '/sports/m-basebl/2016-17/bios/herrera_andrew_gkcp',\n",
       "   'name': u'Andrew Herrera'},\n",
       "  u'C',\n",
       "  u'Sr.',\n",
       "  u'R/R',\n",
       "  u'5-10',\n",
       "  u'180',\n",
       "  u'Allendale, N.J. / Don Bosco Prep'],\n",
       " [u'',\n",
       "  u'8',\n",
       "  {'link': '/sports/m-basebl/2016-17/bios/sliepka_mikey_sg06',\n",
       "   'name': u'Mikey Sliepka'},\n",
       "  u'IF',\n",
       "  u'Jr.',\n",
       "  u'R/R',\n",
       "  u'6-2',\n",
       "  u'200',\n",
       "  u'Houston, Texas / Jersey Village High School'],\n",
       " [u'',\n",
       "  u'9',\n",
       "  {'link': '/sports/m-basebl/2016-17/bios/slenker_richard_1uzt',\n",
       "   'name': u'Richard Slenker'},\n",
       "  u'IF',\n",
       "  u'Sr.',\n",
       "  u'R/R',\n",
       "  u'5-11',\n",
       "  u'198',\n",
       "  u'Pound Ridge, N.Y. / Fox Lane'],\n",
       " [u'',\n",
       "  u'14',\n",
       "  {'link': '/sports/m-basebl/2016-17/bios/nambiar_kumar_k13p',\n",
       "   'name': u'Kumar Nambiar'},\n",
       "  u'LHP',\n",
       "  u'So.',\n",
       "  u'R/L',\n",
       "  u'5-11',\n",
       "  u'170',\n",
       "  u'Mamaroneck, N.Y. / Mamaroneck'],\n",
       " [u'',\n",
       "  u'15',\n",
       "  {'link': '/sports/m-basebl/2016-17/bios/ford_chasen_bp1p',\n",
       "   'name': u'Chasen Ford'},\n",
       "  u'RHP',\n",
       "  u'Sr.',\n",
       "  u'R/R',\n",
       "  u'6-3',\n",
       "  u'215',\n",
       "  u'Lake Forest, Calif. / El Toro'],\n",
       " [u'',\n",
       "  u'17',\n",
       "  {'link': '/sports/m-basebl/2016-17/bios/hoeschel_alec_8k3a',\n",
       "   'name': u'Alec Hoeschel'},\n",
       "  u'IF',\n",
       "  u'Sr.',\n",
       "  u'L/R',\n",
       "  u'6-3',\n",
       "  u'195',\n",
       "  u'Hockessin, Del. / Charter School of Wilmington'],\n",
       " [u'',\n",
       "  u'18',\n",
       "  {'link': '/sports/m-basebl/2016-17/bios/brodkowitz_eric_f6r0',\n",
       "   'name': u'Eric Brodkowitz'},\n",
       "  u'RHP',\n",
       "  u'Jr.',\n",
       "  u'R/R',\n",
       "  u'6-2',\n",
       "  u'205',\n",
       "  u'Potomac, Md. / Winston Churchill High School'],\n",
       " [u'',\n",
       "  u'20',\n",
       "  {'link': '/sports/m-basebl/2016-17/bios/brown_derek_fo5u',\n",
       "   'name': u'Derek Brown'},\n",
       "  u'IF',\n",
       "  u'Sr.',\n",
       "  u'R/R',\n",
       "  u'5-11',\n",
       "  u'170',\n",
       "  u'Houston, Texas / Episcopal'],\n",
       " [u'',\n",
       "  u'21',\n",
       "  {'link': '/sports/m-basebl/2016-17/bios/mcclain_jackson_o1z5',\n",
       "   'name': u'Jackson McClain'},\n",
       "  u'LHP',\n",
       "  u'Sr.',\n",
       "  u'L/L',\n",
       "  u'6-3',\n",
       "  u'215',\n",
       "  u'Ooltewah, Tenn. / Ooltewah'],\n",
       " [u'',\n",
       "  u'22',\n",
       "  {'link': '/sports/m-basebl/2016-17/bios/dey_griffin_lvy5',\n",
       "   'name': u'Griffin Dey'},\n",
       "  u'1B/RHP',\n",
       "  u'So.',\n",
       "  u'R/R',\n",
       "  u'6-1',\n",
       "  u'210',\n",
       "  u'Pound Ridge, N.Y. / John F. Kennedy Catholic'],\n",
       " [u'',\n",
       "  u'25',\n",
       "  {'link': '/sports/m-basebl/2016-17/bios/ruddy_tom_mr0b',\n",
       "   'name': u'Tom Ruddy'},\n",
       "  u'OF',\n",
       "  u'Jr.',\n",
       "  u'L/L',\n",
       "  u'6-3',\n",
       "  u'185',\n",
       "  u'Sparta, N.J. / Sparta High'],\n",
       " [u'',\n",
       "  u'27',\n",
       "  {'link': '/sports/m-basebl/2016-17/bios/wanger_benny_yg84',\n",
       "   'name': u'Benny Wanger'},\n",
       "  u'RHP/1B',\n",
       "  u'So.',\n",
       "  u'R/R',\n",
       "  u'6-3',\n",
       "  u'190',\n",
       "  u'Waban, Mass. / Belmont Hill'],\n",
       " [u'',\n",
       "  u'29',\n",
       "  {'link': '/sports/m-basebl/2016-17/bios/duncan_tyler_vloy',\n",
       "   'name': u'Tyler Duncan'},\n",
       "  u'RHP',\n",
       "  u'Jr.',\n",
       "  u'R/R',\n",
       "  u'6-3',\n",
       "  u'190',\n",
       "  u'Newport Beach, Calif. / Corona Del Mar'],\n",
       " [u'',\n",
       "  u'30',\n",
       "  {'link': '/sports/m-basebl/2016-17/bios/boies_sam_h2bk',\n",
       "   'name': u'Sam Boies'},\n",
       "  u'LHP',\n",
       "  u'So.',\n",
       "  u'R/L',\n",
       "  u'6-1',\n",
       "  u'215',\n",
       "  u'Naples, Fla. / Community School of Naples'],\n",
       " [u'',\n",
       "  u'33',\n",
       "  {'link': '/sports/m-basebl/2016-17/bios/kukowski_mason_pttd',\n",
       "   'name': u'Mason Kukowski'},\n",
       "  u'RHP/IF',\n",
       "  u'Jr.',\n",
       "  u'R/R',\n",
       "  u'6-2',\n",
       "  u'200',\n",
       "  u'Katy, Texas / Seven Lakes High School'],\n",
       " [u'',\n",
       "  u'34',\n",
       "  {'link': '/sports/m-basebl/2016-17/bios/politz_scott_etj3',\n",
       "   'name': u'Scott Politz'},\n",
       "  u'RHP',\n",
       "  u'So.',\n",
       "  u'R/R',\n",
       "  u'6-2',\n",
       "  u'200',\n",
       "  u'Austin, Texas / St. Andrews'],\n",
       " [u'',\n",
       "  u'35',\n",
       "  {'link': '/sports/m-basebl/2016-17/bios/scott_drew_8ys8',\n",
       "   'name': u'Drew Scott'},\n",
       "  u'RHP',\n",
       "  u'Jr.',\n",
       "  u'R/R',\n",
       "  u'6-3',\n",
       "  u'195',\n",
       "  u'Henrico, Va. / Deep Run High School'],\n",
       " [u'',\n",
       "  u'',\n",
       "  {'link': '/sports/m-basebl/2016-17/bios/ager_justin_ll2n',\n",
       "   'name': u'Justin Ager'},\n",
       "  u'RHP',\n",
       "  u'Freshman',\n",
       "  u'R/R',\n",
       "  u'',\n",
       "  u'',\n",
       "  u'- / -'],\n",
       " [u'',\n",
       "  u'',\n",
       "  {'link': '/sports/m-basebl/2016-17/bios/cecere_bobby_a3p9',\n",
       "   'name': u'Bobby Cecere'},\n",
       "  u'RHP',\n",
       "  u'Freshman',\n",
       "  u'R/R',\n",
       "  u'',\n",
       "  u'',\n",
       "  u'- / -'],\n",
       " [u'',\n",
       "  u'',\n",
       "  {'link': '/sports/m-basebl/2016-17/bios/espig_thomas_11ao',\n",
       "   'name': u'Thomas Espig'},\n",
       "  u'LHP',\n",
       "  u'Freshman',\n",
       "  u'R/L',\n",
       "  u'',\n",
       "  u'',\n",
       "  u'- / -'],\n",
       " [u'',\n",
       "  u'',\n",
       "  {'link': '/sports/m-basebl/2016-17/bios/otaka_dai_dai_cp60',\n",
       "   'name': u'Dai Dai Otaka'},\n",
       "  u'MIF',\n",
       "  u'Freshman',\n",
       "  u'R/R',\n",
       "  u'',\n",
       "  u'',\n",
       "  u'- / -'],\n",
       " [u'',\n",
       "  u'',\n",
       "  {'link': '/sports/m-basebl/2016-17/bios/ronai_brian_btqf',\n",
       "   'name': u'Brian Ronai'},\n",
       "  u'IF/RHP',\n",
       "  u'Freshman',\n",
       "  u'R/R',\n",
       "  u'',\n",
       "  u'',\n",
       "  u'- / -'],\n",
       " [u'',\n",
       "  u'',\n",
       "  {'link': '/sports/m-basebl/2016-17/bios/sapsford_tyler_g1v4',\n",
       "   'name': u'Tyler Sapsford'},\n",
       "  u'RHP/MIF',\n",
       "  u'Freshman',\n",
       "  u'R/R',\n",
       "  u'',\n",
       "  u'',\n",
       "  u'- / -'],\n",
       " [u'',\n",
       "  u'',\n",
       "  {'link': '/sports/m-basebl/2016-17/bios/stiegler_alex_3dje',\n",
       "   'name': u'Alex Stiegler'},\n",
       "  u'RHP/SS',\n",
       "  u'Freshman',\n",
       "  u'R/R',\n",
       "  u'',\n",
       "  u'',\n",
       "  u'- / -']]"
      ]
     },
     "execution_count": 230,
     "metadata": {},
     "output_type": "execute_result"
    }
   ],
   "source": [
    "# check what the number of people in a season looks like\n",
    "sports.iloc[0]['rosters'][currentSeason]"
   ]
  },
  {
   "cell_type": "code",
   "execution_count": 231,
   "metadata": {
    "collapsed": false
   },
   "outputs": [
    {
     "name": "stdout",
     "output_type": "stream",
     "text": [
      "<class 'pandas.core.frame.DataFrame'>\n",
      "Int64Index: 33 entries, 0 to 33\n",
      "Data columns (total 7 columns):\n",
      "href             33 non-null object\n",
      "name             33 non-null object\n",
      "gender           33 non-null object\n",
      "currentRoster    33 non-null object\n",
      "seasons          33 non-null object\n",
      "nSeasons         33 non-null int64\n",
      "rosters          33 non-null object\n",
      "dtypes: int64(1), object(6)\n",
      "memory usage: 2.1+ KB\n"
     ]
    }
   ],
   "source": [
    "sports.info()"
   ]
  },
  {
   "cell_type": "code",
   "execution_count": 238,
   "metadata": {
    "collapsed": false
   },
   "outputs": [
    {
     "data": {
      "text/plain": [
       "list"
      ]
     },
     "execution_count": 238,
     "metadata": {},
     "output_type": "execute_result"
    }
   ],
   "source": [
    "type(sports.iloc[0]['rosters'][currentSeason])"
   ]
  },
  {
   "cell_type": "code",
   "execution_count": 249,
   "metadata": {
    "collapsed": true
   },
   "outputs": [],
   "source": [
    "# dump as pickle too so objects don't get turned into strings\n",
    "EXPORT_PICKLE = os.path.join(PROJ_ROOT, \"data\", \"raw\", \"sports.p\")\n",
    "sports.to_pickle(EXPORT_PICKLE)"
   ]
  },
  {
   "cell_type": "code",
   "execution_count": 250,
   "metadata": {
    "collapsed": false
   },
   "outputs": [],
   "source": [
    "# Dump the file!\n",
    "EXPORT_PATH = os.path.join(PROJ_ROOT, \"data\", \"raw\", \"sports.json\")\n",
    "sports.to_json(EXPORT_PATH)"
   ]
  }
 ],
 "metadata": {
  "anaconda-cloud": {},
  "kernelspec": {
   "display_name": "Python [default]",
   "language": "python",
   "name": "python2"
  },
  "language_info": {
   "codemirror_mode": {
    "name": "ipython",
    "version": 2
   },
   "file_extension": ".py",
   "mimetype": "text/x-python",
   "name": "python",
   "nbconvert_exporter": "python",
   "pygments_lexer": "ipython2",
   "version": "2.7.12"
  }
 },
 "nbformat": 4,
 "nbformat_minor": 0
}
