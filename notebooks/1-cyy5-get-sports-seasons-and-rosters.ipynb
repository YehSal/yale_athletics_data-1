{
 "cells": [
  {
   "cell_type": "code",
   "execution_count": null,
   "metadata": {
    "collapsed": true
   },
   "outputs": [],
   "source": []
  },
  {
   "cell_type": "markdown",
   "metadata": {},
   "source": [
    "### Configuration Variables"
   ]
  },
  {
   "cell_type": "code",
   "execution_count": 171,
   "metadata": {
    "collapsed": true
   },
   "outputs": [],
   "source": [
    "currentSeason = \"2016-17\"   # The current academic year. Can replace with python datettime"
   ]
  },
  {
   "cell_type": "markdown",
   "metadata": {},
   "source": [
    "## Begin Code"
   ]
  },
  {
   "cell_type": "code",
   "execution_count": 164,
   "metadata": {
    "collapsed": false
   },
   "outputs": [
    {
     "name": "stdout",
     "output_type": "stream",
     "text": [
      "The watermark extension is already loaded. To reload it, use:\n",
      "  %reload_ext watermark\n"
     ]
    }
   ],
   "source": [
    "# Assumes Anaconda Distribution\n",
    "\n",
    "# For data manipulation\n",
    "import os\n",
    "import pandas as pd\n",
    "import matplotlib.pyplot as plt\n",
    "import seaborn as sns\n",
    "PROJ_ROOT = os.pardir\n",
    "\n",
    "# For Scraping\n",
    "from bs4 import BeautifulSoup\n",
    "import requests\n",
    "import time\n",
    "\n",
    "# For munging\n",
    "import re\n",
    "import json\n",
    "\n",
    "# Backoff time for large scrapes\n",
    "THROTTLE_TIME = .1\n",
    "\n",
    "# ipython magics\n",
    "%load_ext watermark\n",
    "%matplotlib inline\n",
    "# a nice bonus for making progress bars in ipython\n",
    "from tqdm import tqdm, tqdm_pandas, tqdm_notebook\n",
    "tqdm.pandas()"
   ]
  },
  {
   "cell_type": "code",
   "execution_count": 3,
   "metadata": {
    "collapsed": false
   },
   "outputs": [
    {
     "name": "stdout",
     "output_type": "stream",
     "text": [
      "Cameron Yick 2016-10-22 15:58:48 \n",
      "\n",
      "CPython 2.7.12\n",
      "IPython 4.0.1\n",
      "\n",
      "pandas 0.17.1\n",
      "seaborn 0.7.1\n",
      "matplotlib 1.5.0\n",
      "bs4 4.4.1\n",
      "Git hash: 6c89327aaea7699d7ffce4cb9b58f6ce5fd43d1f\n"
     ]
    }
   ],
   "source": [
    "%watermark -a \"Cameron Yick\" -d -t -v -p pandas,seaborn,matplotlib,bs4 -g"
   ]
  },
  {
   "cell_type": "code",
   "execution_count": 31,
   "metadata": {
    "collapsed": true
   },
   "outputs": [],
   "source": [
    "root_url = \"http://www.yalebulldogs.com\""
   ]
  },
  {
   "cell_type": "code",
   "execution_count": null,
   "metadata": {
    "collapsed": true
   },
   "outputs": [],
   "source": []
  },
  {
   "cell_type": "code",
   "execution_count": 69,
   "metadata": {
    "collapsed": true
   },
   "outputs": [],
   "source": [
    "# Core functions related to data scraping\n",
    "# Kept here for readability, eventually move to 'src' folder\n",
    "\n",
    "def getBodySoup(link):\n",
    "    'Given URL Returns BS4 Object for link, feat. HTML body'\n",
    "#     print(\".\"),\n",
    "    time.sleep(THROTTLE_TIME)\n",
    "    site_url = link\n",
    "    result = requests.get(site_url)\n",
    "    if result.status_code is 200:\n",
    "        return BeautifulSoup(result.content, 'lxml').find('body')\n",
    "    else:\n",
    "        print \"Site is down!\"\n",
    "        return None"
   ]
  },
  {
   "cell_type": "code",
   "execution_count": 43,
   "metadata": {
    "collapsed": true
   },
   "outputs": [],
   "source": [
    "# Custom functions for this website\n",
    "def getAllSports(soup):\n",
    "    # Visit website, note that the sports are stored in 3 submenus\n",
    "    # These are submenus of index 1, 2 4, and 5, but this is potentially subject to change.\n",
    "    menus = soup.find_all(class_=\"submenu\")\n",
    "    sportMenus = [1, 2, 4, 5]\n",
    "    sports = [] # array of sports objects\n",
    "    \n",
    "    for iMenu in sportMenus:\n",
    "        for link in menus[iMenu].find_all('a'):\n",
    "            sport = {}\n",
    "            sport['name'] = link.text.strip()\n",
    "            sport['href'] = root_url + link['href']\n",
    "            sports.append(sport)\n",
    "            \n",
    "    return sports\n",
    "            "
   ]
  },
  {
   "cell_type": "markdown",
   "metadata": {},
   "source": [
    "## Get Each Sports Page from Homepage"
   ]
  },
  {
   "cell_type": "code",
   "execution_count": 129,
   "metadata": {
    "collapsed": false
   },
   "outputs": [],
   "source": [
    "# Verify that we get all the sports\n",
    "homeSoup = getBodySoup(root_url)\n"
   ]
  },
  {
   "cell_type": "code",
   "execution_count": 130,
   "metadata": {
    "collapsed": false
   },
   "outputs": [
    {
     "name": "stdout",
     "output_type": "stream",
     "text": [
      "34\n"
     ]
    }
   ],
   "source": [
    "sports = getAllSports(homeSoup)\n",
    "print len(sports)"
   ]
  },
  {
   "cell_type": "code",
   "execution_count": 131,
   "metadata": {
    "collapsed": true
   },
   "outputs": [],
   "source": [
    "# Let's make a proper data structure\n",
    "sports = pd.DataFrame(sports)"
   ]
  },
  {
   "cell_type": "code",
   "execution_count": 132,
   "metadata": {
    "collapsed": true
   },
   "outputs": [],
   "source": [
    "# pull the index term off the homepage\n",
    "cleanIndex = re.compile(\"(.*)\\/index\")\n",
    "sports['href'] = sports['href'].apply(lambda x: cleanIndex.search(x).group(1))"
   ]
  },
  {
   "cell_type": "code",
   "execution_count": 134,
   "metadata": {
    "collapsed": false
   },
   "outputs": [
    {
     "data": {
      "text/html": [
       "<div>\n",
       "<table border=\"1\" class=\"dataframe\">\n",
       "  <thead>\n",
       "    <tr style=\"text-align: right;\">\n",
       "      <th></th>\n",
       "      <th>href</th>\n",
       "      <th>name</th>\n",
       "    </tr>\n",
       "  </thead>\n",
       "  <tbody>\n",
       "    <tr>\n",
       "      <th>25</th>\n",
       "      <td>http://www.yalebulldogs.com/sports/c-sail</td>\n",
       "      <td>Sailing (Coed)</td>\n",
       "    </tr>\n",
       "  </tbody>\n",
       "</table>\n",
       "</div>"
      ],
      "text/plain": [
       "                                         href            name\n",
       "25  http://www.yalebulldogs.com/sports/c-sail  Sailing (Coed)"
      ]
     },
     "execution_count": 134,
     "metadata": {},
     "output_type": "execute_result"
    }
   ],
   "source": [
    "# just one sport is listed twice.\n",
    "sports[sports['href'].duplicated()]"
   ]
  },
  {
   "cell_type": "code",
   "execution_count": 136,
   "metadata": {
    "collapsed": false
   },
   "outputs": [],
   "source": [
    "sports = sports[sports['href'].duplicated() == False]"
   ]
  },
  {
   "cell_type": "code",
   "execution_count": 137,
   "metadata": {
    "collapsed": false
   },
   "outputs": [
    {
     "name": "stdout",
     "output_type": "stream",
     "text": [
      "<class 'pandas.core.frame.DataFrame'>\n",
      "Int64Index: 33 entries, 0 to 33\n",
      "Data columns (total 2 columns):\n",
      "href    33 non-null object\n",
      "name    33 non-null object\n",
      "dtypes: object(2)\n",
      "memory usage: 792.0+ bytes\n"
     ]
    }
   ],
   "source": [
    "sports.info()"
   ]
  },
  {
   "cell_type": "code",
   "execution_count": 138,
   "metadata": {
    "collapsed": false
   },
   "outputs": [
    {
     "data": {
      "text/html": [
       "<div>\n",
       "<table border=\"1\" class=\"dataframe\">\n",
       "  <thead>\n",
       "    <tr style=\"text-align: right;\">\n",
       "      <th></th>\n",
       "      <th>href</th>\n",
       "      <th>name</th>\n",
       "    </tr>\n",
       "  </thead>\n",
       "  <tbody>\n",
       "    <tr>\n",
       "      <th>0</th>\n",
       "      <td>http://www.yalebulldogs.com/sports/m-basebl</td>\n",
       "      <td>Baseball</td>\n",
       "    </tr>\n",
       "    <tr>\n",
       "      <th>1</th>\n",
       "      <td>http://www.yalebulldogs.com/sports/m-baskbl</td>\n",
       "      <td>Basketball</td>\n",
       "    </tr>\n",
       "    <tr>\n",
       "      <th>2</th>\n",
       "      <td>http://www.yalebulldogs.com/sports/m-crewhvy</td>\n",
       "      <td>Crew (Heavyweight)</td>\n",
       "    </tr>\n",
       "    <tr>\n",
       "      <th>3</th>\n",
       "      <td>http://www.yalebulldogs.com/sports/m-crewlt</td>\n",
       "      <td>Crew (Lightweight)</td>\n",
       "    </tr>\n",
       "    <tr>\n",
       "      <th>4</th>\n",
       "      <td>http://www.yalebulldogs.com/sports/m-xc</td>\n",
       "      <td>Cross Country</td>\n",
       "    </tr>\n",
       "  </tbody>\n",
       "</table>\n",
       "</div>"
      ],
      "text/plain": [
       "                                           href                name\n",
       "0   http://www.yalebulldogs.com/sports/m-basebl            Baseball\n",
       "1   http://www.yalebulldogs.com/sports/m-baskbl          Basketball\n",
       "2  http://www.yalebulldogs.com/sports/m-crewhvy  Crew (Heavyweight)\n",
       "3   http://www.yalebulldogs.com/sports/m-crewlt  Crew (Lightweight)\n",
       "4       http://www.yalebulldogs.com/sports/m-xc       Cross Country"
      ]
     },
     "execution_count": 138,
     "metadata": {},
     "output_type": "execute_result"
    }
   ],
   "source": [
    "sports.head()\n"
   ]
  },
  {
   "cell_type": "code",
   "execution_count": 139,
   "metadata": {
    "collapsed": true
   },
   "outputs": [],
   "source": [
    "# Extract the genders for each sport: m / f / coed\n",
    "getGender = re.compile(\"\\/sports\\/([mcw])-\")\n",
    "def getSportGender(url):\n",
    "    return getGender.search(url).group(1)"
   ]
  },
  {
   "cell_type": "code",
   "execution_count": 140,
   "metadata": {
    "collapsed": true
   },
   "outputs": [],
   "source": [
    "sports['gender'] = sports['href'].map(getSportGender)"
   ]
  },
  {
   "cell_type": "code",
   "execution_count": 141,
   "metadata": {
    "collapsed": false
   },
   "outputs": [
    {
     "data": {
      "text/html": [
       "<div>\n",
       "<table border=\"1\" class=\"dataframe\">\n",
       "  <thead>\n",
       "    <tr style=\"text-align: right;\">\n",
       "      <th></th>\n",
       "      <th>href</th>\n",
       "      <th>name</th>\n",
       "    </tr>\n",
       "    <tr>\n",
       "      <th>gender</th>\n",
       "      <th></th>\n",
       "      <th></th>\n",
       "    </tr>\n",
       "  </thead>\n",
       "  <tbody>\n",
       "    <tr>\n",
       "      <th>c</th>\n",
       "      <td>1</td>\n",
       "      <td>1</td>\n",
       "    </tr>\n",
       "    <tr>\n",
       "      <th>m</th>\n",
       "      <td>15</td>\n",
       "      <td>15</td>\n",
       "    </tr>\n",
       "    <tr>\n",
       "      <th>w</th>\n",
       "      <td>17</td>\n",
       "      <td>17</td>\n",
       "    </tr>\n",
       "  </tbody>\n",
       "</table>\n",
       "</div>"
      ],
      "text/plain": [
       "        href  name\n",
       "gender            \n",
       "c          1     1\n",
       "m         15    15\n",
       "w         17    17"
      ]
     },
     "execution_count": 141,
     "metadata": {},
     "output_type": "execute_result"
    }
   ],
   "source": [
    "# Sanity check on # of genders per sport- . Only 1 coed sport shares a webpage\n",
    "# One could give the other coed sports (Swim, track, basketball) coed designation, although\n",
    "# having both genders on 1 team is unique to sailing.\n",
    "sports.groupby('gender').count()"
   ]
  },
  {
   "cell_type": "markdown",
   "metadata": {},
   "source": [
    "## Get the Seasons for which we have data for each sport"
   ]
  },
  {
   "cell_type": "markdown",
   "metadata": {},
   "source": [
    "Below is some scratch code while we get"
   ]
  },
  {
   "cell_type": "code",
   "execution_count": 56,
   "metadata": {
    "collapsed": true
   },
   "outputs": [],
   "source": [
    "test = sports['href'].iloc[1]"
   ]
  },
  {
   "cell_type": "code",
   "execution_count": 58,
   "metadata": {
    "collapsed": false
   },
   "outputs": [
    {
     "name": "stdout",
     "output_type": "stream",
     "text": [
      ".\n"
     ]
    }
   ],
   "source": [
    "teamsoup = getBodySoup(test)"
   ]
  },
  {
   "cell_type": "code",
   "execution_count": 68,
   "metadata": {
    "collapsed": false
   },
   "outputs": [
    {
     "data": {
      "text/plain": [
       "'2016-17'"
      ]
     },
     "execution_count": 68,
     "metadata": {},
     "output_type": "execute_result"
    }
   ],
   "source": [
    "getSeason.search(l).group(1)\n"
   ]
  },
  {
   "cell_type": "code",
   "execution_count": 142,
   "metadata": {
    "collapsed": false
   },
   "outputs": [],
   "source": [
    "getSeason = re.compile(\"([\\d\\-]*)\\/roster\")\n",
    "hasRoster = re.compile('Roster')\n",
    "def currentSeason(team_url):\n",
    "    teamsoup = getBodySoup(team_url)\n",
    "    link = teamsoup.find('a', text=hasRoster)\n",
    "    return getSeason.search(link['href']).group(1) "
   ]
  },
  {
   "cell_type": "code",
   "execution_count": 143,
   "metadata": {
    "collapsed": false,
    "scrolled": true
   },
   "outputs": [
    {
     "name": "stderr",
     "output_type": "stream",
     "text": [
      "100%|██████████████████████████████████████████████████████████████████████████████████| 33/33 [01:06<00:00,  2.08s/it]\n"
     ]
    }
   ],
   "source": [
    "sports['currentRoster'] = sports['href'].progress_apply(lambda x: currentSeason(x))"
   ]
  },
  {
   "cell_type": "code",
   "execution_count": 91,
   "metadata": {
    "collapsed": false
   },
   "outputs": [
    {
     "data": {
      "text/html": [
       "<div>\n",
       "<table border=\"1\" class=\"dataframe\">\n",
       "  <thead>\n",
       "    <tr style=\"text-align: right;\">\n",
       "      <th></th>\n",
       "      <th>href</th>\n",
       "      <th>name</th>\n",
       "      <th>gender</th>\n",
       "      <th>currentRoster</th>\n",
       "    </tr>\n",
       "  </thead>\n",
       "  <tbody>\n",
       "    <tr>\n",
       "      <th>0</th>\n",
       "      <td>http://www.yalebulldogs.com/sports/m-basebl/index</td>\n",
       "      <td>Baseball</td>\n",
       "      <td>m</td>\n",
       "      <td>2015-16</td>\n",
       "    </tr>\n",
       "    <tr>\n",
       "      <th>1</th>\n",
       "      <td>http://www.yalebulldogs.com/sports/m-baskbl/index</td>\n",
       "      <td>Basketball</td>\n",
       "      <td>m</td>\n",
       "      <td>2016-17</td>\n",
       "    </tr>\n",
       "    <tr>\n",
       "      <th>2</th>\n",
       "      <td>http://www.yalebulldogs.com/sports/m-crewhvy/i...</td>\n",
       "      <td>Crew (Heavyweight)</td>\n",
       "      <td>m</td>\n",
       "      <td>2015-16</td>\n",
       "    </tr>\n",
       "    <tr>\n",
       "      <th>3</th>\n",
       "      <td>http://www.yalebulldogs.com/sports/m-crewlt/index</td>\n",
       "      <td>Crew (Lightweight)</td>\n",
       "      <td>m</td>\n",
       "      <td>2016-17</td>\n",
       "    </tr>\n",
       "    <tr>\n",
       "      <th>4</th>\n",
       "      <td>http://www.yalebulldogs.com/sports/m-xc/index</td>\n",
       "      <td>Cross Country</td>\n",
       "      <td>m</td>\n",
       "      <td>2016-17</td>\n",
       "    </tr>\n",
       "    <tr>\n",
       "      <th>5</th>\n",
       "      <td>http://www.yalebulldogs.com/sports/m-fenc/index</td>\n",
       "      <td>Fencing</td>\n",
       "      <td>m</td>\n",
       "      <td>2016-17</td>\n",
       "    </tr>\n",
       "    <tr>\n",
       "      <th>6</th>\n",
       "      <td>http://www.yalebulldogs.com/sports/m-footbl/index</td>\n",
       "      <td>Football</td>\n",
       "      <td>m</td>\n",
       "      <td>2016-17</td>\n",
       "    </tr>\n",
       "    <tr>\n",
       "      <th>7</th>\n",
       "      <td>http://www.yalebulldogs.com/sports/m-golf/index</td>\n",
       "      <td>Golf</td>\n",
       "      <td>m</td>\n",
       "      <td>2016-17</td>\n",
       "    </tr>\n",
       "  </tbody>\n",
       "</table>\n",
       "</div>"
      ],
      "text/plain": [
       "                                                href                name  \\\n",
       "0  http://www.yalebulldogs.com/sports/m-basebl/index            Baseball   \n",
       "1  http://www.yalebulldogs.com/sports/m-baskbl/index          Basketball   \n",
       "2  http://www.yalebulldogs.com/sports/m-crewhvy/i...  Crew (Heavyweight)   \n",
       "3  http://www.yalebulldogs.com/sports/m-crewlt/index  Crew (Lightweight)   \n",
       "4      http://www.yalebulldogs.com/sports/m-xc/index       Cross Country   \n",
       "5    http://www.yalebulldogs.com/sports/m-fenc/index             Fencing   \n",
       "6  http://www.yalebulldogs.com/sports/m-footbl/index            Football   \n",
       "7    http://www.yalebulldogs.com/sports/m-golf/index                Golf   \n",
       "\n",
       "  gender currentRoster  \n",
       "0      m       2015-16  \n",
       "1      m       2016-17  \n",
       "2      m       2015-16  \n",
       "3      m       2016-17  \n",
       "4      m       2016-17  \n",
       "5      m       2016-17  \n",
       "6      m       2016-17  \n",
       "7      m       2016-17  "
      ]
     },
     "execution_count": 91,
     "metadata": {},
     "output_type": "execute_result"
    }
   ],
   "source": [
    "# observe a data quality issue: sometiems the website link hasn't been updated even though the underlying page does \n",
    "# exist (ie in case of baseball.)\n",
    "# However, in case of heavyweight crew, the new roster just isn't up yet.\n",
    "sports.head(8)"
   ]
  },
  {
   "cell_type": "code",
   "execution_count": 182,
   "metadata": {
    "collapsed": false
   },
   "outputs": [
    {
     "data": {
      "text/plain": [
       "2016-17    31\n",
       "2015-16     2\n",
       "Name: currentRoster, dtype: int64"
      ]
     },
     "execution_count": 182,
     "metadata": {},
     "output_type": "execute_result"
    }
   ],
   "source": [
    "# You'll have to check every year to see who's behind\n",
    "# In this case, it's baseball and men's heavyweight crew\n",
    "sports['currentRoster'].value_counts()"
   ]
  },
  {
   "cell_type": "code",
   "execution_count": 184,
   "metadata": {
    "collapsed": false
   },
   "outputs": [
    {
     "name": "stdout",
     "output_type": "stream",
     "text": [
      "Baseball\n"
     ]
    }
   ],
   "source": [
    "# In the case of baseball only, force their roster to advance by 1.\n",
    "print sports.iloc[0]['name']\n",
    "sports.iloc[0]['currentRoster'] = \"2016-17\""
   ]
  },
  {
   "cell_type": "code",
   "execution_count": 185,
   "metadata": {
    "collapsed": false
   },
   "outputs": [
    {
     "data": {
      "text/plain": [
       "2016-17    32\n",
       "2015-16     1\n",
       "Name: currentRoster, dtype: int64"
      ]
     },
     "execution_count": 185,
     "metadata": {},
     "output_type": "execute_result"
    }
   ],
   "source": [
    "sports['currentRoster'].value_counts()"
   ]
  },
  {
   "cell_type": "markdown",
   "metadata": {},
   "source": [
    "We can now have a `2016-2017` roster for every sport except men's heavyweight crew, since it seems the website has not been updated yet."
   ]
  },
  {
   "cell_type": "markdown",
   "metadata": {},
   "source": [
    "## Getting Rosters from Every Season\n"
   ]
  },
  {
   "cell_type": "code",
   "execution_count": 177,
   "metadata": {
    "collapsed": false
   },
   "outputs": [],
   "source": [
    "def prevSeason(season):\n",
    "    'Given a season, return the previous one.'\n",
    "    '2015-16 becomes 2014-15'\n",
    "    years = season.split(\"-\")\n",
    "    prevYear = int(years[0]) - 1\n",
    "    prevSeason = \"{0}-{1}\".format(prevYear, years[0][2:])\n",
    "\n",
    "\n",
    "def getSeasons(team_url, current_season):\n",
    "    'given current season, check how many seasons back of rosters we can collect.'\n",
    "    ' If refactoring, might as well save the rosters too.'\n",
    "    print team_url\n",
    "    hasRoster = 1\n",
    "    season = current_season\n",
    "    seasons = {}\n",
    "\n",
    "    while (hasRoster):\n",
    "        season_url = \"{0}/{1}/roster\".format(team_url, season)\n",
    "        tsoup = getBodySoup(season_url)\n",
    "        if not tsoup:\n",
    "            break\n",
    "        table = tsoup.find('table')\n",
    "        rows = table.find_all('tr')\n",
    "        \n",
    "        # different pages handled errors differently. ex:\n",
    "        # swimming: template not found: http://www.yalebulldogs.com/sports/w-swim/2008-09/roster\n",
    "        # coed sailing: loads a blank table: http://www.yalebulldogs.com/sports/c-sail/2004-05/roster\n",
    "        # invoke the no 1-person team rule- if the roster table only has 2 or fewer rows in it, it's probably not \n",
    "        #         ok.\n",
    "        if len(rows) < 3:\n",
    "            hasRoster = False\n",
    "        else:\n",
    "            \n",
    "            # Getting the rosters!\n",
    "            people = []\n",
    "            for row in rows:\n",
    "                person = []\n",
    "                for cell in row.find_all('td'):\n",
    "                    person.append(cell.text.strip())\n",
    "                people.append(person)\n",
    "                \n",
    "            seasons[season] = people\n",
    "            season = prevSeason(season)\n",
    "            \n",
    "        \n",
    "    return seasons\n",
    "        "
   ]
  },
  {
   "cell_type": "code",
   "execution_count": 175,
   "metadata": {
    "collapsed": false
   },
   "outputs": [
    {
     "data": {
      "text/plain": [
       "(33, 5)"
      ]
     },
     "execution_count": 175,
     "metadata": {},
     "output_type": "execute_result"
    }
   ],
   "source": [
    "sports.shape"
   ]
  },
  {
   "cell_type": "code",
   "execution_count": 186,
   "metadata": {
    "collapsed": false
   },
   "outputs": [
    {
     "name": "stdout",
     "output_type": "stream",
     "text": [
      "http://www.yalebulldogs.com/sports/m-basebl\n",
      "Site is down!\n",
      "http://www.yalebulldogs.com/sports/m-baskbl\n",
      "Site is down!\n",
      "http://www.yalebulldogs.com/sports/m-crewhvy\n",
      "Site is down!\n",
      "http://www.yalebulldogs.com/sports/m-crewlt\n",
      "Site is down!\n",
      "http://www.yalebulldogs.com/sports/m-xc\n",
      "Site is down!\n",
      "http://www.yalebulldogs.com/sports/m-fenc\n",
      "Site is down!\n",
      "http://www.yalebulldogs.com/sports/m-footbl\n",
      "Site is down!\n",
      "http://www.yalebulldogs.com/sports/m-golf\n",
      "Site is down!\n",
      "http://www.yalebulldogs.com/sports/m-hockey\n",
      "Site is down!\n",
      "http://www.yalebulldogs.com/sports/m-lacros\n",
      "Site is down!\n",
      "http://www.yalebulldogs.com/sports/c-sail\n",
      "Site is down!\n",
      "http://www.yalebulldogs.com/sports/m-soccer\n",
      "Site is down!\n",
      "http://www.yalebulldogs.com/sports/m-squash\n",
      "Site is down!\n",
      "http://www.yalebulldogs.com/sports/m-swim\n",
      "Site is down!\n",
      "http://www.yalebulldogs.com/sports/m-tennis\n",
      "Site is down!\n",
      "http://www.yalebulldogs.com/sports/m-track\n",
      "Site is down!\n",
      "http://www.yalebulldogs.com/sports/w-baskbl\n",
      "Site is down!\n",
      "http://www.yalebulldogs.com/sports/w-crew\n",
      "Site is down!\n",
      "http://www.yalebulldogs.com/sports/w-xc\n",
      "Site is down!\n",
      "http://www.yalebulldogs.com/sports/w-fenc\n",
      "Site is down!\n",
      "http://www.yalebulldogs.com/sports/w-fieldh\n",
      "Site is down!\n",
      "http://www.yalebulldogs.com/sports/w-golf\n",
      "Site is down!\n",
      "http://www.yalebulldogs.com/sports/w-gym\n",
      "Site is down!\n",
      "http://www.yalebulldogs.com/sports/w-hockey\n",
      "Site is down!\n",
      "http://www.yalebulldogs.com/sports/w-lacros\n",
      "Site is down!\n",
      "http://www.yalebulldogs.com/sports/w-sail\n",
      "Site is down!\n",
      "http://www.yalebulldogs.com/sports/w-soccer\n",
      "Site is down!\n",
      "http://www.yalebulldogs.com/sports/w-softbl\n",
      "Site is down!\n",
      "http://www.yalebulldogs.com/sports/w-squash\n",
      "Site is down!\n",
      "http://www.yalebulldogs.com/sports/w-swim\n",
      "Site is down!\n",
      "http://www.yalebulldogs.com/sports/w-tennis\n",
      "Site is down!\n",
      "http://www.yalebulldogs.com/sports/w-track\n",
      "Site is down!\n",
      "http://www.yalebulldogs.com/sports/w-volley\n",
      "Site is down!\n"
     ]
    }
   ],
   "source": [
    "sports['seasons'] = sports.apply(lambda x: getSeasons(x['href'], x['currentRoster']), axis=1)"
   ]
  },
  {
   "cell_type": "code",
   "execution_count": null,
   "metadata": {
    "collapsed": true
   },
   "outputs": [],
   "source": [
    "sports['seasons']"
   ]
  },
  {
   "cell_type": "code",
   "execution_count": 172,
   "metadata": {
    "collapsed": false
   },
   "outputs": [
    {
     "data": {
      "text/html": [
       "<div>\n",
       "<table border=\"1\" class=\"dataframe\">\n",
       "  <thead>\n",
       "    <tr style=\"text-align: right;\">\n",
       "      <th></th>\n",
       "      <th>href</th>\n",
       "      <th>name</th>\n",
       "      <th>gender</th>\n",
       "      <th>currentRoster</th>\n",
       "      <th>seasons</th>\n",
       "    </tr>\n",
       "  </thead>\n",
       "  <tbody>\n",
       "    <tr>\n",
       "      <th>0</th>\n",
       "      <td>http://www.yalebulldogs.com/sports/m-basebl</td>\n",
       "      <td>Baseball</td>\n",
       "      <td>m</td>\n",
       "      <td>2015-16</td>\n",
       "      <td>{u'2016-17': &lt;table cellpadding=\"0\" cellspacin...</td>\n",
       "    </tr>\n",
       "    <tr>\n",
       "      <th>1</th>\n",
       "      <td>http://www.yalebulldogs.com/sports/m-baskbl</td>\n",
       "      <td>Basketball</td>\n",
       "      <td>m</td>\n",
       "      <td>2016-17</td>\n",
       "      <td>{u'2016-17': &lt;table cellpadding=\"0\" cellspacin...</td>\n",
       "    </tr>\n",
       "    <tr>\n",
       "      <th>2</th>\n",
       "      <td>http://www.yalebulldogs.com/sports/m-crewhvy</td>\n",
       "      <td>Crew (Heavyweight)</td>\n",
       "      <td>m</td>\n",
       "      <td>2015-16</td>\n",
       "      <td>{}</td>\n",
       "    </tr>\n",
       "    <tr>\n",
       "      <th>3</th>\n",
       "      <td>http://www.yalebulldogs.com/sports/m-crewlt</td>\n",
       "      <td>Crew (Lightweight)</td>\n",
       "      <td>m</td>\n",
       "      <td>2016-17</td>\n",
       "      <td>{u'2016-17': &lt;table cellpadding=\"0\" cellspacin...</td>\n",
       "    </tr>\n",
       "    <tr>\n",
       "      <th>4</th>\n",
       "      <td>http://www.yalebulldogs.com/sports/m-xc</td>\n",
       "      <td>Cross Country</td>\n",
       "      <td>m</td>\n",
       "      <td>2016-17</td>\n",
       "      <td>{u'2016-17': &lt;table cellpadding=\"0\" cellspacin...</td>\n",
       "    </tr>\n",
       "  </tbody>\n",
       "</table>\n",
       "</div>"
      ],
      "text/plain": [
       "                                           href                name gender  \\\n",
       "0   http://www.yalebulldogs.com/sports/m-basebl            Baseball      m   \n",
       "1   http://www.yalebulldogs.com/sports/m-baskbl          Basketball      m   \n",
       "2  http://www.yalebulldogs.com/sports/m-crewhvy  Crew (Heavyweight)      m   \n",
       "3   http://www.yalebulldogs.com/sports/m-crewlt  Crew (Lightweight)      m   \n",
       "4       http://www.yalebulldogs.com/sports/m-xc       Cross Country      m   \n",
       "\n",
       "  currentRoster                                            seasons  \n",
       "0       2015-16  {u'2016-17': <table cellpadding=\"0\" cellspacin...  \n",
       "1       2016-17  {u'2016-17': <table cellpadding=\"0\" cellspacin...  \n",
       "2       2015-16                                                 {}  \n",
       "3       2016-17  {u'2016-17': <table cellpadding=\"0\" cellspacin...  \n",
       "4       2016-17  {u'2016-17': <table cellpadding=\"0\" cellspacin...  "
      ]
     },
     "execution_count": 172,
     "metadata": {},
     "output_type": "execute_result"
    }
   ],
   "source": [
    "sports.head()"
   ]
  }
 ],
 "metadata": {
  "kernelspec": {
   "display_name": "Python 2",
   "language": "python",
   "name": "python2"
  },
  "language_info": {
   "codemirror_mode": {
    "name": "ipython",
    "version": 2
   },
   "file_extension": ".py",
   "mimetype": "text/x-python",
   "name": "python",
   "nbconvert_exporter": "python",
   "pygments_lexer": "ipython2",
   "version": "2.7.12"
  }
 },
 "nbformat": 4,
 "nbformat_minor": 0
}
