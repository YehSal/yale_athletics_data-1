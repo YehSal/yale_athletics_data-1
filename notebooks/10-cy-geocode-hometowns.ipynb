{
 "cells": [
  {
   "cell_type": "code",
   "execution_count": 1,
   "metadata": {
    "collapsed": true
   },
   "outputs": [],
   "source": [
    "# Assumes Anaconda Distribution\n",
    "\n",
    "# For data manipulation\n",
    "import os\n",
    "import pandas as pd\n",
    "import matplotlib.pyplot as plt\n",
    "import seaborn as sns\n",
    "PROJ_ROOT = os.pardir\n",
    "\n",
    "# For Scraping\n",
    "from bs4 import BeautifulSoup\n",
    "import requests\n",
    "import time\n",
    "\n",
    "# For munging\n",
    "import re\n",
    "import json\n",
    "\n",
    "# Backoff time for large scrapes\n",
    "THROTTLE_TIME = .05\n",
    "\n",
    "# ipython magics\n",
    "%load_ext watermark\n",
    "%matplotlib inline\n",
    "# a nice bonus for making progress bars in ipython\n",
    "from tqdm import tqdm, tqdm_pandas, tqdm_notebook\n",
    "tqdm.pandas()"
   ]
  },
  {
   "cell_type": "code",
   "execution_count": 14,
   "metadata": {
    "collapsed": false
   },
   "outputs": [
    {
     "name": "stdout",
     "output_type": "stream",
     "text": [
      "high_schools_processed.csv\n",
      "player_bios_processed.csv\n",
      "player_bios_processed_wrapped.csv\n",
      "rosters_processed.csv\n"
     ]
    }
   ],
   "source": [
    "!ls \"../data/processed\""
   ]
  },
  {
   "cell_type": "code",
   "execution_count": 36,
   "metadata": {
    "collapsed": false
   },
   "outputs": [],
   "source": [
    "procPath = os.path.join(PROJ_ROOT, 'data', 'processed')\n",
    "interimPath = os.path.join(PROJ_ROOT, 'data', 'interim')\n",
    "df = pd.read_csv(os.path.join(procPath, \"player_bios_processed.csv\"))"
   ]
  },
  {
   "cell_type": "code",
   "execution_count": 25,
   "metadata": {
    "collapsed": false
   },
   "outputs": [
    {
     "data": {
      "text/plain": [
       "Index([u'Student_ID', u'Name', u'City', u'High School', u'Hometown', u'Ht.',\n",
       "       u'No.', u'Position', u'Region', u'Wt.', u'Active Seasons', u'Misc',\n",
       "       u'Bio', u'College'],\n",
       "      dtype='object')"
      ]
     },
     "execution_count": 25,
     "metadata": {},
     "output_type": "execute_result"
    }
   ],
   "source": [
    "df.columns"
   ]
  },
  {
   "cell_type": "code",
   "execution_count": 31,
   "metadata": {
    "collapsed": false
   },
   "outputs": [
    {
     "data": {
      "text/plain": [
       "0                          Bonne Terre, MO / North County\n",
       "1                      Seattle, Wash. / South Kent School\n",
       "2                     Buena Park, Calif. / Vista Murrieta\n",
       "3                   Altamonte Springs, FL / Lake Brantley\n",
       "4       Port Washington, N.Y. / Paul D. Schreiber High...\n",
       "5              Somerset West, South Africa / Panel Vallei\n",
       "6          Eden Prairie, Minn. / Eden Prairie High School\n",
       "7          St. Catharines, Ont., Canada / Governor Simcoe\n",
       "8                                   Cypress, TX / Cy-Fair\n",
       "9                                                   - / -\n",
       "10                       Miramar, Fla. / Somerset Academy\n",
       "11               Barnstable, MA / Phillips Exeter Academy\n",
       "12                 Eagle River, Alaska / Brewster Academy\n",
       "13                            Dover, NH / Phillips Exeter\n",
       "14                          Olney, Md. / Montgomery Blair\n",
       "15                               Richmond, Va. / Deep Run\n",
       "16               Newton, Mass. / Newton North High School\n",
       "17                                   Burke, VA / Robinson\n",
       "18                  Dover, MA / Choate Rosemary Hall (CT)\n",
       "19                                Jericho, N.Y. / Jericho\n",
       "20                   Seattle, Wa. / Roosevelt High School\n",
       "21                        Clarkston, MI / Muskegon (USHL)\n",
       "22                   Toronto, Ont. / Upper Canada College\n",
       "23                         Petaluma, Calif. / Casa Grande\n",
       "24                    Whiteland, IN / Whiteland Community\n",
       "25                                Concord, Mass. / Groton\n",
       "26                                Saratoga, CA / Saratoga\n",
       "27               Auckland, New Zealand / Auckland Grammar\n",
       "28                 Princeton, N.J. / Princeton Day School\n",
       "29                           Longwood, FL / Lake Brantley\n",
       "                              ...                        \n",
       "7244                                         Atlanta, Ga.\n",
       "7245                                       Winnetka, Ill.\n",
       "7246                                   North Haven, Conn.\n",
       "7247                                        Shamong, N.J.\n",
       "7248                                       Houston, Texas\n",
       "7249                                    Minnetonka, Minn.\n",
       "7250                                    San Diego, Calif.\n",
       "7251                                   Mechanicsberg, Pa.\n",
       "7252                                         Plano, Texas\n",
       "7253                                       New City, N.Y.\n",
       "7254                                       Houston, Texas\n",
       "7255                                        Toronto, Ont.\n",
       "7256                                        Kenmore, N.Y.\n",
       "7257                                      Montclair, N.J.\n",
       "7258                                     Lexington, Mass.\n",
       "7259                                         Atlanta, Ga.\n",
       "7260                                         Lilburn, Ga.\n",
       "7261                                        Austin, Texas\n",
       "7262                                       Brooklyn, N.Y.\n",
       "7263                                       El Paso, Texas\n",
       "7264                                        Austin, Texas\n",
       "7265                                        Tenafly, N.J.\n",
       "7266                                  Los Angeles, Calif.\n",
       "7267                                        Lowell, Mich.\n",
       "7268                                       Corona, Calif.\n",
       "7269                                      Las Vegas, Nev.\n",
       "7270                                     Hornchurch, U.K.\n",
       "7271                                       Okotoks, Alta.\n",
       "7272                                      Princeton, N.J.\n",
       "7273                                   Strongsville, Ohio\n",
       "Name: Hometown, dtype: object"
      ]
     },
     "execution_count": 31,
     "metadata": {},
     "output_type": "execute_result"
    }
   ],
   "source": [
    "df['Hometown']"
   ]
  },
  {
   "cell_type": "code",
   "execution_count": 42,
   "metadata": {
    "collapsed": false
   },
   "outputs": [],
   "source": [
    "places = df['Hometown'].apply(lambda x: x.split(\"/\")[0].strip() if type(x )== str else \"\")"
   ]
  },
  {
   "cell_type": "code",
   "execution_count": 43,
   "metadata": {
    "collapsed": false
   },
   "outputs": [
    {
     "data": {
      "text/plain": [
       "(7274L,)"
      ]
     },
     "execution_count": 43,
     "metadata": {},
     "output_type": "execute_result"
    }
   ],
   "source": [
    "places.shape"
   ]
  },
  {
   "cell_type": "code",
   "execution_count": 48,
   "metadata": {
    "collapsed": false
   },
   "outputs": [
    {
     "data": {
      "text/plain": [
       "(3274L,)"
      ]
     },
     "execution_count": 48,
     "metadata": {},
     "output_type": "execute_result"
    }
   ],
   "source": [
    "uplaces.shape"
   ]
  },
  {
   "cell_type": "code",
   "execution_count": 45,
   "metadata": {
    "collapsed": false
   },
   "outputs": [],
   "source": [
    "uplaces = places.unique()"
   ]
  },
  {
   "cell_type": "code",
   "execution_count": 46,
   "metadata": {
    "collapsed": true
   },
   "outputs": [],
   "source": [
    "uOut = os.path.join(interimPath, 'hometowns.csv')"
   ]
  },
  {
   "cell_type": "code",
   "execution_count": 47,
   "metadata": {
    "collapsed": false
   },
   "outputs": [],
   "source": [
    "pd.Series(uplaces).to_csv(uOut)"
   ]
  },
  {
   "cell_type": "code",
   "execution_count": null,
   "metadata": {
    "collapsed": true
   },
   "outputs": [],
   "source": [
    "# use chmod +x first to make script executable, then runsrc/data/geocode\n",
    "# if gnu parallel not available, \n",
    "# currently uses cameron's mapquest API key, get 15k calls per month\n",
    "# csvcut hometowns.csv -c 2  | parallel --progress ./geocode {} > geocodes.csv"
   ]
  },
  {
   "cell_type": "code",
   "execution_count": 54,
   "metadata": {
    "collapsed": false
   },
   "outputs": [
    {
     "name": "stdout",
     "output_type": "stream",
     "text": [
      "harvard_bio_parsed.csv.gz\n",
      "harvard_bios_processed.csv\n",
      "harvard_players.json\n",
      "harvard_rosters.p\n",
      "hometowns.csv\n",
      "players.json\n",
      "rosters.p\n",
      "yale_bio_parsed.csv.gz\n",
      "yale_bios_processed.csv\n"
     ]
    }
   ],
   "source": [
    "!ls ../data/interim"
   ]
  },
  {
   "cell_type": "code",
   "execution_count": 56,
   "metadata": {
    "collapsed": false
   },
   "outputs": [],
   "source": [
    "biosPath = os.path.join(PROJ_ROOT, 'data', 'interim', \"yale_bio_parsed.csv.gz\")"
   ]
  },
  {
   "cell_type": "code",
   "execution_count": 57,
   "metadata": {
    "collapsed": true
   },
   "outputs": [],
   "source": [
    "d2 = pd.read_csv(biosPath, compression='gzip')"
   ]
  },
  {
   "cell_type": "code",
   "execution_count": 66,
   "metadata": {
    "collapsed": false
   },
   "outputs": [
    {
     "data": {
      "text/plain": [
       "'Row(_1=u'"
      ]
     },
     "execution_count": 66,
     "metadata": {},
     "output_type": "execute_result"
    }
   ],
   "source": [
    "d2['synopsis'].iloc[0][:8]"
   ]
  },
  {
   "cell_type": "code",
   "execution_count": 60,
   "metadata": {
    "collapsed": false
   },
   "outputs": [
    {
     "data": {
      "text/plain": [
       "0       Row(_1=u'\\n2009: Made 22 appearances, includin...\n",
       "1       Row(_1=u'\\n2010: Team captain.\\n2009: Made 12 ...\n",
       "2       Row(_1=u'\\n2015-16 (Junior): Three\\xc2\\xa0seat...\n",
       "3       Row(_1=u'\\n2012-13:\\xa0Rowed in stroke-seat of...\n",
       "4       Row(_1=u\"\\n2006 Backup DB who played in all bu...\n",
       "5       Row(_1=u'\\n2008: First-team All-Ivy... Started...\n",
       "6       Row(_1=u'\\n2008: Honorable-mention All-Ivy... ...\n",
       "7       Row(_1=u'\\n2008: Student assistant coach with ...\n",
       "8       Row(_1=u'\\n2008: Earned varsity letter after a...\n",
       "9       Row(_1=u'\\n2007: Two touchdowns at rival Princ...\n",
       "10      Row(_1=u'\\n2008: Started seven of ten game at ...\n",
       "11      Row(_1=u'\\n2006: Recovered from injury and did...\n",
       "12      Row(_1=u'\\n2013: Made 16 appearances with four...\n",
       "13      Row(_1=u'\\n2006: Varsity backup TE who played ...\n",
       "14      Row(_1=u\"\\n2010-11:  Rowed in the bow seat of ...\n",
       "15      Row(_1=u'\\n2008: Played in all 10 games on spe...\n",
       "16      Row(_1=u'\\n2008: Missed season due to injury.\\...\n",
       "17      Row(_1=u\"\\n2008: Started first five games at Q...\n",
       "18      Row(_1=u\"\\n2008: Started all 10 games at WR......\n",
       "19      Row(_1=u'\\n2006:Played in every game on specia...\n",
       "20      Row(_1=u'\\n2008:\\xc2\\xa0Played in six games at...\n",
       "21      Row(_1=u'\\n2008: National Football Foundation ...\n",
       "22      Row(_1=u'\\n2008:\\xc2\\xa0Played in eight games ...\n",
       "23      Row(_1=u\"\\n2006 Missed season with injury.\\n\\n...\n",
       "24      Row(_1=u\"\\nBefore Yale: Finished his senior se...\n",
       "25      Row(_1=u\"\\n2009: Appeared in 29 games, includi...\n",
       "26      Row(_1=u'\\n2008:\\xc2\\xa0Started eight games at...\n",
       "27      Row(_1=u\"\\n2008: Played in all ten games at OG...\n",
       "28      Row(_1=u'\\n2006 Started every game at defensiv...\n",
       "29      Row(_1=u\"\\n2008: Played in all 10 games at LB....\n",
       "                              ...                        \n",
       "8588    Row(_1=u\"\\n2008: Academic All-Ivy and CoSIDA A...\n",
       "8589    Row(_1=u'\\n2006: Played JV.  2005: Played JV. ...\n",
       "8590    Row(_1=u'\\n2013: Made 16 appearances with 15 s...\n",
       "8591    Row(_1=u\"\\n2006: Missed season due to injury. ...\n",
       "8592    Row(_1=u'\\n2008: Appeared in four games as res...\n",
       "8593    Row(_1=u\"\\n2006: Honorable mention All-Ivy... ...\n",
       "8594    Row(_1=u'\\n2008:\\xa0Played on JV team.2007: Pl...\n",
       "8595    Row(_1=u\"\\n2005: Earned second varsity letter....\n",
       "8596    Row(_1=u\"\\n2012-13:\\xa0Rowed in 4 seat of the ...\n",
       "8597    Row(_1=u\"\\nNote: Injured in 2007 spring and wi...\n",
       "8598    Row(_1=u\"\\n2005: Earned second varsity letter....\n",
       "8599    Row(_1=u'\\n2005: Earned second varsity letter....\n",
       "8600    Row(_1=u'\\n2008: Played on JV team.  2007: Pla...\n",
       "8601    Row(_1=u\"\\n2008:Yale Football Captain...Buck B...\n",
       "8602    Row(_1=u\"\\n2013: Selected by the Los Angeles D...\n",
       "8603    Row(_1=u'\\n2008: Second-team All-Ivy... Second...\n",
       "8604    Row(_1=u'\\n2008: Appeared in one game as defen...\n",
       "8605    Row(_1=u\"\\n2008:\\xc2\\xa0Earned first varsity l...\n",
       "8606    Row(_1=u'\\n2008:\\xc2\\xa0Earned first varsity l...\n",
       "8607    Row(_1=u'\\nBefore Yale: Four-year starting sec...\n",
       "8608    Row(_1=u\"\\n2008: Backed up All-Ivy punter/kick...\n",
       "8609    Row(_1=u'\\n2008: Played on JV team.\\n2007: Pla...\n",
       "8610    Row(_1=u'\\n2008:\\xa0\\xa0Appeared in all 10 gam...\n",
       "8611    Row(_1=u\"\\n2008: Played on JV team.\\n\\n2007: P...\n",
       "8612    Row(_1=u\"\\n2008:\\xc2\\xa0Played on JV team.\\n20...\n",
       "8613    Row(_1=u'\\n2008: Earned second varsity letter....\n",
       "8614    Row(_1=u'\\n2009: Did not play due to injury.\\n...\n",
       "8615    Row(_1=u'\\n2013: One of Yale\\u2019s four prima...\n",
       "8616    Row(_1=u\"\\n2008:\\xc2\\xa0Starting punt and kick...\n",
       "8617    Row(_1=u\"\\n2008: Will serve as student assista...\n",
       "Name: synopsis, dtype: object"
      ]
     },
     "execution_count": 60,
     "metadata": {},
     "output_type": "execute_result"
    }
   ],
   "source": [
    "d2['synopsis']"
   ]
  }
 ],
 "metadata": {
  "anaconda-cloud": {},
  "kernelspec": {
   "display_name": "Python [conda root]",
   "language": "python",
   "name": "conda-root-py"
  },
  "language_info": {
   "codemirror_mode": {
    "name": "ipython",
    "version": 2
   },
   "file_extension": ".py",
   "mimetype": "text/x-python",
   "name": "python",
   "nbconvert_exporter": "python",
   "pygments_lexer": "ipython2",
   "version": "2.7.12"
  }
 },
 "nbformat": 4,
 "nbformat_minor": 1
}
