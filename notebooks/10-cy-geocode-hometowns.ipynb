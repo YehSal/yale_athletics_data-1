{
 "cells": [
  {
   "cell_type": "code",
   "execution_count": 1,
   "metadata": {
    "collapsed": true
   },
   "outputs": [],
   "source": [
    "# Assumes Anaconda Distribution\n",
    "\n",
    "# For data manipulation\n",
    "import os\n",
    "import pandas as pd\n",
    "import matplotlib.pyplot as plt\n",
    "import seaborn as sns\n",
    "PROJ_ROOT = os.pardir\n",
    "\n",
    "# For Scraping\n",
    "from bs4 import BeautifulSoup\n",
    "import requests\n",
    "import time\n",
    "\n",
    "# For munging\n",
    "import re\n",
    "import json\n",
    "\n",
    "# Backoff time for large scrapes\n",
    "THROTTLE_TIME = .05\n",
    "\n",
    "# ipython magics\n",
    "%load_ext watermark\n",
    "%matplotlib inline\n",
    "# a nice bonus for making progress bars in ipython\n",
    "from tqdm import tqdm, tqdm_pandas, tqdm_notebook\n",
    "tqdm.pandas()"
   ]
  },
  {
   "cell_type": "code",
   "execution_count": 14,
   "metadata": {
    "collapsed": false
   },
   "outputs": [
    {
     "name": "stdout",
     "output_type": "stream",
     "text": [
      "high_schools_processed.csv\n",
      "player_bios_processed.csv\n",
      "player_bios_processed_wrapped.csv\n",
      "rosters_processed.csv\n"
     ]
    }
   ],
   "source": [
    "!ls \"../data/processed\""
   ]
  },
  {
   "cell_type": "code",
   "execution_count": 36,
   "metadata": {
    "collapsed": false
   },
   "outputs": [],
   "source": [
    "procPath = os.path.join(PROJ_ROOT, 'data', 'processed')\n",
    "interimPath = os.path.join(PROJ_ROOT, 'data', 'interim')\n",
    "df = pd.read_csv(os.path.join(procPath, \"player_bios_processed.csv\"))"
   ]
  },
  {
   "cell_type": "code",
   "execution_count": 25,
   "metadata": {
    "collapsed": false
   },
   "outputs": [
    {
     "data": {
      "text/plain": [
       "Index([u'Student_ID', u'Name', u'City', u'High School', u'Hometown', u'Ht.',\n",
       "       u'No.', u'Position', u'Region', u'Wt.', u'Active Seasons', u'Misc',\n",
       "       u'Bio', u'College'],\n",
       "      dtype='object')"
      ]
     },
     "execution_count": 25,
     "metadata": {},
     "output_type": "execute_result"
    }
   ],
   "source": [
    "df.columns"
   ]
  },
  {
   "cell_type": "code",
   "execution_count": 31,
   "metadata": {
    "collapsed": false
   },
   "outputs": [
    {
     "data": {
      "text/plain": [
       "0                          Bonne Terre, MO / North County\n",
       "1                      Seattle, Wash. / South Kent School\n",
       "2                     Buena Park, Calif. / Vista Murrieta\n",
       "3                   Altamonte Springs, FL / Lake Brantley\n",
       "4       Port Washington, N.Y. / Paul D. Schreiber High...\n",
       "5              Somerset West, South Africa / Panel Vallei\n",
       "6          Eden Prairie, Minn. / Eden Prairie High School\n",
       "7          St. Catharines, Ont., Canada / Governor Simcoe\n",
       "8                                   Cypress, TX / Cy-Fair\n",
       "9                                                   - / -\n",
       "10                       Miramar, Fla. / Somerset Academy\n",
       "11               Barnstable, MA / Phillips Exeter Academy\n",
       "12                 Eagle River, Alaska / Brewster Academy\n",
       "13                            Dover, NH / Phillips Exeter\n",
       "14                          Olney, Md. / Montgomery Blair\n",
       "15                               Richmond, Va. / Deep Run\n",
       "16               Newton, Mass. / Newton North High School\n",
       "17                                   Burke, VA / Robinson\n",
       "18                  Dover, MA / Choate Rosemary Hall (CT)\n",
       "19                                Jericho, N.Y. / Jericho\n",
       "20                   Seattle, Wa. / Roosevelt High School\n",
       "21                        Clarkston, MI / Muskegon (USHL)\n",
       "22                   Toronto, Ont. / Upper Canada College\n",
       "23                         Petaluma, Calif. / Casa Grande\n",
       "24                    Whiteland, IN / Whiteland Community\n",
       "25                                Concord, Mass. / Groton\n",
       "26                                Saratoga, CA / Saratoga\n",
       "27               Auckland, New Zealand / Auckland Grammar\n",
       "28                 Princeton, N.J. / Princeton Day School\n",
       "29                           Longwood, FL / Lake Brantley\n",
       "                              ...                        \n",
       "7244                                         Atlanta, Ga.\n",
       "7245                                       Winnetka, Ill.\n",
       "7246                                   North Haven, Conn.\n",
       "7247                                        Shamong, N.J.\n",
       "7248                                       Houston, Texas\n",
       "7249                                    Minnetonka, Minn.\n",
       "7250                                    San Diego, Calif.\n",
       "7251                                   Mechanicsberg, Pa.\n",
       "7252                                         Plano, Texas\n",
       "7253                                       New City, N.Y.\n",
       "7254                                       Houston, Texas\n",
       "7255                                        Toronto, Ont.\n",
       "7256                                        Kenmore, N.Y.\n",
       "7257                                      Montclair, N.J.\n",
       "7258                                     Lexington, Mass.\n",
       "7259                                         Atlanta, Ga.\n",
       "7260                                         Lilburn, Ga.\n",
       "7261                                        Austin, Texas\n",
       "7262                                       Brooklyn, N.Y.\n",
       "7263                                       El Paso, Texas\n",
       "7264                                        Austin, Texas\n",
       "7265                                        Tenafly, N.J.\n",
       "7266                                  Los Angeles, Calif.\n",
       "7267                                        Lowell, Mich.\n",
       "7268                                       Corona, Calif.\n",
       "7269                                      Las Vegas, Nev.\n",
       "7270                                     Hornchurch, U.K.\n",
       "7271                                       Okotoks, Alta.\n",
       "7272                                      Princeton, N.J.\n",
       "7273                                   Strongsville, Ohio\n",
       "Name: Hometown, dtype: object"
      ]
     },
     "execution_count": 31,
     "metadata": {},
     "output_type": "execute_result"
    }
   ],
   "source": [
    "df['Hometown']"
   ]
  },
  {
   "cell_type": "code",
   "execution_count": 42,
   "metadata": {
    "collapsed": false
   },
   "outputs": [],
   "source": [
    "places = df['Hometown'].apply(lambda x: x.split(\"/\")[0].strip() if type(x )== str else \"\")"
   ]
  },
  {
   "cell_type": "code",
   "execution_count": 43,
   "metadata": {
    "collapsed": false
   },
   "outputs": [
    {
     "data": {
      "text/plain": [
       "(7274L,)"
      ]
     },
     "execution_count": 43,
     "metadata": {},
     "output_type": "execute_result"
    }
   ],
   "source": [
    "places.shape"
   ]
  },
  {
   "cell_type": "code",
   "execution_count": 48,
   "metadata": {
    "collapsed": false
   },
   "outputs": [
    {
     "data": {
      "text/plain": [
       "(3274L,)"
      ]
     },
     "execution_count": 48,
     "metadata": {},
     "output_type": "execute_result"
    }
   ],
   "source": [
    "uplaces.shape"
   ]
  },
  {
   "cell_type": "code",
   "execution_count": 45,
   "metadata": {
    "collapsed": false
   },
   "outputs": [],
   "source": [
    "uplaces = places.unique()"
   ]
  },
  {
   "cell_type": "code",
   "execution_count": 46,
   "metadata": {
    "collapsed": true
   },
   "outputs": [],
   "source": [
    "uOut = os.path.join(interimPath, 'hometowns.csv')"
   ]
  },
  {
   "cell_type": "code",
   "execution_count": 47,
   "metadata": {
    "collapsed": false
   },
   "outputs": [],
   "source": [
    "pd.Series(uplaces).to_csv(uOut)"
   ]
  },
  {
   "cell_type": "code",
   "execution_count": null,
   "metadata": {
    "collapsed": true
   },
   "outputs": [],
   "source": [
    "# use chmod +x first to make script executable, then runsrc/data/geocode\n",
    "# if gnu parallel not available, \n",
    "# currently uses cameron's mapquest API key, get 15k calls per month\n",
    "# csvcut hometowns.csv -c 2  | parallel --progress ./geocode {} > geocodes.csv"
   ]
  }
 ],
 "metadata": {
  "anaconda-cloud": {},
  "kernelspec": {
   "display_name": "Python [conda root]",
   "language": "python",
   "name": "conda-root-py"
  },
  "language_info": {
   "codemirror_mode": {
    "name": "ipython",
    "version": 2
   },
   "file_extension": ".py",
   "mimetype": "text/x-python",
   "name": "python",
   "nbconvert_exporter": "python",
   "pygments_lexer": "ipython2",
   "version": "2.7.12"
  }
 },
 "nbformat": 4,
 "nbformat_minor": 1
}
