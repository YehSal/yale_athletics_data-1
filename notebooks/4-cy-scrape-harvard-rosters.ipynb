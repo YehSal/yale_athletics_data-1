{
 "cells": [
  {
   "cell_type": "markdown",
   "metadata": {},
   "source": [
    "### Configuration Variables"
   ]
  },
  {
   "cell_type": "code",
   "execution_count": 143,
   "metadata": {
    "collapsed": true
   },
   "outputs": [],
   "source": [
    "currentSeason = \"2016-17\"   # The current academic year. Can replace with python datettime"
   ]
  },
  {
   "cell_type": "markdown",
   "metadata": {},
   "source": [
    "## Scrape Harvard Bio Data"
   ]
  },
  {
   "cell_type": "code",
   "execution_count": 4,
   "metadata": {
    "collapsed": false
   },
   "outputs": [],
   "source": [
    "# Assumes Anaconda Distribution\n",
    "\n",
    "# For data manipulation\n",
    "import os\n",
    "import pandas as pd\n",
    "import matplotlib.pyplot as plt\n",
    "import seaborn as sns\n",
    "PROJ_ROOT = os.pardir\n",
    "\n",
    "# For Scraping\n",
    "from bs4 import BeautifulSoup\n",
    "import requests\n",
    "import time\n",
    "\n",
    "# For munging\n",
    "import re\n",
    "import json\n",
    "\n",
    "# Backoff time for large scrapes\n",
    "THROTTLE_TIME = .05\n",
    "\n",
    "# ipython magics\n",
    "%load_ext watermark\n",
    "%matplotlib inline\n",
    "# a nice bonus for making progress bars in ipython\n",
    "from tqdm import tqdm, tqdm_pandas, tqdm_notebook\n",
    "tqdm.pandas()"
   ]
  },
  {
   "cell_type": "code",
   "execution_count": 5,
   "metadata": {
    "collapsed": false
   },
   "outputs": [
    {
     "name": "stdout",
     "output_type": "stream",
     "text": [
      "Cameron Yick 2016-11-22 16:13:23 \n",
      "\n",
      "CPython 2.7.12\n",
      "IPython 5.1.0\n",
      "\n",
      "pandas 0.18.1\n",
      "seaborn 0.7.1\n",
      "matplotlib 1.5.3\n",
      "bs4 4.5.1\n",
      "Git hash: 4292a278244738cdafcf5b2665e214ac4d78b216\n"
     ]
    }
   ],
   "source": [
    "%watermark -a \"Cameron Yick\" -d -t -v -p pandas,seaborn,matplotlib,bs4 -g"
   ]
  },
  {
   "cell_type": "code",
   "execution_count": 8,
   "metadata": {
    "collapsed": false
   },
   "outputs": [],
   "source": [
    "root_url = \"http://www.gocrimson.com\""
   ]
  },
  {
   "cell_type": "code",
   "execution_count": 30,
   "metadata": {
    "collapsed": true
   },
   "outputs": [],
   "source": [
    "# site root is not the same things as the home landing page \n",
    "homepage_url = \"http://www.gocrimson.com/landing/index\""
   ]
  },
  {
   "cell_type": "code",
   "execution_count": 9,
   "metadata": {
    "collapsed": true
   },
   "outputs": [],
   "source": [
    "# Core functions related to data scraping\n",
    "# Kept here for readability, eventually move to 'src' folder\n",
    "\n",
    "def getBodySoup(link):\n",
    "    'Given URL Returns BS4 Object for link, feat. HTML body'\n",
    "#     print(\".\"),\n",
    "    time.sleep(THROTTLE_TIME)\n",
    "    site_url = link\n",
    "    result = requests.get(site_url)\n",
    "    if result.status_code is 200:\n",
    "        return BeautifulSoup(result.content, 'lxml').find('body')\n",
    "    else:\n",
    "        print \"Site is down!\"\n",
    "        return None"
   ]
  },
  {
   "cell_type": "code",
   "execution_count": 65,
   "metadata": {
    "collapsed": false
   },
   "outputs": [],
   "source": [
    "# Get list of all harvard sports (different layout from yale)\n",
    "def getSportLinks(soup):\n",
    "    \n",
    "    # Submenus for sports: 0 men, 1 women\n",
    "    gender_menus = soup.select(\"#submenu1\")[0]\\\n",
    "                .find(\"ul\", class_=\"clearfix\")\\\n",
    "                .find_all(\"li\", recursive=False)\n",
    "            \n",
    "    sports = []\n",
    "    for gender in gender_menus:\n",
    "        sportrows = gender.find_all('a', {'data-title': \"Roster\"})\n",
    "        for s in sportrows:\n",
    "            sports.append(s['href'])\n",
    "            \n",
    "    # Select all the roster urls\n",
    "    return sports\n",
    "            "
   ]
  },
  {
   "cell_type": "markdown",
   "metadata": {},
   "source": [
    "## Get Each Sports Page from Homepage"
   ]
  },
  {
   "cell_type": "code",
   "execution_count": 66,
   "metadata": {
    "collapsed": false
   },
   "outputs": [],
   "source": [
    "# Verify that we get all the sports\n",
    "homeSoup = getBodySoup(homepage_url)\n"
   ]
  },
  {
   "cell_type": "code",
   "execution_count": 69,
   "metadata": {
    "collapsed": false
   },
   "outputs": [],
   "source": [
    "sports = getSportLinks(homeSoup)"
   ]
  },
  {
   "cell_type": "code",
   "execution_count": 61,
   "metadata": {
    "collapsed": false
   },
   "outputs": [],
   "source": [
    "# Every other sport has male and female versions\n"
   ]
  },
  {
   "cell_type": "code",
   "execution_count": 60,
   "metadata": {
    "collapsed": true
   },
   "outputs": [],
   "source": [
    "# upon inspection- there are several multi-gender sports\n",
    "# There are an equal number of sports offered to men and women, unlike at Yale\n",
    "\n",
    "# (xc) (male and female listings)\n",
    "# (sailing) (male and female listings)\n",
    "# (track) (male and female listings)\n",
    "# (skiing) ski team (does not separate by gender)\n",
    "\n",
    "# There are also several gender exclusive sports\n",
    "# bsb (baseball) for men, softball for women\n",
    "# wrestling for men, field hockey for women\n",
    "# football for men, rugby for women\n",
    "\n",
    "# The rosters that list both genders will need to be processed slightly differently."
   ]
  },
  {
   "cell_type": "code",
   "execution_count": 70,
   "metadata": {
    "collapsed": false
   },
   "outputs": [
    {
     "name": "stdout",
     "output_type": "stream",
     "text": [
      "['/sports/bsb/2016-17/roster', '/sports/mbkb/2016-17/roster', '/sports/mcrew-hw/2016-17/roster', '/sports/mcrew-lw/2016-17/roster', '/sports/xc/2016-17/roster', '/sports/mfencing/2016-17/roster', '/sports/fball/2016-17/roster', '/sports/mgolf/2016-17/roster', '/sports/mice/2016-17/roster', '/sports/mlax/2016-17/roster', '/sports/sailing/2016-17/roster', '/sports/skiing/2016-17/roster', '/sports/msoc/2016-17/roster', '/sports/msquash/2016-17/roster', '/sports/mswimdive/2016-17/roster', '/sports/mten/2016-17/roster', '/sports/track/2016-17/roster-include', '/sports/mvball/2016-17/roster', '/sports/mwaterpolo/2016-17/roster', '/sports/wrest/2016-17/roster', '/sports/wbkb/2016-17/roster', '/sports/wcrew-hw/2016-17/roster', '/sports/wcrew-lw/2016-17/roster', '/sports/xc/2016-17/roster', '/sports/wfencing/2016-17/roster', '/sports/fh/2016-17/roster', '/sports/wgolf/2016-17/roster', '/sports/wice/2016-17/roster', '/sports/wlax/2016-17/roster', '/sports/wrugby/2016-17/roster', '/sports/sailing/2016-17/roster', '/sports/skiing/2016-17/roster', '/sports/wsoc/2016-17/roster', '/sports/sball/2016-17/roster', '/sports/wsquash/2016-17/roster', '/sports/wswimdive/2016-17/roster', '/sports/wten/2016-17/roster', '/sports/track/2016-17/roster-include', '/sports/wvball/2016-17/roster', '/sports/wwaterpolo/2016-17/roster']\n"
     ]
    }
   ],
   "source": [
    "print sports"
   ]
  },
  {
   "cell_type": "code",
   "execution_count": 74,
   "metadata": {
    "collapsed": true
   },
   "outputs": [],
   "source": [
    "# Let's make a proper data structure\n",
    "df = pd.DataFrame(sports)\n",
    "df.columns = ['href']"
   ]
  },
  {
   "cell_type": "code",
   "execution_count": 75,
   "metadata": {
    "collapsed": false
   },
   "outputs": [
    {
     "data": {
      "text/html": [
       "<div>\n",
       "<table border=\"1\" class=\"dataframe\">\n",
       "  <thead>\n",
       "    <tr style=\"text-align: right;\">\n",
       "      <th></th>\n",
       "      <th>href</th>\n",
       "    </tr>\n",
       "  </thead>\n",
       "  <tbody>\n",
       "    <tr>\n",
       "      <th>0</th>\n",
       "      <td>/sports/bsb/2016-17/roster</td>\n",
       "    </tr>\n",
       "    <tr>\n",
       "      <th>1</th>\n",
       "      <td>/sports/mbkb/2016-17/roster</td>\n",
       "    </tr>\n",
       "    <tr>\n",
       "      <th>2</th>\n",
       "      <td>/sports/mcrew-hw/2016-17/roster</td>\n",
       "    </tr>\n",
       "    <tr>\n",
       "      <th>3</th>\n",
       "      <td>/sports/mcrew-lw/2016-17/roster</td>\n",
       "    </tr>\n",
       "    <tr>\n",
       "      <th>4</th>\n",
       "      <td>/sports/xc/2016-17/roster</td>\n",
       "    </tr>\n",
       "  </tbody>\n",
       "</table>\n",
       "</div>"
      ],
      "text/plain": [
       "                              href\n",
       "0       /sports/bsb/2016-17/roster\n",
       "1      /sports/mbkb/2016-17/roster\n",
       "2  /sports/mcrew-hw/2016-17/roster\n",
       "3  /sports/mcrew-lw/2016-17/roster\n",
       "4        /sports/xc/2016-17/roster"
      ]
     },
     "execution_count": 75,
     "metadata": {},
     "output_type": "execute_result"
    }
   ],
   "source": [
    "df.head()"
   ]
  },
  {
   "cell_type": "code",
   "execution_count": 94,
   "metadata": {
    "collapsed": false
   },
   "outputs": [],
   "source": [
    "# pull the index term off the homepage\n",
    "getSportCode = re.compile('sports/([a-z\\-]*)/')\n",
    "df['sportCode'] = df['href'].apply(lambda x: getSportCode.search(x).group(1))"
   ]
  },
  {
   "cell_type": "code",
   "execution_count": 96,
   "metadata": {
    "collapsed": false
   },
   "outputs": [
    {
     "data": {
      "text/html": [
       "<div>\n",
       "<table border=\"1\" class=\"dataframe\">\n",
       "  <thead>\n",
       "    <tr style=\"text-align: right;\">\n",
       "      <th></th>\n",
       "      <th>href</th>\n",
       "      <th>sportCode</th>\n",
       "    </tr>\n",
       "  </thead>\n",
       "  <tbody>\n",
       "    <tr>\n",
       "      <th>0</th>\n",
       "      <td>/sports/bsb/2016-17/roster</td>\n",
       "      <td>bsb</td>\n",
       "    </tr>\n",
       "    <tr>\n",
       "      <th>1</th>\n",
       "      <td>/sports/mbkb/2016-17/roster</td>\n",
       "      <td>mbkb</td>\n",
       "    </tr>\n",
       "    <tr>\n",
       "      <th>2</th>\n",
       "      <td>/sports/mcrew-hw/2016-17/roster</td>\n",
       "      <td>mcrew-hw</td>\n",
       "    </tr>\n",
       "    <tr>\n",
       "      <th>3</th>\n",
       "      <td>/sports/mcrew-lw/2016-17/roster</td>\n",
       "      <td>mcrew-lw</td>\n",
       "    </tr>\n",
       "    <tr>\n",
       "      <th>4</th>\n",
       "      <td>/sports/xc/2016-17/roster</td>\n",
       "      <td>xc</td>\n",
       "    </tr>\n",
       "    <tr>\n",
       "      <th>5</th>\n",
       "      <td>/sports/mfencing/2016-17/roster</td>\n",
       "      <td>mfencing</td>\n",
       "    </tr>\n",
       "    <tr>\n",
       "      <th>6</th>\n",
       "      <td>/sports/fball/2016-17/roster</td>\n",
       "      <td>fball</td>\n",
       "    </tr>\n",
       "    <tr>\n",
       "      <th>7</th>\n",
       "      <td>/sports/mgolf/2016-17/roster</td>\n",
       "      <td>mgolf</td>\n",
       "    </tr>\n",
       "    <tr>\n",
       "      <th>8</th>\n",
       "      <td>/sports/mice/2016-17/roster</td>\n",
       "      <td>mice</td>\n",
       "    </tr>\n",
       "    <tr>\n",
       "      <th>9</th>\n",
       "      <td>/sports/mlax/2016-17/roster</td>\n",
       "      <td>mlax</td>\n",
       "    </tr>\n",
       "    <tr>\n",
       "      <th>10</th>\n",
       "      <td>/sports/sailing/2016-17/roster</td>\n",
       "      <td>sailing</td>\n",
       "    </tr>\n",
       "    <tr>\n",
       "      <th>11</th>\n",
       "      <td>/sports/skiing/2016-17/roster</td>\n",
       "      <td>skiing</td>\n",
       "    </tr>\n",
       "    <tr>\n",
       "      <th>12</th>\n",
       "      <td>/sports/msoc/2016-17/roster</td>\n",
       "      <td>msoc</td>\n",
       "    </tr>\n",
       "    <tr>\n",
       "      <th>13</th>\n",
       "      <td>/sports/msquash/2016-17/roster</td>\n",
       "      <td>msquash</td>\n",
       "    </tr>\n",
       "    <tr>\n",
       "      <th>14</th>\n",
       "      <td>/sports/mswimdive/2016-17/roster</td>\n",
       "      <td>mswimdive</td>\n",
       "    </tr>\n",
       "    <tr>\n",
       "      <th>15</th>\n",
       "      <td>/sports/mten/2016-17/roster</td>\n",
       "      <td>mten</td>\n",
       "    </tr>\n",
       "    <tr>\n",
       "      <th>16</th>\n",
       "      <td>/sports/track/2016-17/roster-include</td>\n",
       "      <td>track</td>\n",
       "    </tr>\n",
       "    <tr>\n",
       "      <th>17</th>\n",
       "      <td>/sports/mvball/2016-17/roster</td>\n",
       "      <td>mvball</td>\n",
       "    </tr>\n",
       "    <tr>\n",
       "      <th>18</th>\n",
       "      <td>/sports/mwaterpolo/2016-17/roster</td>\n",
       "      <td>mwaterpolo</td>\n",
       "    </tr>\n",
       "    <tr>\n",
       "      <th>19</th>\n",
       "      <td>/sports/wrest/2016-17/roster</td>\n",
       "      <td>wrest</td>\n",
       "    </tr>\n",
       "  </tbody>\n",
       "</table>\n",
       "</div>"
      ],
      "text/plain": [
       "                                    href   sportCode\n",
       "0             /sports/bsb/2016-17/roster         bsb\n",
       "1            /sports/mbkb/2016-17/roster        mbkb\n",
       "2        /sports/mcrew-hw/2016-17/roster    mcrew-hw\n",
       "3        /sports/mcrew-lw/2016-17/roster    mcrew-lw\n",
       "4              /sports/xc/2016-17/roster          xc\n",
       "5        /sports/mfencing/2016-17/roster    mfencing\n",
       "6           /sports/fball/2016-17/roster       fball\n",
       "7           /sports/mgolf/2016-17/roster       mgolf\n",
       "8            /sports/mice/2016-17/roster        mice\n",
       "9            /sports/mlax/2016-17/roster        mlax\n",
       "10        /sports/sailing/2016-17/roster     sailing\n",
       "11         /sports/skiing/2016-17/roster      skiing\n",
       "12           /sports/msoc/2016-17/roster        msoc\n",
       "13        /sports/msquash/2016-17/roster     msquash\n",
       "14      /sports/mswimdive/2016-17/roster   mswimdive\n",
       "15           /sports/mten/2016-17/roster        mten\n",
       "16  /sports/track/2016-17/roster-include       track\n",
       "17         /sports/mvball/2016-17/roster      mvball\n",
       "18     /sports/mwaterpolo/2016-17/roster  mwaterpolo\n",
       "19          /sports/wrest/2016-17/roster       wrest"
      ]
     },
     "execution_count": 96,
     "metadata": {},
     "output_type": "execute_result"
    }
   ],
   "source": [
    "df.head(20)"
   ]
  },
  {
   "cell_type": "code",
   "execution_count": 98,
   "metadata": {
    "collapsed": false
   },
   "outputs": [
    {
     "data": {
      "text/html": [
       "<div>\n",
       "<table border=\"1\" class=\"dataframe\">\n",
       "  <thead>\n",
       "    <tr style=\"text-align: right;\">\n",
       "      <th></th>\n",
       "      <th>href</th>\n",
       "      <th>sportCode</th>\n",
       "    </tr>\n",
       "  </thead>\n",
       "  <tbody>\n",
       "    <tr>\n",
       "      <th>23</th>\n",
       "      <td>/sports/xc/2016-17/roster</td>\n",
       "      <td>xc</td>\n",
       "    </tr>\n",
       "    <tr>\n",
       "      <th>30</th>\n",
       "      <td>/sports/sailing/2016-17/roster</td>\n",
       "      <td>sailing</td>\n",
       "    </tr>\n",
       "    <tr>\n",
       "      <th>31</th>\n",
       "      <td>/sports/skiing/2016-17/roster</td>\n",
       "      <td>skiing</td>\n",
       "    </tr>\n",
       "    <tr>\n",
       "      <th>37</th>\n",
       "      <td>/sports/track/2016-17/roster-include</td>\n",
       "      <td>track</td>\n",
       "    </tr>\n",
       "  </tbody>\n",
       "</table>\n",
       "</div>"
      ],
      "text/plain": [
       "                                    href sportCode\n",
       "23             /sports/xc/2016-17/roster        xc\n",
       "30        /sports/sailing/2016-17/roster   sailing\n",
       "31         /sports/skiing/2016-17/roster    skiing\n",
       "37  /sports/track/2016-17/roster-include     track"
      ]
     },
     "execution_count": 98,
     "metadata": {},
     "output_type": "execute_result"
    }
   ],
   "source": [
    "# Confirm there are 4 sports with 2 genders\n",
    "bothGenders = df[df['href'].duplicated()]\n",
    "bothGenders"
   ]
  },
  {
   "cell_type": "code",
   "execution_count": 99,
   "metadata": {
    "collapsed": false
   },
   "outputs": [],
   "source": [
    "cleaned = df[df['href'].duplicated() == False]"
   ]
  },
  {
   "cell_type": "code",
   "execution_count": 100,
   "metadata": {
    "collapsed": false
   },
   "outputs": [
    {
     "name": "stdout",
     "output_type": "stream",
     "text": [
      "<class 'pandas.core.frame.DataFrame'>\n",
      "Int64Index: 36 entries, 0 to 39\n",
      "Data columns (total 2 columns):\n",
      "href         36 non-null object\n",
      "sportCode    36 non-null object\n",
      "dtypes: object(2)\n",
      "memory usage: 864.0+ bytes\n"
     ]
    }
   ],
   "source": [
    "# visit 36 pages for years of rosters!\n",
    "cleaned.info()"
   ]
  },
  {
   "cell_type": "code",
   "execution_count": 101,
   "metadata": {
    "collapsed": false
   },
   "outputs": [
    {
     "data": {
      "text/html": [
       "<div>\n",
       "<table border=\"1\" class=\"dataframe\">\n",
       "  <thead>\n",
       "    <tr style=\"text-align: right;\">\n",
       "      <th></th>\n",
       "      <th>href</th>\n",
       "      <th>sportCode</th>\n",
       "    </tr>\n",
       "  </thead>\n",
       "  <tbody>\n",
       "    <tr>\n",
       "      <th>0</th>\n",
       "      <td>/sports/bsb/2016-17/roster</td>\n",
       "      <td>bsb</td>\n",
       "    </tr>\n",
       "    <tr>\n",
       "      <th>1</th>\n",
       "      <td>/sports/mbkb/2016-17/roster</td>\n",
       "      <td>mbkb</td>\n",
       "    </tr>\n",
       "    <tr>\n",
       "      <th>2</th>\n",
       "      <td>/sports/mcrew-hw/2016-17/roster</td>\n",
       "      <td>mcrew-hw</td>\n",
       "    </tr>\n",
       "    <tr>\n",
       "      <th>3</th>\n",
       "      <td>/sports/mcrew-lw/2016-17/roster</td>\n",
       "      <td>mcrew-lw</td>\n",
       "    </tr>\n",
       "    <tr>\n",
       "      <th>4</th>\n",
       "      <td>/sports/xc/2016-17/roster</td>\n",
       "      <td>xc</td>\n",
       "    </tr>\n",
       "  </tbody>\n",
       "</table>\n",
       "</div>"
      ],
      "text/plain": [
       "                              href sportCode\n",
       "0       /sports/bsb/2016-17/roster       bsb\n",
       "1      /sports/mbkb/2016-17/roster      mbkb\n",
       "2  /sports/mcrew-hw/2016-17/roster  mcrew-hw\n",
       "3  /sports/mcrew-lw/2016-17/roster  mcrew-lw\n",
       "4        /sports/xc/2016-17/roster        xc"
      ]
     },
     "execution_count": 101,
     "metadata": {},
     "output_type": "execute_result"
    }
   ],
   "source": [
    "df.head()\n"
   ]
  },
  {
   "cell_type": "markdown",
   "metadata": {},
   "source": [
    "The gender extraction code from the yale scrape doesn't hold due to the ski team issues noticed above, recommend deciding whether gender is a useful thing to keep track of at the sport or player lavel.\n"
   ]
  },
  {
   "cell_type": "code",
   "execution_count": 139,
   "metadata": {
    "collapsed": true
   },
   "outputs": [],
   "source": [
    "# Extract the genders for each sport: m / f / coed\n",
    "# getGender = re.compile(\"\\/sports\\/([mcw])-\")\n",
    "# def getSportGender(url):\n",
    "#     return getGender.search(url).group(1)"
   ]
  },
  {
   "cell_type": "code",
   "execution_count": 140,
   "metadata": {
    "collapsed": true
   },
   "outputs": [],
   "source": [
    "# sports['gender'] = sports['href'].map(getSportGender)"
   ]
  },
  {
   "cell_type": "code",
   "execution_count": null,
   "metadata": {
    "collapsed": false
   },
   "outputs": [],
   "source": [
    "# Sanity check on # of genders per sport- . Only 1 coed sport shares a webpage\n",
    "# One could give the other coed sports (Swim, track, basketball) coed designation, although\n",
    "# having both genders on 1 team is unique to sailing.\n",
    "# sports.groupby('gender').count()"
   ]
  },
  {
   "cell_type": "markdown",
   "metadata": {},
   "source": [
    "## Get the Seasons for which we have data for each sport"
   ]
  },
  {
   "cell_type": "markdown",
   "metadata": {},
   "source": [
    "Below is some scratch code while the main functions are tested.\n",
    "\n",
    "Unlike with yale, it looks like every sport's roster is lready up to date."
   ]
  },
  {
   "cell_type": "code",
   "execution_count": 108,
   "metadata": {
    "collapsed": true
   },
   "outputs": [],
   "source": [
    "def sportIndexURL(code):\n",
    "    \"given a team code, return url to page for that team\"\n",
    "    return root_url + \"/sports/\" + code + \"/index\""
   ]
  },
  {
   "cell_type": "code",
   "execution_count": 109,
   "metadata": {
    "collapsed": false
   },
   "outputs": [],
   "source": [
    "test = sportIndexURL(df['sportCode'].iloc[1])"
   ]
  },
  {
   "cell_type": "code",
   "execution_count": 115,
   "metadata": {
    "collapsed": false
   },
   "outputs": [
    {
     "name": "stdout",
     "output_type": "stream",
     "text": [
      "http://www.gocrimson.com/sports/mbkb/index\n"
     ]
    }
   ],
   "source": [
    "print test"
   ]
  },
  {
   "cell_type": "code",
   "execution_count": 110,
   "metadata": {
    "collapsed": false
   },
   "outputs": [],
   "source": [
    "teamsoup = getBodySoup(test)"
   ]
  },
  {
   "cell_type": "code",
   "execution_count": 142,
   "metadata": {
    "collapsed": false
   },
   "outputs": [],
   "source": [
    "getSeason = re.compile(\"([\\d\\-]*)\\/roster\")\n",
    "hasRoster = re.compile('Roster')\n",
    "def getCurrentSeason(team_code):\n",
    "    team_url = sportIndexURL(team_code)\n",
    "    teamsoup = getBodySoup(team_url)\n",
    "    link = teamsoup.find('a', text=hasRoster)\n",
    "    return getSeason.search(link['href']).group(1) "
   ]
  },
  {
   "cell_type": "code",
   "execution_count": 117,
   "metadata": {
    "collapsed": false,
    "scrolled": true
   },
   "outputs": [
    {
     "name": "stderr",
     "output_type": "stream",
     "text": [
      "\n",
      "\n",
      "\n",
      "  0%|                                                                       | 0/36 [00:00<?, ?it/s]\n",
      "\n",
      "\n",
      "  6%|███▌                                                           | 2/36 [00:02<00:48,  1.43s/it]\n",
      "\n",
      "\n",
      "  8%|█████▎                                                         | 3/36 [00:06<01:06,  2.01s/it]\n",
      "\n",
      "\n",
      " 11%|███████                                                        | 4/36 [00:08<01:10,  2.20s/it]\n",
      "\n",
      "\n",
      " 14%|████████▊                                                      | 5/36 [00:11<01:15,  2.43s/it]\n",
      "\n",
      "\n",
      " 17%|██████████▌                                                    | 6/36 [00:14<01:11,  2.37s/it]\n",
      "\n",
      "\n",
      " 19%|████████████▎                                                  | 7/36 [00:16<01:05,  2.26s/it]\n",
      "\n",
      "\n",
      " 22%|██████████████                                                 | 8/36 [00:19<01:10,  2.50s/it]\n",
      "\n",
      "\n",
      " 25%|███████████████▊                                               | 9/36 [00:20<01:02,  2.30s/it]\n",
      "\n",
      "\n",
      " 28%|█████████████████▏                                            | 10/36 [00:24<01:07,  2.59s/it]\n",
      "\n",
      "\n",
      " 31%|██████████████████▉                                           | 11/36 [00:27<01:08,  2.74s/it]\n",
      "\n",
      "\n",
      " 33%|████████████████████▋                                         | 12/36 [00:30<01:06,  2.77s/it]\n",
      "\n",
      "\n",
      " 36%|██████████████████████▍                                       | 13/36 [00:32<00:58,  2.55s/it]\n",
      "\n",
      "\n",
      " 39%|████████████████████████                                      | 14/36 [00:35<00:59,  2.70s/it]\n",
      "\n",
      "\n",
      " 42%|█████████████████████████▊                                    | 15/36 [00:37<00:53,  2.53s/it]\n",
      "\n",
      "\n",
      " 44%|███████████████████████████▌                                  | 16/36 [00:41<00:58,  2.92s/it]\n",
      "\n",
      "\n",
      " 47%|█████████████████████████████▎                                | 17/36 [00:44<01:00,  3.17s/it]\n",
      "\n",
      "\n",
      " 50%|███████████████████████████████                               | 18/36 [00:49<01:02,  3.48s/it]\n",
      "\n",
      "\n",
      " 53%|████████████████████████████████▋                             | 19/36 [00:53<01:01,  3.64s/it]\n",
      "\n",
      "\n",
      " 56%|██████████████████████████████████▍                           | 20/36 [00:56<00:57,  3.57s/it]\n",
      "\n",
      "\n",
      " 58%|████████████████████████████████████▏                         | 21/36 [00:59<00:52,  3.48s/it]\n",
      "\n",
      "\n",
      " 61%|█████████████████████████████████████▉                        | 22/36 [01:03<00:48,  3.49s/it]\n",
      "\n",
      "\n",
      " 64%|███████████████████████████████████████▌                      | 23/36 [01:06<00:44,  3.42s/it]\n",
      "\n",
      "\n",
      " 67%|█████████████████████████████████████████▎                    | 24/36 [01:09<00:37,  3.15s/it]\n",
      "\n",
      "\n",
      " 69%|███████████████████████████████████████████                   | 25/36 [01:12<00:34,  3.10s/it]\n",
      "\n",
      "\n",
      " 72%|████████████████████████████████████████████▊                 | 26/36 [01:15<00:32,  3.21s/it]\n",
      "\n",
      "\n",
      " 75%|██████████████████████████████████████████████▌               | 27/36 [01:17<00:24,  2.77s/it]\n",
      "\n",
      "\n",
      " 78%|████████████████████████████████████████████████▏             | 28/36 [01:22<00:27,  3.38s/it]\n",
      "\n",
      "\n",
      " 81%|█████████████████████████████████████████████████▉            | 29/36 [01:25<00:22,  3.26s/it]\n",
      "\n",
      "\n",
      " 83%|███████████████████████████████████████████████████▋          | 30/36 [01:27<00:17,  2.97s/it]\n",
      "\n",
      "\n",
      " 86%|█████████████████████████████████████████████████████▍        | 31/36 [01:30<00:14,  2.94s/it]\n",
      "\n",
      "\n",
      " 89%|███████████████████████████████████████████████████████       | 32/36 [01:34<00:13,  3.43s/it]\n",
      "\n",
      "\n",
      " 92%|████████████████████████████████████████████████████████▊     | 33/36 [01:38<00:10,  3.37s/it]\n",
      "\n",
      "\n",
      " 94%|██████████████████████████████████████████████████████████▌   | 34/36 [01:41<00:06,  3.31s/it]\n",
      "\n",
      "\n",
      " 97%|████████████████████████████████████████████████████████████▎ | 35/36 [01:44<00:03,  3.44s/it]\n",
      "\n",
      "\n",
      "100%|██████████████████████████████████████████████████████████████| 36/36 [01:47<00:00,  3.28s/it]\n",
      "\n",
      "\n",
      "C:\\Users\\cyick\\Anaconda2\\lib\\site-packages\\ipykernel\\__main__.py:2: SettingWithCopyWarning: \n",
      "A value is trying to be set on a copy of a slice from a DataFrame.\n",
      "Try using .loc[row_indexer,col_indexer] = value instead\n",
      "\n",
      "See the caveats in the documentation: http://pandas.pydata.org/pandas-docs/stable/indexing.html#indexing-view-versus-copy\n",
      "  from ipykernel import kernelapp as app\n"
     ]
    }
   ],
   "source": [
    "# Check what the most current roster listing for the sport is.\n",
    "cleaned['currentRoster'] = cleaned['sportCode'].progress_apply(lambda x: getCurrentSeason(x))"
   ]
  },
  {
   "cell_type": "code",
   "execution_count": 118,
   "metadata": {
    "collapsed": false
   },
   "outputs": [
    {
     "data": {
      "text/html": [
       "<div>\n",
       "<table border=\"1\" class=\"dataframe\">\n",
       "  <thead>\n",
       "    <tr style=\"text-align: right;\">\n",
       "      <th></th>\n",
       "      <th>href</th>\n",
       "      <th>sportCode</th>\n",
       "      <th>currentRoster</th>\n",
       "    </tr>\n",
       "  </thead>\n",
       "  <tbody>\n",
       "    <tr>\n",
       "      <th>0</th>\n",
       "      <td>/sports/bsb/2016-17/roster</td>\n",
       "      <td>bsb</td>\n",
       "      <td>2016-17</td>\n",
       "    </tr>\n",
       "    <tr>\n",
       "      <th>1</th>\n",
       "      <td>/sports/mbkb/2016-17/roster</td>\n",
       "      <td>mbkb</td>\n",
       "      <td>2016-17</td>\n",
       "    </tr>\n",
       "    <tr>\n",
       "      <th>2</th>\n",
       "      <td>/sports/mcrew-hw/2016-17/roster</td>\n",
       "      <td>mcrew-hw</td>\n",
       "      <td>2016-17</td>\n",
       "    </tr>\n",
       "    <tr>\n",
       "      <th>3</th>\n",
       "      <td>/sports/mcrew-lw/2016-17/roster</td>\n",
       "      <td>mcrew-lw</td>\n",
       "      <td>2016-17</td>\n",
       "    </tr>\n",
       "    <tr>\n",
       "      <th>4</th>\n",
       "      <td>/sports/xc/2016-17/roster</td>\n",
       "      <td>xc</td>\n",
       "      <td>2016-17</td>\n",
       "    </tr>\n",
       "    <tr>\n",
       "      <th>5</th>\n",
       "      <td>/sports/mfencing/2016-17/roster</td>\n",
       "      <td>mfencing</td>\n",
       "      <td>2016-17</td>\n",
       "    </tr>\n",
       "    <tr>\n",
       "      <th>6</th>\n",
       "      <td>/sports/fball/2016-17/roster</td>\n",
       "      <td>fball</td>\n",
       "      <td>2016-17</td>\n",
       "    </tr>\n",
       "    <tr>\n",
       "      <th>7</th>\n",
       "      <td>/sports/mgolf/2016-17/roster</td>\n",
       "      <td>mgolf</td>\n",
       "      <td>2016-17</td>\n",
       "    </tr>\n",
       "  </tbody>\n",
       "</table>\n",
       "</div>"
      ],
      "text/plain": [
       "                              href sportCode currentRoster\n",
       "0       /sports/bsb/2016-17/roster       bsb       2016-17\n",
       "1      /sports/mbkb/2016-17/roster      mbkb       2016-17\n",
       "2  /sports/mcrew-hw/2016-17/roster  mcrew-hw       2016-17\n",
       "3  /sports/mcrew-lw/2016-17/roster  mcrew-lw       2016-17\n",
       "4        /sports/xc/2016-17/roster        xc       2016-17\n",
       "5  /sports/mfencing/2016-17/roster  mfencing       2016-17\n",
       "6     /sports/fball/2016-17/roster     fball       2016-17\n",
       "7     /sports/mgolf/2016-17/roster     mgolf       2016-17"
      ]
     },
     "execution_count": 118,
     "metadata": {},
     "output_type": "execute_result"
    }
   ],
   "source": [
    "# Check what the current roster looks like!\n",
    "cleaned.head(8)"
   ]
  },
  {
   "cell_type": "code",
   "execution_count": 120,
   "metadata": {
    "collapsed": false
   },
   "outputs": [
    {
     "data": {
      "text/plain": [
       "2016-17    36\n",
       "Name: currentRoster, dtype: int64"
      ]
     },
     "execution_count": 120,
     "metadata": {},
     "output_type": "execute_result"
    }
   ],
   "source": [
    "# Every roster is up to date!\n",
    "cleaned['currentRoster'].value_counts()"
   ]
  },
  {
   "cell_type": "markdown",
   "metadata": {},
   "source": [
    "## Getting Rosters from Every Season\n"
   ]
  },
  {
   "cell_type": "code",
   "execution_count": 127,
   "metadata": {
    "collapsed": false
   },
   "outputs": [
    {
     "name": "stdout",
     "output_type": "stream",
     "text": [
      "\n"
     ]
    }
   ],
   "source": [
    "def prevSeason(season):\n",
    "    'Given a season, return the previous one.'\n",
    "    '2015-16 becomes 2014-15'\n",
    "    years = season.split(\"-\")\n",
    "    prevYear = int(years[0]) - 1\n",
    "    return \"{0}-{1}\".format(prevYear, years[0][2:])\n",
    "\n",
    "\n",
    "def getSeasons(team_url, current_season):\n",
    "    'given current season, check how many seasons back of rosters we can collect.'\n",
    "    ' If refactoring, might as well save the rosters too.'\n",
    "\n",
    "    print(\"\\nDownload \" + team_url)\n",
    "    hasRoster = 1\n",
    "    season = current_season\n",
    "    seasons = {}\n",
    "\n",
    "    while (hasRoster):\n",
    "        print(season[-2:]),\n",
    "        season_url = root_url + \"/sports/{0}/{1}/roster\".format(team_url, season)\n",
    "        tsoup = getBodySoup(season_url)\n",
    "        if not tsoup:\n",
    "            break\n",
    "        table = tsoup.find('table')\n",
    "        if not table:\n",
    "            break\n",
    "        rows = table.find_all('tr')\n",
    "        if not rows:\n",
    "            break\n",
    "        # different pages handled errors differently. ex:\n",
    "    \n",
    "        # invoke the no 1-person team rule- if the roster table only has 2 or fewer rows in it, it's probably not \n",
    "        #         ok.\n",
    "        if len(rows) < 3:\n",
    "            break\n",
    "        else:\n",
    "            # Getting the rosters!\n",
    "            people = []\n",
    "            for row in rows:\n",
    "                person = []\n",
    "                for cell in row.find_all('td'):\n",
    "                    bio_link = cell.find('a')\n",
    "                    cellText = cell.text.strip()\n",
    "                    \n",
    "                    if bio_link:\n",
    "                        \n",
    "                        nameCard = {\n",
    "                            'name': cellText,\n",
    "                            'link': bio_link['href']\n",
    "                        }\n",
    "                        \n",
    "                        person.append(nameCard)\n",
    "                    else:\n",
    "                        person.append(cellText)\n",
    "                people.append(person)\n",
    "                \n",
    "            seasons[season] = people\n",
    "            season = prevSeason(season)\n",
    "            \n",
    "        \n",
    "    return seasons\n",
    "        "
   ]
  },
  {
   "cell_type": "code",
   "execution_count": 124,
   "metadata": {
    "collapsed": false
   },
   "outputs": [
    {
     "data": {
      "text/plain": [
       "(36, 3)"
      ]
     },
     "execution_count": 124,
     "metadata": {},
     "output_type": "execute_result"
    }
   ],
   "source": [
    "cleaned.shape"
   ]
  },
  {
   "cell_type": "markdown",
   "metadata": {},
   "source": [
    "#### Note handle the WWII rosters as a special case\n",
    "Basketball for some reason goes all the way back... we have to skip the WWII years if we were being thorough. Given that those athletes lack bios, we'll omit them for now but could revisit them in a future project.\n",
    "\n",
    "Harvard men's soccer data quality is also surprisingly deficient, they only have 2 years of rosters to work with."
   ]
  },
  {
   "cell_type": "code",
   "execution_count": 129,
   "metadata": {
    "collapsed": false
   },
   "outputs": [
    {
     "name": "stdout",
     "output_type": "stream",
     "text": [
      " \n",
      "Download bsb\n",
      "17 16 15 14 13 12 11 10 09 08 \n",
      "Download mbkb\n",
      "17 16 15 14 13 12 11 10 09 08 07 06 05 04 03 02 01 00 99 98 97 96 95 94 93 92 91 90 89 88 87 86 85 84 83 82 81 80 79 78 77 76 75 74 73 72 71 70 69 68 67 66 65 64 63 62 61 60 59 58 57 56 55 54 53 52 51 50 49 48 47 46 45 44 Site is down!\n",
      "\n",
      "Download mcrew-hw\n",
      "17 16 15 14 13 12 11 10 09 08 \n",
      "Download mcrew-lw\n",
      "17 16 15 14 13 12 11 10 09 08 \n",
      "Download xc\n",
      "17 16 15 14 13 12 11 10 09 08 \n",
      "Download mfencing\n",
      "17 16 15 14 13 12 11 10 09 08 \n",
      "Download fball\n",
      "17 16 15 14 13 12 11 10 09 08 07 06 05 04 03 02 01 00 Site is down!\n",
      "\n",
      "Download mgolf\n",
      "17 16 15 14 13 12 11 10 09 08 \n",
      "Download mice\n",
      "17 16 15 14 13 12 11 10 09 08 07 06 05 04 03 02 \n",
      "Download mlax\n",
      "17 16 15 14 13 12 11 10 09 08 07 06 05 04 03 \n",
      "Download sailing\n",
      "17 16 15 14 13 12 11 10 09 08 \n",
      "Download skiing\n",
      "17 16 15 14 13 12 \n",
      "Download msoc\n",
      "17 16 \n",
      "Download msquash\n",
      "17 16 15 14 13 12 11 10 09 08 \n",
      "Download mswimdive\n",
      "17 16 15 14 13 12 11 10 09 08 \n",
      "Download mten\n",
      "17 16 15 14 13 12 11 10 09 08 07 \n",
      "Download track\n",
      "17 16 15 14 13 12 11 10 09 08 \n",
      "Download mvball\n",
      "17 16 15 14 13 12 11 10 09 08 \n",
      "Download mwaterpolo\n",
      "17 16 15 14 13 12 11 10 09 08 07 \n",
      "Download wrest\n",
      "17 16 15 14 13 12 11 10 09 08 \n",
      "Download wbkb\n",
      "17 16 15 14 13 12 11 10 09 08 07 06 05 04 03 02 01 00 99 98 97 96 95 94 93 92 91 90 89 88 87 86 85 84 83 82 81 80 79 Site is down!\n",
      "\n",
      "Download wcrew-hw\n",
      "17 16 15 14 13 12 11 10 09 08 \n",
      "Download wcrew-lw\n",
      "17 16 15 14 13 12 11 10 09 08 \n",
      "Download wfencing\n",
      "17 16 15 14 13 12 11 10 09 08 07 \n",
      "Download fh\n",
      "17 16 15 14 13 12 11 \n",
      "Download wgolf\n",
      "17 16 15 14 13 12 11 10 09 08 \n",
      "Download wice\n",
      "17 16 15 14 13 12 11 10 09 \n",
      "Download wlax\n",
      "17 16 15 14 13 12 11 10 09 08 07 \n",
      "Download wrugby\n",
      "17 16 15 14 13 \n",
      "Download wsoc\n",
      "17 16 15 14 13 12 11 10 09 08 07 06 05 04 \n",
      "Download sball\n",
      "17 16 15 14 13 12 11 10 09 08 \n",
      "Download wsquash\n",
      "17 16 15 14 13 12 11 10 09 08 \n",
      "Download wswimdive\n",
      "17 16 15 14 13 12 11 10 09 08 \n",
      "Download wten\n",
      "17 16 15 14 13 12 11 10 09 08 07 06 05 \n",
      "Download wvball\n",
      "17 16 15 14 13 12 11 10 09 \n",
      "Download wwaterpolo\n",
      "17 16 15 14 13 12 11 10 09 08 07Wall time: 9min 49s\n",
      "\n"
     ]
    }
   ],
   "source": [
    "%%time\n",
    "# Download the rosters for each sport\n",
    "# Parallelize another time, split into separate variable due to some odd memory bug.\n",
    "rosters = cleaned[['sportCode', 'currentRoster']].apply(lambda x: getSeasons(x['sportCode'], x['currentRoster']), axis='columns')"
   ]
  },
  {
   "cell_type": "code",
   "execution_count": 149,
   "metadata": {
    "collapsed": false
   },
   "outputs": [
    {
     "data": {
      "text/plain": [
       "36"
      ]
     },
     "execution_count": 149,
     "metadata": {},
     "output_type": "execute_result"
    }
   ],
   "source": [
    "len(rosters)"
   ]
  },
  {
   "cell_type": "code",
   "execution_count": 130,
   "metadata": {
    "collapsed": false
   },
   "outputs": [
    {
     "data": {
      "text/plain": [
       "<matplotlib.axes._subplots.AxesSubplot at 0x15303198>"
      ]
     },
     "execution_count": 130,
     "metadata": {},
     "output_type": "execute_result"
    },
    {
     "data": {
      "image/png": "[encoded data removed]",
      "text/plain": [
       "<matplotlib.figure.Figure at 0x119afcf8>"
      ]
     },
     "metadata": {},
     "output_type": "display_data"
    }
   ],
   "source": [
    "# Everybody has at least 6 years of data. There are a few sports with 14 years of data. \n",
    "# I wonder what made a team join?\n",
    "# We can do facet plots of how the size of a team's roster changed from year to year.\n",
    "# Alternately, we can build a list of what high schools people come from...\n",
    "rosters.map(len).hist()"
   ]
  },
  {
   "cell_type": "code",
   "execution_count": 155,
   "metadata": {
    "collapsed": false
   },
   "outputs": [
    {
     "data": {
      "text/plain": [
       "pandas.core.series.Series"
      ]
     },
     "execution_count": 155,
     "metadata": {},
     "output_type": "execute_result"
    }
   ],
   "source": [
    "type(rosters)"
   ]
  },
  {
   "cell_type": "code",
   "execution_count": 158,
   "metadata": {
    "collapsed": false
   },
   "outputs": [],
   "source": [
    "dRosters = pd.DataFrame(rosters)"
   ]
  },
  {
   "cell_type": "code",
   "execution_count": 159,
   "metadata": {
    "collapsed": false
   },
   "outputs": [
    {
     "data": {
      "text/html": [
       "<div>\n",
       "<table border=\"1\" class=\"dataframe\">\n",
       "  <thead>\n",
       "    <tr style=\"text-align: right;\">\n",
       "      <th></th>\n",
       "      <th>0</th>\n",
       "    </tr>\n",
       "  </thead>\n",
       "  <tbody>\n",
       "    <tr>\n",
       "      <th>0</th>\n",
       "      <td>{u'2008-09': [[{'link': '/sports/bsb/2008-09/r...</td>\n",
       "    </tr>\n",
       "    <tr>\n",
       "      <th>1</th>\n",
       "      <td>{u'1989-90': [[{'link': '/sports/mbkb/1989-90/...</td>\n",
       "    </tr>\n",
       "    <tr>\n",
       "      <th>2</th>\n",
       "      <td>{u'2008-09': [[{'link': '/sports/mcrew-hw/2008...</td>\n",
       "    </tr>\n",
       "    <tr>\n",
       "      <th>3</th>\n",
       "      <td>{u'2008-09': [[{'link': '/sports/mcrew-lw/2008...</td>\n",
       "    </tr>\n",
       "    <tr>\n",
       "      <th>4</th>\n",
       "      <td>{u'2008-09': [[{'link': '/sports/xc/2008-09/ro...</td>\n",
       "    </tr>\n",
       "  </tbody>\n",
       "</table>\n",
       "</div>"
      ],
      "text/plain": [
       "                                                   0\n",
       "0  {u'2008-09': [[{'link': '/sports/bsb/2008-09/r...\n",
       "1  {u'1989-90': [[{'link': '/sports/mbkb/1989-90/...\n",
       "2  {u'2008-09': [[{'link': '/sports/mcrew-hw/2008...\n",
       "3  {u'2008-09': [[{'link': '/sports/mcrew-lw/2008...\n",
       "4  {u'2008-09': [[{'link': '/sports/xc/2008-09/ro..."
      ]
     },
     "execution_count": 159,
     "metadata": {},
     "output_type": "execute_result"
    }
   ],
   "source": [
    "dRosters.head()"
   ]
  },
  {
   "cell_type": "code",
   "execution_count": 161,
   "metadata": {
    "collapsed": false
   },
   "outputs": [],
   "source": [
    "export = dRosters.join(df)"
   ]
  },
  {
   "cell_type": "code",
   "execution_count": 164,
   "metadata": {
    "collapsed": false
   },
   "outputs": [
    {
     "data": {
      "text/plain": [
       "Index([0, u'href', u'sportCode', u'nSeasons', u'rosters'], dtype='object')"
      ]
     },
     "execution_count": 164,
     "metadata": {},
     "output_type": "execute_result"
    }
   ],
   "source": [
    "export.columns"
   ]
  },
  {
   "cell_type": "code",
   "execution_count": 167,
   "metadata": {
    "collapsed": false
   },
   "outputs": [],
   "source": [
    "select = export[['rosters', 'sportCode', 'nSeasons']]"
   ]
  },
  {
   "cell_type": "code",
   "execution_count": 166,
   "metadata": {
    "collapsed": false
   },
   "outputs": [
    {
     "name": "stdout",
     "output_type": "stream",
     "text": [
      "<class 'pandas.core.frame.DataFrame'>\n",
      "Int64Index: 36 entries, 0 to 39\n",
      "Data columns (total 5 columns):\n",
      "0            36 non-null object\n",
      "href         36 non-null object\n",
      "sportCode    36 non-null object\n",
      "nSeasons     36 non-null float64\n",
      "rosters      36 non-null object\n",
      "dtypes: float64(1), object(4)\n",
      "memory usage: 1.7+ KB\n"
     ]
    }
   ],
   "source": [
    "export.info()"
   ]
  },
  {
   "cell_type": "code",
   "execution_count": 140,
   "metadata": {
    "collapsed": false
   },
   "outputs": [],
   "source": [
    "# check what the number of people in a season looks like\n",
    "# Verify it downloaded correctly\n",
    "# df.iloc[0]['rosters']['2010-11']"
   ]
  },
  {
   "cell_type": "code",
   "execution_count": 170,
   "metadata": {
    "collapsed": false
   },
   "outputs": [
    {
     "name": "stdout",
     "output_type": "stream",
     "text": [
      "<class 'pandas.core.frame.DataFrame'>\n",
      "Int64Index: 36 entries, 0 to 39\n",
      "Data columns (total 3 columns):\n",
      "rosters      36 non-null object\n",
      "sportCode    36 non-null object\n",
      "nSeasons     36 non-null float64\n",
      "dtypes: float64(1), object(2)\n",
      "memory usage: 1.1+ KB\n"
     ]
    }
   ],
   "source": [
    "select.info()"
   ]
  },
  {
   "cell_type": "code",
   "execution_count": 168,
   "metadata": {
    "collapsed": true
   },
   "outputs": [],
   "source": [
    "# dump as pickle too so objects don't get turned into strings\n",
    "EXPORT_PICKLE = os.path.join(PROJ_ROOT, \"data\", \"raw\", \"harvard_sports.p\")\n",
    "select.to_pickle(EXPORT_PICKLE)"
   ]
  },
  {
   "cell_type": "code",
   "execution_count": 169,
   "metadata": {
    "collapsed": false
   },
   "outputs": [],
   "source": [
    "# Dump the file!\n",
    "EXPORT_PATH = os.path.join(PROJ_ROOT, \"data\", \"raw\", \"harvard_sports.json\")\n",
    "select.to_json(EXPORT_PATH)"
   ]
  }
 ],
 "metadata": {
  "anaconda-cloud": {},
  "kernelspec": {
   "display_name": "Python [default]",
   "language": "python",
   "name": "python2"
  },
  "language_info": {
   "codemirror_mode": {
    "name": "ipython",
    "version": 2
   },
   "file_extension": ".py",
   "mimetype": "text/x-python",
   "name": "python",
   "nbconvert_exporter": "python",
   "pygments_lexer": "ipython2",
   "version": "2.7.12"
  }
 },
 "nbformat": 4,
 "nbformat_minor": 0
}
