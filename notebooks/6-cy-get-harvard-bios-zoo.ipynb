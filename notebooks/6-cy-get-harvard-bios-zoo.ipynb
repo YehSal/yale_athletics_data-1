{
 "cells": [
  {
   "cell_type": "code",
   "execution_count": 1,
   "metadata": {
    "collapsed": false
   },
   "outputs": [
    {
     "name": "stderr",
     "output_type": "stream",
     "text": [
      ":0: FutureWarning: IPython widgets are experimental and may change in the future.\n"
     ]
    }
   ],
   "source": [
    "# 11/5 Get Raw Player Bios\n",
    "# Cameron Yick\n",
    "\n",
    "# For data manipulation\n",
    "import os\n",
    "import pandas as pd\n",
    "import matplotlib.pyplot as plt\n",
    "import seaborn as sns\n",
    "PROJ_ROOT = os.pardir\n",
    "\n",
    "# For Scraping\n",
    "from bs4 import BeautifulSoup\n",
    "import requests\n",
    "import time\n",
    "\n",
    "# For munging\n",
    "import re\n",
    "import json\n",
    "\n",
    "# Backoff time for large scrapes\n",
    "THROTTLE_TIME = .05\n",
    "\n",
    "# ipython magics\n",
    "# %load_ext watermark\n",
    "%matplotlib inline\n",
    "# a nice bonus for making progress bars in ipython\n",
    "\n",
    "from tqdm import tqdm, tqdm_pandas, tqdm_notebook\n"
   ]
  },
  {
   "cell_type": "code",
   "execution_count": 2,
   "metadata": {
    "collapsed": false
   },
   "outputs": [],
   "source": [
    "# Initialize reused objects\n",
    "tqdm.pandas()\n",
    "s= requests.Session()\n",
    "s.headers.update({'User-agent': 'Mozilla/5.0'})\n"
   ]
  },
  {
   "cell_type": "code",
   "execution_count": 3,
   "metadata": {
    "collapsed": true
   },
   "outputs": [],
   "source": [
    "# playerPath = os.path.join(PROJ_ROOT, \"data\", \"interim\", \"players.json\")"
   ]
  },
  {
   "cell_type": "code",
   "execution_count": 4,
   "metadata": {
    "collapsed": true
   },
   "outputs": [],
   "source": [
    "# use with temp auth token"
   ]
  },
  {
   "cell_type": "code",
   "execution_count": 5,
   "metadata": {
    "collapsed": true
   },
   "outputs": [],
   "source": [
    "ghPath = \"https://raw.githubusercontent.com/hydrosquall/yale_athletics_data/master/data/interim/harvard_players.json?token=AImmM-Q_QprW_hYT6_KwnNcP21It4pS7ks5YPkJ2wA%3D%3D\""
   ]
  },
  {
   "cell_type": "code",
   "execution_count": 6,
   "metadata": {
    "collapsed": false
   },
   "outputs": [],
   "source": [
    "# use online read path for usage with a distributed crawler\n",
    "df = pd.read_json(ghPath)"
   ]
  },
  {
   "cell_type": "code",
   "execution_count": 7,
   "metadata": {
    "collapsed": false
   },
   "outputs": [
    {
     "name": "stdout",
     "output_type": "stream",
     "text": [
      "<class 'pandas.core.frame.DataFrame'>\n",
      "Int64Index: 10896 entries, 0 to 9999\n",
      "Data columns (total 17 columns):\n",
      "B/T            488 non-null object\n",
      "City           10896 non-null object\n",
      "Event          1418 non-null object\n",
      "High School    10896 non-null object\n",
      "Hometown       10896 non-null object\n",
      "Ht.            5445 non-null object\n",
      "Name           10896 non-null object\n",
      "Name_link      10896 non-null object\n",
      "No.            6265 non-null object\n",
      "Position       6490 non-null object\n",
      "Region         10896 non-null object\n",
      "S/C            580 non-null object\n",
      "Weapon         243 non-null object\n",
      "Wt.            4251 non-null object\n",
      "Yr.            10896 non-null object\n",
      "season         10896 non-null object\n",
      "sport          10896 non-null object\n",
      "dtypes: object(17)\n",
      "memory usage: 1.5+ MB\n"
     ]
    }
   ],
   "source": [
    "df.info()"
   ]
  },
  {
   "cell_type": "code",
   "execution_count": 8,
   "metadata": {
    "collapsed": false
   },
   "outputs": [
    {
     "data": {
      "text/plain": [
       "(10806,)"
      ]
     },
     "execution_count": 8,
     "metadata": {},
     "output_type": "execute_result"
    }
   ],
   "source": [
    "# There is are 10806 unique bio links... hm. Scrape now, clean later.\n",
    "df['Name_link'].unique().shape"
   ]
  },
  {
   "cell_type": "code",
   "execution_count": 9,
   "metadata": {
    "collapsed": false
   },
   "outputs": [
    {
     "data": {
      "text/plain": [
       "180"
      ]
     },
     "execution_count": 9,
     "metadata": {},
     "output_type": "execute_result"
    }
   ],
   "source": [
    "df.duplicated(subset=['Name_link'],keep=False).sum()"
   ]
  },
  {
   "cell_type": "code",
   "execution_count": 10,
   "metadata": {
    "collapsed": false
   },
   "outputs": [
    {
     "data": {
      "text/html": [
       "<div>\n",
       "<table border=\"1\" class=\"dataframe\">\n",
       "  <thead>\n",
       "    <tr style=\"text-align: right;\">\n",
       "      <th></th>\n",
       "      <th>B/T</th>\n",
       "      <th>City</th>\n",
       "      <th>Event</th>\n",
       "      <th>High School</th>\n",
       "      <th>Hometown</th>\n",
       "      <th>Ht.</th>\n",
       "      <th>Name</th>\n",
       "      <th>Name_link</th>\n",
       "      <th>No.</th>\n",
       "      <th>Position</th>\n",
       "      <th>Region</th>\n",
       "      <th>S/C</th>\n",
       "      <th>Weapon</th>\n",
       "      <th>Wt.</th>\n",
       "      <th>Yr.</th>\n",
       "      <th>season</th>\n",
       "      <th>sport</th>\n",
       "    </tr>\n",
       "  </thead>\n",
       "  <tbody>\n",
       "    <tr>\n",
       "      <th>0</th>\n",
       "      <td>R/R</td>\n",
       "      <td>Long Beach</td>\n",
       "      <td>None</td>\n",
       "      <td>Woodrow Wilson</td>\n",
       "      <td>Long Beach, Calif.</td>\n",
       "      <td>6-2</td>\n",
       "      <td>Tyler Albright</td>\n",
       "      <td>/sports/bsb/2008-09/bios/albright_tyler</td>\n",
       "      <td>6</td>\n",
       "      <td>C</td>\n",
       "      <td>Calif.</td>\n",
       "      <td>None</td>\n",
       "      <td>None</td>\n",
       "      <td>190</td>\n",
       "      <td>Jr.</td>\n",
       "      <td>2008-09</td>\n",
       "      <td>bsb</td>\n",
       "    </tr>\n",
       "    <tr>\n",
       "      <th>122</th>\n",
       "      <td>R/R</td>\n",
       "      <td>Long Beach</td>\n",
       "      <td>None</td>\n",
       "      <td>Woodrow Wilson</td>\n",
       "      <td>Long Beach, Calif.</td>\n",
       "      <td>6-2</td>\n",
       "      <td>Tyler Albright</td>\n",
       "      <td>/sports/bsb/2008-09/bios/albright_tyler</td>\n",
       "      <td>6</td>\n",
       "      <td>C</td>\n",
       "      <td>Calif.</td>\n",
       "      <td>None</td>\n",
       "      <td>None</td>\n",
       "      <td>190</td>\n",
       "      <td>Jr.</td>\n",
       "      <td>2009-10</td>\n",
       "      <td>bsb</td>\n",
       "    </tr>\n",
       "  </tbody>\n",
       "</table>\n",
       "</div>"
      ],
      "text/plain": [
       "     B/T        City Event     High School            Hometown  Ht.  \\\n",
       "0    R/R  Long Beach  None  Woodrow Wilson  Long Beach, Calif.  6-2   \n",
       "122  R/R  Long Beach  None  Woodrow Wilson  Long Beach, Calif.  6-2   \n",
       "\n",
       "               Name                                Name_link No. Position  \\\n",
       "0    Tyler Albright  /sports/bsb/2008-09/bios/albright_tyler   6        C   \n",
       "122  Tyler Albright  /sports/bsb/2008-09/bios/albright_tyler   6        C   \n",
       "\n",
       "     Region   S/C Weapon  Wt.  Yr.   season sport  \n",
       "0    Calif.  None   None  190  Jr.  2008-09   bsb  \n",
       "122  Calif.  None   None  190  Jr.  2009-10   bsb  "
      ]
     },
     "execution_count": 10,
     "metadata": {},
     "output_type": "execute_result"
    }
   ],
   "source": [
    "# how did this guy show up twice?!\n",
    "df[df['Name_link'] == \"/sports/bsb/2008-09/bios/albright_tyler\"]"
   ]
  },
  {
   "cell_type": "code",
   "execution_count": 11,
   "metadata": {
    "collapsed": false
   },
   "outputs": [
    {
     "data": {
      "text/html": [
       "<div>\n",
       "<table border=\"1\" class=\"dataframe\">\n",
       "  <thead>\n",
       "    <tr style=\"text-align: right;\">\n",
       "      <th></th>\n",
       "      <th>B/T</th>\n",
       "      <th>City</th>\n",
       "      <th>Event</th>\n",
       "      <th>High School</th>\n",
       "      <th>Hometown</th>\n",
       "      <th>Ht.</th>\n",
       "      <th>Name</th>\n",
       "      <th>Name_link</th>\n",
       "      <th>No.</th>\n",
       "      <th>Position</th>\n",
       "      <th>Region</th>\n",
       "      <th>S/C</th>\n",
       "      <th>Weapon</th>\n",
       "      <th>Wt.</th>\n",
       "      <th>Yr.</th>\n",
       "      <th>season</th>\n",
       "      <th>sport</th>\n",
       "    </tr>\n",
       "  </thead>\n",
       "  <tbody>\n",
       "    <tr>\n",
       "      <th>0</th>\n",
       "      <td>R/R</td>\n",
       "      <td>Long Beach</td>\n",
       "      <td>None</td>\n",
       "      <td>Woodrow Wilson</td>\n",
       "      <td>Long Beach, Calif.</td>\n",
       "      <td>6-2</td>\n",
       "      <td>Tyler Albright</td>\n",
       "      <td>/sports/bsb/2008-09/bios/albright_tyler</td>\n",
       "      <td>6</td>\n",
       "      <td>C</td>\n",
       "      <td>Calif.</td>\n",
       "      <td>None</td>\n",
       "      <td>None</td>\n",
       "      <td>190</td>\n",
       "      <td>Jr.</td>\n",
       "      <td>2008-09</td>\n",
       "      <td>bsb</td>\n",
       "    </tr>\n",
       "    <tr>\n",
       "      <th>1</th>\n",
       "      <td>R/R</td>\n",
       "      <td>Austin</td>\n",
       "      <td>None</td>\n",
       "      <td>St. Stephens Episcopal</td>\n",
       "      <td>Austin, Texas</td>\n",
       "      <td>5-10</td>\n",
       "      <td>Cole Arledge</td>\n",
       "      <td>/sports/bsb/2008-09/bios/arledge_cole</td>\n",
       "      <td>8</td>\n",
       "      <td>C</td>\n",
       "      <td>Texas</td>\n",
       "      <td>None</td>\n",
       "      <td>None</td>\n",
       "      <td>180</td>\n",
       "      <td>Jr.</td>\n",
       "      <td>2008-09</td>\n",
       "      <td>bsb</td>\n",
       "    </tr>\n",
       "    <tr>\n",
       "      <th>10</th>\n",
       "      <td>S/R</td>\n",
       "      <td>Winnetka</td>\n",
       "      <td>None</td>\n",
       "      <td>New Trier</td>\n",
       "      <td>Winnetka, Ill.</td>\n",
       "      <td>6-3</td>\n",
       "      <td>Zach Hofeld</td>\n",
       "      <td>/sports/bsb/2008-09/bios/hofeld_zach</td>\n",
       "      <td>29</td>\n",
       "      <td>RHP</td>\n",
       "      <td>Ill.</td>\n",
       "      <td>None</td>\n",
       "      <td>None</td>\n",
       "      <td>205</td>\n",
       "      <td>Jr.</td>\n",
       "      <td>2008-09</td>\n",
       "      <td>bsb</td>\n",
       "    </tr>\n",
       "    <tr>\n",
       "      <th>10059</th>\n",
       "      <td>L/L</td>\n",
       "      <td>Carlsbad</td>\n",
       "      <td>None</td>\n",
       "      <td>La Costa Canyon</td>\n",
       "      <td>Carlsbad, Calif.</td>\n",
       "      <td>None</td>\n",
       "      <td>Jackie Cooley</td>\n",
       "      <td>/sports/sball/2010-11/bios/cooley_jackie</td>\n",
       "      <td>9</td>\n",
       "      <td>Outfield</td>\n",
       "      <td>Calif.</td>\n",
       "      <td>None</td>\n",
       "      <td>None</td>\n",
       "      <td>None</td>\n",
       "      <td>Freshman</td>\n",
       "      <td>2010-11</td>\n",
       "      <td>sball</td>\n",
       "    </tr>\n",
       "    <tr>\n",
       "      <th>10227</th>\n",
       "      <td>None</td>\n",
       "      <td>Castle Rock</td>\n",
       "      <td>Diving</td>\n",
       "      <td>Rock Canyon</td>\n",
       "      <td>Castle Rock, Colo.</td>\n",
       "      <td>None</td>\n",
       "      <td>Tanille Paniogue</td>\n",
       "      <td>/sports/wswimdive/2008-09/bios/paniogue_tanille</td>\n",
       "      <td>None</td>\n",
       "      <td>None</td>\n",
       "      <td>Colo.</td>\n",
       "      <td>None</td>\n",
       "      <td>None</td>\n",
       "      <td>None</td>\n",
       "      <td>Senior</td>\n",
       "      <td>2008-09</td>\n",
       "      <td>wswimdive</td>\n",
       "    </tr>\n",
       "  </tbody>\n",
       "</table>\n",
       "</div>"
      ],
      "text/plain": [
       "        B/T         City   Event             High School            Hometown  \\\n",
       "0       R/R   Long Beach    None          Woodrow Wilson  Long Beach, Calif.   \n",
       "1       R/R       Austin    None  St. Stephens Episcopal       Austin, Texas   \n",
       "10      S/R     Winnetka    None               New Trier      Winnetka, Ill.   \n",
       "10059   L/L     Carlsbad    None         La Costa Canyon    Carlsbad, Calif.   \n",
       "10227  None  Castle Rock  Diving             Rock Canyon  Castle Rock, Colo.   \n",
       "\n",
       "        Ht.              Name  \\\n",
       "0       6-2    Tyler Albright   \n",
       "1      5-10      Cole Arledge   \n",
       "10      6-3       Zach Hofeld   \n",
       "10059  None     Jackie Cooley   \n",
       "10227  None  Tanille Paniogue   \n",
       "\n",
       "                                             Name_link   No.  Position  \\\n",
       "0              /sports/bsb/2008-09/bios/albright_tyler     6         C   \n",
       "1                /sports/bsb/2008-09/bios/arledge_cole     8         C   \n",
       "10                /sports/bsb/2008-09/bios/hofeld_zach    29       RHP   \n",
       "10059         /sports/sball/2010-11/bios/cooley_jackie     9  Outfield   \n",
       "10227  /sports/wswimdive/2008-09/bios/paniogue_tanille  None      None   \n",
       "\n",
       "       Region   S/C Weapon   Wt.       Yr.   season      sport  \n",
       "0      Calif.  None   None   190       Jr.  2008-09        bsb  \n",
       "1       Texas  None   None   180       Jr.  2008-09        bsb  \n",
       "10       Ill.  None   None   205       Jr.  2008-09        bsb  \n",
       "10059  Calif.  None   None  None  Freshman  2010-11      sball  \n",
       "10227   Colo.  None   None  None    Senior  2008-09  wswimdive  "
      ]
     },
     "execution_count": 11,
     "metadata": {},
     "output_type": "execute_result"
    }
   ],
   "source": [
    "df[df.duplicated(subset=['Name_link'],keep=False)].head()"
   ]
  },
  {
   "cell_type": "code",
   "execution_count": 12,
   "metadata": {
    "collapsed": false
   },
   "outputs": [
    {
     "data": {
      "text/plain": [
       "0        /sports/bsb/2008-09/bios/albright_tyler\n",
       "1          /sports/bsb/2008-09/bios/arledge_cole\n",
       "10          /sports/bsb/2008-09/bios/hofeld_zach\n",
       "100     /sports/bsb/2016-17/bios/allen_jake_gyf5\n",
       "1000        /sports/mbkb/1984-85/Bios/Eric_Wanta\n",
       "Name: Name_link, dtype: object"
      ]
     },
     "execution_count": 12,
     "metadata": {},
     "output_type": "execute_result"
    }
   ],
   "source": [
    "df['Name_link'].head()"
   ]
  },
  {
   "cell_type": "code",
   "execution_count": 13,
   "metadata": {
    "collapsed": true
   },
   "outputs": [],
   "source": [
    "# Let's make some data soup!\n",
    "\n",
    "def makeAthleteSoup(link, session=s):\n",
    "    if not link:\n",
    "        return None\n",
    "    time.sleep(THROTTLE_TIME)\n",
    "    result = session.get(\"http://www.gocrimson.com\" + link)\n",
    "    if result.status_code is 200:\n",
    "        return BeautifulSoup(result.content, 'lxml').find('div', class_=\"bio-wrap\")\n",
    "    else:\n",
    "        print(\"Site is down!\")"
   ]
  },
  {
   "cell_type": "code",
   "execution_count": 14,
   "metadata": {
    "collapsed": false
   },
   "outputs": [],
   "source": [
    "bios = df['Name_link'].unique()"
   ]
  },
  {
   "cell_type": "code",
   "execution_count": 15,
   "metadata": {
    "collapsed": true
   },
   "outputs": [],
   "source": [
    "bios = pd.Series(bios)"
   ]
  },
  {
   "cell_type": "markdown",
   "metadata": {},
   "source": [
    "## Main Loop\n",
    "\n",
    "Download all the bios, contained within bio-wrapper!"
   ]
  },
  {
   "cell_type": "code",
   "execution_count": null,
   "metadata": {
    "collapsed": false,
    "scrolled": false
   },
   "outputs": [
    {
     "name": "stderr",
     "output_type": "stream",
     "text": [
      "  1%|          | 110/10806 [01:31<2:21:09,  1.26it/s]"
     ]
    }
   ],
   "source": [
    "soups = bios.progress_apply(lambda x: makeAthleteSoup(x))"
   ]
  },
  {
   "cell_type": "code",
   "execution_count": null,
   "metadata": {
    "collapsed": false
   },
   "outputs": [],
   "source": [
    "soups.info()"
   ]
  },
  {
   "cell_type": "code",
   "execution_count": null,
   "metadata": {
    "collapsed": false
   },
   "outputs": [],
   "source": [
    "pd.DataFrame(soups).to_csv('bios.csv.gz', compression='gzip')"
   ]
  },
  {
   "cell_type": "code",
   "execution_count": 16,
   "metadata": {
    "collapsed": true
   },
   "outputs": [],
   "source": [
    "soups.to_json('bios.json')"
   ]
  },
  {
   "cell_type": "code",
   "execution_count": 22,
   "metadata": {
    "collapsed": false
   },
   "outputs": [],
   "source": [
    "pd.DataFrame(soups).to_pickle('bios.p')"
   ]
  },
  {
   "cell_type": "code",
   "execution_count": 39,
   "metadata": {
    "collapsed": true
   },
   "outputs": [],
   "source": [
    "rm bios.hdf"
   ]
  },
  {
   "cell_type": "code",
   "execution_count": 36,
   "metadata": {
    "collapsed": false
   },
   "outputs": [
    {
     "name": "stdout",
     "output_type": "stream",
     "text": [
      "^C\r\n"
     ]
    }
   ],
   "source": [
    "!~/cs323/hw4/encode -m 20 -d 3 < bios.p > bios.lzw"
   ]
  },
  {
   "cell_type": "code",
   "execution_count": 38,
   "metadata": {
    "collapsed": false
   },
   "outputs": [
    {
     "name": "stdout",
     "output_type": "stream",
     "text": [
      "total 3335480\r\n",
      "-rw-r--r-- 1 cyy5 cyy5 1683240696 Nov  6 00:22 bios.hdf\r\n",
      "-rw-r--r-- 1 cyy5 cyy5 1682183444 Nov  6 00:13 bios.p\r\n",
      "-rw-r--r-- 1 cyy5 cyy5   37748736 Nov  6 00:33 bios.lzw\r\n",
      "-rw-r--r-- 1 cyy5 cyy5   10055061 Nov  6 00:24 bios.csv.gz\r\n",
      "-rw-r--r-- 1 cyy5 cyy5    1338990 Aug 16 14:35 AY15-16-cs223-20160816.tar.gz\r\n",
      "-rw-r--r-- 1 cyy5 cyy5     533777 Nov  5 22:08 bio_urls\r\n",
      "-rw-r--r-- 1 cyy5 cyy5     157502 Nov  6 00:31 3-cyy5-get-bios.ipynb\r\n",
      "-rw-r--r-- 1 cyy5 cyy5     119543 Nov  5 23:50 bios.json\r\n",
      "-rw-r--r-- 1 cyy5 cyy5      33148 Mar  1  2015 '~cs201'\r\n",
      "-rw-r--r-- 1 cyy5 cyy5       7631 Nov  5 16:13 cy8-parse-covenantSoup.ipynb\r\n",
      "drwxr-xr-x 3 cyy5 cyy5       4096 Feb  9  2015 Desktop\r\n",
      "drwxr-xr-x 2 cyy5 cyy5       4096 Mar  2  2015 Documents\r\n",
      "drwxr-xr-x 2 cyy5 cyy5       4096 Nov  3 16:30 Downloads\r\n",
      "drwxr-xr-x 2 cyy5 cyy5       4096 Jan 21  2015 Music\r\n",
      "drwxr-xr-x 2 cyy5 cyy5       4096 Sep 12 13:19 Pictures\r\n",
      "drwxr-xr-x 2 cyy5 cyy5       4096 Jan 21  2015 Public\r\n",
      "drwxrwxr-x 3 cyy5 cyy5       4096 Nov  1  2015 R\r\n",
      "drwxr-xr-x 2 cyy5 cyy5       4096 Jan 21  2015 Templates\r\n",
      "drwxr-xr-x 2 cyy5 cyy5       4096 Jan 21  2015 Videos\r\n",
      "drwxr-xr-x 2 cyy5 cyy5       4096 Nov  5 16:12 datadriven\r\n",
      "drwxrwxr-x 2 cyy5 cyy5       4096 Apr  9  2016 datafest\r\n",
      "drwxr-xr-x 6 cyy5 cyy5       4096 Sep 14 21:48 fcdtdebugger\r\n",
      "drwxrwxr-x 2 cyy5 cyy5       4096 Jan 21  2015 perl5\r\n",
      "drwxrwxr-x 2 cyy5 cyy5       4096 Nov  5 13:26 public_html\r\n",
      "drwxrwxr-x 2 cyy5 cyy5       4096 Nov  5 23:06 sports\r\n",
      "drwxr-xr-x 4 cyy5 cyy5       4096 Sep  8 22:06 workspace-fcdtdebug\r\n",
      "lrwxrwxrwx 1 root root         48 Aug 31 15:44 cs323 -> /home/classes/cs323/class/yick.cameronyuhon.cyy5\r\n",
      "lrwxrwxrwx 1 root root         48 Aug 31 15:44 cs437 -> /home/classes/cs437/class/yick.cameronyuhon.cyy5\r\n",
      "lrwxrwxrwx 1 root root         48 Aug 31 15:44 cs472 -> /home/classes/cs472/class/yick.cameronyuhon.cyy5\r\n",
      "-rw-r--r-- 1 root root         45 Sep  3  2015 cs201_2015-09-03.tar\r\n",
      "-rw-r--r-- 1 root root         45 Jan 20  2016 cs202_2016-01-20.tar\r\n",
      "-rw-r--r-- 1 root root         45 Aug 31 15:44 cs223_2016-08-31.tar\r\n",
      "-rw-r--r-- 1 root root         45 Jan 20  2016 cs458_2016-01-20.tar\r\n",
      "lrwxrwxrwx 1 cyy5 cyy5         26 Nov  3 19:37 hw -> /home/accts/cyy5/cs323/hw4\r\n"
     ]
    }
   ],
   "source": [
    "!ls -lS"
   ]
  },
  {
   "cell_type": "code",
   "execution_count": 29,
   "metadata": {
    "collapsed": true
   },
   "outputs": [],
   "source": [
    "d = pd.read_csv('bios.csv.gz', compression='gzip')"
   ]
  },
  {
   "cell_type": "code",
   "execution_count": 34,
   "metadata": {
    "collapsed": false
   },
   "outputs": [
    {
     "name": "stdout",
     "output_type": "stream",
     "text": [
      "<class 'pandas.core.frame.DataFrame'>\n",
      "RangeIndex: 8618 entries, 0 to 8617\n",
      "Data columns (total 2 columns):\n",
      "Unnamed: 0    8618 non-null float64\n",
      "0             8535 non-null object\n",
      "dtypes: float64(1), object(1)\n",
      "memory usage: 134.7+ KB\n"
     ]
    }
   ],
   "source": [
    "d.info()"
   ]
  },
  {
   "cell_type": "code",
   "execution_count": 33,
   "metadata": {
    "collapsed": false
   },
   "outputs": [
    {
     "data": {
      "text/plain": [
       "'<div class=\"bio-wrap clearfix\" data-module=\"stats/responsive-container\">\\n<div class=\"related-bios clearfix\"> <select class=\"roster-select-list\">\\n<option selected=\"selected\">Related Bios</option>\\n<option value=\"/sports/m-basebl/mtt/brenner_ryan00.html\">Ryan Brenner</option>\\n<option value=\"/sports/m-basebl/mtt/elmore_gant00.html\">Gant Elmore</option>\\n<option value=\"/sports/m-basebl/mtt/finneran_chris00.html\">Chris Finneran</option>\\n<option value=\"/sports/m-basebl/mtt/gruber_robert00.html\">Robert Gruber</option>\\n<option value=\"/sports/m-basebl/mtt/josselyn_brandon00.html\">Brandon Josselyn</option>\\n<option value=\"/sports/m-basebl/mtt/kolmar_andrew00.html\">Andrew Kolmar</option>\\n<option value=\"/sports/m-basebl/mtt/koulos_harry00.html\">Harry Koulos</option>\\n<option value=\"/sports/m-basebl/mtt/lally_vinny00.html\">Vinny Lally</option>\\n<option value=\"/sports/m-basebl/mtt/larsson-danforth_trygg00.html\">Trygg Larsson-Danforth</option>\\n<option value=\"/sports/m-basebl/mtt/ludwig_pat00.html\">Pat Ludwig</option>\\n<option value=\"/sports/m-basebl/mtt/lyons_greg00.html\">Greg Lyons</option>\\n<option value=\"/sports/m-basebl/mtt/megee_andy00.html\">Andy Megee</option>\\n<option value=\"/sports/m-basebl/mtt/miehls_stephen00.html\">Stephen Miehls</option>\\n<option value=\"/sports/m-basebl/mtt/moore_andrew00.html\">Andrew Moore</option>\\n<option value=\"/sports/m-basebl/mtt/neil_charlie00.html\">Charlie Neil</option>\\n<option value=\"/sports/m-basebl/mtt/schmidt_matt00.html\">Matt Schmidt</option>\\n<option value=\"/sports/m-basebl/mtt/schropp_stefan00.html\">Stefan Schropp</option>\\n<option value=\"/sports/m-basebl/mtt/shultz_eric00.html\">Eric Shultz</option>\\n<option value=\"/sports/m-basebl/mtt/smith_matthew00.html\">Matthew Smith</option>\\n<option value=\"/sports/m-basebl/mtt/stanley_davis00.html\">Davis Stanley</option>\\n<option value=\"/sports/m-basebl/mtt/stratton_will00.html\">Will Stratton</option>\\n<option value=\"/sports/m-basebl/mtt/sweeney_chris00.html\">Chris Sweeney</option>\\n<option value=\"/sports/m-basebl/mtt/tobolowsky_zach00.html\">Zach Tobolowsky</option>\\n<option value=\"/sports/m-basebl/mtt/walsh_chris00.html\">Chris Walsh</option>\\n<option value=\"/sports/m-basebl/mtt/young_alex00.html\">Alex Young</option>\\n</select>\\n</div>\\n<div class=\"head clearfix\">\\n<div class=\"clearfix\">\\n<div class=\"player-about clearfix\">\\n<div class=\"player-headshot\">\\n<span class=\"number\">34</span>\\n<img alt=\"Joe Castaldi\" src=\"/photos/sport/m-basebl/auto_headshot/3100689.jpeg?max_width=160&amp;max_height=210\" title=\"Joe Castaldi\"/>\\n</div>\\n<div class=\"player-info\"><div class=\"player-name\">\\n<span class=\"number\">34</span> <span class=\"name\">Joe Castaldi</span>\\n</div>\\n<table>\\n<tr>\\n<td class=\"label\">Birth Date: </td>\\n<td class=\"value\">01/22/1988</td>\\n</tr>\\n<tr>\\n<td class=\"label\">Height: </td>\\n<td class=\"value\">6-2</td>\\n</tr>\\n<tr>\\n<td class=\"label\">Weight: </td>\\n<td class=\"value\">190</td>\\n</tr>\\n<tr>\\n<td class=\"label\">Year: </td>\\n<td class=\"value\">Junior</td>\\n</tr>\\n<tr>\\n<td class=\"label\">Hometown: </td>\\n<td class=\"value\">Sunrise, Fla.</td>\\n</tr>\\n<tr>\\n<td class=\"label\">High School: </td>\\n<td class=\"value\">Pine Crest School</td>\\n</tr>\\n<tr>\\n<td class=\"label\">Position: </td>\\n<td class=\"value\">P</td>\\n</tr>\\n</table>\\n</div>\\n</div>\\n</div>\\n</div>\\n<div class=\"body clearfix\">\\n<div class=\"tab-container primary clearfix\" data-module=\"stats/tabs\" data-type=\"primary\">\\n<div class=\"tab-nav\" data-module=\"jscroll\" data-momentum=\"false\">\\n<div>\\n<ul class=\"clearfix\">\\n<li class=\"active\"><a href=\"/sports/m-basebl/mtt/castaldi_joe00.html?view=bio\">Bio</a></li>\\n</ul>\\n</div>\\n</div>\\n<div class=\"tab-panels clearfix\">\\n<div class=\"tab-panel active clearfix\">\\n<div class=\"synopsis clearfix\">\\n<b>2010:</b> Team captain.\\n<p><b>2009:</b> Made 12 appearances, including eight starts, as a member of the Bulldogs\\' weekend rotation...Finished at 0-5 with a 7.75 earned run average in 38.1 innings of work...Allowed three earned runs or fewer in eight of his 12 appearances and exited with a lead on three occasions...Racked up 24 strikeouts, including a season-high four K\\'s in three appearances...Struck out four batters and allowed just two earned runs on March 28 at Princeton, leaving the game after 5.1 innings with a 3-2 lead...Allowed two earned runs and struck out four batters in seven innings of work at Harvard on April 12...Came on in relief and recorded a strikeout in the seventh inning with a tying-run on deck on April 23 at Hartford.\\n</p><p><b>2008:</b> Pitched in 12 games, making eight appearances out of the bullpen and four midweek starts...Posted a 2-0 record and 6.46 ERA...Made first collegiate start at Connecticut on March 26 and gave up three runs and five hits while striking out three in 4.1 innings...Struck out six and walked one in three hitless innings to earn the win in an 8-2 Yale victory over Fairfield on April 16...Also earned the win at Hartford on April 23, surrendering one hit and striking out two in two scoreless innings.\\n</p><p><b>2007:</b> Saw action in five games out of the bullpen...Pitched 3.1 innings of relief at Davidson on March 13 to earn his first collegiate win...Pitched a scoreless inning at Harvard on April 14.\\n</p><p><b><i>Stuper Says:</i></b> \"Like Matt Smith, Joe threw the ball very well last year. He is a strong candidate for the rotation. He is very competitive and is our best fielding pitcher. I expect him to have a very good year.\"\\n</p><p><b><u>Getting to Know Joe</u></b><br/>\\n<b>Parents\\' Names:</b> Angelo and Ann Castaldi<br/>\\n<b>Major:</b> Political Science<br/>\\n<b>Best Athletic Moment:</b> Striking out 17 batters in a seven-inning high school game<br/>\\n<b>Favorite MLB Team:</b> Florida Marlins<br/>\\n<b>Favorite MLB Player:</b> Hanley Ramirez<br/>\\n<b>Favorite Quote:</b> \"The other sports are just sports. Baseball is a love.\" - Bryant Gumbel<br/>\\n<b>Biggest Inspiration:</b> My family<br/>\\n<b>One word to describe yourself as a person:</b> Driven<br/>\\n<b>One word to describe yourself as a player:</b> Competitive<br/>\\n<b>Why Yale?:</b> Why not Yale? I would have regretted not coming here for the rest of my life.<br/>\\n</p><pre>\\n<b>Year       ERA   W-L   App  GS  CG SHO/CBO  SV     IP    H    R   ER   BB   SO  2B  3B  HR    BF  B/Avg  WP HBP SFA SHA BK</b>\\n2007.... 12.38   1-0     5   0   0   0/0     0    8.0   18   13   11    4    2   5   1   1    47   .462   1   1   3   0  0\\n2008....  6.46   2-0    12   4   0   0/0     0   23.2   29   17   17   10   19   6   1   3   109   .309   1   3   2   0  0\\n2009....  7.75   0-5    12   8   0   0/0     0   38.1   48   41   33   12   24  11   0   5   186   .302   4  12   1   2  1\\n<b>TOTAL...  7.84   3-5    29  12   0   0/0     0   70.0   95   71   61   26   45  22   2   9   342   .325   6  16   6   2  1</b>\\n</pre></div>\\n</div>\\n</div> </div> </div>\\n</div>'"
      ]
     },
     "execution_count": 33,
     "metadata": {},
     "output_type": "execute_result"
    }
   ],
   "source": [
    "d['0'].iloc[1]"
   ]
  }
 ],
 "metadata": {
  "kernelspec": {
   "display_name": "Python 2",
   "language": "python",
   "name": "python2"
  },
  "language_info": {
   "codemirror_mode": {
    "name": "ipython",
    "version": 2
   },
   "file_extension": ".py",
   "mimetype": "text/x-python",
   "name": "python",
   "nbconvert_exporter": "python",
   "pygments_lexer": "ipython2",
   "version": "2.7.12"
  }
 },
 "nbformat": 4,
 "nbformat_minor": 0
}
