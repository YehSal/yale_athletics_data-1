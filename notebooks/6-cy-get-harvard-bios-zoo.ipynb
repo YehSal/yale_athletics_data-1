{
 "cells": [
  {
   "cell_type": "code",
   "execution_count": 1,
   "metadata": {
    "collapsed": false
   },
   "outputs": [
    {
     "name": "stderr",
     "output_type": "stream",
     "text": [
      ":0: FutureWarning: IPython widgets are experimental and may change in the future.\n"
     ]
    }
   ],
   "source": [
    "# 11/5 Get Raw Player Bios\n",
    "# Cameron Yick\n",
    "\n",
    "# For data manipulation\n",
    "import os\n",
    "import pandas as pd\n",
    "import matplotlib.pyplot as plt\n",
    "import seaborn as sns\n",
    "PROJ_ROOT = os.pardir\n",
    "\n",
    "# For Scraping\n",
    "from bs4 import BeautifulSoup\n",
    "import requests\n",
    "import time\n",
    "\n",
    "# For munging\n",
    "import re\n",
    "import json\n",
    "\n",
    "# Backoff time for large scrapes\n",
    "THROTTLE_TIME = .05\n",
    "\n",
    "# ipython magics\n",
    "# %load_ext watermark\n",
    "%matplotlib inline\n",
    "# a nice bonus for making progress bars in ipython\n",
    "\n",
    "from tqdm import tqdm, tqdm_pandas, tqdm_notebook\n"
   ]
  },
  {
   "cell_type": "code",
   "execution_count": 2,
   "metadata": {
    "collapsed": false
   },
   "outputs": [],
   "source": [
    "# Initialize reused objects\n",
    "tqdm.pandas()\n",
    "s= requests.Session()\n",
    "s.headers.update({'User-agent': 'Mozilla/5.0'})\n"
   ]
  },
  {
   "cell_type": "code",
   "execution_count": 3,
   "metadata": {
    "collapsed": true
   },
   "outputs": [],
   "source": [
    "# playerPath = os.path.join(PROJ_ROOT, \"data\", \"interim\", \"players.json\")"
   ]
  },
  {
   "cell_type": "code",
   "execution_count": 4,
   "metadata": {
    "collapsed": true
   },
   "outputs": [],
   "source": [
    "# use with temp auth token"
   ]
  },
  {
   "cell_type": "code",
   "execution_count": 5,
   "metadata": {
    "collapsed": true
   },
   "outputs": [],
   "source": [
    "ghPath = \"https://raw.githubusercontent.com/hydrosquall/yale_athletics_data/master/data/interim/harvard_players.json?token=AImmM-Q_QprW_hYT6_KwnNcP21It4pS7ks5YPkJ2wA%3D%3D\""
   ]
  },
  {
   "cell_type": "code",
   "execution_count": 6,
   "metadata": {
    "collapsed": false
   },
   "outputs": [],
   "source": [
    "# use online read path for usage with a distributed crawler\n",
    "df = pd.read_json(ghPath)"
   ]
  },
  {
   "cell_type": "code",
   "execution_count": 7,
   "metadata": {
    "collapsed": false
   },
   "outputs": [
    {
     "name": "stdout",
     "output_type": "stream",
     "text": [
      "<class 'pandas.core.frame.DataFrame'>\n",
      "Int64Index: 10896 entries, 0 to 9999\n",
      "Data columns (total 17 columns):\n",
      "B/T            488 non-null object\n",
      "City           10896 non-null object\n",
      "Event          1418 non-null object\n",
      "High School    10896 non-null object\n",
      "Hometown       10896 non-null object\n",
      "Ht.            5445 non-null object\n",
      "Name           10896 non-null object\n",
      "Name_link      10896 non-null object\n",
      "No.            6265 non-null object\n",
      "Position       6490 non-null object\n",
      "Region         10896 non-null object\n",
      "S/C            580 non-null object\n",
      "Weapon         243 non-null object\n",
      "Wt.            4251 non-null object\n",
      "Yr.            10896 non-null object\n",
      "season         10896 non-null object\n",
      "sport          10896 non-null object\n",
      "dtypes: object(17)\n",
      "memory usage: 1.5+ MB\n"
     ]
    }
   ],
   "source": [
    "df.info()"
   ]
  },
  {
   "cell_type": "code",
   "execution_count": 8,
   "metadata": {
    "collapsed": false
   },
   "outputs": [
    {
     "data": {
      "text/plain": [
       "(10806,)"
      ]
     },
     "execution_count": 8,
     "metadata": {},
     "output_type": "execute_result"
    }
   ],
   "source": [
    "# There is are 10806 unique bio links... hm. Scrape now, clean later.\n",
    "df['Name_link'].unique().shape"
   ]
  },
  {
   "cell_type": "code",
   "execution_count": 9,
   "metadata": {
    "collapsed": false
   },
   "outputs": [
    {
     "data": {
      "text/plain": [
       "180"
      ]
     },
     "execution_count": 9,
     "metadata": {},
     "output_type": "execute_result"
    }
   ],
   "source": [
    "df.duplicated(subset=['Name_link'],keep=False).sum()"
   ]
  },
  {
   "cell_type": "code",
   "execution_count": 10,
   "metadata": {
    "collapsed": false
   },
   "outputs": [
    {
     "data": {
      "text/html": [
       "<div>\n",
       "<table border=\"1\" class=\"dataframe\">\n",
       "  <thead>\n",
       "    <tr style=\"text-align: right;\">\n",
       "      <th></th>\n",
       "      <th>B/T</th>\n",
       "      <th>City</th>\n",
       "      <th>Event</th>\n",
       "      <th>High School</th>\n",
       "      <th>Hometown</th>\n",
       "      <th>Ht.</th>\n",
       "      <th>Name</th>\n",
       "      <th>Name_link</th>\n",
       "      <th>No.</th>\n",
       "      <th>Position</th>\n",
       "      <th>Region</th>\n",
       "      <th>S/C</th>\n",
       "      <th>Weapon</th>\n",
       "      <th>Wt.</th>\n",
       "      <th>Yr.</th>\n",
       "      <th>season</th>\n",
       "      <th>sport</th>\n",
       "    </tr>\n",
       "  </thead>\n",
       "  <tbody>\n",
       "    <tr>\n",
       "      <th>0</th>\n",
       "      <td>R/R</td>\n",
       "      <td>Long Beach</td>\n",
       "      <td>None</td>\n",
       "      <td>Woodrow Wilson</td>\n",
       "      <td>Long Beach, Calif.</td>\n",
       "      <td>6-2</td>\n",
       "      <td>Tyler Albright</td>\n",
       "      <td>/sports/bsb/2008-09/bios/albright_tyler</td>\n",
       "      <td>6</td>\n",
       "      <td>C</td>\n",
       "      <td>Calif.</td>\n",
       "      <td>None</td>\n",
       "      <td>None</td>\n",
       "      <td>190</td>\n",
       "      <td>Jr.</td>\n",
       "      <td>2008-09</td>\n",
       "      <td>bsb</td>\n",
       "    </tr>\n",
       "    <tr>\n",
       "      <th>122</th>\n",
       "      <td>R/R</td>\n",
       "      <td>Long Beach</td>\n",
       "      <td>None</td>\n",
       "      <td>Woodrow Wilson</td>\n",
       "      <td>Long Beach, Calif.</td>\n",
       "      <td>6-2</td>\n",
       "      <td>Tyler Albright</td>\n",
       "      <td>/sports/bsb/2008-09/bios/albright_tyler</td>\n",
       "      <td>6</td>\n",
       "      <td>C</td>\n",
       "      <td>Calif.</td>\n",
       "      <td>None</td>\n",
       "      <td>None</td>\n",
       "      <td>190</td>\n",
       "      <td>Jr.</td>\n",
       "      <td>2009-10</td>\n",
       "      <td>bsb</td>\n",
       "    </tr>\n",
       "  </tbody>\n",
       "</table>\n",
       "</div>"
      ],
      "text/plain": [
       "     B/T        City Event     High School            Hometown  Ht.  \\\n",
       "0    R/R  Long Beach  None  Woodrow Wilson  Long Beach, Calif.  6-2   \n",
       "122  R/R  Long Beach  None  Woodrow Wilson  Long Beach, Calif.  6-2   \n",
       "\n",
       "               Name                                Name_link No. Position  \\\n",
       "0    Tyler Albright  /sports/bsb/2008-09/bios/albright_tyler   6        C   \n",
       "122  Tyler Albright  /sports/bsb/2008-09/bios/albright_tyler   6        C   \n",
       "\n",
       "     Region   S/C Weapon  Wt.  Yr.   season sport  \n",
       "0    Calif.  None   None  190  Jr.  2008-09   bsb  \n",
       "122  Calif.  None   None  190  Jr.  2009-10   bsb  "
      ]
     },
     "execution_count": 10,
     "metadata": {},
     "output_type": "execute_result"
    }
   ],
   "source": [
    "# how did this guy show up twice?!\n",
    "df[df['Name_link'] == \"/sports/bsb/2008-09/bios/albright_tyler\"]"
   ]
  },
  {
   "cell_type": "code",
   "execution_count": 11,
   "metadata": {
    "collapsed": false
   },
   "outputs": [
    {
     "data": {
      "text/html": [
       "<div>\n",
       "<table border=\"1\" class=\"dataframe\">\n",
       "  <thead>\n",
       "    <tr style=\"text-align: right;\">\n",
       "      <th></th>\n",
       "      <th>B/T</th>\n",
       "      <th>City</th>\n",
       "      <th>Event</th>\n",
       "      <th>High School</th>\n",
       "      <th>Hometown</th>\n",
       "      <th>Ht.</th>\n",
       "      <th>Name</th>\n",
       "      <th>Name_link</th>\n",
       "      <th>No.</th>\n",
       "      <th>Position</th>\n",
       "      <th>Region</th>\n",
       "      <th>S/C</th>\n",
       "      <th>Weapon</th>\n",
       "      <th>Wt.</th>\n",
       "      <th>Yr.</th>\n",
       "      <th>season</th>\n",
       "      <th>sport</th>\n",
       "    </tr>\n",
       "  </thead>\n",
       "  <tbody>\n",
       "    <tr>\n",
       "      <th>0</th>\n",
       "      <td>R/R</td>\n",
       "      <td>Long Beach</td>\n",
       "      <td>None</td>\n",
       "      <td>Woodrow Wilson</td>\n",
       "      <td>Long Beach, Calif.</td>\n",
       "      <td>6-2</td>\n",
       "      <td>Tyler Albright</td>\n",
       "      <td>/sports/bsb/2008-09/bios/albright_tyler</td>\n",
       "      <td>6</td>\n",
       "      <td>C</td>\n",
       "      <td>Calif.</td>\n",
       "      <td>None</td>\n",
       "      <td>None</td>\n",
       "      <td>190</td>\n",
       "      <td>Jr.</td>\n",
       "      <td>2008-09</td>\n",
       "      <td>bsb</td>\n",
       "    </tr>\n",
       "    <tr>\n",
       "      <th>1</th>\n",
       "      <td>R/R</td>\n",
       "      <td>Austin</td>\n",
       "      <td>None</td>\n",
       "      <td>St. Stephens Episcopal</td>\n",
       "      <td>Austin, Texas</td>\n",
       "      <td>5-10</td>\n",
       "      <td>Cole Arledge</td>\n",
       "      <td>/sports/bsb/2008-09/bios/arledge_cole</td>\n",
       "      <td>8</td>\n",
       "      <td>C</td>\n",
       "      <td>Texas</td>\n",
       "      <td>None</td>\n",
       "      <td>None</td>\n",
       "      <td>180</td>\n",
       "      <td>Jr.</td>\n",
       "      <td>2008-09</td>\n",
       "      <td>bsb</td>\n",
       "    </tr>\n",
       "    <tr>\n",
       "      <th>10</th>\n",
       "      <td>S/R</td>\n",
       "      <td>Winnetka</td>\n",
       "      <td>None</td>\n",
       "      <td>New Trier</td>\n",
       "      <td>Winnetka, Ill.</td>\n",
       "      <td>6-3</td>\n",
       "      <td>Zach Hofeld</td>\n",
       "      <td>/sports/bsb/2008-09/bios/hofeld_zach</td>\n",
       "      <td>29</td>\n",
       "      <td>RHP</td>\n",
       "      <td>Ill.</td>\n",
       "      <td>None</td>\n",
       "      <td>None</td>\n",
       "      <td>205</td>\n",
       "      <td>Jr.</td>\n",
       "      <td>2008-09</td>\n",
       "      <td>bsb</td>\n",
       "    </tr>\n",
       "    <tr>\n",
       "      <th>10059</th>\n",
       "      <td>L/L</td>\n",
       "      <td>Carlsbad</td>\n",
       "      <td>None</td>\n",
       "      <td>La Costa Canyon</td>\n",
       "      <td>Carlsbad, Calif.</td>\n",
       "      <td>None</td>\n",
       "      <td>Jackie Cooley</td>\n",
       "      <td>/sports/sball/2010-11/bios/cooley_jackie</td>\n",
       "      <td>9</td>\n",
       "      <td>Outfield</td>\n",
       "      <td>Calif.</td>\n",
       "      <td>None</td>\n",
       "      <td>None</td>\n",
       "      <td>None</td>\n",
       "      <td>Freshman</td>\n",
       "      <td>2010-11</td>\n",
       "      <td>sball</td>\n",
       "    </tr>\n",
       "    <tr>\n",
       "      <th>10227</th>\n",
       "      <td>None</td>\n",
       "      <td>Castle Rock</td>\n",
       "      <td>Diving</td>\n",
       "      <td>Rock Canyon</td>\n",
       "      <td>Castle Rock, Colo.</td>\n",
       "      <td>None</td>\n",
       "      <td>Tanille Paniogue</td>\n",
       "      <td>/sports/wswimdive/2008-09/bios/paniogue_tanille</td>\n",
       "      <td>None</td>\n",
       "      <td>None</td>\n",
       "      <td>Colo.</td>\n",
       "      <td>None</td>\n",
       "      <td>None</td>\n",
       "      <td>None</td>\n",
       "      <td>Senior</td>\n",
       "      <td>2008-09</td>\n",
       "      <td>wswimdive</td>\n",
       "    </tr>\n",
       "  </tbody>\n",
       "</table>\n",
       "</div>"
      ],
      "text/plain": [
       "        B/T         City   Event             High School            Hometown  \\\n",
       "0       R/R   Long Beach    None          Woodrow Wilson  Long Beach, Calif.   \n",
       "1       R/R       Austin    None  St. Stephens Episcopal       Austin, Texas   \n",
       "10      S/R     Winnetka    None               New Trier      Winnetka, Ill.   \n",
       "10059   L/L     Carlsbad    None         La Costa Canyon    Carlsbad, Calif.   \n",
       "10227  None  Castle Rock  Diving             Rock Canyon  Castle Rock, Colo.   \n",
       "\n",
       "        Ht.              Name  \\\n",
       "0       6-2    Tyler Albright   \n",
       "1      5-10      Cole Arledge   \n",
       "10      6-3       Zach Hofeld   \n",
       "10059  None     Jackie Cooley   \n",
       "10227  None  Tanille Paniogue   \n",
       "\n",
       "                                             Name_link   No.  Position  \\\n",
       "0              /sports/bsb/2008-09/bios/albright_tyler     6         C   \n",
       "1                /sports/bsb/2008-09/bios/arledge_cole     8         C   \n",
       "10                /sports/bsb/2008-09/bios/hofeld_zach    29       RHP   \n",
       "10059         /sports/sball/2010-11/bios/cooley_jackie     9  Outfield   \n",
       "10227  /sports/wswimdive/2008-09/bios/paniogue_tanille  None      None   \n",
       "\n",
       "       Region   S/C Weapon   Wt.       Yr.   season      sport  \n",
       "0      Calif.  None   None   190       Jr.  2008-09        bsb  \n",
       "1       Texas  None   None   180       Jr.  2008-09        bsb  \n",
       "10       Ill.  None   None   205       Jr.  2008-09        bsb  \n",
       "10059  Calif.  None   None  None  Freshman  2010-11      sball  \n",
       "10227   Colo.  None   None  None    Senior  2008-09  wswimdive  "
      ]
     },
     "execution_count": 11,
     "metadata": {},
     "output_type": "execute_result"
    }
   ],
   "source": [
    "df[df.duplicated(subset=['Name_link'],keep=False)].head()"
   ]
  },
  {
   "cell_type": "code",
   "execution_count": 12,
   "metadata": {
    "collapsed": false
   },
   "outputs": [
    {
     "data": {
      "text/plain": [
       "0        /sports/bsb/2008-09/bios/albright_tyler\n",
       "1          /sports/bsb/2008-09/bios/arledge_cole\n",
       "10          /sports/bsb/2008-09/bios/hofeld_zach\n",
       "100     /sports/bsb/2016-17/bios/allen_jake_gyf5\n",
       "1000        /sports/mbkb/1984-85/Bios/Eric_Wanta\n",
       "Name: Name_link, dtype: object"
      ]
     },
     "execution_count": 12,
     "metadata": {},
     "output_type": "execute_result"
    }
   ],
   "source": [
    "df['Name_link'].head()"
   ]
  },
  {
   "cell_type": "code",
   "execution_count": 13,
   "metadata": {
    "collapsed": true
   },
   "outputs": [],
   "source": [
    "# Let's make some data soup!\n",
    "\n",
    "def makeAthleteSoup(link, session=s):\n",
    "    if not link:\n",
    "        return None\n",
    "    time.sleep(THROTTLE_TIME)\n",
    "    result = session.get(\"http://www.gocrimson.com\" + link)\n",
    "    if result.status_code is 200:\n",
    "        return BeautifulSoup(result.content, 'lxml').find('div', class_=\"bio-wrap\")\n",
    "    else:\n",
    "        print(\"Site is down!\")"
   ]
  },
  {
   "cell_type": "code",
   "execution_count": 14,
   "metadata": {
    "collapsed": false
   },
   "outputs": [],
   "source": [
    "bios = df['Name_link'].unique()"
   ]
  },
  {
   "cell_type": "code",
   "execution_count": 22,
   "metadata": {
    "collapsed": false
   },
   "outputs": [
    {
     "data": {
      "text/plain": [
       "0        /sports/bsb/2008-09/bios/albright_tyler\n",
       "1          /sports/bsb/2008-09/bios/arledge_cole\n",
       "10          /sports/bsb/2008-09/bios/hofeld_zach\n",
       "100     /sports/bsb/2016-17/bios/allen_jake_gyf5\n",
       "1000        /sports/mbkb/1984-85/Bios/Eric_Wanta\n",
       "Name: Name_link, dtype: object"
      ]
     },
     "execution_count": 22,
     "metadata": {},
     "output_type": "execute_result"
    }
   ],
   "source": [
    "df['Name_link'].head()"
   ]
  },
  {
   "cell_type": "code",
   "execution_count": 15,
   "metadata": {
    "collapsed": true
   },
   "outputs": [],
   "source": [
    "bios = pd.Series(bios)"
   ]
  },
  {
   "cell_type": "markdown",
   "metadata": {},
   "source": [
    "## Main Loop\n",
    "\n",
    "Download all the bios, contained within bio-wrapper!\n",
    "\n",
    "Use tmux and run `ipython notebook &` as a background process to make sure it doesn't get stuck"
   ]
  },
  {
   "cell_type": "code",
   "execution_count": 16,
   "metadata": {
    "collapsed": false,
    "scrolled": false
   },
   "outputs": [
    {
     "name": "stderr",
     "output_type": "stream",
     "text": [
      "100%|██████████| 10806/10806 [3:03:44<00:00,  1.20s/it]\n"
     ]
    }
   ],
   "source": [
    "soups = bios.progress_apply(lambda x: makeAthleteSoup(x))"
   ]
  },
  {
   "cell_type": "code",
   "execution_count": 21,
   "metadata": {
    "collapsed": false
   },
   "outputs": [
    {
     "data": {
      "text/plain": [
       "/sports/bsb/2008-09/bios/albright_tyler     <div class=\"bio-wrap clearfix\" data-module=\"st...\n",
       "/sports/bsb/2008-09/bios/arledge_cole       <div class=\"bio-wrap clearfix\" data-module=\"st...\n",
       "/sports/bsb/2008-09/bios/hofeld_zach        <div class=\"bio-wrap clearfix\" data-module=\"st...\n",
       "/sports/bsb/2016-17/bios/allen_jake_gyf5    <div class=\"bio-wrap bio-wrap-has-highlights c...\n",
       "/sports/mbkb/1984-85/Bios/Eric_Wanta        <div class=\"bio-wrap clearfix\" data-module=\"st...\n",
       "dtype: object"
      ]
     },
     "execution_count": 21,
     "metadata": {},
     "output_type": "execute_result"
    }
   ],
   "source": [
    "# the join key is the bio URL\n",
    "soups.index = bios\n",
    "soups.head()"
   ]
  },
  {
   "cell_type": "markdown",
   "metadata": {},
   "source": [
    "Because of python 2.7 limitations, you cannot utf-8 encode and gzip simulateously. Thus we must use the linux gzip to do our compression."
   ]
  },
  {
   "cell_type": "code",
   "execution_count": 24,
   "metadata": {
    "collapsed": true
   },
   "outputs": [],
   "source": [
    "pd.DataFrame(soups).to_csv('harvard_bios.csv', encoding=\"utf-8\")"
   ]
  },
  {
   "cell_type": "code",
   "execution_count": 25,
   "metadata": {
    "collapsed": false,
    "scrolled": true
   },
   "outputs": [
    {
     "name": "stdout",
     "output_type": "stream",
     "text": [
      "136216\tharvard_bios.csv\r\n"
     ]
    }
   ],
   "source": [
    "!du harvard_bios.csv"
   ]
  },
  {
   "cell_type": "code",
   "execution_count": 30,
   "metadata": {
    "collapsed": true
   },
   "outputs": [],
   "source": [
    "!gzip -c harvard_bios.csv > harvard_bios.csv.gz"
   ]
  },
  {
   "cell_type": "code",
   "execution_count": 31,
   "metadata": {
    "collapsed": false
   },
   "outputs": [
    {
     "name": "stdout",
     "output_type": "stream",
     "text": [
      "11344\tharvard_bios.csv.gz\r\n"
     ]
    }
   ],
   "source": [
    "!du harvard_bios.csv.gz"
   ]
  },
  {
   "cell_type": "code",
   "execution_count": 32,
   "metadata": {
    "collapsed": true
   },
   "outputs": [],
   "source": [
    "d = pd.read_csv('harvard_bios.csv.gz', compression='gzip')"
   ]
  },
  {
   "cell_type": "code",
   "execution_count": 33,
   "metadata": {
    "collapsed": false
   },
   "outputs": [
    {
     "name": "stdout",
     "output_type": "stream",
     "text": [
      "<class 'pandas.core.frame.DataFrame'>\n",
      "RangeIndex: 10806 entries, 0 to 10805\n",
      "Data columns (total 2 columns):\n",
      "Unnamed: 0    10806 non-null object\n",
      "0             10774 non-null object\n",
      "dtypes: object(2)\n",
      "memory usage: 168.9+ KB\n"
     ]
    }
   ],
   "source": [
    "d.info()"
   ]
  },
  {
   "cell_type": "code",
   "execution_count": 41,
   "metadata": {
    "collapsed": false
   },
   "outputs": [
    {
     "data": {
      "text/plain": [
       "str"
      ]
     },
     "execution_count": 41,
     "metadata": {},
     "output_type": "execute_result"
    }
   ],
   "source": [
    "type(d['0'].iloc[4])"
   ]
  },
  {
   "cell_type": "code",
   "execution_count": 44,
   "metadata": {
    "collapsed": false
   },
   "outputs": [
    {
     "data": {
      "text/plain": [
       "[<matplotlib.lines.Line2D at 0x7f16b11359d0>]"
      ]
     },
     "execution_count": 44,
     "metadata": {},
     "output_type": "execute_result"
    },
    {
     "data": {
      "image/png": "[encoded data removed]",
      "text/plain": [
       "<matplotlib.figure.Figure at 0x7f16b11b2f90>"
      ]
     },
     "metadata": {},
     "output_type": "display_data"
    }
   ],
   "source": [
    "# check the lengths of these bio fields\n",
    "test = d['0'].apply(lambda x: len(x) if (type(x) == str) else 0)\n",
    "plt.plot(test)"
   ]
  }
 ],
 "metadata": {
  "kernelspec": {
   "display_name": "Python 2",
   "language": "python",
   "name": "python2"
  },
  "language_info": {
   "codemirror_mode": {
    "name": "ipython",
    "version": 2
   },
   "file_extension": ".py",
   "mimetype": "text/x-python",
   "name": "python",
   "nbconvert_exporter": "python",
   "pygments_lexer": "ipython2",
   "version": "2.7.12"
  }
 },
 "nbformat": 4,
 "nbformat_minor": 0
}
