{
 "cells": [
  {
   "cell_type": "code",
   "execution_count": null,
   "metadata": {
    "collapsed": true,
    "scrolled": true
   },
   "outputs": [],
   "source": [
    "# Use"
   ]
  },
  {
   "cell_type": "code",
   "execution_count": 1,
   "metadata": {
    "collapsed": true,
    "scrolled": true
   },
   "outputs": [],
   "source": [
    "from bs4 import BeautifulSoup\n",
    "import pandas as pd\n",
    "import re\n",
    "from tqdm import tqdm, tqdm_pandas, tqdm_notebook\n",
    "import os\n"
   ]
  },
  {
   "cell_type": "code",
   "execution_count": 2,
   "metadata": {
    "collapsed": true
   },
   "outputs": [],
   "source": [
    "tqdm.pandas()"
   ]
  },
  {
   "cell_type": "code",
   "execution_count": null,
   "metadata": {
    "collapsed": false,
    "scrolled": true
   },
   "outputs": [],
   "source": [
    "!ls | grep bios\n"
   ]
  },
  {
   "cell_type": "code",
   "execution_count": 4,
   "metadata": {
    "collapsed": false,
    "scrolled": true
   },
   "outputs": [
    {
     "name": "stdout",
     "output_type": "stream",
     "text": [
      "<class 'pandas.core.frame.DataFrame'>\n",
      "RangeIndex: 8618 entries, 0 to 8617\n",
      "Data columns (total 2 columns):\n",
      "Unnamed: 0    8618 non-null float64\n",
      "0             8535 non-null object\n",
      "dtypes: float64(1), object(1)\n",
      "memory usage: 134.7+ KB\n"
     ]
    }
   ],
   "source": [
    "\n",
    "df = pd.read_csv('../data/raw/yale_bios.csv.gz', compression='gzip')\n",
    "df.info()"
   ]
  },
  {
   "cell_type": "code",
   "execution_count": 5,
   "metadata": {
    "collapsed": false,
    "scrolled": true
   },
   "outputs": [
    {
     "data": {
      "text/html": [
       "<div>\n",
       "<table border=\"1\" class=\"dataframe\">\n",
       "  <thead>\n",
       "    <tr style=\"text-align: right;\">\n",
       "      <th></th>\n",
       "      <th>Unnamed: 0</th>\n",
       "      <th>0</th>\n",
       "    </tr>\n",
       "  </thead>\n",
       "  <tbody>\n",
       "    <tr>\n",
       "      <th>0</th>\n",
       "      <td>0.0</td>\n",
       "      <td>&lt;div class=\"bio-wrap clearfix\" data-module=\"st...</td>\n",
       "    </tr>\n",
       "    <tr>\n",
       "      <th>1</th>\n",
       "      <td>1.0</td>\n",
       "      <td>&lt;div class=\"bio-wrap clearfix\" data-module=\"st...</td>\n",
       "    </tr>\n",
       "    <tr>\n",
       "      <th>2</th>\n",
       "      <td>10.0</td>\n",
       "      <td>&lt;div class=\"bio-wrap clearfix\" data-module=\"st...</td>\n",
       "    </tr>\n",
       "    <tr>\n",
       "      <th>3</th>\n",
       "      <td>100.0</td>\n",
       "      <td>&lt;div class=\"bio-wrap clearfix\" data-module=\"st...</td>\n",
       "    </tr>\n",
       "    <tr>\n",
       "      <th>4</th>\n",
       "      <td>1000.0</td>\n",
       "      <td>&lt;div class=\"bio-wrap clearfix\" data-module=\"st...</td>\n",
       "    </tr>\n",
       "  </tbody>\n",
       "</table>\n",
       "</div>"
      ],
      "text/plain": [
       "   Unnamed: 0                                                  0\n",
       "0         0.0  <div class=\"bio-wrap clearfix\" data-module=\"st...\n",
       "1         1.0  <div class=\"bio-wrap clearfix\" data-module=\"st...\n",
       "2        10.0  <div class=\"bio-wrap clearfix\" data-module=\"st...\n",
       "3       100.0  <div class=\"bio-wrap clearfix\" data-module=\"st...\n",
       "4      1000.0  <div class=\"bio-wrap clearfix\" data-module=\"st..."
      ]
     },
     "execution_count": 5,
     "metadata": {},
     "output_type": "execute_result"
    }
   ],
   "source": [
    "df.head()"
   ]
  },
  {
   "cell_type": "markdown",
   "metadata": {},
   "source": [
    "We'll need to break up the strings into blocks and only use the markup that we actually need."
   ]
  },
  {
   "cell_type": "code",
   "execution_count": null,
   "metadata": {
    "collapsed": false,
    "scrolled": true
   },
   "outputs": [],
   "source": [
    "# the output needs to be handled 1 at a time, and then dumped out carefully.\n",
    "# df['soup'] = df['0'].progress_apply(lambda x: BeautifulSoup(x, 'lxml') )"
   ]
  },
  {
   "cell_type": "code",
   "execution_count": null,
   "metadata": {
    "collapsed": false
   },
   "outputs": [],
   "source": [
    "# tSoup = df['0'].head().progress_apply(lambda x: BeautifulSoup(x, 'lxml') )"
   ]
  },
  {
   "cell_type": "code",
   "execution_count": null,
   "metadata": {
    "collapsed": true
   },
   "outputs": [],
   "source": [
    "# ts = tSoup.iloc[0]"
   ]
  },
  {
   "cell_type": "code",
   "execution_count": 6,
   "metadata": {
    "collapsed": false
   },
   "outputs": [],
   "source": [
    "def tableToDict(soup):\n",
    "    \"Given a headerless table, return a dict with all the fields\"\n",
    "    table = {}\n",
    "    for row in soup.find_all('tr'):\n",
    "        cells = row.find_all('td')\n",
    "        table[str(cells[0].text.strip())] = cells[1].text.strip()\n",
    "        \n",
    "    return table\n",
    "    \n",
    "def soupToDict(soup):\n",
    "    \"Given a player's soup blob, parse their header\"\n",
    "    playerData = tableToDict(soup.select('div.player-info')[0].find('table'))\n",
    "    playerData['name'] = soup.select('div.player-name span.name')[0].text.strip()\n",
    "    return playerData\n",
    "def getSynopsis(soup):\n",
    "    \"Given a player's soup, split their bio information into \\\n",
    "    chunks for each strong header\"\n",
    "    \n",
    "    # Get all top level children\n",
    "#     bioPs = soup.select('div.synopsis')[0].find_all('p', recursive=False)\n",
    "    \n",
    "#     blocks= []\n",
    "#     # if their blocks are malformed, skip that block.\n",
    "#     for i, val in enumerate(bioPs):\n",
    "#         try:\n",
    "#             blocks[val.select('strong')[0].text] = val.get_text()\n",
    "#         except:\n",
    "#             printf(\"Text not detected\")\n",
    "        \n",
    "    \n",
    "    # Given the variation in blob types, just return\n",
    "    # single blob for now.\n",
    "    # Ryan Brenner: b instead of strong tags\n",
    "    # Jackson Stallings (Junior Year) - UL blobs mixed with P tags\n",
    "    # Jackson Stallings (Freshman) - Clean example\n",
    "    \n",
    "    # Sometimes, no bio\n",
    "#     http://yalebulldogs.com/sports/c-sail/2016-17/bios/buehler_patrick_nu3o?view=news\n",
    "    bio = soup.find('div',class_='synopsis')\n",
    "    return bio.get_text() if bio else None"
   ]
  },
  {
   "cell_type": "code",
   "execution_count": null,
   "metadata": {
    "collapsed": false
   },
   "outputs": [],
   "source": [
    "# ts.select('div.synopsis')[0].find_all('b')"
   ]
  },
  {
   "cell_type": "code",
   "execution_count": null,
   "metadata": {
    "collapsed": false
   },
   "outputs": [],
   "source": [
    "# getSynopsis(ts)"
   ]
  },
  {
   "cell_type": "code",
   "execution_count": null,
   "metadata": {
    "collapsed": false
   },
   "outputs": [],
   "source": [
    "# soupToDict(ts)"
   ]
  },
  {
   "cell_type": "code",
   "execution_count": null,
   "metadata": {
    "collapsed": false
   },
   "outputs": [],
   "source": [
    "# df['types'] = df['0'].map(type)\n",
    "# df['types'].describe()"
   ]
  },
  {
   "cell_type": "code",
   "execution_count": null,
   "metadata": {
    "collapsed": true
   },
   "outputs": [],
   "source": [
    "# df['types']"
   ]
  },
  {
   "cell_type": "code",
   "execution_count": 8,
   "metadata": {
    "collapsed": false
   },
   "outputs": [
    {
     "name": "stderr",
     "output_type": "stream",
     "text": [
      "100%|█| 8618/8618 [02:55<00:00, 49.05it/s]\n"
     ]
    }
   ],
   "source": [
    "df['headers'] = df['0'].progress_apply(lambda x: \\\n",
    "                                       soupToDict(BeautifulSoup(x, 'lxml')) if (type(x) == str) else None)"
   ]
  },
  {
   "cell_type": "code",
   "execution_count": 7,
   "metadata": {
    "collapsed": true
   },
   "outputs": [],
   "source": [
    "import json"
   ]
  },
  {
   "cell_type": "code",
   "execution_count": 9,
   "metadata": {
    "collapsed": false
   },
   "outputs": [
    {
     "name": "stderr",
     "output_type": "stream",
     "text": [
      "100%|█| 8618/8618 [00:00<00:00, 41038.09it/s]\n"
     ]
    }
   ],
   "source": [
    "df['headers'] = df['headers'].progress_apply(lambda x: json.dumps(x, encoding=\"utf-8\"))"
   ]
  },
  {
   "cell_type": "code",
   "execution_count": 10,
   "metadata": {
    "collapsed": false
   },
   "outputs": [
    {
     "name": "stderr",
     "output_type": "stream",
     "text": [
      "100%|█| 8618/8618 [00:00<00:00, 410382.74it/s]\n"
     ]
    }
   ],
   "source": [
    "df['synopsis'] = df['0'].progress_apply(lambda x: 0 )"
   ]
  },
  {
   "cell_type": "code",
   "execution_count": null,
   "metadata": {
    "collapsed": false,
    "scrolled": true
   },
   "outputs": [],
   "source": [
    "# df['synopsis'] = df['0'].progress_apply(lambda x: getSynopsis(BeautifulSoup(x, 'lxml')) if (type(x) == str) else None)"
   ]
  },
  {
   "cell_type": "code",
   "execution_count": 11,
   "metadata": {
    "collapsed": false
   },
   "outputs": [],
   "source": [
    "linkSeries = pd.read_json('bio_urls', typ='series')"
   ]
  },
  {
   "cell_type": "code",
   "execution_count": 12,
   "metadata": {
    "collapsed": false
   },
   "outputs": [
    {
     "data": {
      "text/plain": [
       "0                /sports/m-basebl/mtt/brenner_ryan00.html\n",
       "1                /sports/m-basebl/mtt/castaldi_joe00.html\n",
       "10      /sports/m-crewlt/2015-16/bios/straus-goldfarb_...\n",
       "100     /sports/m-crewlt/2013-14/bios/wulbern_robert_4pfm\n",
       "1000     /sports/m-footbl/2007-08/bios/coombs_matt00.html\n",
       "dtype: object"
      ]
     },
     "execution_count": 12,
     "metadata": {},
     "output_type": "execute_result"
    }
   ],
   "source": [
    "linkSeries.head()"
   ]
  },
  {
   "cell_type": "code",
   "execution_count": 13,
   "metadata": {
    "collapsed": false
   },
   "outputs": [],
   "source": [
    "df.index = linkSeries"
   ]
  },
  {
   "cell_type": "code",
   "execution_count": 14,
   "metadata": {
    "collapsed": true
   },
   "outputs": [],
   "source": [
    "df.index.rename('url',inplace=True)"
   ]
  },
  {
   "cell_type": "code",
   "execution_count": 15,
   "metadata": {
    "collapsed": false
   },
   "outputs": [
    {
     "data": {
      "text/html": [
       "<div>\n",
       "<table border=\"1\" class=\"dataframe\">\n",
       "  <thead>\n",
       "    <tr style=\"text-align: right;\">\n",
       "      <th></th>\n",
       "      <th>synopsis</th>\n",
       "      <th>headers</th>\n",
       "    </tr>\n",
       "    <tr>\n",
       "      <th>url</th>\n",
       "      <th></th>\n",
       "      <th></th>\n",
       "    </tr>\n",
       "  </thead>\n",
       "  <tbody>\n",
       "    <tr>\n",
       "      <th>/sports/m-basebl/mtt/brenner_ryan00.html</th>\n",
       "      <td>0</td>\n",
       "      <td>{\"Position:\": \"C\", \"Height:\": \"5-11\", \"Year:\":...</td>\n",
       "    </tr>\n",
       "    <tr>\n",
       "      <th>/sports/m-basebl/mtt/castaldi_joe00.html</th>\n",
       "      <td>0</td>\n",
       "      <td>{\"Position:\": \"P\", \"Height:\": \"6-2\", \"Year:\": ...</td>\n",
       "    </tr>\n",
       "    <tr>\n",
       "      <th>/sports/m-crewlt/2015-16/bios/straus-goldfarb_adam_sjz4</th>\n",
       "      <td>0</td>\n",
       "      <td>{\"Hometown:\": \"Princeton, N.J.\", \"Major:\": \"Ph...</td>\n",
       "    </tr>\n",
       "    <tr>\n",
       "      <th>/sports/m-crewlt/2013-14/bios/wulbern_robert_4pfm</th>\n",
       "      <td>0</td>\n",
       "      <td>{\"name\": \"Robert Wulbern\", \"Year:\": \"Jr.\", \"Ma...</td>\n",
       "    </tr>\n",
       "    <tr>\n",
       "      <th>/sports/m-footbl/2007-08/bios/coombs_matt00.html</th>\n",
       "      <td>0</td>\n",
       "      <td>{\"Position:\": \"DB\", \"Year:\": \"Senior\", \"Height...</td>\n",
       "    </tr>\n",
       "  </tbody>\n",
       "</table>\n",
       "</div>"
      ],
      "text/plain": [
       "                                                    synopsis  \\\n",
       "url                                                            \n",
       "/sports/m-basebl/mtt/brenner_ryan00.html                   0   \n",
       "/sports/m-basebl/mtt/castaldi_joe00.html                   0   \n",
       "/sports/m-crewlt/2015-16/bios/straus-goldfarb_a...         0   \n",
       "/sports/m-crewlt/2013-14/bios/wulbern_robert_4pfm          0   \n",
       "/sports/m-footbl/2007-08/bios/coombs_matt00.html           0   \n",
       "\n",
       "                                                                                              headers  \n",
       "url                                                                                                    \n",
       "/sports/m-basebl/mtt/brenner_ryan00.html            {\"Position:\": \"C\", \"Height:\": \"5-11\", \"Year:\":...  \n",
       "/sports/m-basebl/mtt/castaldi_joe00.html            {\"Position:\": \"P\", \"Height:\": \"6-2\", \"Year:\": ...  \n",
       "/sports/m-crewlt/2015-16/bios/straus-goldfarb_a...  {\"Hometown:\": \"Princeton, N.J.\", \"Major:\": \"Ph...  \n",
       "/sports/m-crewlt/2013-14/bios/wulbern_robert_4pfm   {\"name\": \"Robert Wulbern\", \"Year:\": \"Jr.\", \"Ma...  \n",
       "/sports/m-footbl/2007-08/bios/coombs_matt00.html    {\"Position:\": \"DB\", \"Year:\": \"Senior\", \"Height...  "
      ]
     },
     "execution_count": 15,
     "metadata": {},
     "output_type": "execute_result"
    }
   ],
   "source": [
    "df[['synopsis', 'headers']].head()"
   ]
  },
  {
   "cell_type": "code",
   "execution_count": 16,
   "metadata": {
    "collapsed": false
   },
   "outputs": [
    {
     "data": {
      "text/html": [
       "<div>\n",
       "<table border=\"1\" class=\"dataframe\">\n",
       "  <thead>\n",
       "    <tr style=\"text-align: right;\">\n",
       "      <th></th>\n",
       "      <th>Unnamed: 0</th>\n",
       "      <th>0</th>\n",
       "      <th>headers</th>\n",
       "      <th>synopsis</th>\n",
       "    </tr>\n",
       "    <tr>\n",
       "      <th>url</th>\n",
       "      <th></th>\n",
       "      <th></th>\n",
       "      <th></th>\n",
       "      <th></th>\n",
       "    </tr>\n",
       "  </thead>\n",
       "  <tbody>\n",
       "    <tr>\n",
       "      <th>/sports/m-basebl/mtt/brenner_ryan00.html</th>\n",
       "      <td>0.0</td>\n",
       "      <td>&lt;div class=\"bio-wrap clearfix\" data-module=\"st...</td>\n",
       "      <td>{\"Position:\": \"C\", \"Height:\": \"5-11\", \"Year:\":...</td>\n",
       "      <td>0</td>\n",
       "    </tr>\n",
       "    <tr>\n",
       "      <th>/sports/m-basebl/mtt/castaldi_joe00.html</th>\n",
       "      <td>1.0</td>\n",
       "      <td>&lt;div class=\"bio-wrap clearfix\" data-module=\"st...</td>\n",
       "      <td>{\"Position:\": \"P\", \"Height:\": \"6-2\", \"Year:\": ...</td>\n",
       "      <td>0</td>\n",
       "    </tr>\n",
       "    <tr>\n",
       "      <th>/sports/m-crewlt/2015-16/bios/straus-goldfarb_adam_sjz4</th>\n",
       "      <td>10.0</td>\n",
       "      <td>&lt;div class=\"bio-wrap clearfix\" data-module=\"st...</td>\n",
       "      <td>{\"Hometown:\": \"Princeton, N.J.\", \"Major:\": \"Ph...</td>\n",
       "      <td>0</td>\n",
       "    </tr>\n",
       "    <tr>\n",
       "      <th>/sports/m-crewlt/2013-14/bios/wulbern_robert_4pfm</th>\n",
       "      <td>100.0</td>\n",
       "      <td>&lt;div class=\"bio-wrap clearfix\" data-module=\"st...</td>\n",
       "      <td>{\"name\": \"Robert Wulbern\", \"Year:\": \"Jr.\", \"Ma...</td>\n",
       "      <td>0</td>\n",
       "    </tr>\n",
       "    <tr>\n",
       "      <th>/sports/m-footbl/2007-08/bios/coombs_matt00.html</th>\n",
       "      <td>1000.0</td>\n",
       "      <td>&lt;div class=\"bio-wrap clearfix\" data-module=\"st...</td>\n",
       "      <td>{\"Position:\": \"DB\", \"Year:\": \"Senior\", \"Height...</td>\n",
       "      <td>0</td>\n",
       "    </tr>\n",
       "  </tbody>\n",
       "</table>\n",
       "</div>"
      ],
      "text/plain": [
       "                                                    Unnamed: 0  \\\n",
       "url                                                              \n",
       "/sports/m-basebl/mtt/brenner_ryan00.html                   0.0   \n",
       "/sports/m-basebl/mtt/castaldi_joe00.html                   1.0   \n",
       "/sports/m-crewlt/2015-16/bios/straus-goldfarb_a...        10.0   \n",
       "/sports/m-crewlt/2013-14/bios/wulbern_robert_4pfm        100.0   \n",
       "/sports/m-footbl/2007-08/bios/coombs_matt00.html        1000.0   \n",
       "\n",
       "                                                                                                    0  \\\n",
       "url                                                                                                     \n",
       "/sports/m-basebl/mtt/brenner_ryan00.html            <div class=\"bio-wrap clearfix\" data-module=\"st...   \n",
       "/sports/m-basebl/mtt/castaldi_joe00.html            <div class=\"bio-wrap clearfix\" data-module=\"st...   \n",
       "/sports/m-crewlt/2015-16/bios/straus-goldfarb_a...  <div class=\"bio-wrap clearfix\" data-module=\"st...   \n",
       "/sports/m-crewlt/2013-14/bios/wulbern_robert_4pfm   <div class=\"bio-wrap clearfix\" data-module=\"st...   \n",
       "/sports/m-footbl/2007-08/bios/coombs_matt00.html    <div class=\"bio-wrap clearfix\" data-module=\"st...   \n",
       "\n",
       "                                                                                              headers  \\\n",
       "url                                                                                                     \n",
       "/sports/m-basebl/mtt/brenner_ryan00.html            {\"Position:\": \"C\", \"Height:\": \"5-11\", \"Year:\":...   \n",
       "/sports/m-basebl/mtt/castaldi_joe00.html            {\"Position:\": \"P\", \"Height:\": \"6-2\", \"Year:\": ...   \n",
       "/sports/m-crewlt/2015-16/bios/straus-goldfarb_a...  {\"Hometown:\": \"Princeton, N.J.\", \"Major:\": \"Ph...   \n",
       "/sports/m-crewlt/2013-14/bios/wulbern_robert_4pfm   {\"name\": \"Robert Wulbern\", \"Year:\": \"Jr.\", \"Ma...   \n",
       "/sports/m-footbl/2007-08/bios/coombs_matt00.html    {\"Position:\": \"DB\", \"Year:\": \"Senior\", \"Height...   \n",
       "\n",
       "                                                    synopsis  \n",
       "url                                                           \n",
       "/sports/m-basebl/mtt/brenner_ryan00.html                   0  \n",
       "/sports/m-basebl/mtt/castaldi_joe00.html                   0  \n",
       "/sports/m-crewlt/2015-16/bios/straus-goldfarb_a...         0  \n",
       "/sports/m-crewlt/2013-14/bios/wulbern_robert_4pfm          0  \n",
       "/sports/m-footbl/2007-08/bios/coombs_matt00.html           0  "
      ]
     },
     "execution_count": 16,
     "metadata": {},
     "output_type": "execute_result"
    }
   ],
   "source": [
    "df.head()"
   ]
  },
  {
   "cell_type": "code",
   "execution_count": 18,
   "metadata": {
    "collapsed": false
   },
   "outputs": [],
   "source": [
    "df[['synopsis', 'headers']].to_csv('../data/interim/yale_bio_parsed.csv', encoding='utf-8')"
   ]
  },
  {
   "cell_type": "code",
   "execution_count": null,
   "metadata": {
    "collapsed": false
   },
   "outputs": [],
   "source": [
    "!ls -lS | grep csv.gz"
   ]
  }
 ],
 "metadata": {
  "anaconda-cloud": {},
  "kernelspec": {
   "display_name": "Python [default]",
   "language": "python",
   "name": "python2"
  },
  "language_info": {
   "codemirror_mode": {
    "name": "ipython",
    "version": 2
   },
   "file_extension": ".py",
   "mimetype": "text/x-python",
   "name": "python",
   "nbconvert_exporter": "python",
   "pygments_lexer": "ipython2",
   "version": "2.7.12"
  }
 },
 "nbformat": 4,
 "nbformat_minor": 0
}
