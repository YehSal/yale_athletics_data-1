{
 "cells": [
  {
   "cell_type": "code",
   "execution_count": 1,
   "metadata": {
    "collapsed": true,
    "scrolled": true
   },
   "outputs": [],
   "source": [
    "# Use"
   ]
  },
  {
   "cell_type": "code",
   "execution_count": 5,
   "metadata": {
    "collapsed": true,
    "scrolled": true
   },
   "outputs": [],
   "source": [
    "from bs4 import BeautifulSoup\n",
    "import pandas as pd\n",
    "import re\n",
    "from tqdm import tqdm, tqdm_pandas, tqdm_notebook\n",
    "import os\n"
   ]
  },
  {
   "cell_type": "code",
   "execution_count": 2,
   "metadata": {
    "collapsed": true
   },
   "outputs": [],
   "source": [
    "tqdm.pandas()"
   ]
  },
  {
   "cell_type": "code",
   "execution_count": 3,
   "metadata": {
    "collapsed": false,
    "scrolled": true
   },
   "outputs": [
    {
     "name": "stdout",
     "output_type": "stream",
     "text": [
      "3-cy-get-yale-bios-zoo.ipynb\n",
      "6-cy-get-harvard-bios-zoo.ipynb\n",
      "7-cy-parse-yale-bios.ipynb\n",
      "8-cy-parse-harvard-bios.ipynb\n",
      "9-cy-parse-yale-bios-spark.ipynb\n"
     ]
    }
   ],
   "source": [
    "!ls | grep bios\n"
   ]
  },
  {
   "cell_type": "code",
   "execution_count": 8,
   "metadata": {
    "collapsed": false,
    "scrolled": true
   },
   "outputs": [
    {
     "name": "stdout",
     "output_type": "stream",
     "text": [
      "<class 'pandas.core.frame.DataFrame'>\n",
      "RangeIndex: 8618 entries, 0 to 8617\n",
      "Data columns (total 2 columns):\n",
      "Unnamed: 0    8618 non-null float64\n",
      "0             8535 non-null object\n",
      "dtypes: float64(1), object(1)\n",
      "memory usage: 134.7+ KB\n"
     ]
    }
   ],
   "source": [
    "\n",
    "df = pd.read_csv('../data/raw/yale_bios.csv.gz', compression='gzip')\n",
    "df.info()"
   ]
  },
  {
   "cell_type": "code",
   "execution_count": 6,
   "metadata": {
    "collapsed": false,
    "scrolled": true
   },
   "outputs": [
    {
     "data": {
      "text/html": [
       "<div>\n",
       "<table border=\"1\" class=\"dataframe\">\n",
       "  <thead>\n",
       "    <tr style=\"text-align: right;\">\n",
       "      <th></th>\n",
       "      <th>Unnamed: 0</th>\n",
       "      <th>0</th>\n",
       "    </tr>\n",
       "  </thead>\n",
       "  <tbody>\n",
       "    <tr>\n",
       "      <th>0</th>\n",
       "      <td>0.0</td>\n",
       "      <td>&lt;div class=\"bio-wrap clearfix\" data-module=\"st...</td>\n",
       "    </tr>\n",
       "    <tr>\n",
       "      <th>1</th>\n",
       "      <td>1.0</td>\n",
       "      <td>&lt;div class=\"bio-wrap clearfix\" data-module=\"st...</td>\n",
       "    </tr>\n",
       "    <tr>\n",
       "      <th>2</th>\n",
       "      <td>10.0</td>\n",
       "      <td>&lt;div class=\"bio-wrap clearfix\" data-module=\"st...</td>\n",
       "    </tr>\n",
       "    <tr>\n",
       "      <th>3</th>\n",
       "      <td>100.0</td>\n",
       "      <td>&lt;div class=\"bio-wrap clearfix\" data-module=\"st...</td>\n",
       "    </tr>\n",
       "    <tr>\n",
       "      <th>4</th>\n",
       "      <td>1000.0</td>\n",
       "      <td>&lt;div class=\"bio-wrap clearfix\" data-module=\"st...</td>\n",
       "    </tr>\n",
       "  </tbody>\n",
       "</table>\n",
       "</div>"
      ],
      "text/plain": [
       "   Unnamed: 0                                                  0\n",
       "0         0.0  <div class=\"bio-wrap clearfix\" data-module=\"st...\n",
       "1         1.0  <div class=\"bio-wrap clearfix\" data-module=\"st...\n",
       "2        10.0  <div class=\"bio-wrap clearfix\" data-module=\"st...\n",
       "3       100.0  <div class=\"bio-wrap clearfix\" data-module=\"st...\n",
       "4      1000.0  <div class=\"bio-wrap clearfix\" data-module=\"st..."
      ]
     },
     "execution_count": 6,
     "metadata": {},
     "output_type": "execute_result"
    }
   ],
   "source": [
    "df.head()"
   ]
  },
  {
   "cell_type": "markdown",
   "metadata": {},
   "source": [
    "We'll need to break up the strings into blocks and only use the markup that we actually need."
   ]
  },
  {
   "cell_type": "code",
   "execution_count": 7,
   "metadata": {
    "collapsed": false,
    "scrolled": true
   },
   "outputs": [],
   "source": [
    "# the output needs to be handled 1 at a time, and then dumped out carefully.\n",
    "# df['soup'] = df['0'].progress_apply(lambda x: BeautifulSoup(x, 'lxml') )"
   ]
  },
  {
   "cell_type": "code",
   "execution_count": 8,
   "metadata": {
    "collapsed": false
   },
   "outputs": [
    {
     "name": "stderr",
     "output_type": "stream",
     "text": [
      "100%|██████████| 5/5 [00:00<00:00, 11.98it/s]\n"
     ]
    }
   ],
   "source": [
    "# tSoup = df['0'].head().progress_apply(lambda x: BeautifulSoup(x, 'lxml') )"
   ]
  },
  {
   "cell_type": "code",
   "execution_count": 9,
   "metadata": {
    "collapsed": true
   },
   "outputs": [],
   "source": [
    "# ts = tSoup.iloc[0]"
   ]
  },
  {
   "cell_type": "code",
   "execution_count": 9,
   "metadata": {
    "collapsed": false
   },
   "outputs": [],
   "source": [
    "def tableToDict(soup):\n",
    "    \"Given a headerless table, return a dict with all the fields\"\n",
    "    table = {}\n",
    "    for row in soup.find_all('tr'):\n",
    "        cells = row.find_all('td')\n",
    "        table[str(cells[0].text.strip())] = cells[1].text.strip()\n",
    "        \n",
    "    return table\n",
    "    \n",
    "def soupToDict(soup):\n",
    "    \"Given a player's soup blob, parse their header\"\n",
    "    playerData = tableToDict(soup.select('div.player-info')[0].find('table'))\n",
    "    playerData['name'] = soup.select('div.player-name span.name')[0].text.strip()\n",
    "    return playerData\n",
    "def getSynopsis(soup):\n",
    "    \"Given a player's soup, split their bio information into \\\n",
    "    chunks for each strong header\"\n",
    "    \n",
    "    # Get all top level children\n",
    "#     bioPs = soup.select('div.synopsis')[0].find_all('p', recursive=False)\n",
    "    \n",
    "#     blocks= []\n",
    "#     # if their blocks are malformed, skip that block.\n",
    "#     for i, val in enumerate(bioPs):\n",
    "#         try:\n",
    "#             blocks[val.select('strong')[0].text] = val.get_text()\n",
    "#         except:\n",
    "#             printf(\"Text not detected\")\n",
    "        \n",
    "    \n",
    "    # Given the variation in blob types, just return\n",
    "    # single blob for now.\n",
    "    # Ryan Brenner: b instead of strong tags\n",
    "    # Jackson Stallings (Junior Year) - UL blobs mixed with P tags\n",
    "    # Jackson Stallings (Freshman) - Clean example\n",
    "    \n",
    "    # Sometimes, no bio\n",
    "#     http://yalebulldogs.com/sports/c-sail/2016-17/bios/buehler_patrick_nu3o?view=news\n",
    "    bio = soup.find('div',class_='synopsis')\n",
    "    return bio.get_text() if bio else None"
   ]
  },
  {
   "cell_type": "code",
   "execution_count": 11,
   "metadata": {
    "collapsed": false
   },
   "outputs": [
    {
     "data": {
      "text/plain": [
       "[<b>2009:</b>,\n",
       " <b>Stuper Says:</b>,\n",
       " <b><u>Getting to Know Ryan</u></b>,\n",
       " <b>Parents' Names:</b>,\n",
       " <b>Major:</b>,\n",
       " <b>Best Athletic Moment:</b>,\n",
       " <b>Favorite MLB Team:</b>,\n",
       " <b>Favorite MLB Player:</b>,\n",
       " <b>Favorite Quote:</b>,\n",
       " <b>One word to describe yourself as a player:</b>,\n",
       " <b>Why Yale?:</b>,\n",
       " <b>Year       Avg  GP-GS    AB    R    H  2B  3B  HR  RBI   TB  SLG%  BB HBP  SO GDP   OB%  SF  SH  SB-ATT   PO   A   E  FLD%</b>,\n",
       " <b>TOTAL...  .211  22-20    57   12   12   6   0   1    7   21  .368   6  10  10   1  .384   0   0   1-2    108  10   3  .975</b>]"
      ]
     },
     "execution_count": 11,
     "metadata": {},
     "output_type": "execute_result"
    }
   ],
   "source": [
    "# ts.select('div.synopsis')[0].find_all('b')"
   ]
  },
  {
   "cell_type": "code",
   "execution_count": 12,
   "metadata": {
    "collapsed": false
   },
   "outputs": [
    {
     "data": {
      "text/plain": [
       "u'\\n2009: Made 22 appearances, including 20 starts...Started 18 games behind the plate, batting .211 with one home run and 12 RBI...Was hit by a pitch 10 times to lead the team...Went 2-for-5 with two doubles, an RBI and two runs scored on March 9 at Maryland-Baltimore County...Hit a two-run home run, the first of his career, in the March 17 win at Towson...Was a perfect 3-for-3 with two doubles and an RBI at Cornell on March 31...Went 3-for-4, scoring two runs, in game two of an April 19 doubleheader against Dartmouth...Drove in two runs with a double on April 26 at Brown.\\nStuper Says: \"Ryan will log quite a few innings in quite a few places. His best position is behind the plate, but he will see time at third, DH, and in the outfield . He is an outstanding hitter already with a very solid approach. I expect he will be in the lineup right away.\"\\nGetting to Know Ryan\\nParents\\' Names: Marc and Suzanne Brenner\\nMajor: Undeclared\\nBest Athletic Moment: Winning the league championship my junior year of high school\\nFavorite MLB Team: New York Mets\\nFavorite MLB Player: David Wright\\nFavorite Quote: \"Do today what others won\\'t, so you can do tomorrow what others can\\'t\"\\nOne word to describe yourself as a player: Aggressive\\nWhy Yale?: The combination of a world class education, great campus and students and the opportunity to play Division I baseball.\\n\\n\\n\\nYear       Avg  GP-GS    AB    R    H  2B  3B  HR  RBI   TB  SLG%  BB HBP  SO GDP   OB%  SF  SH  SB-ATT   PO   A   E  FLD%\\n2009....  .211  22-20    57   12   12   6   0   1    7   21  .368   6  10  10   1  .384   0   0   1-2    108  10   3  .975\\nTOTAL...  .211  22-20    57   12   12   6   0   1    7   21  .368   6  10  10   1  .384   0   0   1-2    108  10   3  .975\\n'"
      ]
     },
     "execution_count": 12,
     "metadata": {},
     "output_type": "execute_result"
    }
   ],
   "source": [
    "getSynopsis(ts)"
   ]
  },
  {
   "cell_type": "code",
   "execution_count": 13,
   "metadata": {
    "collapsed": false
   },
   "outputs": [
    {
     "data": {
      "text/plain": [
       "{'Birth Date:': u'09/26/1990',\n",
       " 'Height:': u'5-11',\n",
       " 'High School:': u'Chaminade',\n",
       " 'Hometown:': u'Manhasset, N.Y.',\n",
       " 'Position:': u'C',\n",
       " 'Weight:': u'180',\n",
       " 'Year:': u'Freshman',\n",
       " 'name': u'Ryan Brenner'}"
      ]
     },
     "execution_count": 13,
     "metadata": {},
     "output_type": "execute_result"
    }
   ],
   "source": [
    "soupToDict(ts)"
   ]
  },
  {
   "cell_type": "code",
   "execution_count": 14,
   "metadata": {
    "collapsed": false
   },
   "outputs": [],
   "source": [
    "# df['types'] = df['0'].map(type)\n",
    "# df['types'].describe()"
   ]
  },
  {
   "cell_type": "code",
   "execution_count": 15,
   "metadata": {
    "collapsed": true
   },
   "outputs": [],
   "source": [
    "# df['types']"
   ]
  },
  {
   "cell_type": "code",
   "execution_count": 10,
   "metadata": {
    "collapsed": false
   },
   "outputs": [
    {
     "name": "stderr",
     "output_type": "stream",
     "text": [
      "100%|█| 8618/8618 [02:22<00:00, 60.45it/s]\n"
     ]
    }
   ],
   "source": [
    "df['headers'] = df['0'].progress_apply(lambda x: \\\n",
    "                                       soupToDict(BeautifulSoup(x, 'lxml')) if (type(x) == str) else None)"
   ]
  },
  {
   "cell_type": "code",
   "execution_count": 12,
   "metadata": {
    "collapsed": true
   },
   "outputs": [],
   "source": [
    "import json"
   ]
  },
  {
   "cell_type": "code",
   "execution_count": 13,
   "metadata": {
    "collapsed": false
   },
   "outputs": [
    {
     "name": "stderr",
     "output_type": "stream",
     "text": [
      "\n",
      "  0%|          | 0/8618 [00:00<?, ?it/s]\n",
      " 70%|▋| 6037/8618 [00:00<00:00, 59772.24it/s]\n",
      "100%|█| 8618/8618 [00:00<00:00, 48689.25it/s]"
     ]
    }
   ],
   "source": [
    "df['headers2'] = df['headers'].progress_apply(lambda x: json.dumps(x, encoding=\"utf-8\"))"
   ]
  },
  {
   "cell_type": "code",
   "execution_count": 14,
   "metadata": {
    "collapsed": true
   },
   "outputs": [],
   "source": [
    "df['headers'] = df['headers2']"
   ]
  },
  {
   "cell_type": "code",
   "execution_count": 15,
   "metadata": {
    "collapsed": false
   },
   "outputs": [
    {
     "name": "stderr",
     "output_type": "stream",
     "text": [
      "\n",
      "  0%|          | 0/8618 [00:00<?, ?it/s]\n",
      "100%|█| 8618/8618 [00:00<00:00, 374695.62it/s]"
     ]
    }
   ],
   "source": [
    "df['synopsis'] = df['0'].progress_apply(lambda x: 0 )"
   ]
  },
  {
   "cell_type": "code",
   "execution_count": null,
   "metadata": {
    "collapsed": false,
    "scrolled": true
   },
   "outputs": [],
   "source": [
    "# df['synopsis'] = df['0'].progress_apply(lambda x: getSynopsis(BeautifulSoup(x, 'lxml')) if (type(x) == str) else None)"
   ]
  },
  {
   "cell_type": "code",
   "execution_count": 21,
   "metadata": {
    "collapsed": false
   },
   "outputs": [],
   "source": [
    "linkSeries = pd.read_csv('../data/raw/yale_bio_urls.csv', header=None)"
   ]
  },
  {
   "cell_type": "code",
   "execution_count": 22,
   "metadata": {
    "collapsed": false
   },
   "outputs": [
    {
     "data": {
      "text/html": [
       "<div>\n",
       "<table border=\"1\" class=\"dataframe\">\n",
       "  <thead>\n",
       "    <tr style=\"text-align: right;\">\n",
       "      <th></th>\n",
       "      <th>0</th>\n",
       "    </tr>\n",
       "  </thead>\n",
       "  <tbody>\n",
       "    <tr>\n",
       "      <th>0</th>\n",
       "      <td>/sports/m-basebl/mtt/brenner_ryan00.html</td>\n",
       "    </tr>\n",
       "    <tr>\n",
       "      <th>1</th>\n",
       "      <td>/sports/m-basebl/mtt/castaldi_joe00.html</td>\n",
       "    </tr>\n",
       "    <tr>\n",
       "      <th>2</th>\n",
       "      <td>/sports/m-basebl/mtt/ludwig_pat00.html</td>\n",
       "    </tr>\n",
       "    <tr>\n",
       "      <th>3</th>\n",
       "      <td>/sports/m-basebl/2016-17/bios/cecere_bobby_a3p9</td>\n",
       "    </tr>\n",
       "    <tr>\n",
       "      <th>4</th>\n",
       "      <td>/sports/m-crewlt/2015-16/bios/sanderson_eric_edr3</td>\n",
       "    </tr>\n",
       "  </tbody>\n",
       "</table>\n",
       "</div>"
      ],
      "text/plain": [
       "                                                   0\n",
       "0           /sports/m-basebl/mtt/brenner_ryan00.html\n",
       "1           /sports/m-basebl/mtt/castaldi_joe00.html\n",
       "2             /sports/m-basebl/mtt/ludwig_pat00.html\n",
       "3    /sports/m-basebl/2016-17/bios/cecere_bobby_a3p9\n",
       "4  /sports/m-crewlt/2015-16/bios/sanderson_eric_edr3"
      ]
     },
     "execution_count": 22,
     "metadata": {},
     "output_type": "execute_result"
    }
   ],
   "source": [
    "linkSeries.head()"
   ]
  },
  {
   "cell_type": "code",
   "execution_count": 23,
   "metadata": {
    "collapsed": false
   },
   "outputs": [],
   "source": [
    "df.index = linkSeries[0]"
   ]
  },
  {
   "cell_type": "code",
   "execution_count": 31,
   "metadata": {
    "collapsed": false
   },
   "outputs": [
    {
     "data": {
      "text/html": [
       "<div>\n",
       "<table border=\"1\" class=\"dataframe\">\n",
       "  <thead>\n",
       "    <tr style=\"text-align: right;\">\n",
       "      <th></th>\n",
       "      <th>Unnamed: 0</th>\n",
       "      <th>0</th>\n",
       "      <th>headers</th>\n",
       "      <th>synopsis</th>\n",
       "    </tr>\n",
       "    <tr>\n",
       "      <th>0</th>\n",
       "      <th></th>\n",
       "      <th></th>\n",
       "      <th></th>\n",
       "      <th></th>\n",
       "    </tr>\n",
       "  </thead>\n",
       "  <tbody>\n",
       "    <tr>\n",
       "      <th>/sports/m-basebl/mtt/brenner_ryan00.html</th>\n",
       "      <td>0.0</td>\n",
       "      <td>&lt;div class=\"bio-wrap clearfix\" data-module=\"st...</td>\n",
       "      <td>{u'Position:': u'C', u'Height:': u'5-11', u'Ye...</td>\n",
       "      <td>\\n2009: Made 22 appearances, including 20 star...</td>\n",
       "    </tr>\n",
       "    <tr>\n",
       "      <th>/sports/m-basebl/mtt/castaldi_joe00.html</th>\n",
       "      <td>1.0</td>\n",
       "      <td>&lt;div class=\"bio-wrap clearfix\" data-module=\"st...</td>\n",
       "      <td>{u'Position:': u'P', u'Height:': u'6-2', u'Yea...</td>\n",
       "      <td>\\n2010: Team captain.\\n2009: Made 12 appearanc...</td>\n",
       "    </tr>\n",
       "    <tr>\n",
       "      <th>/sports/m-basebl/mtt/ludwig_pat00.html</th>\n",
       "      <td>10.0</td>\n",
       "      <td>&lt;div class=\"bio-wrap clearfix\" data-module=\"st...</td>\n",
       "      <td>{u'Hometown:': u'Princeton, N.J.', u'Major:': ...</td>\n",
       "      <td>\\n2015-16 (Junior): ThreeÂ seat of the fourth ...</td>\n",
       "    </tr>\n",
       "    <tr>\n",
       "      <th>/sports/m-basebl/2016-17/bios/cecere_bobby_a3p9</th>\n",
       "      <td>100.0</td>\n",
       "      <td>&lt;div class=\"bio-wrap clearfix\" data-module=\"st...</td>\n",
       "      <td>{u'name': u'Robert Wulbern', u'Year:': u'Jr.',...</td>\n",
       "      <td>\\n2012-13: Rowed in stroke-seat of the 2V at E...</td>\n",
       "    </tr>\n",
       "    <tr>\n",
       "      <th>/sports/m-crewlt/2015-16/bios/sanderson_eric_edr3</th>\n",
       "      <td>1000.0</td>\n",
       "      <td>&lt;div class=\"bio-wrap clearfix\" data-module=\"st...</td>\n",
       "      <td>{u'Position:': u'DB', u'Year:': u'Senior', u'H...</td>\n",
       "      <td>\\n2006 Backup DB who played in all but one gam...</td>\n",
       "    </tr>\n",
       "  </tbody>\n",
       "</table>\n",
       "</div>"
      ],
      "text/plain": [
       "                                                   Unnamed: 0  \\\n",
       "0                                                               \n",
       "/sports/m-basebl/mtt/brenner_ryan00.html                  0.0   \n",
       "/sports/m-basebl/mtt/castaldi_joe00.html                  1.0   \n",
       "/sports/m-basebl/mtt/ludwig_pat00.html                   10.0   \n",
       "/sports/m-basebl/2016-17/bios/cecere_bobby_a3p9         100.0   \n",
       "/sports/m-crewlt/2015-16/bios/sanderson_eric_edr3      1000.0   \n",
       "\n",
       "                                                                                                   0  \\\n",
       "0                                                                                                      \n",
       "/sports/m-basebl/mtt/brenner_ryan00.html           <div class=\"bio-wrap clearfix\" data-module=\"st...   \n",
       "/sports/m-basebl/mtt/castaldi_joe00.html           <div class=\"bio-wrap clearfix\" data-module=\"st...   \n",
       "/sports/m-basebl/mtt/ludwig_pat00.html             <div class=\"bio-wrap clearfix\" data-module=\"st...   \n",
       "/sports/m-basebl/2016-17/bios/cecere_bobby_a3p9    <div class=\"bio-wrap clearfix\" data-module=\"st...   \n",
       "/sports/m-crewlt/2015-16/bios/sanderson_eric_edr3  <div class=\"bio-wrap clearfix\" data-module=\"st...   \n",
       "\n",
       "                                                                                             headers  \\\n",
       "0                                                                                                      \n",
       "/sports/m-basebl/mtt/brenner_ryan00.html           {u'Position:': u'C', u'Height:': u'5-11', u'Ye...   \n",
       "/sports/m-basebl/mtt/castaldi_joe00.html           {u'Position:': u'P', u'Height:': u'6-2', u'Yea...   \n",
       "/sports/m-basebl/mtt/ludwig_pat00.html             {u'Hometown:': u'Princeton, N.J.', u'Major:': ...   \n",
       "/sports/m-basebl/2016-17/bios/cecere_bobby_a3p9    {u'name': u'Robert Wulbern', u'Year:': u'Jr.',...   \n",
       "/sports/m-crewlt/2015-16/bios/sanderson_eric_edr3  {u'Position:': u'DB', u'Year:': u'Senior', u'H...   \n",
       "\n",
       "                                                                                            synopsis  \n",
       "0                                                                                                     \n",
       "/sports/m-basebl/mtt/brenner_ryan00.html           \\n2009: Made 22 appearances, including 20 star...  \n",
       "/sports/m-basebl/mtt/castaldi_joe00.html           \\n2010: Team captain.\\n2009: Made 12 appearanc...  \n",
       "/sports/m-basebl/mtt/ludwig_pat00.html             \\n2015-16 (Junior): ThreeÂ seat of the fourth ...  \n",
       "/sports/m-basebl/2016-17/bios/cecere_bobby_a3p9    \\n2012-13: Rowed in stroke-seat of the 2V at E...  \n",
       "/sports/m-crewlt/2015-16/bios/sanderson_eric_edr3  \\n2006 Backup DB who played in all but one gam...  "
      ]
     },
     "execution_count": 31,
     "metadata": {},
     "output_type": "execute_result"
    }
   ],
   "source": [
    "df.head()"
   ]
  },
  {
   "cell_type": "code",
   "execution_count": null,
   "metadata": {
    "collapsed": true
   },
   "outputs": [],
   "source": []
  },
  {
   "cell_type": "code",
   "execution_count": 17,
   "metadata": {
    "collapsed": false
   },
   "outputs": [],
   "source": [
    "df[['synopsis', 'headers2']].to_csv('../data/interim/yale_bio_parsed.csv.gz', compression='gzip')"
   ]
  },
  {
   "cell_type": "code",
   "execution_count": 34,
   "metadata": {
    "collapsed": true
   },
   "outputs": [],
   "source": [
    "!gzip -c yale_bio_parsed.csv > yale_bio_parsed.csv.gz"
   ]
  },
  {
   "cell_type": "code",
   "execution_count": 18,
   "metadata": {
    "collapsed": false
   },
   "outputs": [
    {
     "name": "stdout",
     "output_type": "stream",
     "text": [
      "-rw-r--r-- 1 cyick 197609 231002 Dec  2 18:53 yale_bio_parsed.csv.gz\n"
     ]
    }
   ],
   "source": [
    "!ls -lS | grep csv.gz"
   ]
  }
 ],
 "metadata": {
  "anaconda-cloud": {},
  "kernelspec": {
   "display_name": "Python [default]",
   "language": "python",
   "name": "python2"
  },
  "language_info": {
   "codemirror_mode": {
    "name": "ipython",
    "version": 2
   },
   "file_extension": ".py",
   "mimetype": "text/x-python",
   "name": "python",
   "nbconvert_exporter": "python",
   "pygments_lexer": "ipython2",
   "version": "2.7.12"
  }
 },
 "nbformat": 4,
 "nbformat_minor": 0
}
