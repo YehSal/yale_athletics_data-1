{
 "cells": [
  {
   "cell_type": "code",
   "execution_count": 1,
   "metadata": {
    "collapsed": true,
    "scrolled": true
   },
   "outputs": [],
   "source": [
    "# Use"
   ]
  },
  {
   "cell_type": "code",
   "execution_count": 1,
   "metadata": {
    "collapsed": false,
    "scrolled": true
   },
   "outputs": [],
   "source": [
    "from bs4 import BeautifulSoup\n",
    "import pandas as pd\n",
    "import re\n",
    "from tqdm import tqdm, tqdm_pandas, tqdm_notebook\n"
   ]
  },
  {
   "cell_type": "code",
   "execution_count": 2,
   "metadata": {
    "collapsed": false
   },
   "outputs": [],
   "source": [
    "tqdm.pandas()"
   ]
  },
  {
   "cell_type": "code",
   "execution_count": null,
   "metadata": {
    "collapsed": false,
    "scrolled": true
   },
   "outputs": [],
   "source": [
    "!ls | grep bios\n"
   ]
  },
  {
   "cell_type": "code",
   "execution_count": 3,
   "metadata": {
    "collapsed": false,
    "scrolled": true
   },
   "outputs": [
    {
     "name": "stdout",
     "output_type": "stream",
     "text": [
      "<class 'pandas.core.frame.DataFrame'>\n",
      "RangeIndex: 10806 entries, 0 to 10805\n",
      "Data columns (total 2 columns):\n",
      "Unnamed: 0    10806 non-null object\n",
      "0             10774 non-null object\n",
      "dtypes: object(2)\n",
      "memory usage: 168.9+ KB\n"
     ]
    }
   ],
   "source": [
    "\n",
    "df = pd.read_csv('../data/raw/harvard_bios.csv.gz', compression='gzip')\n",
    "df.info()"
   ]
  },
  {
   "cell_type": "code",
   "execution_count": null,
   "metadata": {
    "collapsed": false,
    "scrolled": true
   },
   "outputs": [],
   "source": [
    "df.head()"
   ]
  },
  {
   "cell_type": "markdown",
   "metadata": {},
   "source": [
    "We'll need to break up the strings into blocks and only use the markup that we actually need."
   ]
  },
  {
   "cell_type": "code",
   "execution_count": null,
   "metadata": {
    "collapsed": false,
    "scrolled": true
   },
   "outputs": [],
   "source": [
    "# the output needs to be handled 1 at a time, and then dumped out carefully.\n",
    "# df['soup'] = df['0'].progress_apply(lambda x: BeautifulSoup(x, 'lxml') )"
   ]
  },
  {
   "cell_type": "code",
   "execution_count": null,
   "metadata": {
    "collapsed": false
   },
   "outputs": [],
   "source": [
    "# tSoup = df['0'].head().progress_apply(lambda x: BeautifulSoup(x, 'lxml') )"
   ]
  },
  {
   "cell_type": "code",
   "execution_count": null,
   "metadata": {
    "collapsed": true
   },
   "outputs": [],
   "source": [
    "# ts = tSoup.iloc[0]"
   ]
  },
  {
   "cell_type": "code",
   "execution_count": 4,
   "metadata": {
    "collapsed": true
   },
   "outputs": [],
   "source": [
    "import json"
   ]
  },
  {
   "cell_type": "code",
   "execution_count": 5,
   "metadata": {
    "collapsed": false
   },
   "outputs": [],
   "source": [
    "def tableToDict(soup):\n",
    "    \"Given a headerless table, return a dict with all the fields\"\n",
    "    table = {}\n",
    "    for row in soup.find_all('tr'):\n",
    "        cells = row.find_all('td')\n",
    "        table[str(cells[0].text.strip())] = cells[1].text.strip()\n",
    "        \n",
    "    return table\n",
    "    \n",
    "def soupToDict(soup):\n",
    "    \"Given a player's soup blob, parse their header\"\n",
    "    playerData = tableToDict(soup.select('div.player-info')[0].find('table'))\n",
    "    playerData['name'] = soup.select('div.player-name span.name')[0].text.strip()\n",
    "    return playerData\n",
    "def getSynopsis(soup):\n",
    "    \"Given a player's soup, split their bio information into \\\n",
    "    chunks for each strong header\"\n",
    "    \n",
    "    # Get all top level children\n",
    "#     bioPs = soup.select('div.synopsis')[0].find_all('p', recursive=False)\n",
    "    \n",
    "#     blocks= []\n",
    "#     # if their blocks are malformed, skip that block.\n",
    "#     for i, val in enumerate(bioPs):\n",
    "#         try:\n",
    "#             blocks[val.select('strong')[0].text] = val.get_text()\n",
    "#         except:\n",
    "#             printf(\"Text not detected\")\n",
    "        \n",
    "    \n",
    "    # Given the variation in blob types, just return\n",
    "    # single blob for now.\n",
    "    # Ryan Brenner: b instead of strong tags\n",
    "    # Jackson Stallings (Junior Year) - UL blobs mixed with P tags\n",
    "    # Jackson Stallings (Freshman) - Clean example\n",
    "    \n",
    "    # Sometimes, no bio\n",
    "#     http://yalebulldogs.com/sports/c-sail/2016-17/bios/buehler_patrick_nu3o?view=news\n",
    "    bio = soup.find('div',class_='synopsis')\n",
    "    return bio.get_text() if bio else None"
   ]
  },
  {
   "cell_type": "code",
   "execution_count": null,
   "metadata": {
    "collapsed": false
   },
   "outputs": [],
   "source": [
    "# ts.select('div.synopsis')[0].find_all('b')"
   ]
  },
  {
   "cell_type": "code",
   "execution_count": null,
   "metadata": {
    "collapsed": false
   },
   "outputs": [],
   "source": [
    "# getSynopsis(ts)"
   ]
  },
  {
   "cell_type": "code",
   "execution_count": null,
   "metadata": {
    "collapsed": false
   },
   "outputs": [],
   "source": [
    "# soupToDict(ts)"
   ]
  },
  {
   "cell_type": "code",
   "execution_count": null,
   "metadata": {
    "collapsed": false
   },
   "outputs": [],
   "source": [
    "# df['types'] = df['0'].map(type)\n",
    "# df['types'].describe()"
   ]
  },
  {
   "cell_type": "code",
   "execution_count": null,
   "metadata": {
    "collapsed": true
   },
   "outputs": [],
   "source": [
    "# df['types']"
   ]
  },
  {
   "cell_type": "code",
   "execution_count": 6,
   "metadata": {
    "collapsed": false
   },
   "outputs": [
    {
     "name": "stderr",
     "output_type": "stream",
     "text": [
      "100%|█| 10806/10806 [03:04<00:00, 58.54it/s]\n"
     ]
    }
   ],
   "source": [
    "df['headers'] = df['0'].progress_apply(lambda x: \\\n",
    "                                       json.dumps(soupToDict(BeautifulSoup(x, 'lxml')), encoding='utf-8') if (type(x) == str) else None)"
   ]
  },
  {
   "cell_type": "code",
   "execution_count": 7,
   "metadata": {
    "collapsed": false
   },
   "outputs": [
    {
     "name": "stderr",
     "output_type": "stream",
     "text": [
      "100%|█| 10806/10806 [00:00<00:00, 491180.16it/s]\n"
     ]
    }
   ],
   "source": [
    "df['synopsis'] = df['headers'].progress_apply(lambda x: 0)"
   ]
  },
  {
   "cell_type": "code",
   "execution_count": null,
   "metadata": {
    "collapsed": false,
    "scrolled": true
   },
   "outputs": [],
   "source": [
    "# df['synopsis'] = df['0'].progress_apply(lambda x: getSynopsis(BeautifulSoup(x, 'lxml')) if (type(x) == str) else None)"
   ]
  },
  {
   "cell_type": "code",
   "execution_count": 10,
   "metadata": {
    "collapsed": false
   },
   "outputs": [],
   "source": [
    "df.columns = ['url', 'raw', 'headers', 'synopsis']"
   ]
  },
  {
   "cell_type": "code",
   "execution_count": 11,
   "metadata": {
    "collapsed": true
   },
   "outputs": [],
   "source": [
    "df.index = df['url']"
   ]
  },
  {
   "cell_type": "code",
   "execution_count": null,
   "metadata": {
    "collapsed": false
   },
   "outputs": [],
   "source": [
    "df.head()"
   ]
  },
  {
   "cell_type": "code",
   "execution_count": 12,
   "metadata": {
    "collapsed": false
   },
   "outputs": [],
   "source": [
    "df[['synopsis', 'headers']].to_csv('harvard_bio_parsed.csv', encoding='utf8')"
   ]
  },
  {
   "cell_type": "code",
   "execution_count": null,
   "metadata": {
    "collapsed": true
   },
   "outputs": [],
   "source": [
    "# !gzip -c harvard_bio_parsed.csv > harvard_bio_parsed.csv.gz"
   ]
  },
  {
   "cell_type": "code",
   "execution_count": null,
   "metadata": {
    "collapsed": true
   },
   "outputs": [],
   "source": [
    "# if we redo this, batching it in databricks / spark job will save a lot of time."
   ]
  },
  {
   "cell_type": "code",
   "execution_count": null,
   "metadata": {
    "collapsed": false
   },
   "outputs": [],
   "source": [
    "!ls -lS | grep parsed"
   ]
  }
 ],
 "metadata": {
  "kernelspec": {
   "display_name": "Python [default]",
   "language": "python",
   "name": "python2"
  },
  "language_info": {
   "codemirror_mode": {
    "name": "ipython",
    "version": 2
   },
   "file_extension": ".py",
   "mimetype": "text/x-python",
   "name": "python",
   "nbconvert_exporter": "python",
   "pygments_lexer": "ipython2",
   "version": "2.7.12"
  }
 },
 "nbformat": 4,
 "nbformat_minor": 0
}
