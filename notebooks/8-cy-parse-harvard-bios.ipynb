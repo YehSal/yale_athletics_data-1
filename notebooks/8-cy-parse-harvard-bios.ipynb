{
 "cells": [
  {
   "cell_type": "code",
   "execution_count": 7,
   "metadata": {
    "collapsed": true,
    "scrolled": true
   },
   "outputs": [],
   "source": [
    "# Use"
   ]
  },
  {
   "cell_type": "code",
   "execution_count": 8,
   "metadata": {
    "collapsed": true,
    "scrolled": true
   },
   "outputs": [],
   "source": [
    "from bs4 import BeautifulSoup\n",
    "import pandas as pd\n",
    "import re\n",
    "from tqdm import tqdm, tqdm_pandas, tqdm_notebook\n"
   ]
  },
  {
   "cell_type": "code",
   "execution_count": 9,
   "metadata": {
    "collapsed": true
   },
   "outputs": [],
   "source": [
    "tqdm.pandas()"
   ]
  },
  {
   "cell_type": "code",
   "execution_count": 10,
   "metadata": {
    "collapsed": false,
    "scrolled": true
   },
   "outputs": [
    {
     "name": "stdout",
     "output_type": "stream",
     "text": [
      "3-cyy5-get-bios.ipynb\r\n",
      "6-cy-get-harvard-bios.ipynb\r\n",
      "7-cy-parse-yale-bios-Copy1.ipynb\r\n",
      "7-cy-parse-yale-bios.ipynb\r\n",
      "bios.json\r\n",
      "bios.lzw\r\n",
      "bios.p\r\n",
      "harvard_bios.csv\r\n",
      "harvard_bios.csv.gz\r\n",
      "yale_bios.csv.gz\r\n"
     ]
    }
   ],
   "source": [
    "!ls | grep bios\n"
   ]
  },
  {
   "cell_type": "code",
   "execution_count": 11,
   "metadata": {
    "collapsed": false,
    "scrolled": true
   },
   "outputs": [
    {
     "name": "stdout",
     "output_type": "stream",
     "text": [
      "<class 'pandas.core.frame.DataFrame'>\n",
      "RangeIndex: 10806 entries, 0 to 10805\n",
      "Data columns (total 2 columns):\n",
      "Unnamed: 0    10806 non-null object\n",
      "0             10774 non-null object\n",
      "dtypes: object(2)\n",
      "memory usage: 168.9+ KB\n"
     ]
    }
   ],
   "source": [
    "\n",
    "df = pd.read_csv('harvard_bios.csv.gz', compression='gzip')\n",
    "df.info()"
   ]
  },
  {
   "cell_type": "code",
   "execution_count": 12,
   "metadata": {
    "collapsed": false,
    "scrolled": true
   },
   "outputs": [
    {
     "data": {
      "text/html": [
       "<div>\n",
       "<table border=\"1\" class=\"dataframe\">\n",
       "  <thead>\n",
       "    <tr style=\"text-align: right;\">\n",
       "      <th></th>\n",
       "      <th>Unnamed: 0</th>\n",
       "      <th>0</th>\n",
       "    </tr>\n",
       "  </thead>\n",
       "  <tbody>\n",
       "    <tr>\n",
       "      <th>0</th>\n",
       "      <td>/sports/bsb/2008-09/bios/albright_tyler</td>\n",
       "      <td>&lt;div class=\"bio-wrap clearfix\" data-module=\"st...</td>\n",
       "    </tr>\n",
       "    <tr>\n",
       "      <th>1</th>\n",
       "      <td>/sports/bsb/2008-09/bios/arledge_cole</td>\n",
       "      <td>&lt;div class=\"bio-wrap clearfix\" data-module=\"st...</td>\n",
       "    </tr>\n",
       "    <tr>\n",
       "      <th>2</th>\n",
       "      <td>/sports/bsb/2008-09/bios/hofeld_zach</td>\n",
       "      <td>&lt;div class=\"bio-wrap clearfix\" data-module=\"st...</td>\n",
       "    </tr>\n",
       "    <tr>\n",
       "      <th>3</th>\n",
       "      <td>/sports/bsb/2016-17/bios/allen_jake_gyf5</td>\n",
       "      <td>&lt;div class=\"bio-wrap bio-wrap-has-highlights c...</td>\n",
       "    </tr>\n",
       "    <tr>\n",
       "      <th>4</th>\n",
       "      <td>/sports/mbkb/1984-85/Bios/Eric_Wanta</td>\n",
       "      <td>&lt;div class=\"bio-wrap clearfix\" data-module=\"st...</td>\n",
       "    </tr>\n",
       "  </tbody>\n",
       "</table>\n",
       "</div>"
      ],
      "text/plain": [
       "                                 Unnamed: 0  \\\n",
       "0   /sports/bsb/2008-09/bios/albright_tyler   \n",
       "1     /sports/bsb/2008-09/bios/arledge_cole   \n",
       "2      /sports/bsb/2008-09/bios/hofeld_zach   \n",
       "3  /sports/bsb/2016-17/bios/allen_jake_gyf5   \n",
       "4      /sports/mbkb/1984-85/Bios/Eric_Wanta   \n",
       "\n",
       "                                                   0  \n",
       "0  <div class=\"bio-wrap clearfix\" data-module=\"st...  \n",
       "1  <div class=\"bio-wrap clearfix\" data-module=\"st...  \n",
       "2  <div class=\"bio-wrap clearfix\" data-module=\"st...  \n",
       "3  <div class=\"bio-wrap bio-wrap-has-highlights c...  \n",
       "4  <div class=\"bio-wrap clearfix\" data-module=\"st...  "
      ]
     },
     "execution_count": 12,
     "metadata": {},
     "output_type": "execute_result"
    }
   ],
   "source": [
    "df.head()"
   ]
  },
  {
   "cell_type": "markdown",
   "metadata": {},
   "source": [
    "We'll need to break up the strings into blocks and only use the markup that we actually need."
   ]
  },
  {
   "cell_type": "code",
   "execution_count": 13,
   "metadata": {
    "collapsed": false,
    "scrolled": true
   },
   "outputs": [],
   "source": [
    "# the output needs to be handled 1 at a time, and then dumped out carefully.\n",
    "# df['soup'] = df['0'].progress_apply(lambda x: BeautifulSoup(x, 'lxml') )"
   ]
  },
  {
   "cell_type": "code",
   "execution_count": 14,
   "metadata": {
    "collapsed": false
   },
   "outputs": [
    {
     "name": "stderr",
     "output_type": "stream",
     "text": [
      "100%|██████████| 5/5 [00:01<00:00,  3.88it/s]\n"
     ]
    }
   ],
   "source": [
    "tSoup = df['0'].head().progress_apply(lambda x: BeautifulSoup(x, 'lxml') )"
   ]
  },
  {
   "cell_type": "code",
   "execution_count": 15,
   "metadata": {
    "collapsed": true
   },
   "outputs": [],
   "source": [
    "ts = tSoup.iloc[0]"
   ]
  },
  {
   "cell_type": "code",
   "execution_count": 16,
   "metadata": {
    "collapsed": false
   },
   "outputs": [],
   "source": [
    "def tableToDict(soup):\n",
    "    \"Given a headerless table, return a dict with all the fields\"\n",
    "    table = {}\n",
    "    for row in soup.find_all('tr'):\n",
    "        cells = row.find_all('td')\n",
    "        table[str(cells[0].text.strip())] = cells[1].text.strip()\n",
    "        \n",
    "    return table\n",
    "    \n",
    "def soupToDict(soup):\n",
    "    \"Given a player's soup blob, parse their header\"\n",
    "    playerData = tableToDict(soup.select('div.player-info')[0].find('table'))\n",
    "    playerData['name'] = soup.select('div.player-name span.name')[0].text.strip()\n",
    "    return playerData\n",
    "def getSynopsis(soup):\n",
    "    \"Given a player's soup, split their bio information into \\\n",
    "    chunks for each strong header\"\n",
    "    \n",
    "    # Get all top level children\n",
    "#     bioPs = soup.select('div.synopsis')[0].find_all('p', recursive=False)\n",
    "    \n",
    "#     blocks= []\n",
    "#     # if their blocks are malformed, skip that block.\n",
    "#     for i, val in enumerate(bioPs):\n",
    "#         try:\n",
    "#             blocks[val.select('strong')[0].text] = val.get_text()\n",
    "#         except:\n",
    "#             printf(\"Text not detected\")\n",
    "        \n",
    "    \n",
    "    # Given the variation in blob types, just return\n",
    "    # single blob for now.\n",
    "    # Ryan Brenner: b instead of strong tags\n",
    "    # Jackson Stallings (Junior Year) - UL blobs mixed with P tags\n",
    "    # Jackson Stallings (Freshman) - Clean example\n",
    "    \n",
    "    # Sometimes, no bio\n",
    "#     http://yalebulldogs.com/sports/c-sail/2016-17/bios/buehler_patrick_nu3o?view=news\n",
    "    bio = soup.find('div',class_='synopsis')\n",
    "    return bio.get_text() if bio else None"
   ]
  },
  {
   "cell_type": "code",
   "execution_count": 17,
   "metadata": {
    "collapsed": false
   },
   "outputs": [
    {
     "data": {
      "text/plain": [
       "[]"
      ]
     },
     "execution_count": 17,
     "metadata": {},
     "output_type": "execute_result"
    }
   ],
   "source": [
    "ts.select('div.synopsis')[0].find_all('b')"
   ]
  },
  {
   "cell_type": "code",
   "execution_count": 18,
   "metadata": {
    "collapsed": false
   },
   "outputs": [
    {
     "data": {
      "text/plain": [
       "u\"\\nJunior (2010):\\n\\n Named team's captain prior to junior season ... Named Ivy League's\\ntop defensive catcher and the top arm by College Baseball Insider\\nin the preseason ... Named All-Ivy League honorable mention after\\nplaying virtually the entire season with a fractured thumb on his\\nglove hand ... One of just six players to hit .400 in league play,\\nhitting the mark exactly while posting a .493 on-base-percentage to\\nrank fourth in the league ... Earned seven walks and was hit by six\\npitches while striking out just three times in 19 games ... Batted\\n.426 against righties in league play and was at his best in clutch\\nsituations with a .524 average with runners in scoring position\\n(11-for-21) ... Drove in 15 runs during league play and led the\\nteam with 30 RBI for the season while batting .321 overall with\\nnine doubles ... Had three hits at at UNC Greensboro (3/17) ... Had\\nthree RBI at UNC Greensboro (3/18) ... Hit a solo homer at Sacred\\nHeart (3/27) ... Hit a solo homer at Hartford (3/28) ... Was on\\nbase three times and scored two runs in a 12-9 win over Penn on\\n(4/10) ... Was 2-for-4 with an RBI against Columbia on 4/11 ... Ivy\\nLeague Player of the Week on 4/27\\xa0 after batting .700 (7-10)\\nin three games against Massachusetts and a DH against Yale. Posted\\non-base-percentage of .750 (9-11) to go with seven runs batted in\\nand two stolen bases in as many attempts. was 4-for-5 with five RBI\\nagainst Massachusetts and went a combined 3-for-5 with two walks\\nand a successful suicide squeeze in a doubleheader at Yale (4/25)\\n... Had three hits and two RBI in a doubleheader against Yale\\n(4/29)... Was 4-for-5 with five RBI in a doubleheader sweep of\\nDartmouth (5/1).\\nSophomore (2009):\\n Named All-Ivy League Honorable Mention ... Appeared in\\nall 41 games and made 37 starts at catcher and designated hitter\\n... Batted .385 against left-handed pitchers and batted .421 when\\nleading off an inning ... Threw out 17 of 47 base-stealers ... Had\\ntwo hits, including a home run, and two RBI in the first game of a\\ndoubleheader at Jacksonville State (3/07) ... Had two doubles in\\nthe nightcap of a doubleheader at UAB on 3/14 ... Had two hits\\nincluding a two-run double at Louisiana-Monroe on 3/23 ... Had two\\nhits in game one of a doubleheader at Penn on 3/30 ... Had three\\nhits in the nightcap ... Named to the Ivy League Honor Roll on 4/21\\nafter batting .385 in a four-game set against Brown ... Had three\\nhits in the second game of a doubleheader against the Bears on 4/18\\n... Played his summer baseball in the Cape Cod Baseball League for\\nthe Wareham Gatemen, appearing in 15 games.\\n\\nFreshman (2008):\\n Hit safely in eight of his final nine starts and had\\nmulti-hit games in all but one of those ... Finished with a .370\\nbatting average in Ivy games and a .412 on-base-percentage ...\\nStarted his\\xa0first career game behind the plate at\\nthen-16th-ranked Wichita State on 3/08 and collected an\\neighth-inning hit ... Was 2-for-3 with two doubles in the second\\ngame of a doubleheader against Lafayette on 3/16\\nwhile\\xa0throwing out a would-be base stealer ... Was 3-for-5 in\\nthe second game of a doubleheader at Yale on 4/12 ... Had two hits\\nand a pair of RBI in the first game of a doubleheader at Yale on\\n4/13 ... Had two hits and a run batted in the second game of a\\ndoubleheader at Yale on 4/13 ... Was 2-for-4 with an RBI in the\\nsecond game of a doubleheader against Brown on 4/19 ... Was 2-for-4\\nwith two RBI in the first game of a twnibill with Brown on 4/20 ...\\nHad a pair of hits including a three-run homer against Dartmouth on\\n4/26 ... Had a pair of doubles at Dartmouth on 4/27.\\nHigh School:\\n\\n Voted Most Improved Player freshman season and Most Valuable\\nPlayer sophomore year at Woodrow Wilson High School ... Named\\nDefensive Player of the year as a senior ... Captain of team senior\\nseason ... Captured Division I CIF Championship at Dodger Stadium\\nand named National Champion by Baseball America Magazine\\nas a senior ... National Honor Society member ... Father, John '70,\\nwas captain of Notre Dame fencing team.\\n\\n\\n\""
      ]
     },
     "execution_count": 18,
     "metadata": {},
     "output_type": "execute_result"
    }
   ],
   "source": [
    "getSynopsis(ts)"
   ]
  },
  {
   "cell_type": "code",
   "execution_count": 19,
   "metadata": {
    "collapsed": false
   },
   "outputs": [
    {
     "data": {
      "text/plain": [
       "{'Bats/Throws:': u'R/R',\n",
       " 'Height:': u'6-2',\n",
       " 'High School:': u'Woodrow Wilson',\n",
       " 'Hometown:': u'Long Beach, Calif.',\n",
       " 'House Affiliation:': u'Winthrop',\n",
       " 'Position:': u'C',\n",
       " 'Weight:': u'190',\n",
       " 'Year:': u'Jr.',\n",
       " 'name': u'Tyler Albright'}"
      ]
     },
     "execution_count": 19,
     "metadata": {},
     "output_type": "execute_result"
    }
   ],
   "source": [
    "soupToDict(ts)"
   ]
  },
  {
   "cell_type": "code",
   "execution_count": 20,
   "metadata": {
    "collapsed": false
   },
   "outputs": [],
   "source": [
    "# df['types'] = df['0'].map(type)\n",
    "# df['types'].describe()"
   ]
  },
  {
   "cell_type": "code",
   "execution_count": 21,
   "metadata": {
    "collapsed": true
   },
   "outputs": [],
   "source": [
    "# df['types']"
   ]
  },
  {
   "cell_type": "code",
   "execution_count": 22,
   "metadata": {
    "collapsed": false
   },
   "outputs": [
    {
     "name": "stderr",
     "output_type": "stream",
     "text": [
      "100%|██████████| 10806/10806 [28:22<00:00,  1.21s/it]\n"
     ]
    }
   ],
   "source": [
    "df['headers'] = df['0'].progress_apply(lambda x: \\\n",
    "                                       soupToDict(BeautifulSoup(x, 'lxml')) if (type(x) == str) else None)"
   ]
  },
  {
   "cell_type": "code",
   "execution_count": 23,
   "metadata": {
    "collapsed": false,
    "scrolled": true
   },
   "outputs": [
    {
     "name": "stderr",
     "output_type": "stream",
     "text": [
      "100%|██████████| 10806/10806 [26:59<00:00,  1.37s/it]\n"
     ]
    }
   ],
   "source": [
    "df['synopsis'] = df['0'].progress_apply(lambda x: getSynopsis(BeautifulSoup(x, 'lxml')) if (type(x) == str) else None)"
   ]
  },
  {
   "cell_type": "code",
   "execution_count": 27,
   "metadata": {
    "collapsed": true
   },
   "outputs": [],
   "source": [
    "df.index = df['Unnamed: 0']"
   ]
  },
  {
   "cell_type": "code",
   "execution_count": 28,
   "metadata": {
    "collapsed": false
   },
   "outputs": [
    {
     "data": {
      "text/html": [
       "<div>\n",
       "<table border=\"1\" class=\"dataframe\">\n",
       "  <thead>\n",
       "    <tr style=\"text-align: right;\">\n",
       "      <th></th>\n",
       "      <th>Unnamed: 0</th>\n",
       "      <th>0</th>\n",
       "      <th>headers</th>\n",
       "      <th>synopsis</th>\n",
       "    </tr>\n",
       "    <tr>\n",
       "      <th>Unnamed: 0</th>\n",
       "      <th></th>\n",
       "      <th></th>\n",
       "      <th></th>\n",
       "      <th></th>\n",
       "    </tr>\n",
       "  </thead>\n",
       "  <tbody>\n",
       "    <tr>\n",
       "      <th>/sports/bsb/2008-09/bios/albright_tyler</th>\n",
       "      <td>/sports/bsb/2008-09/bios/albright_tyler</td>\n",
       "      <td>&lt;div class=\"bio-wrap clearfix\" data-module=\"st...</td>\n",
       "      <td>{u'Position:': u'C', u'Year:': u'Jr.', u'Heigh...</td>\n",
       "      <td>\\nJunior (2010):\\n\\n Named team's captain prio...</td>\n",
       "    </tr>\n",
       "    <tr>\n",
       "      <th>/sports/bsb/2008-09/bios/arledge_cole</th>\n",
       "      <td>/sports/bsb/2008-09/bios/arledge_cole</td>\n",
       "      <td>&lt;div class=\"bio-wrap clearfix\" data-module=\"st...</td>\n",
       "      <td>{u'Position:': u'C', u'Year:': u'Jr.', u'Heigh...</td>\n",
       "      <td>\\nJunior (2010):\\n\\n Started at catcher agains...</td>\n",
       "    </tr>\n",
       "    <tr>\n",
       "      <th>/sports/bsb/2008-09/bios/hofeld_zach</th>\n",
       "      <td>/sports/bsb/2008-09/bios/hofeld_zach</td>\n",
       "      <td>&lt;div class=\"bio-wrap clearfix\" data-module=\"st...</td>\n",
       "      <td>{u'Position:': u'RHP', u'Year:': u'Jr.', u'Hei...</td>\n",
       "      <td>\\nSophomore (2009):\\n\\nStruck out three batter...</td>\n",
       "    </tr>\n",
       "    <tr>\n",
       "      <th>/sports/bsb/2016-17/bios/allen_jake_gyf5</th>\n",
       "      <td>/sports/bsb/2016-17/bios/allen_jake_gyf5</td>\n",
       "      <td>&lt;div class=\"bio-wrap bio-wrap-has-highlights c...</td>\n",
       "      <td>{u'Position:': u'C', u'Year:': u'So.', u'Heigh...</td>\n",
       "      <td>\\nCareer Highs\\nHits- 1 (twice)\\n\\nRuns- 1 (tw...</td>\n",
       "    </tr>\n",
       "    <tr>\n",
       "      <th>/sports/mbkb/1984-85/Bios/Eric_Wanta</th>\n",
       "      <td>/sports/mbkb/1984-85/Bios/Eric_Wanta</td>\n",
       "      <td>&lt;div class=\"bio-wrap clearfix\" data-module=\"st...</td>\n",
       "      <td>{u'Position:': u'Forward', u'Year:': u'Freshma...</td>\n",
       "      <td>None</td>\n",
       "    </tr>\n",
       "  </tbody>\n",
       "</table>\n",
       "</div>"
      ],
      "text/plain": [
       "                                                                        Unnamed: 0  \\\n",
       "Unnamed: 0                                                                           \n",
       "/sports/bsb/2008-09/bios/albright_tyler    /sports/bsb/2008-09/bios/albright_tyler   \n",
       "/sports/bsb/2008-09/bios/arledge_cole        /sports/bsb/2008-09/bios/arledge_cole   \n",
       "/sports/bsb/2008-09/bios/hofeld_zach          /sports/bsb/2008-09/bios/hofeld_zach   \n",
       "/sports/bsb/2016-17/bios/allen_jake_gyf5  /sports/bsb/2016-17/bios/allen_jake_gyf5   \n",
       "/sports/mbkb/1984-85/Bios/Eric_Wanta          /sports/mbkb/1984-85/Bios/Eric_Wanta   \n",
       "\n",
       "                                                                                          0  \\\n",
       "Unnamed: 0                                                                                    \n",
       "/sports/bsb/2008-09/bios/albright_tyler   <div class=\"bio-wrap clearfix\" data-module=\"st...   \n",
       "/sports/bsb/2008-09/bios/arledge_cole     <div class=\"bio-wrap clearfix\" data-module=\"st...   \n",
       "/sports/bsb/2008-09/bios/hofeld_zach      <div class=\"bio-wrap clearfix\" data-module=\"st...   \n",
       "/sports/bsb/2016-17/bios/allen_jake_gyf5  <div class=\"bio-wrap bio-wrap-has-highlights c...   \n",
       "/sports/mbkb/1984-85/Bios/Eric_Wanta      <div class=\"bio-wrap clearfix\" data-module=\"st...   \n",
       "\n",
       "                                                                                    headers  \\\n",
       "Unnamed: 0                                                                                    \n",
       "/sports/bsb/2008-09/bios/albright_tyler   {u'Position:': u'C', u'Year:': u'Jr.', u'Heigh...   \n",
       "/sports/bsb/2008-09/bios/arledge_cole     {u'Position:': u'C', u'Year:': u'Jr.', u'Heigh...   \n",
       "/sports/bsb/2008-09/bios/hofeld_zach      {u'Position:': u'RHP', u'Year:': u'Jr.', u'Hei...   \n",
       "/sports/bsb/2016-17/bios/allen_jake_gyf5  {u'Position:': u'C', u'Year:': u'So.', u'Heigh...   \n",
       "/sports/mbkb/1984-85/Bios/Eric_Wanta      {u'Position:': u'Forward', u'Year:': u'Freshma...   \n",
       "\n",
       "                                                                                   synopsis  \n",
       "Unnamed: 0                                                                                   \n",
       "/sports/bsb/2008-09/bios/albright_tyler   \\nJunior (2010):\\n\\n Named team's captain prio...  \n",
       "/sports/bsb/2008-09/bios/arledge_cole     \\nJunior (2010):\\n\\n Started at catcher agains...  \n",
       "/sports/bsb/2008-09/bios/hofeld_zach      \\nSophomore (2009):\\n\\nStruck out three batter...  \n",
       "/sports/bsb/2016-17/bios/allen_jake_gyf5  \\nCareer Highs\\nHits- 1 (twice)\\n\\nRuns- 1 (tw...  \n",
       "/sports/mbkb/1984-85/Bios/Eric_Wanta                                                   None  "
      ]
     },
     "execution_count": 28,
     "metadata": {},
     "output_type": "execute_result"
    }
   ],
   "source": [
    "df.head()"
   ]
  },
  {
   "cell_type": "code",
   "execution_count": 29,
   "metadata": {
    "collapsed": false
   },
   "outputs": [],
   "source": [
    "df[['synopsis', 'headers']].to_csv('harvard_bio_parsed.csv', encoding='utf8')"
   ]
  },
  {
   "cell_type": "code",
   "execution_count": 31,
   "metadata": {
    "collapsed": true
   },
   "outputs": [],
   "source": [
    "!gzip -c harvard_bio_parsed.csv > harvard_bio_parsed.csv.gz"
   ]
  },
  {
   "cell_type": "code",
   "execution_count": null,
   "metadata": {
    "collapsed": true
   },
   "outputs": [],
   "source": [
    "# if we redo this, batching it in databricks / spark job will save a lot of time."
   ]
  },
  {
   "cell_type": "code",
   "execution_count": 32,
   "metadata": {
    "collapsed": false
   },
   "outputs": [
    {
     "name": "stdout",
     "output_type": "stream",
     "text": [
      "-rw-r--r-- 1 cyy5 cyy5   15549144 Nov 26 01:17 harvard_bio_parsed.csv\r\n",
      "-rw-rw-r-- 1 cyy5 cyy5   12321518 Nov 26 01:16 yale_bio_parsed.csv\r\n",
      "-rw-r--r-- 1 cyy5 cyy5    3702197 Nov 26 01:21 harvard_bio_parsed.csv.gz\r\n",
      "-rw-r--r-- 1 cyy5 cyy5       3755 Nov 25 23:36 yale_bio_parsed.csv.gz\r\n"
     ]
    }
   ],
   "source": [
    "!ls -lS | grep parsed"
   ]
  }
 ],
 "metadata": {
  "kernelspec": {
   "display_name": "Python 2",
   "language": "python",
   "name": "python2"
  },
  "language_info": {
   "codemirror_mode": {
    "name": "ipython",
    "version": 2
   },
   "file_extension": ".py",
   "mimetype": "text/x-python",
   "name": "python",
   "nbconvert_exporter": "python",
   "pygments_lexer": "ipython2",
   "version": "2.7.12"
  }
 },
 "nbformat": 4,
 "nbformat_minor": 0
}
