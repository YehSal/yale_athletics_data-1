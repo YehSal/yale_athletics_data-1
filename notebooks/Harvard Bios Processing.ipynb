{
 "cells": [
  {
   "cell_type": "code",
   "execution_count": 35,
   "metadata": {
    "collapsed": true
   },
   "outputs": [],
   "source": [
    "# Flatten Harvard data\n",
    "\n",
    "# For data manipulation\n",
    "import os\n",
    "import pandas as pd\n",
    "import matplotlib.pyplot as plt\n",
    "# import seaborn as sns\n",
    "PROJ_ROOT = os.pardir\n",
    "\n",
    "# For Scraping\n",
    "from bs4 import BeautifulSoup\n",
    "import requests\n",
    "import time\n",
    "\n",
    "# For munging\n",
    "import re\n",
    "import json\n",
    "import math"
   ]
  },
  {
   "cell_type": "code",
   "execution_count": 4,
   "metadata": {
    "collapsed": true
   },
   "outputs": [],
   "source": [
    "playerPath = os.path.join(PROJ_ROOT, \"data\", \"interim\", \"harvard_players.json\")"
   ]
  },
  {
   "cell_type": "code",
   "execution_count": 5,
   "metadata": {
    "collapsed": false
   },
   "outputs": [],
   "source": [
    "players = pd.read_json(playerPath)"
   ]
  },
  {
   "cell_type": "code",
   "execution_count": 6,
   "metadata": {
    "collapsed": false
   },
   "outputs": [
    {
     "data": {
      "text/html": [
       "<div>\n",
       "<table border=\"1\" class=\"dataframe\">\n",
       "  <thead>\n",
       "    <tr style=\"text-align: right;\">\n",
       "      <th></th>\n",
       "      <th>B/T</th>\n",
       "      <th>City</th>\n",
       "      <th>Event</th>\n",
       "      <th>High School</th>\n",
       "      <th>Hometown</th>\n",
       "      <th>Ht.</th>\n",
       "      <th>Name</th>\n",
       "      <th>Name_link</th>\n",
       "      <th>No.</th>\n",
       "      <th>Position</th>\n",
       "      <th>Region</th>\n",
       "      <th>S/C</th>\n",
       "      <th>Weapon</th>\n",
       "      <th>Wt.</th>\n",
       "      <th>Yr.</th>\n",
       "      <th>season</th>\n",
       "      <th>sport</th>\n",
       "    </tr>\n",
       "  </thead>\n",
       "  <tbody>\n",
       "    <tr>\n",
       "      <th>0</th>\n",
       "      <td>R/R</td>\n",
       "      <td>Long Beach</td>\n",
       "      <td>None</td>\n",
       "      <td>Woodrow Wilson</td>\n",
       "      <td>Long Beach, Calif.</td>\n",
       "      <td>6-2</td>\n",
       "      <td>Tyler Albright</td>\n",
       "      <td>/sports/bsb/2008-09/bios/albright_tyler</td>\n",
       "      <td>6</td>\n",
       "      <td>C</td>\n",
       "      <td>Calif.</td>\n",
       "      <td>None</td>\n",
       "      <td>None</td>\n",
       "      <td>190</td>\n",
       "      <td>Jr.</td>\n",
       "      <td>2008-09</td>\n",
       "      <td>bsb</td>\n",
       "    </tr>\n",
       "    <tr>\n",
       "      <th>1</th>\n",
       "      <td>R/R</td>\n",
       "      <td>Austin</td>\n",
       "      <td>None</td>\n",
       "      <td>St. Stephens Episcopal</td>\n",
       "      <td>Austin, Texas</td>\n",
       "      <td>5-10</td>\n",
       "      <td>Cole Arledge</td>\n",
       "      <td>/sports/bsb/2008-09/bios/arledge_cole</td>\n",
       "      <td>8</td>\n",
       "      <td>C</td>\n",
       "      <td>Texas</td>\n",
       "      <td>None</td>\n",
       "      <td>None</td>\n",
       "      <td>180</td>\n",
       "      <td>Jr.</td>\n",
       "      <td>2008-09</td>\n",
       "      <td>bsb</td>\n",
       "    </tr>\n",
       "    <tr>\n",
       "      <th>10</th>\n",
       "      <td>S/R</td>\n",
       "      <td>Winnetka</td>\n",
       "      <td>None</td>\n",
       "      <td>New Trier</td>\n",
       "      <td>Winnetka, Ill.</td>\n",
       "      <td>6-3</td>\n",
       "      <td>Zach Hofeld</td>\n",
       "      <td>/sports/bsb/2008-09/bios/hofeld_zach</td>\n",
       "      <td>29</td>\n",
       "      <td>RHP</td>\n",
       "      <td>Ill.</td>\n",
       "      <td>None</td>\n",
       "      <td>None</td>\n",
       "      <td>205</td>\n",
       "      <td>Jr.</td>\n",
       "      <td>2008-09</td>\n",
       "      <td>bsb</td>\n",
       "    </tr>\n",
       "    <tr>\n",
       "      <th>100</th>\n",
       "      <td>L/R</td>\n",
       "      <td>Charlottesville</td>\n",
       "      <td>None</td>\n",
       "      <td>St. Anne's-Belfield</td>\n",
       "      <td>Charlottesville, Va.</td>\n",
       "      <td>5-11</td>\n",
       "      <td>Jake Allen</td>\n",
       "      <td>/sports/bsb/2016-17/bios/allen_jake_gyf5</td>\n",
       "      <td>10</td>\n",
       "      <td>C</td>\n",
       "      <td>Va.</td>\n",
       "      <td>None</td>\n",
       "      <td>None</td>\n",
       "      <td>185</td>\n",
       "      <td>So.</td>\n",
       "      <td>2016-17</td>\n",
       "      <td>bsb</td>\n",
       "    </tr>\n",
       "    <tr>\n",
       "      <th>1000</th>\n",
       "      <td>None</td>\n",
       "      <td>Greendale</td>\n",
       "      <td>None</td>\n",
       "      <td>Greendale HS</td>\n",
       "      <td>Greendale, Wis.</td>\n",
       "      <td>6-8</td>\n",
       "      <td>Eric Wanta</td>\n",
       "      <td>/sports/mbkb/1984-85/Bios/Eric_Wanta</td>\n",
       "      <td>15</td>\n",
       "      <td>Forward</td>\n",
       "      <td>Wis.</td>\n",
       "      <td>None</td>\n",
       "      <td>None</td>\n",
       "      <td>210</td>\n",
       "      <td>Freshman</td>\n",
       "      <td>1984-85</td>\n",
       "      <td>mbkb</td>\n",
       "    </tr>\n",
       "  </tbody>\n",
       "</table>\n",
       "</div>"
      ],
      "text/plain": [
       "       B/T             City Event             High School  \\\n",
       "0      R/R       Long Beach  None          Woodrow Wilson   \n",
       "1      R/R           Austin  None  St. Stephens Episcopal   \n",
       "10     S/R         Winnetka  None               New Trier   \n",
       "100    L/R  Charlottesville  None     St. Anne's-Belfield   \n",
       "1000  None        Greendale  None            Greendale HS   \n",
       "\n",
       "                  Hometown   Ht.            Name  \\\n",
       "0       Long Beach, Calif.   6-2  Tyler Albright   \n",
       "1            Austin, Texas  5-10    Cole Arledge   \n",
       "10          Winnetka, Ill.   6-3     Zach Hofeld   \n",
       "100   Charlottesville, Va.  5-11      Jake Allen   \n",
       "1000       Greendale, Wis.   6-8      Eric Wanta   \n",
       "\n",
       "                                     Name_link No. Position  Region   S/C  \\\n",
       "0      /sports/bsb/2008-09/bios/albright_tyler   6        C  Calif.  None   \n",
       "1        /sports/bsb/2008-09/bios/arledge_cole   8        C   Texas  None   \n",
       "10        /sports/bsb/2008-09/bios/hofeld_zach  29      RHP    Ill.  None   \n",
       "100   /sports/bsb/2016-17/bios/allen_jake_gyf5  10        C     Va.  None   \n",
       "1000      /sports/mbkb/1984-85/Bios/Eric_Wanta  15  Forward    Wis.  None   \n",
       "\n",
       "     Weapon  Wt.       Yr.   season sport  \n",
       "0      None  190       Jr.  2008-09   bsb  \n",
       "1      None  180       Jr.  2008-09   bsb  \n",
       "10     None  205       Jr.  2008-09   bsb  \n",
       "100    None  185       So.  2016-17   bsb  \n",
       "1000   None  210  Freshman  1984-85  mbkb  "
      ]
     },
     "execution_count": 6,
     "metadata": {},
     "output_type": "execute_result"
    }
   ],
   "source": [
    "players.head()"
   ]
  },
  {
   "cell_type": "code",
   "execution_count": 7,
   "metadata": {
    "collapsed": false
   },
   "outputs": [
    {
     "data": {
      "text/plain": [
       "(10896, 17)"
      ]
     },
     "execution_count": 7,
     "metadata": {},
     "output_type": "execute_result"
    }
   ],
   "source": [
    "players.shape"
   ]
  },
  {
   "cell_type": "code",
   "execution_count": 8,
   "metadata": {
    "collapsed": true
   },
   "outputs": [],
   "source": [
    "bio_parsed_path = os.path.join(PROJ_ROOT, \"data\", \"interim\", \"harvard_bio_parsed.csv.gz\")\n",
    "bios = pd.read_csv(bio_parsed_path, compression=\"gzip\")\n"
   ]
  },
  {
   "cell_type": "code",
   "execution_count": 15,
   "metadata": {
    "collapsed": false
   },
   "outputs": [],
   "source": [
    "bios.shape\n",
    "bios.columns = [\"Name_link\", \"synopsis\", \"headers\"]"
   ]
  },
  {
   "cell_type": "code",
   "execution_count": 18,
   "metadata": {
    "collapsed": false
   },
   "outputs": [],
   "source": [
    "combined = players.merge(bios, on=\"Name_link\", how=\"inner\")"
   ]
  },
  {
   "cell_type": "code",
   "execution_count": 19,
   "metadata": {
    "collapsed": false
   },
   "outputs": [
    {
     "data": {
      "text/plain": [
       "(10895, 19)"
      ]
     },
     "execution_count": 19,
     "metadata": {},
     "output_type": "execute_result"
    }
   ],
   "source": [
    "combined.shape"
   ]
  },
  {
   "cell_type": "code",
   "execution_count": 43,
   "metadata": {
    "collapsed": false
   },
   "outputs": [
    {
     "data": {
      "text/html": [
       "<div>\n",
       "<table border=\"1\" class=\"dataframe\">\n",
       "  <thead>\n",
       "    <tr style=\"text-align: right;\">\n",
       "      <th></th>\n",
       "      <th>B/T</th>\n",
       "      <th>City</th>\n",
       "      <th>Event</th>\n",
       "      <th>High School</th>\n",
       "      <th>Hometown</th>\n",
       "      <th>Ht.</th>\n",
       "      <th>Name</th>\n",
       "      <th>Name_link</th>\n",
       "      <th>No.</th>\n",
       "      <th>Position</th>\n",
       "      <th>Region</th>\n",
       "      <th>S/C</th>\n",
       "      <th>Weapon</th>\n",
       "      <th>Wt.</th>\n",
       "      <th>Yr.</th>\n",
       "      <th>season</th>\n",
       "      <th>sport</th>\n",
       "      <th>synopsis</th>\n",
       "      <th>headers</th>\n",
       "    </tr>\n",
       "  </thead>\n",
       "  <tbody>\n",
       "    <tr>\n",
       "      <th>0</th>\n",
       "      <td>R/R</td>\n",
       "      <td>Long Beach</td>\n",
       "      <td>None</td>\n",
       "      <td>Woodrow Wilson</td>\n",
       "      <td>Long Beach, Calif.</td>\n",
       "      <td>6-2</td>\n",
       "      <td>Tyler Albright</td>\n",
       "      <td>/sports/bsb/2008-09/bios/albright_tyler</td>\n",
       "      <td>6</td>\n",
       "      <td>C</td>\n",
       "      <td>Calif.</td>\n",
       "      <td>None</td>\n",
       "      <td>None</td>\n",
       "      <td>190</td>\n",
       "      <td>Jr.</td>\n",
       "      <td>2008-09</td>\n",
       "      <td>bsb</td>\n",
       "      <td>\\nJunior (2010):\\n\\n Named team's captain prio...</td>\n",
       "      <td>{u'Position:': u'C', u'Year:': u'Jr.', u'Heigh...</td>\n",
       "    </tr>\n",
       "    <tr>\n",
       "      <th>1</th>\n",
       "      <td>R/R</td>\n",
       "      <td>Long Beach</td>\n",
       "      <td>None</td>\n",
       "      <td>Woodrow Wilson</td>\n",
       "      <td>Long Beach, Calif.</td>\n",
       "      <td>6-2</td>\n",
       "      <td>Tyler Albright</td>\n",
       "      <td>/sports/bsb/2008-09/bios/albright_tyler</td>\n",
       "      <td>6</td>\n",
       "      <td>C</td>\n",
       "      <td>Calif.</td>\n",
       "      <td>None</td>\n",
       "      <td>None</td>\n",
       "      <td>190</td>\n",
       "      <td>Jr.</td>\n",
       "      <td>2009-10</td>\n",
       "      <td>bsb</td>\n",
       "      <td>\\nJunior (2010):\\n\\n Named team's captain prio...</td>\n",
       "      <td>{u'Position:': u'C', u'Year:': u'Jr.', u'Heigh...</td>\n",
       "    </tr>\n",
       "    <tr>\n",
       "      <th>2</th>\n",
       "      <td>R/R</td>\n",
       "      <td>Austin</td>\n",
       "      <td>None</td>\n",
       "      <td>St. Stephens Episcopal</td>\n",
       "      <td>Austin, Texas</td>\n",
       "      <td>5-10</td>\n",
       "      <td>Cole Arledge</td>\n",
       "      <td>/sports/bsb/2008-09/bios/arledge_cole</td>\n",
       "      <td>8</td>\n",
       "      <td>C</td>\n",
       "      <td>Texas</td>\n",
       "      <td>None</td>\n",
       "      <td>None</td>\n",
       "      <td>180</td>\n",
       "      <td>Jr.</td>\n",
       "      <td>2008-09</td>\n",
       "      <td>bsb</td>\n",
       "      <td>\\nJunior (2010):\\n\\n Started at catcher agains...</td>\n",
       "      <td>{u'Position:': u'C', u'Year:': u'Jr.', u'Heigh...</td>\n",
       "    </tr>\n",
       "    <tr>\n",
       "      <th>3</th>\n",
       "      <td>R/R</td>\n",
       "      <td>Austin</td>\n",
       "      <td>None</td>\n",
       "      <td>St. Stephens Episcopal</td>\n",
       "      <td>Austin, Texas</td>\n",
       "      <td>5-10</td>\n",
       "      <td>Cole Arledge</td>\n",
       "      <td>/sports/bsb/2008-09/bios/arledge_cole</td>\n",
       "      <td>8</td>\n",
       "      <td>C</td>\n",
       "      <td>Texas</td>\n",
       "      <td>None</td>\n",
       "      <td>None</td>\n",
       "      <td>180</td>\n",
       "      <td>Jr.</td>\n",
       "      <td>2009-10</td>\n",
       "      <td>bsb</td>\n",
       "      <td>\\nJunior (2010):\\n\\n Started at catcher agains...</td>\n",
       "      <td>{u'Position:': u'C', u'Year:': u'Jr.', u'Heigh...</td>\n",
       "    </tr>\n",
       "    <tr>\n",
       "      <th>4</th>\n",
       "      <td>S/R</td>\n",
       "      <td>Winnetka</td>\n",
       "      <td>None</td>\n",
       "      <td>New Trier</td>\n",
       "      <td>Winnetka, Ill.</td>\n",
       "      <td>6-3</td>\n",
       "      <td>Zach Hofeld</td>\n",
       "      <td>/sports/bsb/2008-09/bios/hofeld_zach</td>\n",
       "      <td>29</td>\n",
       "      <td>RHP</td>\n",
       "      <td>Ill.</td>\n",
       "      <td>None</td>\n",
       "      <td>None</td>\n",
       "      <td>205</td>\n",
       "      <td>Jr.</td>\n",
       "      <td>2008-09</td>\n",
       "      <td>bsb</td>\n",
       "      <td>\\nSophomore (2009):\\n\\nStruck out three batter...</td>\n",
       "      <td>{u'Position:': u'RHP', u'Year:': u'Jr.', u'Hei...</td>\n",
       "    </tr>\n",
       "  </tbody>\n",
       "</table>\n",
       "</div>"
      ],
      "text/plain": [
       "   B/T        City Event             High School            Hometown   Ht.  \\\n",
       "0  R/R  Long Beach  None          Woodrow Wilson  Long Beach, Calif.   6-2   \n",
       "1  R/R  Long Beach  None          Woodrow Wilson  Long Beach, Calif.   6-2   \n",
       "2  R/R      Austin  None  St. Stephens Episcopal       Austin, Texas  5-10   \n",
       "3  R/R      Austin  None  St. Stephens Episcopal       Austin, Texas  5-10   \n",
       "4  S/R    Winnetka  None               New Trier      Winnetka, Ill.   6-3   \n",
       "\n",
       "             Name                                Name_link No. Position  \\\n",
       "0  Tyler Albright  /sports/bsb/2008-09/bios/albright_tyler   6        C   \n",
       "1  Tyler Albright  /sports/bsb/2008-09/bios/albright_tyler   6        C   \n",
       "2    Cole Arledge    /sports/bsb/2008-09/bios/arledge_cole   8        C   \n",
       "3    Cole Arledge    /sports/bsb/2008-09/bios/arledge_cole   8        C   \n",
       "4     Zach Hofeld     /sports/bsb/2008-09/bios/hofeld_zach  29      RHP   \n",
       "\n",
       "   Region   S/C Weapon  Wt.  Yr.   season sport  \\\n",
       "0  Calif.  None   None  190  Jr.  2008-09   bsb   \n",
       "1  Calif.  None   None  190  Jr.  2009-10   bsb   \n",
       "2   Texas  None   None  180  Jr.  2008-09   bsb   \n",
       "3   Texas  None   None  180  Jr.  2009-10   bsb   \n",
       "4    Ill.  None   None  205  Jr.  2008-09   bsb   \n",
       "\n",
       "                                            synopsis  \\\n",
       "0  \\nJunior (2010):\\n\\n Named team's captain prio...   \n",
       "1  \\nJunior (2010):\\n\\n Named team's captain prio...   \n",
       "2  \\nJunior (2010):\\n\\n Started at catcher agains...   \n",
       "3  \\nJunior (2010):\\n\\n Started at catcher agains...   \n",
       "4  \\nSophomore (2009):\\n\\nStruck out three batter...   \n",
       "\n",
       "                                             headers  \n",
       "0  {u'Position:': u'C', u'Year:': u'Jr.', u'Heigh...  \n",
       "1  {u'Position:': u'C', u'Year:': u'Jr.', u'Heigh...  \n",
       "2  {u'Position:': u'C', u'Year:': u'Jr.', u'Heigh...  \n",
       "3  {u'Position:': u'C', u'Year:': u'Jr.', u'Heigh...  \n",
       "4  {u'Position:': u'RHP', u'Year:': u'Jr.', u'Hei...  "
      ]
     },
     "execution_count": 43,
     "metadata": {},
     "output_type": "execute_result"
    }
   ],
   "source": [
    "combined.head()"
   ]
  },
  {
   "cell_type": "code",
   "execution_count": 39,
   "metadata": {
    "collapsed": true
   },
   "outputs": [],
   "source": [
    "def formatBio(row):\n",
    "    synopsis = row[\"synopsis\"]\n",
    "    if type(synopsis) == float:\n",
    "        return \"\"\n",
    "    return re.sub(\"\\n\", \"\", synopsis)"
   ]
  },
  {
   "cell_type": "code",
   "execution_count": 44,
   "metadata": {
    "collapsed": false
   },
   "outputs": [],
   "source": [
    "combined[\"Bio\"] = combined.apply(formatBio, axis=1)"
   ]
  },
  {
   "cell_type": "code",
   "execution_count": 47,
   "metadata": {
    "collapsed": false
   },
   "outputs": [],
   "source": [
    "del(combined[\"synopsis\"])"
   ]
  },
  {
   "cell_type": "code",
   "execution_count": 49,
   "metadata": {
    "collapsed": false
   },
   "outputs": [],
   "source": [
    "playersSorted = combined.sort_values([\"season\"], ascending=False)"
   ]
  },
  {
   "cell_type": "code",
   "execution_count": 50,
   "metadata": {
    "collapsed": true
   },
   "outputs": [],
   "source": [
    "groupedFirst = playersSorted.groupby(by=[\"Name\"]).first()\n",
    "groupedLast = playersSorted.groupby(by=[\"Name\"]).last()"
   ]
  },
  {
   "cell_type": "code",
   "execution_count": 60,
   "metadata": {
    "collapsed": false
   },
   "outputs": [
    {
     "data": {
      "text/plain": [
       "4270"
      ]
     },
     "execution_count": 60,
     "metadata": {},
     "output_type": "execute_result"
    }
   ],
   "source": [
    "len(groupedLast)"
   ]
  },
  {
   "cell_type": "code",
   "execution_count": null,
   "metadata": {
    "collapsed": false
   },
   "outputs": [],
   "source": [
    "for i in range(len(groupedLast)):\n",
    "    first = groupedFirst.iloc[i]\n",
    "    groupedLast.iloc[i][\"season\"] = groupedLast.iloc[i][\"season\"][:-2] + first[\"season\"][-2:]"
   ]
  },
  {
   "cell_type": "code",
   "execution_count": null,
   "metadata": {
    "collapsed": true
   },
   "outputs": [],
   "source": []
  }
 ],
 "metadata": {
  "kernelspec": {
   "display_name": "Python [default]",
   "language": "python",
   "name": "python2"
  },
  "language_info": {
   "codemirror_mode": {
    "name": "ipython",
    "version": 2
   },
   "file_extension": ".py",
   "mimetype": "text/x-python",
   "name": "python",
   "nbconvert_exporter": "python",
   "pygments_lexer": "ipython2",
   "version": "2.7.12"
  }
 },
 "nbformat": 4,
 "nbformat_minor": 1
}
