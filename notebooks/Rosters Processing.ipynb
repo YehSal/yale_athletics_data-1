{
 "cells": [
  {
   "cell_type": "code",
   "execution_count": 2,
   "metadata": {
    "collapsed": true
   },
   "outputs": [],
   "source": [
    "# Clean up Rosters data and make it consistent with players data\n",
    "import os\n",
    "import pandas as pd\n",
    "import matplotlib.pyplot as plt\n",
    "PROJ_ROOT = os.pardir\n",
    "\n",
    "# For munging\n",
    "import re\n",
    "import json"
   ]
  },
  {
   "cell_type": "code",
   "execution_count": 5,
   "metadata": {
    "collapsed": true
   },
   "outputs": [],
   "source": [
    "rostersPathH = os.path.join(PROJ_ROOT, \"data\", \"interim\", \"harvard_rosters.p\")\n",
    "rostersPathY = os.path.join(PROJ_ROOT, \"data\", \"interim\", \"rosters.p\")\n",
    "\n",
    "harvardRosters = pd.read_pickle(rostersPathH)\n",
    "yaleRosters = pd.read_pickle(rostersPathY)"
   ]
  },
  {
   "cell_type": "code",
   "execution_count": 4,
   "metadata": {
    "collapsed": false
   },
   "outputs": [
    {
     "data": {
      "text/html": [
       "<div>\n",
       "<table border=\"1\" class=\"dataframe\">\n",
       "  <thead>\n",
       "    <tr style=\"text-align: right;\">\n",
       "      <th></th>\n",
       "      <th>metadata</th>\n",
       "      <th>players</th>\n",
       "      <th>season</th>\n",
       "      <th>sport</th>\n",
       "    </tr>\n",
       "  </thead>\n",
       "  <tbody>\n",
       "    <tr>\n",
       "      <th>0</th>\n",
       "      <td>[No., Name, Yr., Position, B/T, Ht., Wt., Home...</td>\n",
       "      <td>[{u'No.': u'6', u'Name_link': u'/sports/bsb/20...</td>\n",
       "      <td>2008-09</td>\n",
       "      <td>bsb</td>\n",
       "    </tr>\n",
       "    <tr>\n",
       "      <th>1</th>\n",
       "      <td>[No., Name, Yr., Position, B/T, Ht., Wt., Home...</td>\n",
       "      <td>[{u'No.': u'20', u'Name_link': u'/sports/bsb/2...</td>\n",
       "      <td>2012-13</td>\n",
       "      <td>bsb</td>\n",
       "    </tr>\n",
       "    <tr>\n",
       "      <th>2</th>\n",
       "      <td>[No., Name, Yr., Position, B/T, Ht., Wt., Home...</td>\n",
       "      <td>[{u'No.': u'20', u'Name_link': u'/sports/bsb/2...</td>\n",
       "      <td>2014-15</td>\n",
       "      <td>bsb</td>\n",
       "    </tr>\n",
       "    <tr>\n",
       "      <th>3</th>\n",
       "      <td>[No., Name, Yr., Position, B/T, Ht., Wt., Home...</td>\n",
       "      <td>[{u'No.': u'1', u'Name_link': u'/sports/bsb/20...</td>\n",
       "      <td>2016-17</td>\n",
       "      <td>bsb</td>\n",
       "    </tr>\n",
       "    <tr>\n",
       "      <th>4</th>\n",
       "      <td>[No., Name, Yr., Position, B/T, Ht., Wt., Home...</td>\n",
       "      <td>[{u'No.': u'6', u'Name_link': u'/sports/bsb/20...</td>\n",
       "      <td>2009-10</td>\n",
       "      <td>bsb</td>\n",
       "    </tr>\n",
       "  </tbody>\n",
       "</table>\n",
       "</div>"
      ],
      "text/plain": [
       "                                            metadata  \\\n",
       "0  [No., Name, Yr., Position, B/T, Ht., Wt., Home...   \n",
       "1  [No., Name, Yr., Position, B/T, Ht., Wt., Home...   \n",
       "2  [No., Name, Yr., Position, B/T, Ht., Wt., Home...   \n",
       "3  [No., Name, Yr., Position, B/T, Ht., Wt., Home...   \n",
       "4  [No., Name, Yr., Position, B/T, Ht., Wt., Home...   \n",
       "\n",
       "                                             players   season sport  \n",
       "0  [{u'No.': u'6', u'Name_link': u'/sports/bsb/20...  2008-09   bsb  \n",
       "1  [{u'No.': u'20', u'Name_link': u'/sports/bsb/2...  2012-13   bsb  \n",
       "2  [{u'No.': u'20', u'Name_link': u'/sports/bsb/2...  2014-15   bsb  \n",
       "3  [{u'No.': u'1', u'Name_link': u'/sports/bsb/20...  2016-17   bsb  \n",
       "4  [{u'No.': u'6', u'Name_link': u'/sports/bsb/20...  2009-10   bsb  "
      ]
     },
     "execution_count": 4,
     "metadata": {},
     "output_type": "execute_result"
    }
   ],
   "source": [
    "harvardRosters.head()"
   ]
  },
  {
   "cell_type": "code",
   "execution_count": 6,
   "metadata": {
    "collapsed": false
   },
   "outputs": [
    {
     "data": {
      "text/html": [
       "<div>\n",
       "<table border=\"1\" class=\"dataframe\">\n",
       "  <thead>\n",
       "    <tr style=\"text-align: right;\">\n",
       "      <th></th>\n",
       "      <th>metadata</th>\n",
       "      <th>players</th>\n",
       "      <th>season</th>\n",
       "      <th>sport</th>\n",
       "    </tr>\n",
       "  </thead>\n",
       "  <tbody>\n",
       "    <tr>\n",
       "      <th>0</th>\n",
       "      <td>[No., Name, Pos., Cl., B/T, Ht., Wt., Hometown...</td>\n",
       "      <td>[{u'Pos.': u'C', u'No.': u'11', u'Name_link': ...</td>\n",
       "      <td>2008-09</td>\n",
       "      <td>Baseball</td>\n",
       "    </tr>\n",
       "    <tr>\n",
       "      <th>1</th>\n",
       "      <td>[No., Name, Pos., Cl., B/T, Ht., Wt., Hometown...</td>\n",
       "      <td>[{u'Pos.': u'IF/OF', u'No.': u'4', u'Name_link...</td>\n",
       "      <td>2012-13</td>\n",
       "      <td>Baseball</td>\n",
       "    </tr>\n",
       "    <tr>\n",
       "      <th>2</th>\n",
       "      <td>[No., Name, Pos., Cl., B/T, Ht., Wt., Hometown...</td>\n",
       "      <td>[{u'Pos.': u'RHP', u'No.': u'12', u'Name_link'...</td>\n",
       "      <td>2014-15</td>\n",
       "      <td>Baseball</td>\n",
       "    </tr>\n",
       "    <tr>\n",
       "      <th>3</th>\n",
       "      <td>[No., Name, Pos., Cl., B/T, Ht., Wt., Hometown...</td>\n",
       "      <td>[{u'Pos.': u'IF/OF', u'No.': u'1', u'Name_link...</td>\n",
       "      <td>2016-17</td>\n",
       "      <td>Baseball</td>\n",
       "    </tr>\n",
       "    <tr>\n",
       "      <th>4</th>\n",
       "      <td>[No., Name, Pos., Cl., B/T, Ht., Wt., Hometown...</td>\n",
       "      <td>[{u'Pos.': u'IF', u'No.': u'1', u'Name_link': ...</td>\n",
       "      <td>2009-10</td>\n",
       "      <td>Baseball</td>\n",
       "    </tr>\n",
       "  </tbody>\n",
       "</table>\n",
       "</div>"
      ],
      "text/plain": [
       "                                            metadata  \\\n",
       "0  [No., Name, Pos., Cl., B/T, Ht., Wt., Hometown...   \n",
       "1  [No., Name, Pos., Cl., B/T, Ht., Wt., Hometown...   \n",
       "2  [No., Name, Pos., Cl., B/T, Ht., Wt., Hometown...   \n",
       "3  [No., Name, Pos., Cl., B/T, Ht., Wt., Hometown...   \n",
       "4  [No., Name, Pos., Cl., B/T, Ht., Wt., Hometown...   \n",
       "\n",
       "                                             players   season     sport  \n",
       "0  [{u'Pos.': u'C', u'No.': u'11', u'Name_link': ...  2008-09  Baseball  \n",
       "1  [{u'Pos.': u'IF/OF', u'No.': u'4', u'Name_link...  2012-13  Baseball  \n",
       "2  [{u'Pos.': u'RHP', u'No.': u'12', u'Name_link'...  2014-15  Baseball  \n",
       "3  [{u'Pos.': u'IF/OF', u'No.': u'1', u'Name_link...  2016-17  Baseball  \n",
       "4  [{u'Pos.': u'IF', u'No.': u'1', u'Name_link': ...  2009-10  Baseball  "
      ]
     },
     "execution_count": 6,
     "metadata": {},
     "output_type": "execute_result"
    }
   ],
   "source": [
    "yaleRosters.head()"
   ]
  },
  {
   "cell_type": "code",
   "execution_count": 8,
   "metadata": {
    "collapsed": false
   },
   "outputs": [
    {
     "data": {
      "text/plain": [
       "pandas.core.series.Series"
      ]
     },
     "execution_count": 8,
     "metadata": {},
     "output_type": "execute_result"
    }
   ],
   "source": [
    "type(harvardRosters[\"players\"])"
   ]
  },
  {
   "cell_type": "code",
   "execution_count": null,
   "metadata": {
    "collapsed": true
   },
   "outputs": [],
   "source": []
  }
 ],
 "metadata": {
  "kernelspec": {
   "display_name": "Python [default]",
   "language": "python",
   "name": "python2"
  },
  "language_info": {
   "codemirror_mode": {
    "name": "ipython",
    "version": 2
   },
   "file_extension": ".py",
   "mimetype": "text/x-python",
   "name": "python",
   "nbconvert_exporter": "python",
   "pygments_lexer": "ipython2",
   "version": "2.7.12"
  }
 },
 "nbformat": 4,
 "nbformat_minor": 1
}
