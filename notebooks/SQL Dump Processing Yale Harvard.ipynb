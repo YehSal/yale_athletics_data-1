{
 "cells": [
  {
   "cell_type": "code",
   "execution_count": 2,
   "metadata": {
    "collapsed": true
   },
   "outputs": [],
   "source": [
    "# Combine two dataframes into one common dataframe,\n",
    "# and dump to SQL file for upload to Web app\n",
    "import os\n",
    "import pandas as pd\n",
    "import matplotlib.pyplot as plt\n",
    "# import seaborn as sns\n",
    "PROJ_ROOT = os.pardir\n",
    "\n",
    "# For munging\n",
    "import re\n",
    "import json"
   ]
  },
  {
   "cell_type": "code",
   "execution_count": 3,
   "metadata": {
    "collapsed": true
   },
   "outputs": [],
   "source": [
    "yalePath = os.path.join(PROJ_ROOT, \"data\", \"interim\", \"yale_bios_processed.csv\")\n",
    "harvardPath = os.path.join(PROJ_ROOT, \"data\", \"interim\", \"harvard_bios_processed.csv\")\n",
    "\n",
    "yale = pd.read_csv(yalePath)\n",
    "harvard = pd.read_csv(harvardPath)"
   ]
  },
  {
   "cell_type": "code",
   "execution_count": 4,
   "metadata": {
    "collapsed": false
   },
   "outputs": [
    {
     "data": {
      "text/plain": [
       "(3004, 18)"
      ]
     },
     "execution_count": 4,
     "metadata": {},
     "output_type": "execute_result"
    }
   ],
   "source": [
    "yale.shape"
   ]
  },
  {
   "cell_type": "code",
   "execution_count": 5,
   "metadata": {
    "collapsed": false
   },
   "outputs": [
    {
     "data": {
      "text/plain": [
       "(4270, 19)"
      ]
     },
     "execution_count": 5,
     "metadata": {},
     "output_type": "execute_result"
    }
   ],
   "source": [
    "harvard.shape"
   ]
  },
  {
   "cell_type": "code",
   "execution_count": 6,
   "metadata": {
    "collapsed": false
   },
   "outputs": [
    {
     "data": {
      "text/plain": [
       "Index([u'Name', u'B/T', u'City', u'Cl.', u'Events', u'High School',\n",
       "       u'Hometown/High School', u'Hometown/Region', u'Ht.', u'Name_link',\n",
       "       u'No.', u'Pos.', u'Region', u'Weapon', u'Wt.', u'season', u'sport',\n",
       "       u'Bio'],\n",
       "      dtype='object')"
      ]
     },
     "execution_count": 6,
     "metadata": {},
     "output_type": "execute_result"
    }
   ],
   "source": [
    "yale.columns"
   ]
  },
  {
   "cell_type": "code",
   "execution_count": 7,
   "metadata": {
    "collapsed": false
   },
   "outputs": [
    {
     "data": {
      "text/plain": [
       "Index([u'Name', u'B/T', u'City', u'Event', u'High School', u'Hometown', u'Ht.',\n",
       "       u'Name_link', u'No.', u'Position', u'Region', u'S/C', u'Weapon', u'Wt.',\n",
       "       u'Yr.', u'season', u'sport', u'headers', u'Bio'],\n",
       "      dtype='object')"
      ]
     },
     "execution_count": 7,
     "metadata": {},
     "output_type": "execute_result"
    }
   ],
   "source": [
    "harvard.columns"
   ]
  },
  {
   "cell_type": "code",
   "execution_count": 8,
   "metadata": {
    "collapsed": false
   },
   "outputs": [
    {
     "data": {
      "text/html": [
       "<div>\n",
       "<table border=\"1\" class=\"dataframe\">\n",
       "  <thead>\n",
       "    <tr style=\"text-align: right;\">\n",
       "      <th></th>\n",
       "      <th>Name</th>\n",
       "      <th>B/T</th>\n",
       "      <th>City</th>\n",
       "      <th>Cl.</th>\n",
       "      <th>Events</th>\n",
       "      <th>High School</th>\n",
       "      <th>Hometown/High School</th>\n",
       "      <th>Hometown/Region</th>\n",
       "      <th>Ht.</th>\n",
       "      <th>Name_link</th>\n",
       "      <th>No.</th>\n",
       "      <th>Pos.</th>\n",
       "      <th>Region</th>\n",
       "      <th>Weapon</th>\n",
       "      <th>Wt.</th>\n",
       "      <th>season</th>\n",
       "      <th>sport</th>\n",
       "      <th>Bio</th>\n",
       "    </tr>\n",
       "  </thead>\n",
       "  <tbody>\n",
       "    <tr>\n",
       "      <th>0</th>\n",
       "      <td>A.J. Haase</td>\n",
       "      <td>NaN</td>\n",
       "      <td>Bonne Terre</td>\n",
       "      <td>Fr.</td>\n",
       "      <td>NaN</td>\n",
       "      <td>North County</td>\n",
       "      <td>Bonne Terre, MO / North County</td>\n",
       "      <td>Bonne Terre, MO</td>\n",
       "      <td>6-4</td>\n",
       "      <td>/sports/m-footbl/2006-07/bios/haase_a.j.00.html</td>\n",
       "      <td>NaN</td>\n",
       "      <td>TE</td>\n",
       "      <td>MO</td>\n",
       "      <td>NaN</td>\n",
       "      <td>245.0</td>\n",
       "      <td>2006-10</td>\n",
       "      <td>Football</td>\n",
       "      <td>2010-11: NCAA East Regional All-TournamentTeam...</td>\n",
       "    </tr>\n",
       "    <tr>\n",
       "      <th>1</th>\n",
       "      <td>AJ Edwards</td>\n",
       "      <td>NaN</td>\n",
       "      <td>Seattle</td>\n",
       "      <td>Fr.</td>\n",
       "      <td>NaN</td>\n",
       "      <td>South Kent School</td>\n",
       "      <td>Seattle, Wash. / South Kent School</td>\n",
       "      <td>Seattle, Wash.</td>\n",
       "      <td>6-5</td>\n",
       "      <td>/sports/m-baskbl/2013-14/bios/edwards_aj_geat</td>\n",
       "      <td>25.0</td>\n",
       "      <td>G</td>\n",
       "      <td>Wash.</td>\n",
       "      <td>NaN</td>\n",
       "      <td>190.0</td>\n",
       "      <td>2013-17</td>\n",
       "      <td>Basketball</td>\n",
       "      <td>2010: Appeared in five games... Recorded a 9.0...</td>\n",
       "    </tr>\n",
       "    <tr>\n",
       "      <th>2</th>\n",
       "      <td>Aarica West</td>\n",
       "      <td>NaN</td>\n",
       "      <td>Buena Park</td>\n",
       "      <td>Freshman</td>\n",
       "      <td>NaN</td>\n",
       "      <td>Vista Murrieta</td>\n",
       "      <td>Buena Park, Calif. / Vista Murrieta</td>\n",
       "      <td>Buena Park, Calif.</td>\n",
       "      <td>5-10</td>\n",
       "      <td>/sports/w-baskbl/2009-10/bios/west_aarica</td>\n",
       "      <td>31.0</td>\n",
       "      <td>G/F</td>\n",
       "      <td>Calif.</td>\n",
       "      <td>NaN</td>\n",
       "      <td>NaN</td>\n",
       "      <td>2009-12</td>\n",
       "      <td>Basketball</td>\n",
       "      <td>2014-15 (Senior): Named captain of Yale Heavyw...</td>\n",
       "    </tr>\n",
       "    <tr>\n",
       "      <th>3</th>\n",
       "      <td>Aaron Ault</td>\n",
       "      <td>NaN</td>\n",
       "      <td>Altamonte Springs</td>\n",
       "      <td>Fr.</td>\n",
       "      <td>NaN</td>\n",
       "      <td>Lake Brantley</td>\n",
       "      <td>Altamonte Springs, FL / Lake Brantley</td>\n",
       "      <td>Altamonte Springs, FL</td>\n",
       "      <td>6-3</td>\n",
       "      <td>/sports/m-footbl/2012-13/bios/ault_aaron_lcur</td>\n",
       "      <td>93.0</td>\n",
       "      <td>LB</td>\n",
       "      <td>FL</td>\n",
       "      <td>NaN</td>\n",
       "      <td>194.0</td>\n",
       "      <td>2012-16</td>\n",
       "      <td>Football</td>\n",
       "      <td>Notes: Owns school record for career goals aga...</td>\n",
       "    </tr>\n",
       "    <tr>\n",
       "      <th>4</th>\n",
       "      <td>Aaron Bosgang</td>\n",
       "      <td>NaN</td>\n",
       "      <td>Port Washington</td>\n",
       "      <td>Fr.</td>\n",
       "      <td>NaN</td>\n",
       "      <td>Paul D. Schreiber High School</td>\n",
       "      <td>Port Washington, N.Y. / Paul D. Schreiber High...</td>\n",
       "      <td>Port Washington, N.Y.</td>\n",
       "      <td>NaN</td>\n",
       "      <td>/sports/m-crewlt/2016-17/bios/bosgang_aaron_uh2u</td>\n",
       "      <td>NaN</td>\n",
       "      <td>NaN</td>\n",
       "      <td>N.Y.</td>\n",
       "      <td>NaN</td>\n",
       "      <td>NaN</td>\n",
       "      <td>2016-17</td>\n",
       "      <td>Crew (Lightweight)</td>\n",
       "      <td>2015: Played in all 10 games…Had 11 solo tackl...</td>\n",
       "    </tr>\n",
       "  </tbody>\n",
       "</table>\n",
       "</div>"
      ],
      "text/plain": [
       "            Name  B/T               City       Cl. Events  \\\n",
       "0     A.J. Haase  NaN        Bonne Terre       Fr.    NaN   \n",
       "1     AJ Edwards  NaN            Seattle       Fr.    NaN   \n",
       "2    Aarica West  NaN         Buena Park  Freshman    NaN   \n",
       "3     Aaron Ault  NaN  Altamonte Springs       Fr.    NaN   \n",
       "4  Aaron Bosgang  NaN    Port Washington       Fr.    NaN   \n",
       "\n",
       "                     High School  \\\n",
       "0                   North County   \n",
       "1              South Kent School   \n",
       "2                 Vista Murrieta   \n",
       "3                  Lake Brantley   \n",
       "4  Paul D. Schreiber High School   \n",
       "\n",
       "                                Hometown/High School        Hometown/Region  \\\n",
       "0                     Bonne Terre, MO / North County        Bonne Terre, MO   \n",
       "1                 Seattle, Wash. / South Kent School         Seattle, Wash.   \n",
       "2                Buena Park, Calif. / Vista Murrieta     Buena Park, Calif.   \n",
       "3              Altamonte Springs, FL / Lake Brantley  Altamonte Springs, FL   \n",
       "4  Port Washington, N.Y. / Paul D. Schreiber High...  Port Washington, N.Y.   \n",
       "\n",
       "    Ht.                                         Name_link   No. Pos.  Region  \\\n",
       "0   6-4   /sports/m-footbl/2006-07/bios/haase_a.j.00.html   NaN   TE      MO   \n",
       "1   6-5     /sports/m-baskbl/2013-14/bios/edwards_aj_geat  25.0    G   Wash.   \n",
       "2  5-10         /sports/w-baskbl/2009-10/bios/west_aarica  31.0  G/F  Calif.   \n",
       "3   6-3     /sports/m-footbl/2012-13/bios/ault_aaron_lcur  93.0   LB      FL   \n",
       "4   NaN  /sports/m-crewlt/2016-17/bios/bosgang_aaron_uh2u   NaN  NaN    N.Y.   \n",
       "\n",
       "  Weapon    Wt.   season               sport  \\\n",
       "0    NaN  245.0  2006-10            Football   \n",
       "1    NaN  190.0  2013-17          Basketball   \n",
       "2    NaN    NaN  2009-12          Basketball   \n",
       "3    NaN  194.0  2012-16            Football   \n",
       "4    NaN    NaN  2016-17  Crew (Lightweight)   \n",
       "\n",
       "                                                 Bio  \n",
       "0  2010-11: NCAA East Regional All-TournamentTeam...  \n",
       "1  2010: Appeared in five games... Recorded a 9.0...  \n",
       "2  2014-15 (Senior): Named captain of Yale Heavyw...  \n",
       "3  Notes: Owns school record for career goals aga...  \n",
       "4  2015: Played in all 10 games…Had 11 solo tackl...  "
      ]
     },
     "execution_count": 8,
     "metadata": {},
     "output_type": "execute_result"
    }
   ],
   "source": [
    "yale.head()"
   ]
  },
  {
   "cell_type": "code",
   "execution_count": 9,
   "metadata": {
    "collapsed": false
   },
   "outputs": [
    {
     "data": {
      "text/html": [
       "<div>\n",
       "<table border=\"1\" class=\"dataframe\">\n",
       "  <thead>\n",
       "    <tr style=\"text-align: right;\">\n",
       "      <th></th>\n",
       "      <th>Name</th>\n",
       "      <th>B/T</th>\n",
       "      <th>City</th>\n",
       "      <th>Event</th>\n",
       "      <th>High School</th>\n",
       "      <th>Hometown</th>\n",
       "      <th>Ht.</th>\n",
       "      <th>Name_link</th>\n",
       "      <th>No.</th>\n",
       "      <th>Position</th>\n",
       "      <th>Region</th>\n",
       "      <th>S/C</th>\n",
       "      <th>Weapon</th>\n",
       "      <th>Wt.</th>\n",
       "      <th>Yr.</th>\n",
       "      <th>season</th>\n",
       "      <th>sport</th>\n",
       "      <th>headers</th>\n",
       "      <th>Bio</th>\n",
       "    </tr>\n",
       "  </thead>\n",
       "  <tbody>\n",
       "    <tr>\n",
       "      <th>0</th>\n",
       "      <td>A.J. Jaffe</td>\n",
       "      <td>NaN</td>\n",
       "      <td>St. Charles</td>\n",
       "      <td>NaN</td>\n",
       "      <td>Marmion Academy</td>\n",
       "      <td>St. Charles, Ill.</td>\n",
       "      <td>NaN</td>\n",
       "      <td>/sports/wrest/2016-17/bios/jaffe_aj</td>\n",
       "      <td>NaN</td>\n",
       "      <td>141</td>\n",
       "      <td>Ill.</td>\n",
       "      <td>NaN</td>\n",
       "      <td>NaN</td>\n",
       "      <td>NaN</td>\n",
       "      <td>Freshman</td>\n",
       "      <td>2016-17</td>\n",
       "      <td>wrest</td>\n",
       "      <td>{u'Hometown:': u'St. Charles, Ill.', u'Positio...</td>\n",
       "      <td>Before Harvard Four-time letterwinner at Marmi...</td>\n",
       "    </tr>\n",
       "    <tr>\n",
       "      <th>1</th>\n",
       "      <td>A.J. Kennedy</td>\n",
       "      <td>NaN</td>\n",
       "      <td>Fonthill</td>\n",
       "      <td>NaN</td>\n",
       "      <td>Notre Dame College</td>\n",
       "      <td>Fonthill, Ont.</td>\n",
       "      <td>6-3</td>\n",
       "      <td>/sports/fball/2003-04/bios/a.j._kennedy</td>\n",
       "      <td>98</td>\n",
       "      <td>DE</td>\n",
       "      <td>Ont.</td>\n",
       "      <td>NaN</td>\n",
       "      <td>NaN</td>\n",
       "      <td>220</td>\n",
       "      <td>Freshman</td>\n",
       "      <td>2003-04</td>\n",
       "      <td>fball</td>\n",
       "      <td>{u'Position:': u'DE', u'Year:': u'Freshman', u...</td>\n",
       "      <td>NaN</td>\n",
       "    </tr>\n",
       "    <tr>\n",
       "      <th>2</th>\n",
       "      <td>AJ Carvalho</td>\n",
       "      <td>NaN</td>\n",
       "      <td>Swansea</td>\n",
       "      <td>NaN</td>\n",
       "      <td>Joseph Case</td>\n",
       "      <td>Swansea, Mass.</td>\n",
       "      <td>NaN</td>\n",
       "      <td>/sports/mcrew-lw/2010-11/bios/varsity/Carvalho...</td>\n",
       "      <td>NaN</td>\n",
       "      <td>NaN</td>\n",
       "      <td>Mass.</td>\n",
       "      <td>NaN</td>\n",
       "      <td>NaN</td>\n",
       "      <td>NaN</td>\n",
       "      <td>Sophomore</td>\n",
       "      <td>2010-13</td>\n",
       "      <td>mcrew-lw</td>\n",
       "      <td>{u'name': u'Antonio Carvalho', u'Year:': u'Sop...</td>\n",
       "      <td>Sophomore • 2011Did not see spring race action...</td>\n",
       "    </tr>\n",
       "    <tr>\n",
       "      <th>3</th>\n",
       "      <td>Aaki Vora</td>\n",
       "      <td>NaN</td>\n",
       "      <td>Mumbai</td>\n",
       "      <td>Freestyle</td>\n",
       "      <td>The Cathedral and John Connon School</td>\n",
       "      <td>Mumbai, India</td>\n",
       "      <td>NaN</td>\n",
       "      <td>/sports/wswimdive/2016-17/bios/Vora_Aaki</td>\n",
       "      <td>NaN</td>\n",
       "      <td>NaN</td>\n",
       "      <td>India</td>\n",
       "      <td>NaN</td>\n",
       "      <td>NaN</td>\n",
       "      <td>NaN</td>\n",
       "      <td>Freshman</td>\n",
       "      <td>2016-17</td>\n",
       "      <td>wswimdive</td>\n",
       "      <td>{u'Hometown:': u'Mumbai, India', u'Position:':...</td>\n",
       "      <td>Before Harvard Best female athlete at the 2015...</td>\n",
       "    </tr>\n",
       "    <tr>\n",
       "      <th>4</th>\n",
       "      <td>Aaron Byrd</td>\n",
       "      <td>NaN</td>\n",
       "      <td>Abilene</td>\n",
       "      <td>NaN</td>\n",
       "      <td>Cooper</td>\n",
       "      <td>Abilene, Texas</td>\n",
       "      <td>6-2</td>\n",
       "      <td>/sports/fball/2001-02/bios/aaron_byrd</td>\n",
       "      <td>3</td>\n",
       "      <td>DB</td>\n",
       "      <td>Texas</td>\n",
       "      <td>NaN</td>\n",
       "      <td>NaN</td>\n",
       "      <td>190</td>\n",
       "      <td>Freshman</td>\n",
       "      <td>2001-03</td>\n",
       "      <td>fball</td>\n",
       "      <td>{u'Position:': u'DB', u'Year:': u'Freshman', u...</td>\n",
       "      <td>NaN</td>\n",
       "    </tr>\n",
       "  </tbody>\n",
       "</table>\n",
       "</div>"
      ],
      "text/plain": [
       "           Name  B/T         City      Event  \\\n",
       "0    A.J. Jaffe  NaN  St. Charles        NaN   \n",
       "1  A.J. Kennedy  NaN     Fonthill        NaN   \n",
       "2   AJ Carvalho  NaN      Swansea        NaN   \n",
       "3     Aaki Vora  NaN       Mumbai  Freestyle   \n",
       "4    Aaron Byrd  NaN      Abilene        NaN   \n",
       "\n",
       "                            High School           Hometown  Ht.  \\\n",
       "0                       Marmion Academy  St. Charles, Ill.  NaN   \n",
       "1                    Notre Dame College     Fonthill, Ont.  6-3   \n",
       "2                           Joseph Case     Swansea, Mass.  NaN   \n",
       "3  The Cathedral and John Connon School      Mumbai, India  NaN   \n",
       "4                                Cooper     Abilene, Texas  6-2   \n",
       "\n",
       "                                           Name_link  No. Position Region  \\\n",
       "0                /sports/wrest/2016-17/bios/jaffe_aj  NaN      141   Ill.   \n",
       "1            /sports/fball/2003-04/bios/a.j._kennedy   98       DE   Ont.   \n",
       "2  /sports/mcrew-lw/2010-11/bios/varsity/Carvalho...  NaN      NaN  Mass.   \n",
       "3           /sports/wswimdive/2016-17/bios/Vora_Aaki  NaN      NaN  India   \n",
       "4              /sports/fball/2001-02/bios/aaron_byrd    3       DB  Texas   \n",
       "\n",
       "   S/C Weapon  Wt.        Yr.   season      sport  \\\n",
       "0  NaN    NaN  NaN   Freshman  2016-17      wrest   \n",
       "1  NaN    NaN  220   Freshman  2003-04      fball   \n",
       "2  NaN    NaN  NaN  Sophomore  2010-13   mcrew-lw   \n",
       "3  NaN    NaN  NaN   Freshman  2016-17  wswimdive   \n",
       "4  NaN    NaN  190   Freshman  2001-03      fball   \n",
       "\n",
       "                                             headers  \\\n",
       "0  {u'Hometown:': u'St. Charles, Ill.', u'Positio...   \n",
       "1  {u'Position:': u'DE', u'Year:': u'Freshman', u...   \n",
       "2  {u'name': u'Antonio Carvalho', u'Year:': u'Sop...   \n",
       "3  {u'Hometown:': u'Mumbai, India', u'Position:':...   \n",
       "4  {u'Position:': u'DB', u'Year:': u'Freshman', u...   \n",
       "\n",
       "                                                 Bio  \n",
       "0  Before Harvard Four-time letterwinner at Marmi...  \n",
       "1                                                NaN  \n",
       "2  Sophomore • 2011Did not see spring race action...  \n",
       "3  Before Harvard Best female athlete at the 2015...  \n",
       "4                                                NaN  "
      ]
     },
     "execution_count": 9,
     "metadata": {},
     "output_type": "execute_result"
    }
   ],
   "source": [
    "harvard.head()"
   ]
  },
  {
   "cell_type": "markdown",
   "metadata": {},
   "source": [
    "Definitive list of columns:\n",
    "1. Name\n",
    "2. B/T\n",
    "3. City\n",
    "4. Events\n",
    "5. High School\n",
    "6. Hometown\n",
    "7. Height\n",
    "8. No.\n",
    "9. Position\n",
    "10. Region\n",
    "11. S/C\n",
    "12. Weapon\n",
    "13. Weight\n",
    "14. Year\n",
    "15. Active Seasons\n",
    "16. Sport\n",
    "17. Headers\n",
    "18. Bio\n",
    "\n",
    "Next step involves adding blank data to tables when either does not contain the above columns, and cleaning up some of the data to ensure consistency."
   ]
  },
  {
   "cell_type": "code",
   "execution_count": 10,
   "metadata": {
    "collapsed": false
   },
   "outputs": [
    {
     "data": {
      "text/plain": [
       "Index([u'Name', u'B/T', u'City', u'Cl.', u'Events', u'High School',\n",
       "       u'Hometown/High School', u'Hometown/Region', u'Ht.', u'Name_link',\n",
       "       u'No.', u'Pos.', u'Region', u'Weapon', u'Wt.', u'season', u'sport',\n",
       "       u'Bio'],\n",
       "      dtype='object')"
      ]
     },
     "execution_count": 10,
     "metadata": {},
     "output_type": "execute_result"
    }
   ],
   "source": [
    "yale.columns"
   ]
  },
  {
   "cell_type": "code",
   "execution_count": 11,
   "metadata": {
    "collapsed": false
   },
   "outputs": [],
   "source": [
    "# Insert missing columns\n",
    "yale[\"S/C\"] = None\n",
    "yale[\"Headers\"] = None\n",
    "yale[\"College\"] = \"Yale\"\n",
    "# Re-order, then rename\n",
    "# Yale\n",
    "yaleColumns = [\"Name\", \"B/T\", \"City\", \"Events\", \"High School\", \"Hometown/High School\",\n",
    "               \"Ht.\", \"No.\", \"Pos.\", \"Region\", \"S/C\", \"Weapon\", \"Wt.\", \"Cl.\", \"season\", \"sport\", \"Headers\", \"Bio\", \"College\"]"
   ]
  },
  {
   "cell_type": "code",
   "execution_count": 12,
   "metadata": {
    "collapsed": true
   },
   "outputs": [],
   "source": [
    "yale = yale[yaleColumns]"
   ]
  },
  {
   "cell_type": "code",
   "execution_count": null,
   "metadata": {
    "collapsed": false
   },
   "outputs": [],
   "source": []
  },
  {
   "cell_type": "code",
   "execution_count": 13,
   "metadata": {
    "collapsed": false
   },
   "outputs": [
    {
     "data": {
      "text/plain": [
       "Index([u'Name', u'B/T', u'City', u'Event', u'High School', u'Hometown', u'Ht.',\n",
       "       u'Name_link', u'No.', u'Position', u'Region', u'S/C', u'Weapon', u'Wt.',\n",
       "       u'Yr.', u'season', u'sport', u'headers', u'Bio'],\n",
       "      dtype='object')"
      ]
     },
     "execution_count": 13,
     "metadata": {},
     "output_type": "execute_result"
    }
   ],
   "source": [
    "harvard.columns"
   ]
  },
  {
   "cell_type": "code",
   "execution_count": 14,
   "metadata": {
    "collapsed": true
   },
   "outputs": [],
   "source": [
    "harvard[\"College\"] = \"Harvard\"\n",
    "harvardColumns = [\"Name\", \"B/T\", \"City\", \"Event\", \"High School\", \"Hometown\",\n",
    "               \"Ht.\", \"No.\", \"Position\", \"Region\", \"S/C\", \"Weapon\", \"Wt.\", \"Yr.\", \"season\", \"sport\", \"headers\", \"Bio\", \"College\"]"
   ]
  },
  {
   "cell_type": "code",
   "execution_count": 15,
   "metadata": {
    "collapsed": true
   },
   "outputs": [],
   "source": [
    "harvard = harvard[harvardColumns]"
   ]
  },
  {
   "cell_type": "code",
   "execution_count": 16,
   "metadata": {
    "collapsed": false
   },
   "outputs": [
    {
     "data": {
      "text/plain": [
       "(4270, 19)"
      ]
     },
     "execution_count": 16,
     "metadata": {},
     "output_type": "execute_result"
    }
   ],
   "source": [
    "harvard.shape"
   ]
  },
  {
   "cell_type": "code",
   "execution_count": 17,
   "metadata": {
    "collapsed": false
   },
   "outputs": [
    {
     "data": {
      "text/plain": [
       "(3004, 19)"
      ]
     },
     "execution_count": 17,
     "metadata": {},
     "output_type": "execute_result"
    }
   ],
   "source": [
    "yale.shape"
   ]
  },
  {
   "cell_type": "code",
   "execution_count": 18,
   "metadata": {
    "collapsed": true
   },
   "outputs": [],
   "source": [
    "# Normalize column names\n",
    "normColumns = [\"Name\", \"B/T\", \"City\", \"Events\", \"High School\", \"Hometown\",\n",
    "               \"Ht.\", \"No.\", \"Position\", \"Region\", \"S/C\", \"Weapon\", \"Wt.\", \n",
    "               \"Class\", \"Active Seasons\", \"Sport\", \"Misc\", \"Bio\", \"College\"]\n",
    "yale.columns = normColumns\n",
    "harvard.columns = normColumns"
   ]
  },
  {
   "cell_type": "code",
   "execution_count": 19,
   "metadata": {
    "collapsed": false
   },
   "outputs": [
    {
     "data": {
      "text/html": [
       "<div>\n",
       "<table border=\"1\" class=\"dataframe\">\n",
       "  <thead>\n",
       "    <tr style=\"text-align: right;\">\n",
       "      <th></th>\n",
       "      <th>Name</th>\n",
       "      <th>B/T</th>\n",
       "      <th>City</th>\n",
       "      <th>Events</th>\n",
       "      <th>High School</th>\n",
       "      <th>Hometown</th>\n",
       "      <th>Ht.</th>\n",
       "      <th>No.</th>\n",
       "      <th>Position</th>\n",
       "      <th>Region</th>\n",
       "      <th>S/C</th>\n",
       "      <th>Weapon</th>\n",
       "      <th>Wt.</th>\n",
       "      <th>Class</th>\n",
       "      <th>Active Seasons</th>\n",
       "      <th>Sport</th>\n",
       "      <th>Misc</th>\n",
       "      <th>Bio</th>\n",
       "      <th>College</th>\n",
       "    </tr>\n",
       "  </thead>\n",
       "  <tbody>\n",
       "    <tr>\n",
       "      <th>0</th>\n",
       "      <td>A.J. Haase</td>\n",
       "      <td>NaN</td>\n",
       "      <td>Bonne Terre</td>\n",
       "      <td>NaN</td>\n",
       "      <td>North County</td>\n",
       "      <td>Bonne Terre, MO / North County</td>\n",
       "      <td>6-4</td>\n",
       "      <td>NaN</td>\n",
       "      <td>TE</td>\n",
       "      <td>MO</td>\n",
       "      <td>None</td>\n",
       "      <td>NaN</td>\n",
       "      <td>245.0</td>\n",
       "      <td>Fr.</td>\n",
       "      <td>2006-10</td>\n",
       "      <td>Football</td>\n",
       "      <td>None</td>\n",
       "      <td>2010-11: NCAA East Regional All-TournamentTeam...</td>\n",
       "      <td>Yale</td>\n",
       "    </tr>\n",
       "    <tr>\n",
       "      <th>1</th>\n",
       "      <td>AJ Edwards</td>\n",
       "      <td>NaN</td>\n",
       "      <td>Seattle</td>\n",
       "      <td>NaN</td>\n",
       "      <td>South Kent School</td>\n",
       "      <td>Seattle, Wash. / South Kent School</td>\n",
       "      <td>6-5</td>\n",
       "      <td>25.0</td>\n",
       "      <td>G</td>\n",
       "      <td>Wash.</td>\n",
       "      <td>None</td>\n",
       "      <td>NaN</td>\n",
       "      <td>190.0</td>\n",
       "      <td>Fr.</td>\n",
       "      <td>2013-17</td>\n",
       "      <td>Basketball</td>\n",
       "      <td>None</td>\n",
       "      <td>2010: Appeared in five games... Recorded a 9.0...</td>\n",
       "      <td>Yale</td>\n",
       "    </tr>\n",
       "    <tr>\n",
       "      <th>2</th>\n",
       "      <td>Aarica West</td>\n",
       "      <td>NaN</td>\n",
       "      <td>Buena Park</td>\n",
       "      <td>NaN</td>\n",
       "      <td>Vista Murrieta</td>\n",
       "      <td>Buena Park, Calif. / Vista Murrieta</td>\n",
       "      <td>5-10</td>\n",
       "      <td>31.0</td>\n",
       "      <td>G/F</td>\n",
       "      <td>Calif.</td>\n",
       "      <td>None</td>\n",
       "      <td>NaN</td>\n",
       "      <td>NaN</td>\n",
       "      <td>Freshman</td>\n",
       "      <td>2009-12</td>\n",
       "      <td>Basketball</td>\n",
       "      <td>None</td>\n",
       "      <td>2014-15 (Senior): Named captain of Yale Heavyw...</td>\n",
       "      <td>Yale</td>\n",
       "    </tr>\n",
       "    <tr>\n",
       "      <th>3</th>\n",
       "      <td>Aaron Ault</td>\n",
       "      <td>NaN</td>\n",
       "      <td>Altamonte Springs</td>\n",
       "      <td>NaN</td>\n",
       "      <td>Lake Brantley</td>\n",
       "      <td>Altamonte Springs, FL / Lake Brantley</td>\n",
       "      <td>6-3</td>\n",
       "      <td>93.0</td>\n",
       "      <td>LB</td>\n",
       "      <td>FL</td>\n",
       "      <td>None</td>\n",
       "      <td>NaN</td>\n",
       "      <td>194.0</td>\n",
       "      <td>Fr.</td>\n",
       "      <td>2012-16</td>\n",
       "      <td>Football</td>\n",
       "      <td>None</td>\n",
       "      <td>Notes: Owns school record for career goals aga...</td>\n",
       "      <td>Yale</td>\n",
       "    </tr>\n",
       "    <tr>\n",
       "      <th>4</th>\n",
       "      <td>Aaron Bosgang</td>\n",
       "      <td>NaN</td>\n",
       "      <td>Port Washington</td>\n",
       "      <td>NaN</td>\n",
       "      <td>Paul D. Schreiber High School</td>\n",
       "      <td>Port Washington, N.Y. / Paul D. Schreiber High...</td>\n",
       "      <td>NaN</td>\n",
       "      <td>NaN</td>\n",
       "      <td>NaN</td>\n",
       "      <td>N.Y.</td>\n",
       "      <td>None</td>\n",
       "      <td>NaN</td>\n",
       "      <td>NaN</td>\n",
       "      <td>Fr.</td>\n",
       "      <td>2016-17</td>\n",
       "      <td>Crew (Lightweight)</td>\n",
       "      <td>None</td>\n",
       "      <td>2015: Played in all 10 games…Had 11 solo tackl...</td>\n",
       "      <td>Yale</td>\n",
       "    </tr>\n",
       "  </tbody>\n",
       "</table>\n",
       "</div>"
      ],
      "text/plain": [
       "            Name  B/T               City Events  \\\n",
       "0     A.J. Haase  NaN        Bonne Terre    NaN   \n",
       "1     AJ Edwards  NaN            Seattle    NaN   \n",
       "2    Aarica West  NaN         Buena Park    NaN   \n",
       "3     Aaron Ault  NaN  Altamonte Springs    NaN   \n",
       "4  Aaron Bosgang  NaN    Port Washington    NaN   \n",
       "\n",
       "                     High School  \\\n",
       "0                   North County   \n",
       "1              South Kent School   \n",
       "2                 Vista Murrieta   \n",
       "3                  Lake Brantley   \n",
       "4  Paul D. Schreiber High School   \n",
       "\n",
       "                                            Hometown   Ht.   No. Position  \\\n",
       "0                     Bonne Terre, MO / North County   6-4   NaN       TE   \n",
       "1                 Seattle, Wash. / South Kent School   6-5  25.0        G   \n",
       "2                Buena Park, Calif. / Vista Murrieta  5-10  31.0      G/F   \n",
       "3              Altamonte Springs, FL / Lake Brantley   6-3  93.0       LB   \n",
       "4  Port Washington, N.Y. / Paul D. Schreiber High...   NaN   NaN      NaN   \n",
       "\n",
       "   Region   S/C Weapon    Wt.     Class Active Seasons               Sport  \\\n",
       "0      MO  None    NaN  245.0       Fr.        2006-10            Football   \n",
       "1   Wash.  None    NaN  190.0       Fr.        2013-17          Basketball   \n",
       "2  Calif.  None    NaN    NaN  Freshman        2009-12          Basketball   \n",
       "3      FL  None    NaN  194.0       Fr.        2012-16            Football   \n",
       "4    N.Y.  None    NaN    NaN       Fr.        2016-17  Crew (Lightweight)   \n",
       "\n",
       "   Misc                                                Bio College  \n",
       "0  None  2010-11: NCAA East Regional All-TournamentTeam...    Yale  \n",
       "1  None  2010: Appeared in five games... Recorded a 9.0...    Yale  \n",
       "2  None  2014-15 (Senior): Named captain of Yale Heavyw...    Yale  \n",
       "3  None  Notes: Owns school record for career goals aga...    Yale  \n",
       "4  None  2015: Played in all 10 games…Had 11 solo tackl...    Yale  "
      ]
     },
     "execution_count": 19,
     "metadata": {},
     "output_type": "execute_result"
    }
   ],
   "source": [
    "yale.head()"
   ]
  },
  {
   "cell_type": "code",
   "execution_count": 20,
   "metadata": {
    "collapsed": false
   },
   "outputs": [],
   "source": [
    "stacked = pd.concat([yale, harvard], axis=0)"
   ]
  },
  {
   "cell_type": "code",
   "execution_count": 21,
   "metadata": {
    "collapsed": false
   },
   "outputs": [],
   "source": [
    "# Drop some of the columns we don't need\n",
    "finalColumns = [\"Name\", \"City\", \"High School\", \"Hometown\",\n",
    "                \"Ht.\", \"No.\", \"Position\", \"Region\", \"Wt.\",\n",
    "                \"Active Seasons\", \"Misc\", \"Bio\", \"College\"]\n",
    "stacked = stacked[finalColumns]"
   ]
  },
  {
   "cell_type": "code",
   "execution_count": 22,
   "metadata": {
    "collapsed": false
   },
   "outputs": [],
   "source": [
    "# Seems about right.\n",
    "processedPath = os.path.join(PROJ_ROOT, \"data\", \"processed\", \"player_bios_processed.csv\")\n",
    "stacked.to_csv(processedPath, encoding='utf-8')"
   ]
  },
  {
   "cell_type": "code",
   "execution_count": null,
   "metadata": {
    "collapsed": true
   },
   "outputs": [],
   "source": []
  }
 ],
 "metadata": {
  "anaconda-cloud": {},
  "kernelspec": {
   "display_name": "Python [default]",
   "language": "python",
   "name": "python2"
  },
  "language_info": {
   "codemirror_mode": {
    "name": "ipython",
    "version": 2
   },
   "file_extension": ".py",
   "mimetype": "text/x-python",
   "name": "python",
   "nbconvert_exporter": "python",
   "pygments_lexer": "ipython2",
   "version": "2.7.12"
  }
 },
 "nbformat": 4,
 "nbformat_minor": 1
}
