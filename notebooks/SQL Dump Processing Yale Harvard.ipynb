{
 "cells": [
  {
   "cell_type": "code",
   "execution_count": 353,
   "metadata": {
    "collapsed": true
   },
   "outputs": [],
   "source": [
    "# Combine two dataframes into one common dataframe,\n",
    "# and dump to SQL file for upload to Web app\n",
    "import os\n",
    "import pandas as pd\n",
    "import matplotlib.pyplot as plt\n",
    "# import seaborn as sns\n",
    "PROJ_ROOT = os.pardir\n",
    "\n",
    "# For munging\n",
    "import re\n",
    "import json"
   ]
  },
  {
   "cell_type": "code",
   "execution_count": 354,
   "metadata": {
    "collapsed": false
   },
   "outputs": [],
   "source": [
    "yalePath = os.path.join(PROJ_ROOT, \"data\", \"interim\", \"yale_bios_processed.csv\")\n",
    "harvardPath = os.path.join(PROJ_ROOT, \"data\", \"interim\", \"harvard_bios_processed.p\")\n",
    "\n",
    "yale = pd.read_csv(yalePath)\n",
    "harvard = pd.read_pickle(harvardPath)"
   ]
  },
  {
   "cell_type": "code",
   "execution_count": 355,
   "metadata": {
    "collapsed": false
   },
   "outputs": [
    {
     "data": {
      "text/plain": [
       "Index([u'Name', u'B/T', u'City', u'Cl.', u'Events', u'High School',\n",
       "       u'Hometown/High School', u'Hometown/Region', u'Ht.', u'Name_link',\n",
       "       u'No.', u'Pos.', u'Region', u'Weapon', u'Wt.', u'season', u'sport',\n",
       "       u'Bio', u'headers'],\n",
       "      dtype='object')"
      ]
     },
     "execution_count": 355,
     "metadata": {},
     "output_type": "execute_result"
    }
   ],
   "source": [
    "yale.columns"
   ]
  },
  {
   "cell_type": "code",
   "execution_count": 356,
   "metadata": {
    "collapsed": false
   },
   "outputs": [
    {
     "data": {
      "text/plain": [
       "(4270, 19)"
      ]
     },
     "execution_count": 356,
     "metadata": {},
     "output_type": "execute_result"
    }
   ],
   "source": [
    "harvard.shape"
   ]
  },
  {
   "cell_type": "code",
   "execution_count": 357,
   "metadata": {
    "collapsed": false
   },
   "outputs": [
    {
     "data": {
      "text/plain": [
       "Index([u'Name', u'B/T', u'City', u'Cl.', u'Events', u'High School',\n",
       "       u'Hometown/High School', u'Hometown/Region', u'Ht.', u'Name_link',\n",
       "       u'No.', u'Pos.', u'Region', u'Weapon', u'Wt.', u'season', u'sport',\n",
       "       u'Bio', u'headers'],\n",
       "      dtype='object')"
      ]
     },
     "execution_count": 357,
     "metadata": {},
     "output_type": "execute_result"
    }
   ],
   "source": [
    "yale.columns"
   ]
  },
  {
   "cell_type": "code",
   "execution_count": 358,
   "metadata": {
    "collapsed": false
   },
   "outputs": [
    {
     "data": {
      "text/plain": [
       "Index([       u'Name',         u'B/T',        u'City',       u'Event',\n",
       "       u'High School',    u'Hometown',         u'Ht.',   u'Name_link',\n",
       "               u'No.',    u'Position',      u'Region',         u'S/C',\n",
       "            u'Weapon',         u'Wt.',         u'Yr.',      u'season',\n",
       "             u'sport',     u'headers',         u'Bio'],\n",
       "      dtype='object')"
      ]
     },
     "execution_count": 358,
     "metadata": {},
     "output_type": "execute_result"
    }
   ],
   "source": [
    "harvard.columns"
   ]
  },
  {
   "cell_type": "code",
   "execution_count": 359,
   "metadata": {
    "collapsed": false
   },
   "outputs": [
    {
     "data": {
      "text/plain": [
       "'{\"Position:\": \"TE\", \"Year:\": \"Fr.\", \"Height:\": \"6-4\", \"Previous College:\": \"Iowa State\", \"Years at Yale:\": \"***\", \"Hometown:\": \"Bonne Terre, MO\", \"Weight:\": \"245\", \"High School:\": \"North County\", \"name\": \"A.J. Haase\"}'"
      ]
     },
     "execution_count": 359,
     "metadata": {},
     "output_type": "execute_result"
    }
   ],
   "source": [
    "yale[\"headers\"][0]"
   ]
  },
  {
   "cell_type": "code",
   "execution_count": 360,
   "metadata": {
    "collapsed": false
   },
   "outputs": [
    {
     "data": {
      "text/html": [
       "<div>\n",
       "<table border=\"1\" class=\"dataframe\">\n",
       "  <thead>\n",
       "    <tr style=\"text-align: right;\">\n",
       "      <th></th>\n",
       "      <th>Name</th>\n",
       "      <th>B/T</th>\n",
       "      <th>City</th>\n",
       "      <th>Event</th>\n",
       "      <th>High School</th>\n",
       "      <th>Hometown</th>\n",
       "      <th>Ht.</th>\n",
       "      <th>Name_link</th>\n",
       "      <th>No.</th>\n",
       "      <th>Position</th>\n",
       "      <th>Region</th>\n",
       "      <th>S/C</th>\n",
       "      <th>Weapon</th>\n",
       "      <th>Wt.</th>\n",
       "      <th>Yr.</th>\n",
       "      <th>season</th>\n",
       "      <th>sport</th>\n",
       "      <th>headers</th>\n",
       "      <th>Bio</th>\n",
       "    </tr>\n",
       "  </thead>\n",
       "  <tbody>\n",
       "    <tr>\n",
       "      <th>0</th>\n",
       "      <td>A.J. Jaffe</td>\n",
       "      <td>None</td>\n",
       "      <td>St. Charles</td>\n",
       "      <td>None</td>\n",
       "      <td>Marmion Academy</td>\n",
       "      <td>St. Charles, Ill.</td>\n",
       "      <td>None</td>\n",
       "      <td>/sports/wrest/2016-17/bios/jaffe_aj</td>\n",
       "      <td>None</td>\n",
       "      <td>141</td>\n",
       "      <td>Ill.</td>\n",
       "      <td>None</td>\n",
       "      <td>None</td>\n",
       "      <td>None</td>\n",
       "      <td>Freshman</td>\n",
       "      <td>2016-17</td>\n",
       "      <td>wrest</td>\n",
       "      <td>{\"Hometown:\": \"St. Charles, Ill.\", \"Position:\"...</td>\n",
       "      <td>\\rBefore Harvard Four-time letterwinner at Mar...</td>\n",
       "    </tr>\n",
       "    <tr>\n",
       "      <th>1</th>\n",
       "      <td>A.J. Kennedy</td>\n",
       "      <td>None</td>\n",
       "      <td>Fonthill</td>\n",
       "      <td>None</td>\n",
       "      <td>Notre Dame College</td>\n",
       "      <td>Fonthill, Ont.</td>\n",
       "      <td>6-3</td>\n",
       "      <td>/sports/fball/2003-04/bios/a.j._kennedy</td>\n",
       "      <td>98</td>\n",
       "      <td>DE</td>\n",
       "      <td>Ont.</td>\n",
       "      <td>None</td>\n",
       "      <td>None</td>\n",
       "      <td>220</td>\n",
       "      <td>Freshman</td>\n",
       "      <td>2003-04</td>\n",
       "      <td>fball</td>\n",
       "      <td>{\"Position:\": \"DE\", \"Year:\": \"Freshman\", \"Heig...</td>\n",
       "      <td></td>\n",
       "    </tr>\n",
       "    <tr>\n",
       "      <th>2</th>\n",
       "      <td>AJ Carvalho</td>\n",
       "      <td>None</td>\n",
       "      <td>Swansea</td>\n",
       "      <td>None</td>\n",
       "      <td>Joseph Case</td>\n",
       "      <td>Swansea, Mass.</td>\n",
       "      <td>None</td>\n",
       "      <td>/sports/mcrew-lw/2010-11/bios/varsity/Carvalho...</td>\n",
       "      <td>None</td>\n",
       "      <td>None</td>\n",
       "      <td>Mass.</td>\n",
       "      <td>None</td>\n",
       "      <td>None</td>\n",
       "      <td>None</td>\n",
       "      <td>Sophomore</td>\n",
       "      <td>2010-13</td>\n",
       "      <td>mcrew-lw</td>\n",
       "      <td>{\"name\": \"Antonio Carvalho\", \"Year:\": \"Sophomo...</td>\n",
       "      <td>\\rSophomore • 2011\\r\\rDid not see spring race ...</td>\n",
       "    </tr>\n",
       "    <tr>\n",
       "      <th>3</th>\n",
       "      <td>Aaki Vora</td>\n",
       "      <td>None</td>\n",
       "      <td>Mumbai</td>\n",
       "      <td>Freestyle</td>\n",
       "      <td>The Cathedral and John Connon School</td>\n",
       "      <td>Mumbai, India</td>\n",
       "      <td>None</td>\n",
       "      <td>/sports/wswimdive/2016-17/bios/Vora_Aaki</td>\n",
       "      <td>None</td>\n",
       "      <td>None</td>\n",
       "      <td>India</td>\n",
       "      <td>None</td>\n",
       "      <td>None</td>\n",
       "      <td>None</td>\n",
       "      <td>Freshman</td>\n",
       "      <td>2016-17</td>\n",
       "      <td>wswimdive</td>\n",
       "      <td>{\"Hometown:\": \"Mumbai, India\", \"Position:\": \"F...</td>\n",
       "      <td>\\rBefore Harvard\\r\\r Best female athlete at th...</td>\n",
       "    </tr>\n",
       "    <tr>\n",
       "      <th>4</th>\n",
       "      <td>Aaron Byrd</td>\n",
       "      <td>None</td>\n",
       "      <td>Abilene</td>\n",
       "      <td>None</td>\n",
       "      <td>Cooper</td>\n",
       "      <td>Abilene, Texas</td>\n",
       "      <td>6-2</td>\n",
       "      <td>/sports/fball/2001-02/bios/aaron_byrd</td>\n",
       "      <td>3</td>\n",
       "      <td>DB</td>\n",
       "      <td>Texas</td>\n",
       "      <td>None</td>\n",
       "      <td>None</td>\n",
       "      <td>190</td>\n",
       "      <td>Freshman</td>\n",
       "      <td>2001-03</td>\n",
       "      <td>fball</td>\n",
       "      <td>{\"Position:\": \"DB\", \"Year:\": \"Freshman\", \"Heig...</td>\n",
       "      <td></td>\n",
       "    </tr>\n",
       "  </tbody>\n",
       "</table>\n",
       "</div>"
      ],
      "text/plain": [
       "           Name   B/T         City      Event  \\\n",
       "0    A.J. Jaffe  None  St. Charles       None   \n",
       "1  A.J. Kennedy  None     Fonthill       None   \n",
       "2   AJ Carvalho  None      Swansea       None   \n",
       "3     Aaki Vora  None       Mumbai  Freestyle   \n",
       "4    Aaron Byrd  None      Abilene       None   \n",
       "\n",
       "                            High School           Hometown   Ht.  \\\n",
       "0                       Marmion Academy  St. Charles, Ill.  None   \n",
       "1                    Notre Dame College     Fonthill, Ont.   6-3   \n",
       "2                           Joseph Case     Swansea, Mass.  None   \n",
       "3  The Cathedral and John Connon School      Mumbai, India  None   \n",
       "4                                Cooper     Abilene, Texas   6-2   \n",
       "\n",
       "                                           Name_link   No. Position Region  \\\n",
       "0                /sports/wrest/2016-17/bios/jaffe_aj  None      141   Ill.   \n",
       "1            /sports/fball/2003-04/bios/a.j._kennedy    98       DE   Ont.   \n",
       "2  /sports/mcrew-lw/2010-11/bios/varsity/Carvalho...  None     None  Mass.   \n",
       "3           /sports/wswimdive/2016-17/bios/Vora_Aaki  None     None  India   \n",
       "4              /sports/fball/2001-02/bios/aaron_byrd     3       DB  Texas   \n",
       "\n",
       "    S/C Weapon   Wt.        Yr.   season      sport  \\\n",
       "0  None   None  None   Freshman  2016-17      wrest   \n",
       "1  None   None   220   Freshman  2003-04      fball   \n",
       "2  None   None  None  Sophomore  2010-13   mcrew-lw   \n",
       "3  None   None  None   Freshman  2016-17  wswimdive   \n",
       "4  None   None   190   Freshman  2001-03      fball   \n",
       "\n",
       "                                             headers  \\\n",
       "0  {\"Hometown:\": \"St. Charles, Ill.\", \"Position:\"...   \n",
       "1  {\"Position:\": \"DE\", \"Year:\": \"Freshman\", \"Heig...   \n",
       "2  {\"name\": \"Antonio Carvalho\", \"Year:\": \"Sophomo...   \n",
       "3  {\"Hometown:\": \"Mumbai, India\", \"Position:\": \"F...   \n",
       "4  {\"Position:\": \"DB\", \"Year:\": \"Freshman\", \"Heig...   \n",
       "\n",
       "                                                 Bio  \n",
       "0  \\rBefore Harvard Four-time letterwinner at Mar...  \n",
       "1                                                     \n",
       "2  \\rSophomore • 2011\\r\\rDid not see spring race ...  \n",
       "3  \\rBefore Harvard\\r\\r Best female athlete at th...  \n",
       "4                                                     "
      ]
     },
     "execution_count": 360,
     "metadata": {},
     "output_type": "execute_result"
    }
   ],
   "source": [
    "harvard.head()"
   ]
  },
  {
   "cell_type": "markdown",
   "metadata": {},
   "source": [
    "Definitive list of columns:\n",
    "1. Name\n",
    "2. B/T\n",
    "3. City\n",
    "4. Events\n",
    "5. High School\n",
    "6. Hometown\n",
    "7. Height\n",
    "8. No.\n",
    "9. Position\n",
    "10. Region\n",
    "11. S/C\n",
    "12. Weapon\n",
    "13. Weight\n",
    "14. Year\n",
    "15. Active Seasons\n",
    "16. Sport\n",
    "17. Headers\n",
    "18. Bio\n",
    "\n",
    "Next step involves adding blank data to tables when either does not contain the above columns, and cleaning up some of the data to ensure consistency."
   ]
  },
  {
   "cell_type": "code",
   "execution_count": 361,
   "metadata": {
    "collapsed": false
   },
   "outputs": [
    {
     "data": {
      "text/plain": [
       "Index([u'Name', u'B/T', u'City', u'Cl.', u'Events', u'High School',\n",
       "       u'Hometown/High School', u'Hometown/Region', u'Ht.', u'Name_link',\n",
       "       u'No.', u'Pos.', u'Region', u'Weapon', u'Wt.', u'season', u'sport',\n",
       "       u'Bio', u'headers'],\n",
       "      dtype='object')"
      ]
     },
     "execution_count": 361,
     "metadata": {},
     "output_type": "execute_result"
    }
   ],
   "source": [
    "yale.columns"
   ]
  },
  {
   "cell_type": "code",
   "execution_count": 362,
   "metadata": {
    "collapsed": false
   },
   "outputs": [],
   "source": [
    "# Insert missing columns\n",
    "yale[\"S/C\"] = None\n",
    "yale[\"College\"] = \"Yale\"\n",
    "# Re-order, then rename\n",
    "# Yale\n",
    "yaleColumns = [\"Name\", \"B/T\", \"City\", \"Events\", \"High School\", \"Hometown/High School\",\n",
    "               \"Ht.\", \"No.\", \"Pos.\", \"Region\", \"S/C\", \"Weapon\", \"Wt.\", \"Cl.\", \"season\", \"sport\", \"headers\", \"Bio\", \"College\"]"
   ]
  },
  {
   "cell_type": "code",
   "execution_count": 363,
   "metadata": {
    "collapsed": true
   },
   "outputs": [],
   "source": [
    "yale = yale[yaleColumns]"
   ]
  },
  {
   "cell_type": "code",
   "execution_count": 364,
   "metadata": {
    "collapsed": false
   },
   "outputs": [],
   "source": [
    "# STILL WORKING"
   ]
  },
  {
   "cell_type": "code",
   "execution_count": 365,
   "metadata": {
    "collapsed": false
   },
   "outputs": [
    {
     "data": {
      "text/plain": [
       "Index([       u'Name',         u'B/T',        u'City',       u'Event',\n",
       "       u'High School',    u'Hometown',         u'Ht.',   u'Name_link',\n",
       "               u'No.',    u'Position',      u'Region',         u'S/C',\n",
       "            u'Weapon',         u'Wt.',         u'Yr.',      u'season',\n",
       "             u'sport',     u'headers',         u'Bio'],\n",
       "      dtype='object')"
      ]
     },
     "execution_count": 365,
     "metadata": {},
     "output_type": "execute_result"
    }
   ],
   "source": [
    "harvard.columns"
   ]
  },
  {
   "cell_type": "code",
   "execution_count": 366,
   "metadata": {
    "collapsed": true
   },
   "outputs": [],
   "source": [
    "harvard[\"College\"] = \"Harvard\"\n",
    "harvardColumns = [\"Name\", \"B/T\", \"City\", \"Event\", \"High School\", \"Hometown\",\n",
    "               \"Ht.\", \"No.\", \"Position\", \"Region\", \"S/C\", \"Weapon\", \"Wt.\", \"Yr.\", \"season\", \"sport\", \"headers\", \"Bio\", \"College\"]"
   ]
  },
  {
   "cell_type": "code",
   "execution_count": 367,
   "metadata": {
    "collapsed": false
   },
   "outputs": [],
   "source": [
    "harvard = harvard[harvardColumns]"
   ]
  },
  {
   "cell_type": "code",
   "execution_count": 368,
   "metadata": {
    "collapsed": false
   },
   "outputs": [
    {
     "data": {
      "text/plain": [
       "(4270, 19)"
      ]
     },
     "execution_count": 368,
     "metadata": {},
     "output_type": "execute_result"
    }
   ],
   "source": [
    "harvard.shape"
   ]
  },
  {
   "cell_type": "code",
   "execution_count": 369,
   "metadata": {
    "collapsed": false
   },
   "outputs": [
    {
     "data": {
      "text/plain": [
       "(3004, 19)"
      ]
     },
     "execution_count": 369,
     "metadata": {},
     "output_type": "execute_result"
    }
   ],
   "source": [
    "yale.shape"
   ]
  },
  {
   "cell_type": "code",
   "execution_count": 370,
   "metadata": {
    "collapsed": true
   },
   "outputs": [],
   "source": [
    "# Normalize column names\n",
    "normColumns = [\"Name\", \"B/T\", \"City\", \"Events\", \"High School\", \"Hometown\",\n",
    "               \"Ht.\", \"No.\", \"Position\", \"Region\", \"S/C\", \"Weapon\", \"Wt.\", \n",
    "               \"Class\", \"Active Seasons\", \"Sport\", \"Misc\", \"Bio\", \"College\"]\n",
    "yale.columns = normColumns\n",
    "harvard.columns = normColumns"
   ]
  },
  {
   "cell_type": "code",
   "execution_count": 371,
   "metadata": {
    "collapsed": false
   },
   "outputs": [],
   "source": [
    "yale[\"Hometown\"] = yale['Hometown'].apply(lambda x: x.split(\"/\")[0].strip() if type(x) == str else \"\")"
   ]
  },
  {
   "cell_type": "code",
   "execution_count": 372,
   "metadata": {
    "collapsed": false
   },
   "outputs": [
    {
     "data": {
      "text/plain": [
       "'{\"Position:\": \"TE\", \"Year:\": \"Fr.\", \"Height:\": \"6-4\", \"Previous College:\": \"Iowa State\", \"Years at Yale:\": \"***\", \"Hometown:\": \"Bonne Terre, MO\", \"Weight:\": \"245\", \"High School:\": \"North County\", \"name\": \"A.J. Haase\"}'"
      ]
     },
     "execution_count": 372,
     "metadata": {},
     "output_type": "execute_result"
    }
   ],
   "source": [
    "yale[\"Misc\"][0]"
   ]
  },
  {
   "cell_type": "code",
   "execution_count": 373,
   "metadata": {
    "collapsed": false
   },
   "outputs": [],
   "source": [
    "stacked = pd.concat([yale, harvard], axis=0)"
   ]
  },
  {
   "cell_type": "code",
   "execution_count": 374,
   "metadata": {
    "collapsed": false
   },
   "outputs": [],
   "source": [
    "# Drop some of the columns we don't need\n",
    "finalColumns = [\"Name\", \"High School\", \"Hometown\",\n",
    "                \"Ht.\", \"No.\", \"Position\", \"Wt.\",\n",
    "                \"Active Seasons\", \"Misc\", \"Bio\", \"College\"]\n",
    "stacked = stacked[finalColumns]"
   ]
  },
  {
   "cell_type": "code",
   "execution_count": 375,
   "metadata": {
    "collapsed": false
   },
   "outputs": [
    {
     "data": {
      "text/html": [
       "<div>\n",
       "<table border=\"1\" class=\"dataframe\">\n",
       "  <thead>\n",
       "    <tr style=\"text-align: right;\">\n",
       "      <th></th>\n",
       "      <th>Name</th>\n",
       "      <th>High School</th>\n",
       "      <th>Hometown</th>\n",
       "      <th>Ht.</th>\n",
       "      <th>No.</th>\n",
       "      <th>Position</th>\n",
       "      <th>Wt.</th>\n",
       "      <th>Active Seasons</th>\n",
       "      <th>Misc</th>\n",
       "      <th>Bio</th>\n",
       "      <th>College</th>\n",
       "    </tr>\n",
       "  </thead>\n",
       "  <tbody>\n",
       "    <tr>\n",
       "      <th>0</th>\n",
       "      <td>A.J. Haase</td>\n",
       "      <td>North County</td>\n",
       "      <td>Bonne Terre, MO</td>\n",
       "      <td>6-4</td>\n",
       "      <td>NaN</td>\n",
       "      <td>TE</td>\n",
       "      <td>245</td>\n",
       "      <td>2006-10</td>\n",
       "      <td>{\"Position:\": \"TE\", \"Year:\": \"Fr.\", \"Height:\":...</td>\n",
       "      <td>2008: Started eight games at TE... LedYale end...</td>\n",
       "      <td>Yale</td>\n",
       "    </tr>\n",
       "    <tr>\n",
       "      <th>1</th>\n",
       "      <td>AJ Edwards</td>\n",
       "      <td>South Kent School</td>\n",
       "      <td>Seattle, Wash.</td>\n",
       "      <td>6-5</td>\n",
       "      <td>25</td>\n",
       "      <td>G</td>\n",
       "      <td>190</td>\n",
       "      <td>2013-17</td>\n",
       "      <td>{\"Position:\": \"G\", \"Year:\": \"Fr.\", \"Height:\": ...</td>\n",
       "      <td>2013-14: Appeared in five games… Scored five p...</td>\n",
       "      <td>Yale</td>\n",
       "    </tr>\n",
       "    <tr>\n",
       "      <th>2</th>\n",
       "      <td>Aarica West</td>\n",
       "      <td>Vista Murrieta</td>\n",
       "      <td>Buena Park, Calif.</td>\n",
       "      <td>5-10</td>\n",
       "      <td>31</td>\n",
       "      <td>G/F</td>\n",
       "      <td>NaN</td>\n",
       "      <td>2009-12</td>\n",
       "      <td>{\"Position:\": \"G/F\", \"Year:\": \"Freshman\", \"Hei...</td>\n",
       "      <td>Before Yale: Played four years scholasticallyi...</td>\n",
       "      <td>Yale</td>\n",
       "    </tr>\n",
       "    <tr>\n",
       "      <th>3</th>\n",
       "      <td>Aaron Ault</td>\n",
       "      <td>Lake Brantley</td>\n",
       "      <td>Altamonte Springs, FL</td>\n",
       "      <td>6-3</td>\n",
       "      <td>93</td>\n",
       "      <td>LB</td>\n",
       "      <td>194</td>\n",
       "      <td>2012-16</td>\n",
       "      <td>{\"Position:\": \"LB\", \"Year:\": \"Fr.\", \"Height:\":...</td>\n",
       "      <td>2013: Played in all 10 games, mostly onspecial...</td>\n",
       "      <td>Yale</td>\n",
       "    </tr>\n",
       "    <tr>\n",
       "      <th>4</th>\n",
       "      <td>Aaron Bosgang</td>\n",
       "      <td>Paul D. Schreiber High School</td>\n",
       "      <td>Port Washington, N.Y.</td>\n",
       "      <td>NaN</td>\n",
       "      <td>NaN</td>\n",
       "      <td>NaN</td>\n",
       "      <td>NaN</td>\n",
       "      <td>2016-17</td>\n",
       "      <td>{\"Hometown:\": \"Port Washington, N.Y.\", \"Major:...</td>\n",
       "      <td>Off the Water: President of National Honor Soc...</td>\n",
       "      <td>Yale</td>\n",
       "    </tr>\n",
       "  </tbody>\n",
       "</table>\n",
       "</div>"
      ],
      "text/plain": [
       "            Name                    High School               Hometown   Ht.  \\\n",
       "0     A.J. Haase                   North County        Bonne Terre, MO   6-4   \n",
       "1     AJ Edwards              South Kent School         Seattle, Wash.   6-5   \n",
       "2    Aarica West                 Vista Murrieta     Buena Park, Calif.  5-10   \n",
       "3     Aaron Ault                  Lake Brantley  Altamonte Springs, FL   6-3   \n",
       "4  Aaron Bosgang  Paul D. Schreiber High School  Port Washington, N.Y.   NaN   \n",
       "\n",
       "   No. Position  Wt. Active Seasons  \\\n",
       "0  NaN       TE  245        2006-10   \n",
       "1   25        G  190        2013-17   \n",
       "2   31      G/F  NaN        2009-12   \n",
       "3   93       LB  194        2012-16   \n",
       "4  NaN      NaN  NaN        2016-17   \n",
       "\n",
       "                                                Misc  \\\n",
       "0  {\"Position:\": \"TE\", \"Year:\": \"Fr.\", \"Height:\":...   \n",
       "1  {\"Position:\": \"G\", \"Year:\": \"Fr.\", \"Height:\": ...   \n",
       "2  {\"Position:\": \"G/F\", \"Year:\": \"Freshman\", \"Hei...   \n",
       "3  {\"Position:\": \"LB\", \"Year:\": \"Fr.\", \"Height:\":...   \n",
       "4  {\"Hometown:\": \"Port Washington, N.Y.\", \"Major:...   \n",
       "\n",
       "                                                 Bio College  \n",
       "0  2008: Started eight games at TE... LedYale end...    Yale  \n",
       "1  2013-14: Appeared in five games… Scored five p...    Yale  \n",
       "2  Before Yale: Played four years scholasticallyi...    Yale  \n",
       "3  2013: Played in all 10 games, mostly onspecial...    Yale  \n",
       "4  Off the Water: President of National Honor Soc...    Yale  "
      ]
     },
     "execution_count": 375,
     "metadata": {},
     "output_type": "execute_result"
    }
   ],
   "source": [
    "stacked.head()"
   ]
  },
  {
   "cell_type": "code",
   "execution_count": 376,
   "metadata": {
    "collapsed": false
   },
   "outputs": [],
   "source": [
    "indices = range(0, 7274)\n",
    "stacked[\"Student_ID\"] = indices"
   ]
  },
  {
   "cell_type": "code",
   "execution_count": 377,
   "metadata": {
    "collapsed": false
   },
   "outputs": [],
   "source": [
    "stacked = stacked.set_index([\"Student_ID\"])"
   ]
  },
  {
   "cell_type": "code",
   "execution_count": 378,
   "metadata": {
    "collapsed": false
   },
   "outputs": [
    {
     "data": {
      "text/plain": [
       "(7274, 11)"
      ]
     },
     "execution_count": 378,
     "metadata": {},
     "output_type": "execute_result"
    }
   ],
   "source": [
    "stacked.shape"
   ]
  },
  {
   "cell_type": "code",
   "execution_count": 379,
   "metadata": {
    "collapsed": false
   },
   "outputs": [
    {
     "data": {
      "text/plain": [
       "Index([u'Name', u'High School', u'Hometown', u'Ht.', u'No.', u'Position',\n",
       "       u'Wt.', u'Active Seasons', u'Misc', u'Bio', u'College'],\n",
       "      dtype='object')"
      ]
     },
     "execution_count": 379,
     "metadata": {},
     "output_type": "execute_result"
    }
   ],
   "source": [
    "stacked.columns"
   ]
  },
  {
   "cell_type": "code",
   "execution_count": 380,
   "metadata": {
    "collapsed": false
   },
   "outputs": [],
   "source": [
    "# Split up the active seasons into start and end\n",
    "stacked[\"StartSeason\"] = stacked.apply(lambda x: int(x[\"Active Seasons\"][0:4]), axis=1)\n",
    "stacked[\"EndSeason\"] = stacked.apply(lambda x: int(x[\"Active Seasons\"][0:2] +\n",
    "                                                   x[\"Active Seasons\"][-2:]),\n",
    "                                     axis=1)"
   ]
  },
  {
   "cell_type": "code",
   "execution_count": 381,
   "metadata": {
    "collapsed": false
   },
   "outputs": [],
   "source": [
    "stacked = stacked.drop(\"Active Seasons\", axis=1)"
   ]
  },
  {
   "cell_type": "code",
   "execution_count": 382,
   "metadata": {
    "collapsed": false
   },
   "outputs": [
    {
     "data": {
      "text/html": [
       "<div>\n",
       "<table border=\"1\" class=\"dataframe\">\n",
       "  <thead>\n",
       "    <tr style=\"text-align: right;\">\n",
       "      <th></th>\n",
       "      <th>Name</th>\n",
       "      <th>High School</th>\n",
       "      <th>Hometown</th>\n",
       "      <th>Ht.</th>\n",
       "      <th>No.</th>\n",
       "      <th>Position</th>\n",
       "      <th>Wt.</th>\n",
       "      <th>Misc</th>\n",
       "      <th>Bio</th>\n",
       "      <th>College</th>\n",
       "      <th>StartSeason</th>\n",
       "      <th>EndSeason</th>\n",
       "    </tr>\n",
       "    <tr>\n",
       "      <th>Student_ID</th>\n",
       "      <th></th>\n",
       "      <th></th>\n",
       "      <th></th>\n",
       "      <th></th>\n",
       "      <th></th>\n",
       "      <th></th>\n",
       "      <th></th>\n",
       "      <th></th>\n",
       "      <th></th>\n",
       "      <th></th>\n",
       "      <th></th>\n",
       "      <th></th>\n",
       "    </tr>\n",
       "  </thead>\n",
       "  <tbody>\n",
       "    <tr>\n",
       "      <th>0</th>\n",
       "      <td>A.J. Haase</td>\n",
       "      <td>North County</td>\n",
       "      <td>Bonne Terre, MO</td>\n",
       "      <td>6-4</td>\n",
       "      <td>NaN</td>\n",
       "      <td>TE</td>\n",
       "      <td>245</td>\n",
       "      <td>{\"Position:\": \"TE\", \"Year:\": \"Fr.\", \"Height:\":...</td>\n",
       "      <td>2008: Started eight games at TE... LedYale end...</td>\n",
       "      <td>Yale</td>\n",
       "      <td>2006</td>\n",
       "      <td>2010</td>\n",
       "    </tr>\n",
       "    <tr>\n",
       "      <th>1</th>\n",
       "      <td>AJ Edwards</td>\n",
       "      <td>South Kent School</td>\n",
       "      <td>Seattle, Wash.</td>\n",
       "      <td>6-5</td>\n",
       "      <td>25</td>\n",
       "      <td>G</td>\n",
       "      <td>190</td>\n",
       "      <td>{\"Position:\": \"G\", \"Year:\": \"Fr.\", \"Height:\": ...</td>\n",
       "      <td>2013-14: Appeared in five games… Scored five p...</td>\n",
       "      <td>Yale</td>\n",
       "      <td>2013</td>\n",
       "      <td>2017</td>\n",
       "    </tr>\n",
       "    <tr>\n",
       "      <th>2</th>\n",
       "      <td>Aarica West</td>\n",
       "      <td>Vista Murrieta</td>\n",
       "      <td>Buena Park, Calif.</td>\n",
       "      <td>5-10</td>\n",
       "      <td>31</td>\n",
       "      <td>G/F</td>\n",
       "      <td>NaN</td>\n",
       "      <td>{\"Position:\": \"G/F\", \"Year:\": \"Freshman\", \"Hei...</td>\n",
       "      <td>Before Yale: Played four years scholasticallyi...</td>\n",
       "      <td>Yale</td>\n",
       "      <td>2009</td>\n",
       "      <td>2012</td>\n",
       "    </tr>\n",
       "    <tr>\n",
       "      <th>3</th>\n",
       "      <td>Aaron Ault</td>\n",
       "      <td>Lake Brantley</td>\n",
       "      <td>Altamonte Springs, FL</td>\n",
       "      <td>6-3</td>\n",
       "      <td>93</td>\n",
       "      <td>LB</td>\n",
       "      <td>194</td>\n",
       "      <td>{\"Position:\": \"LB\", \"Year:\": \"Fr.\", \"Height:\":...</td>\n",
       "      <td>2013: Played in all 10 games, mostly onspecial...</td>\n",
       "      <td>Yale</td>\n",
       "      <td>2012</td>\n",
       "      <td>2016</td>\n",
       "    </tr>\n",
       "    <tr>\n",
       "      <th>4</th>\n",
       "      <td>Aaron Bosgang</td>\n",
       "      <td>Paul D. Schreiber High School</td>\n",
       "      <td>Port Washington, N.Y.</td>\n",
       "      <td>NaN</td>\n",
       "      <td>NaN</td>\n",
       "      <td>NaN</td>\n",
       "      <td>NaN</td>\n",
       "      <td>{\"Hometown:\": \"Port Washington, N.Y.\", \"Major:...</td>\n",
       "      <td>Off the Water: President of National Honor Soc...</td>\n",
       "      <td>Yale</td>\n",
       "      <td>2016</td>\n",
       "      <td>2017</td>\n",
       "    </tr>\n",
       "  </tbody>\n",
       "</table>\n",
       "</div>"
      ],
      "text/plain": [
       "                     Name                    High School  \\\n",
       "Student_ID                                                 \n",
       "0              A.J. Haase                   North County   \n",
       "1              AJ Edwards              South Kent School   \n",
       "2             Aarica West                 Vista Murrieta   \n",
       "3              Aaron Ault                  Lake Brantley   \n",
       "4           Aaron Bosgang  Paul D. Schreiber High School   \n",
       "\n",
       "                         Hometown   Ht.  No. Position  Wt.  \\\n",
       "Student_ID                                                   \n",
       "0                 Bonne Terre, MO   6-4  NaN       TE  245   \n",
       "1                  Seattle, Wash.   6-5   25        G  190   \n",
       "2              Buena Park, Calif.  5-10   31      G/F  NaN   \n",
       "3           Altamonte Springs, FL   6-3   93       LB  194   \n",
       "4           Port Washington, N.Y.   NaN  NaN      NaN  NaN   \n",
       "\n",
       "                                                         Misc  \\\n",
       "Student_ID                                                      \n",
       "0           {\"Position:\": \"TE\", \"Year:\": \"Fr.\", \"Height:\":...   \n",
       "1           {\"Position:\": \"G\", \"Year:\": \"Fr.\", \"Height:\": ...   \n",
       "2           {\"Position:\": \"G/F\", \"Year:\": \"Freshman\", \"Hei...   \n",
       "3           {\"Position:\": \"LB\", \"Year:\": \"Fr.\", \"Height:\":...   \n",
       "4           {\"Hometown:\": \"Port Washington, N.Y.\", \"Major:...   \n",
       "\n",
       "                                                          Bio College  \\\n",
       "Student_ID                                                              \n",
       "0           2008: Started eight games at TE... LedYale end...    Yale   \n",
       "1           2013-14: Appeared in five games… Scored five p...    Yale   \n",
       "2           Before Yale: Played four years scholasticallyi...    Yale   \n",
       "3           2013: Played in all 10 games, mostly onspecial...    Yale   \n",
       "4           Off the Water: President of National Honor Soc...    Yale   \n",
       "\n",
       "            StartSeason  EndSeason  \n",
       "Student_ID                          \n",
       "0                  2006       2010  \n",
       "1                  2013       2017  \n",
       "2                  2009       2012  \n",
       "3                  2012       2016  \n",
       "4                  2016       2017  "
      ]
     },
     "execution_count": 382,
     "metadata": {},
     "output_type": "execute_result"
    }
   ],
   "source": [
    "stacked.head()"
   ]
  },
  {
   "cell_type": "code",
   "execution_count": 383,
   "metadata": {
    "collapsed": false
   },
   "outputs": [],
   "source": [
    "# def strToDict(string):\n",
    "#     if string:\n",
    "#         string = string.encode('utf-8')\n",
    "#         string = string.replace(\" u'\", \" \\\"\")\n",
    "#         string = string.replace(\"': \", \"\\\": \")\n",
    "#         string = string.replace(\"', \", \"\\\", \")\n",
    "#         string = string.replace(\" u\\\"\", \" \\\"\")\n",
    "#         string = string[0] + \"\\\"\" + string[3:]\n",
    "#         string = string[:-2] + \"\\\"\" + string[-1]\n",
    "#         try:\n",
    "#             return json.loads(string, encoding=\"cp1252\")\n",
    "#         except:\n",
    "#             print(string)\n",
    "#             return {}\n",
    "#     return {}"
   ]
  },
  {
   "cell_type": "code",
   "execution_count": 384,
   "metadata": {
    "collapsed": false
   },
   "outputs": [],
   "source": [
    "# stacked[\"Misc\"] = stacked[\"Misc\"].map(strToDict)"
   ]
  },
  {
   "cell_type": "code",
   "execution_count": 385,
   "metadata": {
    "collapsed": false
   },
   "outputs": [
    {
     "name": "stdout",
     "output_type": "stream",
     "text": [
      "{u'Hometown:': u'Shrub Oak, NY', u'Year:': u'Freshman', u'High School:': u'Hackley School', u'name': u'Alexandra Cadicamo'}\n"
     ]
    }
   ],
   "source": [
    "stacked.shape\n",
    "print(json.loads(stacked[\"Misc\"][104]))"
   ]
  },
  {
   "cell_type": "code",
   "execution_count": 386,
   "metadata": {
    "collapsed": false
   },
   "outputs": [],
   "source": [
    "def extractMajors(row):\n",
    "    if row[\"Misc\"] and not pd.isnull(row[\"Misc\"]):\n",
    "        misc = json.loads(row[\"Misc\"])\n",
    "        if misc and \"Major:\" in misc:\n",
    "            return misc[\"Major:\"]\n",
    "    return \"\""
   ]
  },
  {
   "cell_type": "code",
   "execution_count": 387,
   "metadata": {
    "collapsed": true
   },
   "outputs": [],
   "source": [
    "def height2float(height):\n",
    "    if not pd.isnull(height) and height:\n",
    "        pair = None\n",
    "        if '-' in height:\n",
    "            pair = height.split('-')\n",
    "        elif \"'\" in height:\n",
    "            pair = height.split(\"'\")\n",
    "            pair[1] = pair[1][:-1] # Remove the \"\n",
    "        elif \"0\" in height:\n",
    "            pair = height.split(\"0\")\n",
    "        if len(pair) == 1:\n",
    "            pair.append(float(0))\n",
    "        try:\n",
    "            pair = map(float, pair)              # convert strings to ints\n",
    "        except:\n",
    "            print(pair)\n",
    "        return (12 * pair[0] + pair[1])    # assumes imperial units (12 inches per foot)  \n",
    "        return -1"
   ]
  },
  {
   "cell_type": "raw",
   "metadata": {},
   "source": []
  },
  {
   "cell_type": "code",
   "execution_count": 388,
   "metadata": {
    "collapsed": false
   },
   "outputs": [
    {
     "name": "stdout",
     "output_type": "stream",
     "text": [
      "[u'6', u'']\n",
      "[u'6', u'']\n"
     ]
    }
   ],
   "source": [
    "stacked['Ht.'] = stacked['Ht.'].map(height2float)"
   ]
  },
  {
   "cell_type": "code",
   "execution_count": null,
   "metadata": {
    "collapsed": false
   },
   "outputs": [],
   "source": []
  },
  {
   "cell_type": "code",
   "execution_count": 389,
   "metadata": {
    "collapsed": false
   },
   "outputs": [],
   "source": [
    "stacked[\"Major\"] = stacked.apply(extractMajors, axis=1)"
   ]
  },
  {
   "cell_type": "code",
   "execution_count": 390,
   "metadata": {
    "collapsed": false
   },
   "outputs": [],
   "source": [
    "majors = stacked.groupby(\"Major\").count().sort_values(\"Name\", ascending=False)"
   ]
  },
  {
   "cell_type": "code",
   "execution_count": 391,
   "metadata": {
    "collapsed": false
   },
   "outputs": [],
   "source": [
    "# Seems about right.\n",
    "processedPath = os.path.join(PROJ_ROOT, \"data\", \"processed\", \"player_bios_processed.csv\")\n",
    "stacked.to_csv(processedPath, encoding='utf-8')"
   ]
  },
  {
   "cell_type": "code",
   "execution_count": 392,
   "metadata": {
    "collapsed": true
   },
   "outputs": [],
   "source": [
    "majorsPath = os.path.join(PROJ_ROOT, \"data\", \"processed\", \"by_major.csv\")\n",
    "majors.to_csv(majorsPath, encoding='utf-8')"
   ]
  },
  {
   "cell_type": "code",
   "execution_count": null,
   "metadata": {
    "collapsed": true
   },
   "outputs": [],
   "source": []
  }
 ],
 "metadata": {
  "anaconda-cloud": {},
  "kernelspec": {
   "display_name": "Python [default]",
   "language": "python",
   "name": "python2"
  },
  "language_info": {
   "codemirror_mode": {
    "name": "ipython",
    "version": 2
   },
   "file_extension": ".py",
   "mimetype": "text/x-python",
   "name": "python",
   "nbconvert_exporter": "python",
   "pygments_lexer": "ipython2",
   "version": "2.7.12"
  }
 },
 "nbformat": 4,
 "nbformat_minor": 1
}
