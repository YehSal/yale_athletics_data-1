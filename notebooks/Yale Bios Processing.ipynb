{
 "cells": [
  {
   "cell_type": "code",
   "execution_count": 16,
   "metadata": {
    "collapsed": true
   },
   "outputs": [],
   "source": [
    "import os\n",
    "import pandas as pd\n",
    "import matplotlib.pyplot as plt\n",
    "# import seaborn as sns\n",
    "PROJ_ROOT = os.pardir\n",
    "\n",
    "# For Scraping\n",
    "from bs4 import BeautifulSoup\n",
    "import requests\n",
    "import time\n",
    "\n",
    "# For munging\n",
    "import re\n",
    "import json"
   ]
  },
  {
   "cell_type": "code",
   "execution_count": 17,
   "metadata": {
    "collapsed": true
   },
   "outputs": [],
   "source": [
    "# Tools to strip HTML\n",
    "from HTMLParser import HTMLParser\n",
    "\n",
    "class MLStripper(HTMLParser):\n",
    "    def __init__(self):\n",
    "        self.reset()\n",
    "        self.fed = []\n",
    "    def handle_data(self, d):\n",
    "        self.fed.append(d)\n",
    "    def get_data(self):\n",
    "        return ''.join(self.fed)\n",
    "\n",
    "def strip_tags(html):\n",
    "    s = MLStripper()\n",
    "    s.feed(html)\n",
    "    return s.get_data()"
   ]
  },
  {
   "cell_type": "code",
   "execution_count": 18,
   "metadata": {
    "collapsed": true
   },
   "outputs": [],
   "source": [
    "filePath = os.path.join(PROJ_ROOT, \"data\", \"raw\", \"yale_bios.csv.gz\")"
   ]
  },
  {
   "cell_type": "code",
   "execution_count": 19,
   "metadata": {
    "collapsed": false
   },
   "outputs": [
    {
     "data": {
      "text/plain": [
       "(8618, 2)"
      ]
     },
     "execution_count": 19,
     "metadata": {},
     "output_type": "execute_result"
    }
   ],
   "source": [
    "data = pd.read_csv(filePath, compression=\"gzip\")\n",
    "data.shape"
   ]
  },
  {
   "cell_type": "code",
   "execution_count": 20,
   "metadata": {
    "collapsed": false
   },
   "outputs": [
    {
     "data": {
      "text/plain": [
       "83"
      ]
     },
     "execution_count": 20,
     "metadata": {},
     "output_type": "execute_result"
    }
   ],
   "source": [
    "data.columns = [\"A\", \"B\"]\n",
    "stream = data[\"B\"].str.contains(\"synopsis clearfix\")\n",
    "stream.isnull().sum()"
   ]
  },
  {
   "cell_type": "code",
   "execution_count": 21,
   "metadata": {
    "collapsed": false
   },
   "outputs": [],
   "source": [
    "# Preprocessing to remove NAs\n",
    "new = []\n",
    "for i in stream:\n",
    "    if i == True:\n",
    "        new.append(i)\n",
    "    else:\n",
    "        new.append(False)\n",
    "stream = new\n",
    "data[\"BioAvail\"] = new"
   ]
  },
  {
   "cell_type": "code",
   "execution_count": 22,
   "metadata": {
    "collapsed": false
   },
   "outputs": [
    {
     "data": {
      "text/html": [
       "<div>\n",
       "<table border=\"1\" class=\"dataframe\">\n",
       "  <thead>\n",
       "    <tr style=\"text-align: right;\">\n",
       "      <th></th>\n",
       "      <th>A</th>\n",
       "      <th>B</th>\n",
       "      <th>BioAvail</th>\n",
       "    </tr>\n",
       "  </thead>\n",
       "  <tbody>\n",
       "    <tr>\n",
       "      <th>0</th>\n",
       "      <td>0.0</td>\n",
       "      <td>&lt;div class=\"bio-wrap clearfix\" data-module=\"st...</td>\n",
       "      <td>True</td>\n",
       "    </tr>\n",
       "    <tr>\n",
       "      <th>1</th>\n",
       "      <td>1.0</td>\n",
       "      <td>&lt;div class=\"bio-wrap clearfix\" data-module=\"st...</td>\n",
       "      <td>True</td>\n",
       "    </tr>\n",
       "    <tr>\n",
       "      <th>2</th>\n",
       "      <td>10.0</td>\n",
       "      <td>&lt;div class=\"bio-wrap clearfix\" data-module=\"st...</td>\n",
       "      <td>True</td>\n",
       "    </tr>\n",
       "    <tr>\n",
       "      <th>3</th>\n",
       "      <td>100.0</td>\n",
       "      <td>&lt;div class=\"bio-wrap clearfix\" data-module=\"st...</td>\n",
       "      <td>True</td>\n",
       "    </tr>\n",
       "    <tr>\n",
       "      <th>4</th>\n",
       "      <td>1000.0</td>\n",
       "      <td>&lt;div class=\"bio-wrap clearfix\" data-module=\"st...</td>\n",
       "      <td>True</td>\n",
       "    </tr>\n",
       "    <tr>\n",
       "      <th>5</th>\n",
       "      <td>1001.0</td>\n",
       "      <td>&lt;div class=\"bio-wrap clearfix\" data-module=\"st...</td>\n",
       "      <td>True</td>\n",
       "    </tr>\n",
       "    <tr>\n",
       "      <th>6</th>\n",
       "      <td>1002.0</td>\n",
       "      <td>&lt;div class=\"bio-wrap clearfix\" data-module=\"st...</td>\n",
       "      <td>True</td>\n",
       "    </tr>\n",
       "    <tr>\n",
       "      <th>7</th>\n",
       "      <td>1003.0</td>\n",
       "      <td>&lt;div class=\"bio-wrap clearfix\" data-module=\"st...</td>\n",
       "      <td>True</td>\n",
       "    </tr>\n",
       "    <tr>\n",
       "      <th>8</th>\n",
       "      <td>1004.0</td>\n",
       "      <td>&lt;div class=\"bio-wrap clearfix\" data-module=\"st...</td>\n",
       "      <td>True</td>\n",
       "    </tr>\n",
       "    <tr>\n",
       "      <th>9</th>\n",
       "      <td>1005.0</td>\n",
       "      <td>&lt;div class=\"bio-wrap clearfix\" data-module=\"st...</td>\n",
       "      <td>True</td>\n",
       "    </tr>\n",
       "  </tbody>\n",
       "</table>\n",
       "</div>"
      ],
      "text/plain": [
       "        A                                                  B BioAvail\n",
       "0     0.0  <div class=\"bio-wrap clearfix\" data-module=\"st...     True\n",
       "1     1.0  <div class=\"bio-wrap clearfix\" data-module=\"st...     True\n",
       "2    10.0  <div class=\"bio-wrap clearfix\" data-module=\"st...     True\n",
       "3   100.0  <div class=\"bio-wrap clearfix\" data-module=\"st...     True\n",
       "4  1000.0  <div class=\"bio-wrap clearfix\" data-module=\"st...     True\n",
       "5  1001.0  <div class=\"bio-wrap clearfix\" data-module=\"st...     True\n",
       "6  1002.0  <div class=\"bio-wrap clearfix\" data-module=\"st...     True\n",
       "7  1003.0  <div class=\"bio-wrap clearfix\" data-module=\"st...     True\n",
       "8  1004.0  <div class=\"bio-wrap clearfix\" data-module=\"st...     True\n",
       "9  1005.0  <div class=\"bio-wrap clearfix\" data-module=\"st...     True"
      ]
     },
     "execution_count": 22,
     "metadata": {},
     "output_type": "execute_result"
    }
   ],
   "source": [
    "data.head(10)"
   ]
  },
  {
   "cell_type": "code",
   "execution_count": 23,
   "metadata": {
    "collapsed": false
   },
   "outputs": [],
   "source": [
    "def formatBio(row):\n",
    "    if row[\"BioAvail\"] == True:\n",
    "        bs = BeautifulSoup(row[\"B\"], 'html.parser')\n",
    "        rawName = bs.find(class_=\"name\")\n",
    "        processedName = strip_tags(str(rawName))\n",
    "        rawBio = bs.find(class_=\"synopsis clearfix\")\n",
    "        bioText = str(rawBio)\n",
    "        processedBio = strip_tags(bioText)\n",
    "        # Returns a tuple (to be formatted later)\n",
    "        return (processedBio, processedName)\n",
    "    else:\n",
    "        return (\"\")"
   ]
  },
  {
   "cell_type": "code",
   "execution_count": 24,
   "metadata": {
    "collapsed": false
   },
   "outputs": [],
   "source": [
    "formattedBios = data.apply(formatBio, axis=1)"
   ]
  },
  {
   "cell_type": "code",
   "execution_count": 25,
   "metadata": {
    "collapsed": false
   },
   "outputs": [
    {
     "data": {
      "text/plain": [
       "'\\n2007: Played on JV team.\\n\\n2006: Played on JV team.\\n\\nAt Germantown Academy: Played soccer for three years before switching to football under captain and former Yale DL Joe Traynor... Nominated for All-Montgomery County All-Star team for football in 2005\\n\\nPersonal: Benjamin Peter Siegl is the son of Peter and Sharon Siegl...Chemical Engineering major... Interests include golf, skiing and sailing.. devout Philadelphia sports fanatic.\\n'"
      ]
     },
     "execution_count": 25,
     "metadata": {},
     "output_type": "execute_result"
    }
   ],
   "source": [
    "formattedBios[100][0]"
   ]
  },
  {
   "cell_type": "code",
   "execution_count": 26,
   "metadata": {
    "collapsed": false
   },
   "outputs": [],
   "source": [
    "names = []\n",
    "bios = []\n",
    "\n",
    "failed = 0\n",
    "for index, i in enumerate(new):\n",
    "    if i:\n",
    "        names.append(formattedBios[index][1])\n",
    "        bio = re.sub(\"\\n\", \"\", formattedBios[index][0])\n",
    "        bios.append(bio)\n",
    "    else:\n",
    "        names.append(\"\")\n",
    "        bios.append(\"\")"
   ]
  },
  {
   "cell_type": "code",
   "execution_count": null,
   "metadata": {
    "collapsed": false
   },
   "outputs": [],
   "source": []
  },
  {
   "cell_type": "code",
   "execution_count": 27,
   "metadata": {
    "collapsed": false
   },
   "outputs": [
    {
     "ename": "NameError",
     "evalue": "name 'players' is not defined",
     "output_type": "error",
     "traceback": [
      "\u001b[0;31m---------------------------------------------------------------------------\u001b[0m",
      "\u001b[0;31mNameError\u001b[0m                                 Traceback (most recent call last)",
      "\u001b[0;32m<ipython-input-27-e68e2c81de5e>\u001b[0m in \u001b[0;36m<module>\u001b[0;34m()\u001b[0m\n\u001b[0;32m----> 1\u001b[0;31m \u001b[0mplayers\u001b[0m\u001b[0;34m.\u001b[0m\u001b[0mcolumns\u001b[0m\u001b[0;34m\u001b[0m\u001b[0m\n\u001b[0m",
      "\u001b[0;31mNameError\u001b[0m: name 'players' is not defined"
     ]
    }
   ],
   "source": [
    "# players.columns"
   ]
  },
  {
   "cell_type": "code",
   "execution_count": null,
   "metadata": {
    "collapsed": false
   },
   "outputs": [],
   "source": [
    "# players[\"Name\"][-20:]\n",
    "# players[\"\"]"
   ]
  },
  {
   "cell_type": "code",
   "execution_count": 28,
   "metadata": {
    "collapsed": false
   },
   "outputs": [],
   "source": [
    "# Assemble dataframe\n",
    "namesBios = {\n",
    "    \"Name\": names,\n",
    "    \"Bio\": bios\n",
    "    }\n",
    "\n",
    "nbDataFrame = pd.DataFrame.from_dict(namesBios)"
   ]
  },
  {
   "cell_type": "code",
   "execution_count": 29,
   "metadata": {
    "collapsed": false
   },
   "outputs": [
    {
     "data": {
      "text/html": [
       "<div>\n",
       "<table border=\"1\" class=\"dataframe\">\n",
       "  <thead>\n",
       "    <tr style=\"text-align: right;\">\n",
       "      <th></th>\n",
       "      <th>Name</th>\n",
       "      <th>Bio</th>\n",
       "    </tr>\n",
       "  </thead>\n",
       "  <tbody>\n",
       "    <tr>\n",
       "      <th>0</th>\n",
       "      <td>Ryan Brenner</td>\n",
       "      <td>2009: Made 22 appearances, including 20 starts...</td>\n",
       "    </tr>\n",
       "    <tr>\n",
       "      <th>1</th>\n",
       "      <td>Joe Castaldi</td>\n",
       "      <td>2010: Team captain.2009: Made 12 appearances, ...</td>\n",
       "    </tr>\n",
       "    <tr>\n",
       "      <th>2</th>\n",
       "      <td>Adam Straus-Goldfarb</td>\n",
       "      <td>2015-16 (Junior): Three seat of the fourth var...</td>\n",
       "    </tr>\n",
       "    <tr>\n",
       "      <th>3</th>\n",
       "      <td>Robert Wulbern</td>\n",
       "      <td>2012-13: Rowed in stroke-seat of the 2V at Eas...</td>\n",
       "    </tr>\n",
       "    <tr>\n",
       "      <th>4</th>\n",
       "      <td>Matt Coombs</td>\n",
       "      <td>2006 Backup DB who played in all but one game....</td>\n",
       "    </tr>\n",
       "  </tbody>\n",
       "</table>\n",
       "</div>"
      ],
      "text/plain": [
       "                   Name                                                Bio\n",
       "0          Ryan Brenner  2009: Made 22 appearances, including 20 starts...\n",
       "1          Joe Castaldi  2010: Team captain.2009: Made 12 appearances, ...\n",
       "2  Adam Straus-Goldfarb  2015-16 (Junior): Three seat of the fourth var...\n",
       "3        Robert Wulbern  2012-13: Rowed in stroke-seat of the 2V at Eas...\n",
       "4           Matt Coombs  2006 Backup DB who played in all but one game...."
      ]
     },
     "execution_count": 29,
     "metadata": {},
     "output_type": "execute_result"
    }
   ],
   "source": [
    "nbDataFrame.shape\n",
    "# Reorder\n",
    "nbDataFrame = nbDataFrame[[\"Name\", \"Bio\"]]\n",
    "nbDataFrame.head()"
   ]
  },
  {
   "cell_type": "code",
   "execution_count": 30,
   "metadata": {
    "collapsed": false
   },
   "outputs": [],
   "source": [
    "namesBiosPath = os.path.join(PROJ_ROOT, \"data\", \"interim\", \"yale_names_bios.csv.gz\")\n",
    "nbDataFrame.to_csv(namesBiosPath, compression=\"gzip\")"
   ]
  },
  {
   "cell_type": "code",
   "execution_count": null,
   "metadata": {
    "collapsed": false
   },
   "outputs": [],
   "source": []
  },
  {
   "cell_type": "code",
   "execution_count": null,
   "metadata": {
    "collapsed": true
   },
   "outputs": [],
   "source": []
  }
 ],
 "metadata": {
  "anaconda-cloud": {},
  "kernelspec": {
   "display_name": "Python [default]",
   "language": "python",
   "name": "python2"
  },
  "language_info": {
   "codemirror_mode": {
    "name": "ipython",
    "version": 2
   },
   "file_extension": ".py",
   "mimetype": "text/x-python",
   "name": "python",
   "nbconvert_exporter": "python",
   "pygments_lexer": "ipython2",
   "version": "2.7.12"
  }
 },
 "nbformat": 4,
 "nbformat_minor": 1
}
