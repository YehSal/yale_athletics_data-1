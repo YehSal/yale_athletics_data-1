{
 "cells": [
  {
   "cell_type": "code",
   "execution_count": 1,
   "metadata": {
    "collapsed": true
   },
   "outputs": [],
   "source": [
    "# Flattening players.json file into more usable data"
   ]
  },
  {
   "cell_type": "code",
   "execution_count": 45,
   "metadata": {
    "collapsed": true
   },
   "outputs": [],
   "source": [
    "# For data manipulation\n",
    "import os\n",
    "import pandas as pd\n",
    "import matplotlib.pyplot as plt\n",
    "# import seaborn as sns\n",
    "PROJ_ROOT = os.pardir\n",
    "\n",
    "# For Scraping\n",
    "from bs4 import BeautifulSoup\n",
    "import requests\n",
    "import time\n",
    "\n",
    "# For munging\n",
    "import re\n",
    "import json"
   ]
  },
  {
   "cell_type": "code",
   "execution_count": 46,
   "metadata": {
    "collapsed": true
   },
   "outputs": [],
   "source": [
    "playersPath = os.path.join(PROJ_ROOT, \"data\", \"interim\", \"players.json\")\n",
    "biosPath = os.path.join(PROJ_ROOT, \"data\", \"interim\", \"yale_names_bios.csv.gz\")"
   ]
  },
  {
   "cell_type": "code",
   "execution_count": 47,
   "metadata": {
    "collapsed": false
   },
   "outputs": [],
   "source": [
    "players = pd.read_json(playersPath)\n",
    "bios = pd.read_csv(biosPath, compression=\"gzip\")"
   ]
  },
  {
   "cell_type": "code",
   "execution_count": 48,
   "metadata": {
    "collapsed": false
   },
   "outputs": [
    {
     "data": {
      "text/html": [
       "<div>\n",
       "<table border=\"1\" class=\"dataframe\">\n",
       "  <thead>\n",
       "    <tr style=\"text-align: right;\">\n",
       "      <th></th>\n",
       "      <th>B/T</th>\n",
       "      <th>City</th>\n",
       "      <th>Cl.</th>\n",
       "      <th>Events</th>\n",
       "      <th>High School</th>\n",
       "      <th>Hometown/High School</th>\n",
       "      <th>Hometown/Region</th>\n",
       "      <th>Ht.</th>\n",
       "      <th>Name</th>\n",
       "      <th>Name_link</th>\n",
       "      <th>No.</th>\n",
       "      <th>Pos.</th>\n",
       "      <th>Region</th>\n",
       "      <th>Weapon</th>\n",
       "      <th>Wt.</th>\n",
       "      <th>season</th>\n",
       "      <th>sport</th>\n",
       "    </tr>\n",
       "  </thead>\n",
       "  <tbody>\n",
       "    <tr>\n",
       "      <th>0</th>\n",
       "      <td></td>\n",
       "      <td>Manhasset</td>\n",
       "      <td>Freshman</td>\n",
       "      <td>None</td>\n",
       "      <td>Chaminade</td>\n",
       "      <td>Manhasset, N.Y. / Chaminade</td>\n",
       "      <td>Manhasset, N.Y.</td>\n",
       "      <td>5-11</td>\n",
       "      <td>Ryan Brenner</td>\n",
       "      <td>/sports/m-basebl/mtt/brenner_ryan00.html</td>\n",
       "      <td>11</td>\n",
       "      <td>C</td>\n",
       "      <td>N.Y.</td>\n",
       "      <td>None</td>\n",
       "      <td>180</td>\n",
       "      <td>2008-09</td>\n",
       "      <td>Baseball</td>\n",
       "    </tr>\n",
       "    <tr>\n",
       "      <th>1</th>\n",
       "      <td></td>\n",
       "      <td>Sunrise</td>\n",
       "      <td>Junior</td>\n",
       "      <td>None</td>\n",
       "      <td>Pine Crest School</td>\n",
       "      <td>Sunrise, Fla. / Pine Crest School</td>\n",
       "      <td>Sunrise, Fla.</td>\n",
       "      <td>6-2</td>\n",
       "      <td>Joe Castaldi</td>\n",
       "      <td>/sports/m-basebl/mtt/castaldi_joe00.html</td>\n",
       "      <td>34</td>\n",
       "      <td>P</td>\n",
       "      <td>Fla.</td>\n",
       "      <td>None</td>\n",
       "      <td>190</td>\n",
       "      <td>2008-09</td>\n",
       "      <td>Baseball</td>\n",
       "    </tr>\n",
       "    <tr>\n",
       "      <th>10</th>\n",
       "      <td></td>\n",
       "      <td>Okemos</td>\n",
       "      <td>Freshman</td>\n",
       "      <td>None</td>\n",
       "      <td>Okemos</td>\n",
       "      <td>Okemos, Mich. / Okemos</td>\n",
       "      <td>Okemos, Mich.</td>\n",
       "      <td>6-2</td>\n",
       "      <td>Pat Ludwig</td>\n",
       "      <td>/sports/m-basebl/mtt/ludwig_pat00.html</td>\n",
       "      <td>26</td>\n",
       "      <td>P</td>\n",
       "      <td>Mich.</td>\n",
       "      <td>None</td>\n",
       "      <td>175</td>\n",
       "      <td>2008-09</td>\n",
       "      <td>Baseball</td>\n",
       "    </tr>\n",
       "    <tr>\n",
       "      <th>100</th>\n",
       "      <td>R/R</td>\n",
       "      <td>-</td>\n",
       "      <td>Freshman</td>\n",
       "      <td>None</td>\n",
       "      <td>-</td>\n",
       "      <td>- / -</td>\n",
       "      <td>-</td>\n",
       "      <td></td>\n",
       "      <td>Bobby Cecere</td>\n",
       "      <td>/sports/m-basebl/2016-17/bios/cecere_bobby_a3p9</td>\n",
       "      <td></td>\n",
       "      <td>RHP</td>\n",
       "      <td>-</td>\n",
       "      <td>None</td>\n",
       "      <td></td>\n",
       "      <td>2016-17</td>\n",
       "      <td>Baseball</td>\n",
       "    </tr>\n",
       "    <tr>\n",
       "      <th>1000</th>\n",
       "      <td>None</td>\n",
       "      <td>Rapid City</td>\n",
       "      <td>Fr.</td>\n",
       "      <td>None</td>\n",
       "      <td>Stevens High School</td>\n",
       "      <td>Rapid City, South Dakota / Stevens High School</td>\n",
       "      <td>Rapid City, South Dakota</td>\n",
       "      <td>None</td>\n",
       "      <td>Eric Sanderson</td>\n",
       "      <td>/sports/m-crewlt/2015-16/bios/sanderson_eric_edr3</td>\n",
       "      <td>None</td>\n",
       "      <td>None</td>\n",
       "      <td>South Dakota</td>\n",
       "      <td>None</td>\n",
       "      <td>None</td>\n",
       "      <td>2015-16</td>\n",
       "      <td>Crew (Lightweight)</td>\n",
       "    </tr>\n",
       "  </tbody>\n",
       "</table>\n",
       "</div>"
      ],
      "text/plain": [
       "       B/T        City       Cl. Events          High School  \\\n",
       "0            Manhasset  Freshman   None            Chaminade   \n",
       "1              Sunrise    Junior   None    Pine Crest School   \n",
       "10              Okemos  Freshman   None               Okemos   \n",
       "100    R/R           -  Freshman   None                    -   \n",
       "1000  None  Rapid City       Fr.   None  Stevens High School   \n",
       "\n",
       "                                Hometown/High School  \\\n",
       "0                        Manhasset, N.Y. / Chaminade   \n",
       "1                  Sunrise, Fla. / Pine Crest School   \n",
       "10                            Okemos, Mich. / Okemos   \n",
       "100                                            - / -   \n",
       "1000  Rapid City, South Dakota / Stevens High School   \n",
       "\n",
       "               Hometown/Region   Ht.            Name  \\\n",
       "0              Manhasset, N.Y.  5-11    Ryan Brenner   \n",
       "1                Sunrise, Fla.   6-2    Joe Castaldi   \n",
       "10               Okemos, Mich.   6-2      Pat Ludwig   \n",
       "100                          -          Bobby Cecere   \n",
       "1000  Rapid City, South Dakota  None  Eric Sanderson   \n",
       "\n",
       "                                              Name_link   No.  Pos.  \\\n",
       "0              /sports/m-basebl/mtt/brenner_ryan00.html    11     C   \n",
       "1              /sports/m-basebl/mtt/castaldi_joe00.html    34     P   \n",
       "10               /sports/m-basebl/mtt/ludwig_pat00.html    26     P   \n",
       "100     /sports/m-basebl/2016-17/bios/cecere_bobby_a3p9         RHP   \n",
       "1000  /sports/m-crewlt/2015-16/bios/sanderson_eric_edr3  None  None   \n",
       "\n",
       "            Region Weapon   Wt.   season               sport  \n",
       "0             N.Y.   None   180  2008-09            Baseball  \n",
       "1             Fla.   None   190  2008-09            Baseball  \n",
       "10           Mich.   None   175  2008-09            Baseball  \n",
       "100              -   None        2016-17            Baseball  \n",
       "1000  South Dakota   None  None  2015-16  Crew (Lightweight)  "
      ]
     },
     "execution_count": 48,
     "metadata": {},
     "output_type": "execute_result"
    }
   ],
   "source": [
    "players.head(5)"
   ]
  },
  {
   "cell_type": "code",
   "execution_count": 49,
   "metadata": {
    "collapsed": false
   },
   "outputs": [
    {
     "data": {
      "text/html": [
       "<div>\n",
       "<table border=\"1\" class=\"dataframe\">\n",
       "  <thead>\n",
       "    <tr style=\"text-align: right;\">\n",
       "      <th></th>\n",
       "      <th>Unnamed: 0</th>\n",
       "      <th>Name</th>\n",
       "      <th>Bio</th>\n",
       "    </tr>\n",
       "  </thead>\n",
       "  <tbody>\n",
       "    <tr>\n",
       "      <th>0</th>\n",
       "      <td>0</td>\n",
       "      <td>Ryan Brenner</td>\n",
       "      <td>2009: Made 22 appearances, including 20 starts...</td>\n",
       "    </tr>\n",
       "    <tr>\n",
       "      <th>1</th>\n",
       "      <td>1</td>\n",
       "      <td>Joe Castaldi</td>\n",
       "      <td>2010: Team captain.2009: Made 12 appearances, ...</td>\n",
       "    </tr>\n",
       "    <tr>\n",
       "      <th>2</th>\n",
       "      <td>2</td>\n",
       "      <td>Adam Straus-Goldfarb</td>\n",
       "      <td>2015-16 (Junior): Three seat of the fourth var...</td>\n",
       "    </tr>\n",
       "    <tr>\n",
       "      <th>3</th>\n",
       "      <td>3</td>\n",
       "      <td>Robert Wulbern</td>\n",
       "      <td>2012-13: Rowed in stroke-seat of the 2V at Eas...</td>\n",
       "    </tr>\n",
       "    <tr>\n",
       "      <th>4</th>\n",
       "      <td>4</td>\n",
       "      <td>Matt Coombs</td>\n",
       "      <td>2006 Backup DB who played in all but one game....</td>\n",
       "    </tr>\n",
       "  </tbody>\n",
       "</table>\n",
       "</div>"
      ],
      "text/plain": [
       "   Unnamed: 0                  Name  \\\n",
       "0           0          Ryan Brenner   \n",
       "1           1          Joe Castaldi   \n",
       "2           2  Adam Straus-Goldfarb   \n",
       "3           3        Robert Wulbern   \n",
       "4           4           Matt Coombs   \n",
       "\n",
       "                                                 Bio  \n",
       "0  2009: Made 22 appearances, including 20 starts...  \n",
       "1  2010: Team captain.2009: Made 12 appearances, ...  \n",
       "2  2015-16 (Junior): Three seat of the fourth var...  \n",
       "3  2012-13: Rowed in stroke-seat of the 2V at Eas...  \n",
       "4  2006 Backup DB who played in all but one game....  "
      ]
     },
     "execution_count": 49,
     "metadata": {},
     "output_type": "execute_result"
    }
   ],
   "source": [
    "bios.head(5)"
   ]
  },
  {
   "cell_type": "code",
   "execution_count": 15,
   "metadata": {
    "collapsed": false
   },
   "outputs": [
    {
     "name": "stdout",
     "output_type": "stream",
     "text": [
      "(8702, 17)\n",
      "(8161, 3)\n"
     ]
    }
   ],
   "source": [
    "# Warning: Number of players is inconsistent across the 2 dataframes\n",
    "print(players.shape)\n",
    "print(bios.shape)"
   ]
  },
  {
   "cell_type": "code",
   "execution_count": 50,
   "metadata": {
    "collapsed": false
   },
   "outputs": [],
   "source": [
    "# Remove first column off bios\n",
    "bios = bios.drop([\"Unnamed: 0\"], axis=1)"
   ]
  },
  {
   "cell_type": "code",
   "execution_count": 52,
   "metadata": {
    "collapsed": false
   },
   "outputs": [],
   "source": [
    "# Throw in the Bio column\n",
    "players[\"Bio\"] = bios[\"Bio\"]"
   ]
  },
  {
   "cell_type": "code",
   "execution_count": 92,
   "metadata": {
    "collapsed": false
   },
   "outputs": [],
   "source": [
    "# Preserve only the latest season\n",
    "playersSorted = players.sort_values([\"season\"], ascending=False)\n",
    "groupedFirst = playersSorted.groupby(by=[\"Name\"]).first()\n",
    "groupedLast = playersSorted.groupby(by=[\"Name\"]).last()"
   ]
  },
  {
   "cell_type": "code",
   "execution_count": 93,
   "metadata": {
    "collapsed": false
   },
   "outputs": [
    {
     "data": {
      "text/plain": [
       "u'09'"
      ]
     },
     "execution_count": 93,
     "metadata": {},
     "output_type": "execute_result"
    }
   ],
   "source": [
    "groupedLast.iloc[2500][\"season\"][-2:]"
   ]
  },
  {
   "cell_type": "code",
   "execution_count": 94,
   "metadata": {
    "collapsed": false
   },
   "outputs": [],
   "source": [
    "for i in range(3004):\n",
    "    first = groupedFirst.iloc[i]\n",
    "    groupedLast.iloc[i][\"season\"] = groupedLast.iloc[i][\"season\"][:-2] + first[\"season\"][-2:]"
   ]
  },
  {
   "cell_type": "code",
   "execution_count": null,
   "metadata": {
    "collapsed": false
   },
   "outputs": [],
   "source": [
    "groupedFirst"
   ]
  },
  {
   "cell_type": "code",
   "execution_count": 77,
   "metadata": {
    "collapsed": false
   },
   "outputs": [],
   "source": [
    "processedPath = os.path.join(PROJ_ROOT, \"data\", \"interim\", \"yale_bios_processed.csv\")\n",
    "grouped.to_csv(processedPath, encoding='utf-8')"
   ]
  },
  {
   "cell_type": "code",
   "execution_count": null,
   "metadata": {
    "collapsed": true
   },
   "outputs": [],
   "source": []
  }
 ],
 "metadata": {
  "anaconda-cloud": {},
  "kernelspec": {
   "display_name": "Python [default]",
   "language": "python",
   "name": "python2"
  },
  "language_info": {
   "codemirror_mode": {
    "name": "ipython",
    "version": 2
   },
   "file_extension": ".py",
   "mimetype": "text/x-python",
   "name": "python",
   "nbconvert_exporter": "python",
   "pygments_lexer": "ipython2",
   "version": "2.7.12"
  }
 },
 "nbformat": 4,
 "nbformat_minor": 1
}
